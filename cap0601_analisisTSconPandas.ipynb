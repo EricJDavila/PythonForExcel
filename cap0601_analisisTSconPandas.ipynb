{
 "cells": [
  {
   "cell_type": "markdown",
   "metadata": {},
   "source": [
    "## Capítulo 6. Análisis de Series de Tiempo con pandas\n",
    "Los DataFrames permiten trabajar con varios índices basados en tiempos. El más común es **DateTimeIndex** y representa un índice con estampillas de tiempo (timestamps). Otros índices como **PeriodIndex**, están basados en intervalor tales como horas o meses.\n",
    "\n",
    "### DateTimeIndex\n",
    "\n",
    "#### Creando un DateTimeIndex\n",
    "Para construir un **DateTimeIndex**, pandas ofrece la función **date_range**. Esta función acepta una fecha inicial, una frecuencia y un número de periodos o la fecha final. "
   ]
  },
  {
   "cell_type": "code",
   "execution_count": 1,
   "metadata": {},
   "outputs": [],
   "source": [
    "#Primero se importan los paquetes que usaremos y\n",
    "# ajustando el backend de plotting a Plotly.\n",
    "import pandas as pd\n",
    "import numpy as np\n",
    "pd.options.plotting.backend = \"plotly\""
   ]
  },
  {
   "cell_type": "code",
   "execution_count": 2,
   "metadata": {},
   "outputs": [
    {
     "data": {
      "text/plain": [
       "DatetimeIndex(['2020-02-28', '2020-02-29', '2020-03-01', '2020-03-02'], dtype='datetime64[ns]', freq='D')"
      ]
     },
     "execution_count": 2,
     "metadata": {},
     "output_type": "execute_result"
    }
   ],
   "source": [
    "#Esto crea un DatetimeIndex basado en un timestamp inicial,\n",
    "# un número de periodos y una frecuencia (\"D\" = diaria).\n",
    "daily_index = pd.date_range(\"2020-02-28\", periods=4, freq=\"D\")\n",
    "daily_index"
   ]
  }
 ],
 "metadata": {
  "kernelspec": {
   "display_name": "Python 3.10.0 64-bit",
   "language": "python",
   "name": "python3"
  },
  "language_info": {
   "codemirror_mode": {
    "name": "ipython",
    "version": 3
   },
   "file_extension": ".py",
   "mimetype": "text/x-python",
   "name": "python",
   "nbconvert_exporter": "python",
   "pygments_lexer": "ipython3",
   "version": "3.10.0"
  },
  "orig_nbformat": 4,
  "vscode": {
   "interpreter": {
    "hash": "956945c4d179e0bc7075b9b95aec63dccb93bc4f3d6914856b29e4b2389f5448"
   }
  }
 },
 "nbformat": 4,
 "nbformat_minor": 2
}
