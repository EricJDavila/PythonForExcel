{
 "cells": [
  {
   "cell_type": "markdown",
   "metadata": {},
   "source": [
    "## Capítulo 9. Automatización de Excel\n",
    "La aplicación Excel se automatizará con **xlwings**. La aplicación Excel actua como la interfase del usuario y permite que Python actue mediante un botón para llamar una función definida por el usuario.\n"
   ]
  },
  {
   "cell_type": "code",
   "execution_count": 1,
   "metadata": {},
   "outputs": [],
   "source": [
    "#Se importan los paquetes que se necesitan en este capítulo.\n",
    "import datetime as dt\n",
    "import xlwings as xw\n",
    "import pandas as pd\n",
    "import numpy as np"
   ]
  },
  {
   "cell_type": "code",
   "execution_count": 2,
   "metadata": {},
   "outputs": [
    {
     "data": {
      "text/html": [
       "<div>\n",
       "<style scoped>\n",
       "    .dataframe tbody tr th:only-of-type {\n",
       "        vertical-align: middle;\n",
       "    }\n",
       "\n",
       "    .dataframe tbody tr th {\n",
       "        vertical-align: top;\n",
       "    }\n",
       "\n",
       "    .dataframe thead th {\n",
       "        text-align: right;\n",
       "    }\n",
       "</style>\n",
       "<table border=\"1\" class=\"dataframe\">\n",
       "  <thead>\n",
       "    <tr style=\"text-align: right;\">\n",
       "      <th></th>\n",
       "      <th>Trial 1</th>\n",
       "      <th>Trial 2</th>\n",
       "      <th>Trial 3</th>\n",
       "      <th>Trial 4</th>\n",
       "      <th>Trial 5</th>\n",
       "    </tr>\n",
       "  </thead>\n",
       "  <tbody>\n",
       "    <tr>\n",
       "      <th>0</th>\n",
       "      <td>0.540848</td>\n",
       "      <td>0.996961</td>\n",
       "      <td>-0.101655</td>\n",
       "      <td>1.126816</td>\n",
       "      <td>-1.676079</td>\n",
       "    </tr>\n",
       "    <tr>\n",
       "      <th>1</th>\n",
       "      <td>-0.682852</td>\n",
       "      <td>-1.208841</td>\n",
       "      <td>-0.132973</td>\n",
       "      <td>0.782900</td>\n",
       "      <td>1.244642</td>\n",
       "    </tr>\n",
       "    <tr>\n",
       "      <th>2</th>\n",
       "      <td>-1.281478</td>\n",
       "      <td>1.415304</td>\n",
       "      <td>-0.768283</td>\n",
       "      <td>0.344141</td>\n",
       "      <td>0.738621</td>\n",
       "    </tr>\n",
       "    <tr>\n",
       "      <th>3</th>\n",
       "      <td>1.588604</td>\n",
       "      <td>1.261068</td>\n",
       "      <td>-1.140439</td>\n",
       "      <td>0.040327</td>\n",
       "      <td>0.065075</td>\n",
       "    </tr>\n",
       "    <tr>\n",
       "      <th>4</th>\n",
       "      <td>1.621757</td>\n",
       "      <td>-0.695240</td>\n",
       "      <td>-0.117335</td>\n",
       "      <td>0.368609</td>\n",
       "      <td>-2.492112</td>\n",
       "    </tr>\n",
       "    <tr>\n",
       "      <th>...</th>\n",
       "      <td>...</td>\n",
       "      <td>...</td>\n",
       "      <td>...</td>\n",
       "      <td>...</td>\n",
       "      <td>...</td>\n",
       "    </tr>\n",
       "    <tr>\n",
       "      <th>95</th>\n",
       "      <td>-0.465728</td>\n",
       "      <td>0.942902</td>\n",
       "      <td>0.292751</td>\n",
       "      <td>1.407073</td>\n",
       "      <td>1.093382</td>\n",
       "    </tr>\n",
       "    <tr>\n",
       "      <th>96</th>\n",
       "      <td>0.596690</td>\n",
       "      <td>-0.616253</td>\n",
       "      <td>0.647913</td>\n",
       "      <td>-0.570898</td>\n",
       "      <td>0.023339</td>\n",
       "    </tr>\n",
       "    <tr>\n",
       "      <th>97</th>\n",
       "      <td>0.718840</td>\n",
       "      <td>0.937034</td>\n",
       "      <td>-1.144860</td>\n",
       "      <td>-1.000685</td>\n",
       "      <td>0.698597</td>\n",
       "    </tr>\n",
       "    <tr>\n",
       "      <th>98</th>\n",
       "      <td>0.145059</td>\n",
       "      <td>0.285073</td>\n",
       "      <td>1.835846</td>\n",
       "      <td>2.253299</td>\n",
       "      <td>0.958405</td>\n",
       "    </tr>\n",
       "    <tr>\n",
       "      <th>99</th>\n",
       "      <td>0.973297</td>\n",
       "      <td>0.762352</td>\n",
       "      <td>-0.676926</td>\n",
       "      <td>0.647230</td>\n",
       "      <td>-1.023390</td>\n",
       "    </tr>\n",
       "  </tbody>\n",
       "</table>\n",
       "<p>100 rows × 5 columns</p>\n",
       "</div>"
      ],
      "text/plain": [
       "     Trial 1   Trial 2   Trial 3   Trial 4   Trial 5\n",
       "0   0.540848  0.996961 -0.101655  1.126816 -1.676079\n",
       "1  -0.682852 -1.208841 -0.132973  0.782900  1.244642\n",
       "2  -1.281478  1.415304 -0.768283  0.344141  0.738621\n",
       "3   1.588604  1.261068 -1.140439  0.040327  0.065075\n",
       "4   1.621757 -0.695240 -0.117335  0.368609 -2.492112\n",
       "..       ...       ...       ...       ...       ...\n",
       "95 -0.465728  0.942902  0.292751  1.407073  1.093382\n",
       "96  0.596690 -0.616253  0.647913 -0.570898  0.023339\n",
       "97  0.718840  0.937034 -1.144860 -1.000685  0.698597\n",
       "98  0.145059  0.285073  1.835846  2.253299  0.958405\n",
       "99  0.973297  0.762352 -0.676926  0.647230 -1.023390\n",
       "\n",
       "[100 rows x 5 columns]"
      ]
     },
     "execution_count": 2,
     "metadata": {},
     "output_type": "execute_result"
    }
   ],
   "source": [
    "#Se creará un DataFrame basado en numeros seudoaleatorios y\n",
    "# con suficientes filas, de manera que solo se muestran la cabeza y la cola.\n",
    "df = pd.DataFrame(data=np.random.randn(100, 5), \n",
    "                  columns=[f\"Trial {i}\" for i in range(1, 6)])\n",
    "df"
   ]
  },
  {
   "cell_type": "code",
   "execution_count": 4,
   "metadata": {},
   "outputs": [],
   "source": [
    "#Muestra el DataFrame en Excel.\n",
    "xw.view(df)"
   ]
  },
  {
   "cell_type": "code",
   "execution_count": null,
   "metadata": {},
   "outputs": [],
   "source": []
  }
 ],
 "metadata": {
  "kernelspec": {
   "display_name": "Python 3.10.0 64-bit",
   "language": "python",
   "name": "python3"
  },
  "language_info": {
   "codemirror_mode": {
    "name": "ipython",
    "version": 3
   },
   "file_extension": ".py",
   "mimetype": "text/x-python",
   "name": "python",
   "nbconvert_exporter": "python",
   "pygments_lexer": "ipython3",
   "version": "3.10.0"
  },
  "orig_nbformat": 4,
  "vscode": {
   "interpreter": {
    "hash": "956945c4d179e0bc7075b9b95aec63dccb93bc4f3d6914856b29e4b2389f5448"
   }
  }
 },
 "nbformat": 4,
 "nbformat_minor": 2
}
