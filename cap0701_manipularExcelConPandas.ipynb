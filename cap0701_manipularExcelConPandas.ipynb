{
 "cells": [
  {
   "cell_type": "markdown",
   "metadata": {},
   "source": [
    "## Capítulo 7. Manipulación de archivos Excel con pandas\n",
    "pandas no se soporta en Excel para leer y escribir en archivos Excel. Es decir se puede tener acceso y modificar los archivos Excel sin tener el programa de Excel instalado.\n",
    "\n",
    "### Caso de estudio: Reporte de Excel\n",
    "En la carpeta \"sales_data\" se encuentran archivos Excel con transacciones de ventas simuladas para un proveedor de telecomunicaciones que vende diferentes planes (Bronce, Plata y Oro) en algunas tiendas de los Estados Unidos. Para cada mes hay dos archivos, uno en la subcarpeta \"new\" para nuevos contratos y otro en la subcarpeta \"existing\" para clientes existentes. Los reportes vienen en formatos distintos. Los clientes nuevos vienen en formato **xlsx** y los clientes existentes en formato **xls**. Cada uno de los archivos tiene hasta 10.000 transacciones y nuestra meta es producir un reporte Excel que muestre las ventas totales por tienda y por mes."
   ]
  },
  {
   "cell_type": "code",
   "execution_count": 2,
   "metadata": {},
   "outputs": [],
   "source": [
    "import pandas as pd"
   ]
  },
  {
   "cell_type": "code",
   "execution_count": 2,
   "metadata": {},
   "outputs": [
    {
     "name": "stdout",
     "output_type": "stream",
     "text": [
      "<class 'pandas.core.frame.DataFrame'>\n",
      "RangeIndex: 9493 entries, 0 to 9492\n",
      "Data columns (total 7 columns):\n",
      " #   Column            Non-Null Count  Dtype         \n",
      "---  ------            --------------  -----         \n",
      " 0   transaction_id    9493 non-null   object        \n",
      " 1   store             9493 non-null   object        \n",
      " 2   status            9493 non-null   object        \n",
      " 3   transaction_date  9493 non-null   datetime64[ns]\n",
      " 4   plan              9493 non-null   object        \n",
      " 5   contract_type     9493 non-null   object        \n",
      " 6   amount            9493 non-null   float64       \n",
      "dtypes: datetime64[ns](1), float64(1), object(5)\n",
      "memory usage: 519.3+ KB\n"
     ]
    }
   ],
   "source": [
    "df = pd.read_excel(\"sales_data/new/January.xlsx\")\n",
    "df.info()"
   ]
  },
  {
   "cell_type": "markdown",
   "metadata": {},
   "source": [
    "### Leyendo y escribiendo archivos Excel con pandas\n",
    "El caso de estudio usó \"read_excel\" y \"df.to_excel\" con sus argumentos por defecto para mantener las cosas simples. Se mostrarán los argumentos y opciones más comúnmente usados cuando se leen y se escriben archivos Excel con pandas.\n",
    "\n",
    "#### La función \"read_excel\" y la Clase ExcelFile\n"
   ]
  },
  {
   "cell_type": "code",
   "execution_count": 3,
   "metadata": {},
   "outputs": [
    {
     "data": {
      "text/html": [
       "<div>\n",
       "<style scoped>\n",
       "    .dataframe tbody tr th:only-of-type {\n",
       "        vertical-align: middle;\n",
       "    }\n",
       "\n",
       "    .dataframe tbody tr th {\n",
       "        vertical-align: top;\n",
       "    }\n",
       "\n",
       "    .dataframe thead th {\n",
       "        text-align: right;\n",
       "    }\n",
       "</style>\n",
       "<table border=\"1\" class=\"dataframe\">\n",
       "  <thead>\n",
       "    <tr style=\"text-align: right;\">\n",
       "      <th></th>\n",
       "      <th>Store</th>\n",
       "      <th>Employees</th>\n",
       "      <th>Manager</th>\n",
       "      <th>Since</th>\n",
       "      <th>Flagship</th>\n",
       "    </tr>\n",
       "  </thead>\n",
       "  <tbody>\n",
       "    <tr>\n",
       "      <th>0</th>\n",
       "      <td>New York</td>\n",
       "      <td>10</td>\n",
       "      <td>Sarah</td>\n",
       "      <td>2018-07-20</td>\n",
       "      <td>False</td>\n",
       "    </tr>\n",
       "    <tr>\n",
       "      <th>1</th>\n",
       "      <td>San Francisco</td>\n",
       "      <td>12</td>\n",
       "      <td>Neriah</td>\n",
       "      <td>2019-11-02</td>\n",
       "      <td>MISSING</td>\n",
       "    </tr>\n",
       "    <tr>\n",
       "      <th>2</th>\n",
       "      <td>Chicago</td>\n",
       "      <td>4</td>\n",
       "      <td>Katelin</td>\n",
       "      <td>2020-01-31</td>\n",
       "      <td>NaN</td>\n",
       "    </tr>\n",
       "    <tr>\n",
       "      <th>3</th>\n",
       "      <td>Boston</td>\n",
       "      <td>5</td>\n",
       "      <td>Georgiana</td>\n",
       "      <td>2017-04-01</td>\n",
       "      <td>True</td>\n",
       "    </tr>\n",
       "    <tr>\n",
       "      <th>4</th>\n",
       "      <td>Washington DC</td>\n",
       "      <td>3</td>\n",
       "      <td>Evan</td>\n",
       "      <td>NaT</td>\n",
       "      <td>False</td>\n",
       "    </tr>\n",
       "    <tr>\n",
       "      <th>5</th>\n",
       "      <td>Las Vegas</td>\n",
       "      <td>11</td>\n",
       "      <td>Paul</td>\n",
       "      <td>2020-01-06</td>\n",
       "      <td>False</td>\n",
       "    </tr>\n",
       "  </tbody>\n",
       "</table>\n",
       "</div>"
      ],
      "text/plain": [
       "           Store  Employees    Manager      Since Flagship\n",
       "0       New York         10      Sarah 2018-07-20    False\n",
       "1  San Francisco         12     Neriah 2019-11-02  MISSING\n",
       "2        Chicago          4    Katelin 2020-01-31      NaN\n",
       "3         Boston          5  Georgiana 2017-04-01     True\n",
       "4  Washington DC          3       Evan        NaT    False\n",
       "5      Las Vegas         11       Paul 2020-01-06    False"
      ]
     },
     "execution_count": 3,
     "metadata": {},
     "output_type": "execute_result"
    }
   ],
   "source": [
    "df = pd.read_excel(\"xl/stores.xlsx\", \n",
    "    sheet_name=\"2019\", skiprows=1, usecols=\"B:F\")\n",
    "df "
   ]
  },
  {
   "cell_type": "code",
   "execution_count": 4,
   "metadata": {},
   "outputs": [
    {
     "name": "stdout",
     "output_type": "stream",
     "text": [
      "<class 'pandas.core.frame.DataFrame'>\n",
      "RangeIndex: 6 entries, 0 to 5\n",
      "Data columns (total 5 columns):\n",
      " #   Column     Non-Null Count  Dtype         \n",
      "---  ------     --------------  -----         \n",
      " 0   Store      6 non-null      object        \n",
      " 1   Employees  6 non-null      int64         \n",
      " 2   Manager    6 non-null      object        \n",
      " 3   Since      5 non-null      datetime64[ns]\n",
      " 4   Flagship   5 non-null      object        \n",
      "dtypes: datetime64[ns](1), int64(1), object(3)\n",
      "memory usage: 368.0+ bytes\n"
     ]
    }
   ],
   "source": [
    "df.info()"
   ]
  },
  {
   "cell_type": "code",
   "execution_count": 5,
   "metadata": {},
   "outputs": [],
   "source": [
    "def fix_missing(x):\n",
    "    return False if x in [\"\", \"MISSING\"] else x"
   ]
  },
  {
   "cell_type": "code",
   "execution_count": 6,
   "metadata": {},
   "outputs": [
    {
     "data": {
      "text/html": [
       "<div>\n",
       "<style scoped>\n",
       "    .dataframe tbody tr th:only-of-type {\n",
       "        vertical-align: middle;\n",
       "    }\n",
       "\n",
       "    .dataframe tbody tr th {\n",
       "        vertical-align: top;\n",
       "    }\n",
       "\n",
       "    .dataframe thead th {\n",
       "        text-align: right;\n",
       "    }\n",
       "</style>\n",
       "<table border=\"1\" class=\"dataframe\">\n",
       "  <thead>\n",
       "    <tr style=\"text-align: right;\">\n",
       "      <th></th>\n",
       "      <th>Store</th>\n",
       "      <th>Employees</th>\n",
       "      <th>Manager</th>\n",
       "      <th>Since</th>\n",
       "      <th>Flagship</th>\n",
       "    </tr>\n",
       "  </thead>\n",
       "  <tbody>\n",
       "    <tr>\n",
       "      <th>0</th>\n",
       "      <td>New York</td>\n",
       "      <td>10</td>\n",
       "      <td>Sarah</td>\n",
       "      <td>2018-07-20</td>\n",
       "      <td>False</td>\n",
       "    </tr>\n",
       "    <tr>\n",
       "      <th>1</th>\n",
       "      <td>San Francisco</td>\n",
       "      <td>12</td>\n",
       "      <td>Neriah</td>\n",
       "      <td>2019-11-02</td>\n",
       "      <td>False</td>\n",
       "    </tr>\n",
       "    <tr>\n",
       "      <th>2</th>\n",
       "      <td>Chicago</td>\n",
       "      <td>4</td>\n",
       "      <td>Katelin</td>\n",
       "      <td>2020-01-31</td>\n",
       "      <td>False</td>\n",
       "    </tr>\n",
       "    <tr>\n",
       "      <th>3</th>\n",
       "      <td>Boston</td>\n",
       "      <td>5</td>\n",
       "      <td>Georgiana</td>\n",
       "      <td>2017-04-01</td>\n",
       "      <td>True</td>\n",
       "    </tr>\n",
       "    <tr>\n",
       "      <th>4</th>\n",
       "      <td>Washington DC</td>\n",
       "      <td>3</td>\n",
       "      <td>Evan</td>\n",
       "      <td>NaT</td>\n",
       "      <td>False</td>\n",
       "    </tr>\n",
       "    <tr>\n",
       "      <th>5</th>\n",
       "      <td>Las Vegas</td>\n",
       "      <td>11</td>\n",
       "      <td>Paul</td>\n",
       "      <td>2020-01-06</td>\n",
       "      <td>False</td>\n",
       "    </tr>\n",
       "  </tbody>\n",
       "</table>\n",
       "</div>"
      ],
      "text/plain": [
       "           Store  Employees    Manager      Since  Flagship\n",
       "0       New York         10      Sarah 2018-07-20     False\n",
       "1  San Francisco         12     Neriah 2019-11-02     False\n",
       "2        Chicago          4    Katelin 2020-01-31     False\n",
       "3         Boston          5  Georgiana 2017-04-01      True\n",
       "4  Washington DC          3       Evan        NaT     False\n",
       "5      Las Vegas         11       Paul 2020-01-06     False"
      ]
     },
     "execution_count": 6,
     "metadata": {},
     "output_type": "execute_result"
    }
   ],
   "source": [
    "df = pd.read_excel(\"xl/stores.xlsx\", \n",
    "                   sheet_name=\"2019\", skiprows=1, usecols=\"B:F\", \n",
    "                   converters={\"Flagship\": fix_missing})\n",
    "df"
   ]
  },
  {
   "cell_type": "code",
   "execution_count": 7,
   "metadata": {},
   "outputs": [
    {
     "name": "stdout",
     "output_type": "stream",
     "text": [
      "<class 'pandas.core.frame.DataFrame'>\n",
      "RangeIndex: 6 entries, 0 to 5\n",
      "Data columns (total 5 columns):\n",
      " #   Column     Non-Null Count  Dtype         \n",
      "---  ------     --------------  -----         \n",
      " 0   Store      6 non-null      object        \n",
      " 1   Employees  6 non-null      int64         \n",
      " 2   Manager    6 non-null      object        \n",
      " 3   Since      5 non-null      datetime64[ns]\n",
      " 4   Flagship   6 non-null      bool          \n",
      "dtypes: bool(1), datetime64[ns](1), int64(1), object(2)\n",
      "memory usage: 326.0+ bytes\n"
     ]
    }
   ],
   "source": [
    "df.info()"
   ]
  },
  {
   "cell_type": "markdown",
   "metadata": {},
   "source": [
    "La función \"read_excel\" acepta una lista de nombres de hojas de cálculo. En este caso, la función retorna un diccionario con los DataFrame como valores y el nombre de la hoja como llave. Para leer en todas las hojas, se debería proveer **sheet_name=none**. Note la ligera variación de cómo se usa **usecols** proveyendo los nombres de las columnas de la tabla:"
   ]
  },
  {
   "cell_type": "code",
   "execution_count": 8,
   "metadata": {},
   "outputs": [
    {
     "data": {
      "text/html": [
       "<div>\n",
       "<style scoped>\n",
       "    .dataframe tbody tr th:only-of-type {\n",
       "        vertical-align: middle;\n",
       "    }\n",
       "\n",
       "    .dataframe tbody tr th {\n",
       "        vertical-align: top;\n",
       "    }\n",
       "\n",
       "    .dataframe thead th {\n",
       "        text-align: right;\n",
       "    }\n",
       "</style>\n",
       "<table border=\"1\" class=\"dataframe\">\n",
       "  <thead>\n",
       "    <tr style=\"text-align: right;\">\n",
       "      <th></th>\n",
       "      <th>Store</th>\n",
       "      <th>Employees</th>\n",
       "    </tr>\n",
       "  </thead>\n",
       "  <tbody>\n",
       "    <tr>\n",
       "      <th>0</th>\n",
       "      <td>New York</td>\n",
       "      <td>10</td>\n",
       "    </tr>\n",
       "    <tr>\n",
       "      <th>1</th>\n",
       "      <td>San Francisco</td>\n",
       "      <td>12</td>\n",
       "    </tr>\n",
       "    <tr>\n",
       "      <th>2</th>\n",
       "      <td>Chicago</td>\n",
       "      <td>4</td>\n",
       "    </tr>\n",
       "    <tr>\n",
       "      <th>3</th>\n",
       "      <td>Boston</td>\n",
       "      <td>5</td>\n",
       "    </tr>\n",
       "    <tr>\n",
       "      <th>4</th>\n",
       "      <td>Washington DC</td>\n",
       "      <td>3</td>\n",
       "    </tr>\n",
       "  </tbody>\n",
       "</table>\n",
       "</div>"
      ],
      "text/plain": [
       "           Store  Employees\n",
       "0       New York         10\n",
       "1  San Francisco         12\n",
       "2        Chicago          4\n",
       "3         Boston          5\n",
       "4  Washington DC          3"
      ]
     },
     "execution_count": 8,
     "metadata": {},
     "output_type": "execute_result"
    }
   ],
   "source": [
    "sheets = pd.read_excel(\"xl/stores.xlsx\", sheet_name=[\"2019\", \"2020\"], \n",
    "                       skiprows=1, usecols=[\"Store\", \"Employees\"])\n",
    "sheets[\"2019\"].head()"
   ]
  },
  {
   "cell_type": "code",
   "execution_count": 9,
   "metadata": {},
   "outputs": [
    {
     "data": {
      "text/html": [
       "<div>\n",
       "<style scoped>\n",
       "    .dataframe tbody tr th:only-of-type {\n",
       "        vertical-align: middle;\n",
       "    }\n",
       "\n",
       "    .dataframe tbody tr th {\n",
       "        vertical-align: top;\n",
       "    }\n",
       "\n",
       "    .dataframe thead th {\n",
       "        text-align: right;\n",
       "    }\n",
       "</style>\n",
       "<table border=\"1\" class=\"dataframe\">\n",
       "  <thead>\n",
       "    <tr style=\"text-align: right;\">\n",
       "      <th></th>\n",
       "      <th>Branch</th>\n",
       "      <th>Employee_Count</th>\n",
       "      <th>Is_Flagship</th>\n",
       "    </tr>\n",
       "  </thead>\n",
       "  <tbody>\n",
       "    <tr>\n",
       "      <th>0</th>\n",
       "      <td>New York</td>\n",
       "      <td>10</td>\n",
       "      <td>False</td>\n",
       "    </tr>\n",
       "    <tr>\n",
       "      <th>1</th>\n",
       "      <td>San Francisco</td>\n",
       "      <td>12</td>\n",
       "      <td>MISSING</td>\n",
       "    </tr>\n",
       "    <tr>\n",
       "      <th>2</th>\n",
       "      <td>Chicago</td>\n",
       "      <td>4</td>\n",
       "      <td>NaN</td>\n",
       "    </tr>\n",
       "  </tbody>\n",
       "</table>\n",
       "</div>"
      ],
      "text/plain": [
       "          Branch  Employee_Count Is_Flagship\n",
       "0       New York              10       False\n",
       "1  San Francisco              12     MISSING\n",
       "2        Chicago               4         NaN"
      ]
     },
     "execution_count": 9,
     "metadata": {},
     "output_type": "execute_result"
    }
   ],
   "source": [
    "df = pd.read_excel(\"xl/stores.xlsx\", sheet_name=0, \n",
    "                   skiprows=2, skipfooter=3, \n",
    "                   usecols=\"B:C,F\", header=None, \n",
    "                   names=[\"Branch\", \"Employee_Count\", \"Is_Flagship\"])\n",
    "df"
   ]
  },
  {
   "cell_type": "code",
   "execution_count": 10,
   "metadata": {},
   "outputs": [
    {
     "data": {
      "text/html": [
       "<div>\n",
       "<style scoped>\n",
       "    .dataframe tbody tr th:only-of-type {\n",
       "        vertical-align: middle;\n",
       "    }\n",
       "\n",
       "    .dataframe tbody tr th {\n",
       "        vertical-align: top;\n",
       "    }\n",
       "\n",
       "    .dataframe thead th {\n",
       "        text-align: right;\n",
       "    }\n",
       "</style>\n",
       "<table border=\"1\" class=\"dataframe\">\n",
       "  <thead>\n",
       "    <tr style=\"text-align: right;\">\n",
       "      <th></th>\n",
       "      <th>Store</th>\n",
       "      <th>Employees</th>\n",
       "      <th>Flagship</th>\n",
       "    </tr>\n",
       "  </thead>\n",
       "  <tbody>\n",
       "    <tr>\n",
       "      <th>0</th>\n",
       "      <td>New York</td>\n",
       "      <td>10</td>\n",
       "      <td>False</td>\n",
       "    </tr>\n",
       "    <tr>\n",
       "      <th>1</th>\n",
       "      <td>San Francisco</td>\n",
       "      <td>12</td>\n",
       "      <td>NaN</td>\n",
       "    </tr>\n",
       "    <tr>\n",
       "      <th>2</th>\n",
       "      <td>Chicago</td>\n",
       "      <td>4</td>\n",
       "      <td></td>\n",
       "    </tr>\n",
       "    <tr>\n",
       "      <th>3</th>\n",
       "      <td>Boston</td>\n",
       "      <td>5</td>\n",
       "      <td>True</td>\n",
       "    </tr>\n",
       "  </tbody>\n",
       "</table>\n",
       "</div>"
      ],
      "text/plain": [
       "           Store  Employees Flagship\n",
       "0       New York         10    False\n",
       "1  San Francisco         12      NaN\n",
       "2        Chicago          4         \n",
       "3         Boston          5     True"
      ]
     },
     "execution_count": 10,
     "metadata": {},
     "output_type": "execute_result"
    }
   ],
   "source": [
    "df = pd.read_excel(\"xl/stores.xlsx\", sheet_name=\"2019\", \n",
    "                   skiprows=1, usecols=\"B,C,F\", skipfooter=2, \n",
    "                   na_values=\"MISSING\", keep_default_na=False)\n",
    "df"
   ]
  },
  {
   "cell_type": "markdown",
   "metadata": {},
   "source": [
    "En Python la cláusula **with** se usa para manejar recursos como archivos y conexiones a bases de datos."
   ]
  },
  {
   "cell_type": "code",
   "execution_count": 11,
   "metadata": {},
   "outputs": [],
   "source": [
    "with open(\"output.txt\", \"w\") as f:\n",
    "    f.write(\"Some text\") \n",
    "#Cuando se sale de **with** el \"manejador de contexto\" cierra el archivo."
   ]
  },
  {
   "cell_type": "code",
   "execution_count": 12,
   "metadata": {},
   "outputs": [
    {
     "data": {
      "text/html": [
       "<div>\n",
       "<style scoped>\n",
       "    .dataframe tbody tr th:only-of-type {\n",
       "        vertical-align: middle;\n",
       "    }\n",
       "\n",
       "    .dataframe tbody tr th {\n",
       "        vertical-align: top;\n",
       "    }\n",
       "\n",
       "    .dataframe thead th {\n",
       "        text-align: right;\n",
       "    }\n",
       "</style>\n",
       "<table border=\"1\" class=\"dataframe\">\n",
       "  <thead>\n",
       "    <tr style=\"text-align: right;\">\n",
       "      <th></th>\n",
       "      <th>Store</th>\n",
       "      <th>Employees</th>\n",
       "      <th>Manager</th>\n",
       "      <th>Since</th>\n",
       "      <th>Flagship</th>\n",
       "    </tr>\n",
       "  </thead>\n",
       "  <tbody>\n",
       "    <tr>\n",
       "      <th>0</th>\n",
       "      <td>New York</td>\n",
       "      <td>10</td>\n",
       "      <td>Sarah</td>\n",
       "      <td>2018-07-20</td>\n",
       "      <td>False</td>\n",
       "    </tr>\n",
       "    <tr>\n",
       "      <th>1</th>\n",
       "      <td>San Francisco</td>\n",
       "      <td>12</td>\n",
       "      <td>Neriah</td>\n",
       "      <td>2019-11-02</td>\n",
       "      <td>MISSING</td>\n",
       "    </tr>\n",
       "  </tbody>\n",
       "</table>\n",
       "</div>"
      ],
      "text/plain": [
       "           Store  Employees Manager      Since Flagship\n",
       "0       New York         10   Sarah 2018-07-20    False\n",
       "1  San Francisco         12  Neriah 2019-11-02  MISSING"
      ]
     },
     "execution_count": 12,
     "metadata": {},
     "output_type": "execute_result"
    }
   ],
   "source": [
    "#La clase ExcelFile en acción.\n",
    "with pd.ExcelFile(\"xl/stores.xls\") as f:\n",
    "    df1 = pd.read_excel(f, \"2019\", skiprows=1, usecols=\"B:F\", nrows=2)\n",
    "    df2 = pd.read_excel(f, \"2020\", skiprows=1, usecols=\"B:F\", nrows=2)\n",
    "df1"
   ]
  },
  {
   "cell_type": "code",
   "execution_count": 13,
   "metadata": {},
   "outputs": [
    {
     "data": {
      "text/plain": [
       "['2019', '2020', '2019-2020']"
      ]
     },
     "execution_count": 13,
     "metadata": {},
     "output_type": "execute_result"
    }
   ],
   "source": [
    "#La clase ExcelFile da acceso a la lista con los nombres de todas las hojas del libro.\n",
    "stores = pd.ExcelFile(\"xl/stores.xlsx\")\n",
    "stores.sheet_names"
   ]
  },
  {
   "cell_type": "code",
   "execution_count": 14,
   "metadata": {},
   "outputs": [
    {
     "data": {
      "text/html": [
       "<div>\n",
       "<style scoped>\n",
       "    .dataframe tbody tr th:only-of-type {\n",
       "        vertical-align: middle;\n",
       "    }\n",
       "\n",
       "    .dataframe tbody tr th {\n",
       "        vertical-align: top;\n",
       "    }\n",
       "\n",
       "    .dataframe thead th {\n",
       "        text-align: right;\n",
       "    }\n",
       "</style>\n",
       "<table border=\"1\" class=\"dataframe\">\n",
       "  <thead>\n",
       "    <tr style=\"text-align: right;\">\n",
       "      <th></th>\n",
       "      <th>Store</th>\n",
       "      <th>Employees</th>\n",
       "      <th>Manager</th>\n",
       "      <th>Since</th>\n",
       "    </tr>\n",
       "  </thead>\n",
       "  <tbody>\n",
       "    <tr>\n",
       "      <th>0</th>\n",
       "      <td>New York</td>\n",
       "      <td>10</td>\n",
       "      <td>Sarah</td>\n",
       "      <td>2018-07-20</td>\n",
       "    </tr>\n",
       "    <tr>\n",
       "      <th>1</th>\n",
       "      <td>San Francisco</td>\n",
       "      <td>12</td>\n",
       "      <td>Neriah</td>\n",
       "      <td>2019-11-02</td>\n",
       "    </tr>\n",
       "  </tbody>\n",
       "</table>\n",
       "</div>"
      ],
      "text/plain": [
       "           Store  Employees Manager      Since\n",
       "0       New York         10   Sarah 2018-07-20\n",
       "1  San Francisco         12  Neriah 2019-11-02"
      ]
     },
     "execution_count": 14,
     "metadata": {},
     "output_type": "execute_result"
    }
   ],
   "source": [
    "#En vez de una ruta de archivo, se puede proveer una dirección url para accesar un archivo Excel.\n",
    "url = (\"https://raw.githubusercontent.com/fzumstein/\"\n",
    "       \"python-for-excel/1st-edition/xl/stores.xlsx\")\n",
    "pd.read_excel(url, skiprows=1, usecols=\"B:E\", nrows=2)"
   ]
  },
  {
   "cell_type": "code",
   "execution_count": 17,
   "metadata": {},
   "outputs": [
    {
     "data": {
      "text/html": [
       "<div>\n",
       "<style scoped>\n",
       "    .dataframe tbody tr th:only-of-type {\n",
       "        vertical-align: middle;\n",
       "    }\n",
       "\n",
       "    .dataframe tbody tr th {\n",
       "        vertical-align: top;\n",
       "    }\n",
       "\n",
       "    .dataframe thead th {\n",
       "        text-align: right;\n",
       "    }\n",
       "</style>\n",
       "<table border=\"1\" class=\"dataframe\">\n",
       "  <thead>\n",
       "    <tr style=\"text-align: right;\">\n",
       "      <th></th>\n",
       "      <th>Store</th>\n",
       "      <th>Employees</th>\n",
       "      <th>Flagship</th>\n",
       "    </tr>\n",
       "  </thead>\n",
       "  <tbody>\n",
       "    <tr>\n",
       "      <th>0</th>\n",
       "      <td>New York</td>\n",
       "      <td>10</td>\n",
       "      <td>False</td>\n",
       "    </tr>\n",
       "    <tr>\n",
       "      <th>1</th>\n",
       "      <td>San Francisco</td>\n",
       "      <td>12</td>\n",
       "      <td>MISSING</td>\n",
       "    </tr>\n",
       "    <tr>\n",
       "      <th>2</th>\n",
       "      <td>Chicago</td>\n",
       "      <td>4</td>\n",
       "      <td>NaN</td>\n",
       "    </tr>\n",
       "    <tr>\n",
       "      <th>3</th>\n",
       "      <td>Boston</td>\n",
       "      <td>5</td>\n",
       "      <td>True</td>\n",
       "    </tr>\n",
       "    <tr>\n",
       "      <th>4</th>\n",
       "      <td>Washington DC</td>\n",
       "      <td>3</td>\n",
       "      <td>False</td>\n",
       "    </tr>\n",
       "    <tr>\n",
       "      <th>5</th>\n",
       "      <td>Las Vegas</td>\n",
       "      <td>11</td>\n",
       "      <td>False</td>\n",
       "    </tr>\n",
       "  </tbody>\n",
       "</table>\n",
       "</div>"
      ],
      "text/plain": [
       "           Store  Employees Flagship\n",
       "0       New York         10    False\n",
       "1  San Francisco         12  MISSING\n",
       "2        Chicago          4      NaN\n",
       "3         Boston          5     True\n",
       "4  Washington DC          3    False\n",
       "5      Las Vegas         11    False"
      ]
     },
     "execution_count": 17,
     "metadata": {},
     "output_type": "execute_result"
    }
   ],
   "source": [
    "#Los archivos Excel con formatos \"xlsb\" son archivos Excel binarios.\n",
    "#Requieren de mucho menos espacio para el almacenamiento.\n",
    "pd.read_excel(\"xl/stores.xlsb\", engine=\"pyxlsb\", skiprows=1, usecols=\"B,C,F\")\n"
   ]
  },
  {
   "cell_type": "markdown",
   "metadata": {},
   "source": [
    "#### El método .to_excel y la clase ExcelWriter\n",
    "La forma más fácil de escribir un archivo Excel con pandas es usar su método df.to_excel, el cual le permite especificar la celda de la hoja de cálculo a la cual se desea escribir el DataFrame.\n",
    "También se decide si se incluye o no, los encabezados de las columnasy el índice del DataFrame; y además, cómo tratar con tipos de datos como np.nan y np.inf, que no tienen representación equivalente en Excel.\n"
   ]
  },
  {
   "cell_type": "code",
   "execution_count": 18,
   "metadata": {},
   "outputs": [],
   "source": [
    "import numpy as np\n",
    "import datetime as dt\n"
   ]
  },
  {
   "cell_type": "code",
   "execution_count": 19,
   "metadata": {},
   "outputs": [
    {
     "data": {
      "text/html": [
       "<div>\n",
       "<style scoped>\n",
       "    .dataframe tbody tr th:only-of-type {\n",
       "        vertical-align: middle;\n",
       "    }\n",
       "\n",
       "    .dataframe tbody tr th {\n",
       "        vertical-align: top;\n",
       "    }\n",
       "\n",
       "    .dataframe thead th {\n",
       "        text-align: right;\n",
       "    }\n",
       "</style>\n",
       "<table border=\"1\" class=\"dataframe\">\n",
       "  <thead>\n",
       "    <tr style=\"text-align: right;\">\n",
       "      <th></th>\n",
       "      <th>Dates</th>\n",
       "      <th>Floats</th>\n",
       "      <th>Integers</th>\n",
       "      <th>Booleans</th>\n",
       "    </tr>\n",
       "    <tr>\n",
       "      <th>index</th>\n",
       "      <th></th>\n",
       "      <th></th>\n",
       "      <th></th>\n",
       "      <th></th>\n",
       "    </tr>\n",
       "  </thead>\n",
       "  <tbody>\n",
       "    <tr>\n",
       "      <th>0</th>\n",
       "      <td>2020-01-01 10:13:00</td>\n",
       "      <td>2.222</td>\n",
       "      <td>1</td>\n",
       "      <td>True</td>\n",
       "    </tr>\n",
       "    <tr>\n",
       "      <th>1</th>\n",
       "      <td>2020-01-02 00:00:00</td>\n",
       "      <td>NaN</td>\n",
       "      <td>2</td>\n",
       "      <td>False</td>\n",
       "    </tr>\n",
       "    <tr>\n",
       "      <th>2</th>\n",
       "      <td>2020-01-02 00:00:00</td>\n",
       "      <td>inf</td>\n",
       "      <td>3</td>\n",
       "      <td>True</td>\n",
       "    </tr>\n",
       "  </tbody>\n",
       "</table>\n",
       "</div>"
      ],
      "text/plain": [
       "                    Dates  Floats  Integers  Booleans\n",
       "index                                                \n",
       "0     2020-01-01 10:13:00   2.222         1      True\n",
       "1     2020-01-02 00:00:00     NaN         2     False\n",
       "2     2020-01-02 00:00:00     inf         3      True"
      ]
     },
     "execution_count": 19,
     "metadata": {},
     "output_type": "execute_result"
    }
   ],
   "source": [
    "data = [[dt.datetime(2020,1,1, 10, 13), 2.222, 1, True], \n",
    "        [dt.datetime(2020,1,2), np.nan, 2, False], \n",
    "        [dt.datetime(2020,1,2), np.inf, 3, True]]\n",
    "df = pd.DataFrame(data=data, columns=[\"Dates\", \"Floats\", \"Integers\", \"Booleans\"])\n",
    "df.index.name=\"index\"\n",
    "df"
   ]
  },
  {
   "cell_type": "code",
   "execution_count": 20,
   "metadata": {},
   "outputs": [],
   "source": [
    "df.to_excel(\"written_with_pandas.xlsx\", sheet_name=\"Output\", \n",
    "            startrow=1, startcol=1, index=True, header=True, \n",
    "            na_rep=\"<NA>\", inf_rep=\"<INF>\")"
   ]
  },
  {
   "cell_type": "code",
   "execution_count": 21,
   "metadata": {},
   "outputs": [],
   "source": [
    "#Si se desea escribir múltiples DataFrames en una misma hoja de cálculo o en \n",
    "# diferentes hojas de cálculo, se debe usar la clase ExcelWriter.\n",
    "with pd.ExcelWriter(\"written_with_pandas2.xlsx\") as writer:\n",
    "    df.to_excel(writer, sheet_name=\"Sheet1\", startrow=1, startcol=1)\n",
    "    df.to_excel(writer, sheet_name=\"Sheet1\", startrow=10, startcol=1)\n",
    "    df.to_excel(writer, sheet_name=\"Sheet2\") "
   ]
  },
  {
   "cell_type": "markdown",
   "metadata": {},
   "source": [
    "#### Limitaciones cuando se usa pandas con archivos Excel\n",
    "* No se puede incluir un título o un gráfico.\n",
    "* No hay forma de cambiar el formato por defecto del encabezado y del índice en Excel.\n",
    "* Cuando lee archivos, pandas automáticamente transforma las celdas con errores como #REF o #NUM en NaN, haciendo imposible buscar por errores específicos en la hoja de cálculo.\n",
    "* Trabajar con archivos Excel muy grandes requiere de ajustes extras."
   ]
  }
 ],
 "metadata": {
  "kernelspec": {
   "display_name": "Python 3.10.0 64-bit",
   "language": "python",
   "name": "python3"
  },
  "language_info": {
   "codemirror_mode": {
    "name": "ipython",
    "version": 3
   },
   "file_extension": ".py",
   "mimetype": "text/x-python",
   "name": "python",
   "nbconvert_exporter": "python",
   "pygments_lexer": "ipython3",
   "version": "3.10.0"
  },
  "orig_nbformat": 4,
  "vscode": {
   "interpreter": {
    "hash": "956945c4d179e0bc7075b9b95aec63dccb93bc4f3d6914856b29e4b2389f5448"
   }
  }
 },
 "nbformat": 4,
 "nbformat_minor": 2
}
