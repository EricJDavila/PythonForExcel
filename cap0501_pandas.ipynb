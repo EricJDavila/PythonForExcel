{
 "cells": [
  {
   "cell_type": "code",
   "execution_count": 2,
   "metadata": {},
   "outputs": [],
   "source": [
    "import pandas as pd"
   ]
  },
  {
   "cell_type": "code",
   "execution_count": 3,
   "metadata": {},
   "outputs": [
    {
     "data": {
      "text/html": [
       "<div>\n",
       "<style scoped>\n",
       "    .dataframe tbody tr th:only-of-type {\n",
       "        vertical-align: middle;\n",
       "    }\n",
       "\n",
       "    .dataframe tbody tr th {\n",
       "        vertical-align: top;\n",
       "    }\n",
       "\n",
       "    .dataframe thead th {\n",
       "        text-align: right;\n",
       "    }\n",
       "</style>\n",
       "<table border=\"1\" class=\"dataframe\">\n",
       "  <thead>\n",
       "    <tr style=\"text-align: right;\">\n",
       "      <th></th>\n",
       "      <th>user_id</th>\n",
       "      <th>name</th>\n",
       "      <th>age</th>\n",
       "      <th>country</th>\n",
       "      <th>score</th>\n",
       "      <th>continent</th>\n",
       "    </tr>\n",
       "  </thead>\n",
       "  <tbody>\n",
       "    <tr>\n",
       "      <th>0</th>\n",
       "      <td>1001</td>\n",
       "      <td>Mark</td>\n",
       "      <td>55</td>\n",
       "      <td>Italy</td>\n",
       "      <td>4.5</td>\n",
       "      <td>Europe</td>\n",
       "    </tr>\n",
       "    <tr>\n",
       "      <th>1</th>\n",
       "      <td>1000</td>\n",
       "      <td>John</td>\n",
       "      <td>33</td>\n",
       "      <td>USA</td>\n",
       "      <td>6.7</td>\n",
       "      <td>America</td>\n",
       "    </tr>\n",
       "    <tr>\n",
       "      <th>2</th>\n",
       "      <td>1002</td>\n",
       "      <td>Tim</td>\n",
       "      <td>41</td>\n",
       "      <td>USA</td>\n",
       "      <td>3.9</td>\n",
       "      <td>America</td>\n",
       "    </tr>\n",
       "    <tr>\n",
       "      <th>3</th>\n",
       "      <td>1003</td>\n",
       "      <td>Jenny</td>\n",
       "      <td>12</td>\n",
       "      <td>Germany</td>\n",
       "      <td>9.0</td>\n",
       "      <td>Europe</td>\n",
       "    </tr>\n",
       "  </tbody>\n",
       "</table>\n",
       "</div>"
      ],
      "text/plain": [
       "   user_id   name  age  country  score continent\n",
       "0     1001   Mark   55    Italy    4.5    Europe\n",
       "1     1000   John   33      USA    6.7   America\n",
       "2     1002    Tim   41      USA    3.9   America\n",
       "3     1003  Jenny   12  Germany    9.0    Europe"
      ]
     },
     "execution_count": 3,
     "metadata": {},
     "output_type": "execute_result"
    }
   ],
   "source": [
    "#Leyendo los datos desde un archivo Excel.\n",
    "pd.read_excel(\"xl/course_participants.xlsx\")"
   ]
  },
  {
   "cell_type": "code",
   "execution_count": 20,
   "metadata": {},
   "outputs": [
    {
     "data": {
      "text/plain": [
       "[['Mark', 55, 'Italy', 4.5, 'Europe'],\n",
       " ['John', 33, 'USA', 6.7, 'America'],\n",
       " ['Tim', 41, 'USA', 3.9, 'America'],\n",
       " ['Jenny', 12, 'Germany', 9.0, 'Europe']]"
      ]
     },
     "execution_count": 20,
     "metadata": {},
     "output_type": "execute_result"
    }
   ],
   "source": [
    "#Construyendo el DataFrame desde cero.\n",
    "#Primero se crean los datos en una lista anidada.\n",
    "data = [[\"Mark\", 55, \"Italy\", 4.5, \"Europe\"], \n",
    "        [\"John\", 33, \"USA\", 6.7, \"America\"], \n",
    "        [\"Tim\", 41, \"USA\", 3.9, \"America\"], \n",
    "        [\"Jenny\", 12, \"Germany\", 9.0, \"Europe\"]]\n",
    "\n",
    "data"
   ]
  },
  {
   "cell_type": "code",
   "execution_count": 21,
   "metadata": {},
   "outputs": [
    {
     "data": {
      "text/html": [
       "<div>\n",
       "<style scoped>\n",
       "    .dataframe tbody tr th:only-of-type {\n",
       "        vertical-align: middle;\n",
       "    }\n",
       "\n",
       "    .dataframe tbody tr th {\n",
       "        vertical-align: top;\n",
       "    }\n",
       "\n",
       "    .dataframe thead th {\n",
       "        text-align: right;\n",
       "    }\n",
       "</style>\n",
       "<table border=\"1\" class=\"dataframe\">\n",
       "  <thead>\n",
       "    <tr style=\"text-align: right;\">\n",
       "      <th></th>\n",
       "      <th>nombre</th>\n",
       "      <th>edad</th>\n",
       "      <th>pais</th>\n",
       "      <th>puntaje</th>\n",
       "      <th>continente</th>\n",
       "    </tr>\n",
       "  </thead>\n",
       "  <tbody>\n",
       "    <tr>\n",
       "      <th>1001</th>\n",
       "      <td>Mark</td>\n",
       "      <td>55</td>\n",
       "      <td>Italy</td>\n",
       "      <td>4.5</td>\n",
       "      <td>Europe</td>\n",
       "    </tr>\n",
       "    <tr>\n",
       "      <th>1000</th>\n",
       "      <td>John</td>\n",
       "      <td>33</td>\n",
       "      <td>USA</td>\n",
       "      <td>6.7</td>\n",
       "      <td>America</td>\n",
       "    </tr>\n",
       "    <tr>\n",
       "      <th>1002</th>\n",
       "      <td>Tim</td>\n",
       "      <td>41</td>\n",
       "      <td>USA</td>\n",
       "      <td>3.9</td>\n",
       "      <td>America</td>\n",
       "    </tr>\n",
       "    <tr>\n",
       "      <th>1003</th>\n",
       "      <td>Jenny</td>\n",
       "      <td>12</td>\n",
       "      <td>Germany</td>\n",
       "      <td>9.0</td>\n",
       "      <td>Europe</td>\n",
       "    </tr>\n",
       "  </tbody>\n",
       "</table>\n",
       "</div>"
      ],
      "text/plain": [
       "     nombre  edad     pais  puntaje continente\n",
       "1001   Mark    55    Italy      4.5     Europe\n",
       "1000   John    33      USA      6.7    America\n",
       "1002    Tim    41      USA      3.9    America\n",
       "1003  Jenny    12  Germany      9.0     Europe"
      ]
     },
     "execution_count": 21,
     "metadata": {},
     "output_type": "execute_result"
    }
   ],
   "source": [
    "#Luego se crea el DataFrame con data, las etiquetas de las columnas \n",
    "# (una lista de nombres) y el índice (una lista de índices). Los índices no\n",
    "# tienen nombre, pero se les puede asignar uno más adelante.\n",
    "df = pd.DataFrame(data = data, \n",
    "                  columns = [\"nombre\", \"edad\", \"pais\", \"puntaje\", \"continente\"], \n",
    "                  index = [1001, 1000, 1002, 1003])\n",
    "df"
   ]
  },
  {
   "cell_type": "code",
   "execution_count": 7,
   "metadata": {},
   "outputs": [
    {
     "name": "stdout",
     "output_type": "stream",
     "text": [
      "<class 'pandas.core.frame.DataFrame'>\n",
      "Int64Index: 4 entries, 1001 to 1003\n",
      "Data columns (total 5 columns):\n",
      " #   Column      Non-Null Count  Dtype  \n",
      "---  ------      --------------  -----  \n",
      " 0   nombre      4 non-null      object \n",
      " 1   edad        4 non-null      int64  \n",
      " 2   pais        4 non-null      object \n",
      " 3   puntaje     4 non-null      float64\n",
      " 4   continente  4 non-null      object \n",
      "dtypes: float64(1), int64(1), object(3)\n",
      "memory usage: 192.0+ bytes\n"
     ]
    }
   ],
   "source": [
    "df.info()"
   ]
  },
  {
   "cell_type": "markdown",
   "metadata": {},
   "source": [
    "### Índices\n",
    "Las etiquetas de las filas de un DataFrame son llamados **índices**. Si no se asigna un índice significativo, Pandas automáticamente lo creará cuando se construye el DataFrame. Este será un índice entero iniciando en 0."
   ]
  },
  {
   "cell_type": "code",
   "execution_count": 8,
   "metadata": {},
   "outputs": [
    {
     "data": {
      "text/plain": [
       "Int64Index([1001, 1000, 1002, 1003], dtype='int64')"
      ]
     },
     "execution_count": 8,
     "metadata": {},
     "output_type": "execute_result"
    }
   ],
   "source": [
    "#Los índices se pueden accesar así.\n",
    "df.index"
   ]
  },
  {
   "cell_type": "code",
   "execution_count": 22,
   "metadata": {},
   "outputs": [
    {
     "data": {
      "text/html": [
       "<div>\n",
       "<style scoped>\n",
       "    .dataframe tbody tr th:only-of-type {\n",
       "        vertical-align: middle;\n",
       "    }\n",
       "\n",
       "    .dataframe tbody tr th {\n",
       "        vertical-align: top;\n",
       "    }\n",
       "\n",
       "    .dataframe thead th {\n",
       "        text-align: right;\n",
       "    }\n",
       "</style>\n",
       "<table border=\"1\" class=\"dataframe\">\n",
       "  <thead>\n",
       "    <tr style=\"text-align: right;\">\n",
       "      <th></th>\n",
       "      <th>nombre</th>\n",
       "      <th>edad</th>\n",
       "      <th>pais</th>\n",
       "      <th>puntaje</th>\n",
       "      <th>continente</th>\n",
       "    </tr>\n",
       "    <tr>\n",
       "      <th>user_id</th>\n",
       "      <th></th>\n",
       "      <th></th>\n",
       "      <th></th>\n",
       "      <th></th>\n",
       "      <th></th>\n",
       "    </tr>\n",
       "  </thead>\n",
       "  <tbody>\n",
       "    <tr>\n",
       "      <th>1001</th>\n",
       "      <td>Mark</td>\n",
       "      <td>55</td>\n",
       "      <td>Italy</td>\n",
       "      <td>4.5</td>\n",
       "      <td>Europe</td>\n",
       "    </tr>\n",
       "    <tr>\n",
       "      <th>1000</th>\n",
       "      <td>John</td>\n",
       "      <td>33</td>\n",
       "      <td>USA</td>\n",
       "      <td>6.7</td>\n",
       "      <td>America</td>\n",
       "    </tr>\n",
       "    <tr>\n",
       "      <th>1002</th>\n",
       "      <td>Tim</td>\n",
       "      <td>41</td>\n",
       "      <td>USA</td>\n",
       "      <td>3.9</td>\n",
       "      <td>America</td>\n",
       "    </tr>\n",
       "    <tr>\n",
       "      <th>1003</th>\n",
       "      <td>Jenny</td>\n",
       "      <td>12</td>\n",
       "      <td>Germany</td>\n",
       "      <td>9.0</td>\n",
       "      <td>Europe</td>\n",
       "    </tr>\n",
       "  </tbody>\n",
       "</table>\n",
       "</div>"
      ],
      "text/plain": [
       "        nombre  edad     pais  puntaje continente\n",
       "user_id                                          \n",
       "1001      Mark    55    Italy      4.5     Europe\n",
       "1000      John    33      USA      6.7    America\n",
       "1002       Tim    41      USA      3.9    America\n",
       "1003     Jenny    12  Germany      9.0     Europe"
      ]
     },
     "execution_count": 22,
     "metadata": {},
     "output_type": "execute_result"
    }
   ],
   "source": [
    "#Tiene sentido asignarle un nombre a los índices.\n",
    "df.index.name = \"user_id\"\n",
    "df"
   ]
  },
  {
   "cell_type": "code",
   "execution_count": 11,
   "metadata": {},
   "outputs": [
    {
     "data": {
      "text/html": [
       "<div>\n",
       "<style scoped>\n",
       "    .dataframe tbody tr th:only-of-type {\n",
       "        vertical-align: middle;\n",
       "    }\n",
       "\n",
       "    .dataframe tbody tr th {\n",
       "        vertical-align: top;\n",
       "    }\n",
       "\n",
       "    .dataframe thead th {\n",
       "        text-align: right;\n",
       "    }\n",
       "</style>\n",
       "<table border=\"1\" class=\"dataframe\">\n",
       "  <thead>\n",
       "    <tr style=\"text-align: right;\">\n",
       "      <th></th>\n",
       "      <th>user_id</th>\n",
       "      <th>nombre</th>\n",
       "      <th>edad</th>\n",
       "      <th>pais</th>\n",
       "      <th>puntaje</th>\n",
       "      <th>continente</th>\n",
       "    </tr>\n",
       "  </thead>\n",
       "  <tbody>\n",
       "    <tr>\n",
       "      <th>0</th>\n",
       "      <td>1001</td>\n",
       "      <td>Mark</td>\n",
       "      <td>55</td>\n",
       "      <td>Italy</td>\n",
       "      <td>4.5</td>\n",
       "      <td>Europe</td>\n",
       "    </tr>\n",
       "    <tr>\n",
       "      <th>1</th>\n",
       "      <td>1000</td>\n",
       "      <td>John</td>\n",
       "      <td>33</td>\n",
       "      <td>USA</td>\n",
       "      <td>6.7</td>\n",
       "      <td>America</td>\n",
       "    </tr>\n",
       "    <tr>\n",
       "      <th>2</th>\n",
       "      <td>1002</td>\n",
       "      <td>Tim</td>\n",
       "      <td>41</td>\n",
       "      <td>USA</td>\n",
       "      <td>3.9</td>\n",
       "      <td>America</td>\n",
       "    </tr>\n",
       "    <tr>\n",
       "      <th>3</th>\n",
       "      <td>1003</td>\n",
       "      <td>Jenny</td>\n",
       "      <td>12</td>\n",
       "      <td>Germany</td>\n",
       "      <td>9.0</td>\n",
       "      <td>Europe</td>\n",
       "    </tr>\n",
       "  </tbody>\n",
       "</table>\n",
       "</div>"
      ],
      "text/plain": [
       "   user_id nombre  edad     pais  puntaje continente\n",
       "0     1001   Mark    55    Italy      4.5     Europe\n",
       "1     1000   John    33      USA      6.7    America\n",
       "2     1002    Tim    41      USA      3.9    America\n",
       "3     1003  Jenny    12  Germany      9.0     Europe"
      ]
     },
     "execution_count": 11,
     "metadata": {},
     "output_type": "execute_result"
    }
   ],
   "source": [
    "#A diferencia de una clave primaria de una base de datos, un índice de un \n",
    "# DataFrame puede tener duplicados.\n",
    "#Si se desea convertir un índice en una columna regular se usa reset_index().\n",
    "#En este caso Pandas asigna automáticamente un índice con un número 0.\n",
    "df.reset_index()"
   ]
  },
  {
   "cell_type": "code",
   "execution_count": 13,
   "metadata": {},
   "outputs": [
    {
     "data": {
      "text/html": [
       "<div>\n",
       "<style scoped>\n",
       "    .dataframe tbody tr th:only-of-type {\n",
       "        vertical-align: middle;\n",
       "    }\n",
       "\n",
       "    .dataframe tbody tr th {\n",
       "        vertical-align: top;\n",
       "    }\n",
       "\n",
       "    .dataframe thead th {\n",
       "        text-align: right;\n",
       "    }\n",
       "</style>\n",
       "<table border=\"1\" class=\"dataframe\">\n",
       "  <thead>\n",
       "    <tr style=\"text-align: right;\">\n",
       "      <th></th>\n",
       "      <th>user_id</th>\n",
       "      <th>edad</th>\n",
       "      <th>pais</th>\n",
       "      <th>puntaje</th>\n",
       "      <th>continente</th>\n",
       "    </tr>\n",
       "    <tr>\n",
       "      <th>nombre</th>\n",
       "      <th></th>\n",
       "      <th></th>\n",
       "      <th></th>\n",
       "      <th></th>\n",
       "      <th></th>\n",
       "    </tr>\n",
       "  </thead>\n",
       "  <tbody>\n",
       "    <tr>\n",
       "      <th>Mark</th>\n",
       "      <td>1001</td>\n",
       "      <td>55</td>\n",
       "      <td>Italy</td>\n",
       "      <td>4.5</td>\n",
       "      <td>Europe</td>\n",
       "    </tr>\n",
       "    <tr>\n",
       "      <th>John</th>\n",
       "      <td>1000</td>\n",
       "      <td>33</td>\n",
       "      <td>USA</td>\n",
       "      <td>6.7</td>\n",
       "      <td>America</td>\n",
       "    </tr>\n",
       "    <tr>\n",
       "      <th>Tim</th>\n",
       "      <td>1002</td>\n",
       "      <td>41</td>\n",
       "      <td>USA</td>\n",
       "      <td>3.9</td>\n",
       "      <td>America</td>\n",
       "    </tr>\n",
       "    <tr>\n",
       "      <th>Jenny</th>\n",
       "      <td>1003</td>\n",
       "      <td>12</td>\n",
       "      <td>Germany</td>\n",
       "      <td>9.0</td>\n",
       "      <td>Europe</td>\n",
       "    </tr>\n",
       "  </tbody>\n",
       "</table>\n",
       "</div>"
      ],
      "text/plain": [
       "        user_id  edad     pais  puntaje continente\n",
       "nombre                                            \n",
       "Mark       1001    55    Italy      4.5     Europe\n",
       "John       1000    33      USA      6.7    America\n",
       "Tim        1002    41      USA      3.9    America\n",
       "Jenny      1003    12  Germany      9.0     Europe"
      ]
     },
     "execution_count": 13,
     "metadata": {},
     "output_type": "execute_result"
    }
   ],
   "source": [
    "#Se puede establecer un nuevo índice a partir de las columnas regulares con \n",
    "# set_index(\"nombre_columna\")\n",
    "df.reset_index().set_index(\"nombre\")"
   ]
  },
  {
   "cell_type": "code",
   "execution_count": 15,
   "metadata": {},
   "outputs": [
    {
     "data": {
      "text/html": [
       "<div>\n",
       "<style scoped>\n",
       "    .dataframe tbody tr th:only-of-type {\n",
       "        vertical-align: middle;\n",
       "    }\n",
       "\n",
       "    .dataframe tbody tr th {\n",
       "        vertical-align: top;\n",
       "    }\n",
       "\n",
       "    .dataframe thead th {\n",
       "        text-align: right;\n",
       "    }\n",
       "</style>\n",
       "<table border=\"1\" class=\"dataframe\">\n",
       "  <thead>\n",
       "    <tr style=\"text-align: right;\">\n",
       "      <th></th>\n",
       "      <th>nombre</th>\n",
       "      <th>edad</th>\n",
       "      <th>pais</th>\n",
       "      <th>puntaje</th>\n",
       "      <th>continente</th>\n",
       "    </tr>\n",
       "    <tr>\n",
       "      <th>user_id</th>\n",
       "      <th></th>\n",
       "      <th></th>\n",
       "      <th></th>\n",
       "      <th></th>\n",
       "      <th></th>\n",
       "    </tr>\n",
       "  </thead>\n",
       "  <tbody>\n",
       "    <tr>\n",
       "      <th>999</th>\n",
       "      <td>NaN</td>\n",
       "      <td>NaN</td>\n",
       "      <td>NaN</td>\n",
       "      <td>NaN</td>\n",
       "      <td>NaN</td>\n",
       "    </tr>\n",
       "    <tr>\n",
       "      <th>1000</th>\n",
       "      <td>John</td>\n",
       "      <td>33.0</td>\n",
       "      <td>USA</td>\n",
       "      <td>6.7</td>\n",
       "      <td>America</td>\n",
       "    </tr>\n",
       "    <tr>\n",
       "      <th>1001</th>\n",
       "      <td>Mark</td>\n",
       "      <td>55.0</td>\n",
       "      <td>Italy</td>\n",
       "      <td>4.5</td>\n",
       "      <td>Europe</td>\n",
       "    </tr>\n",
       "    <tr>\n",
       "      <th>1004</th>\n",
       "      <td>NaN</td>\n",
       "      <td>NaN</td>\n",
       "      <td>NaN</td>\n",
       "      <td>NaN</td>\n",
       "      <td>NaN</td>\n",
       "    </tr>\n",
       "  </tbody>\n",
       "</table>\n",
       "</div>"
      ],
      "text/plain": [
       "        nombre  edad   pais  puntaje continente\n",
       "user_id                                        \n",
       "999        NaN   NaN    NaN      NaN        NaN\n",
       "1000      John  33.0    USA      6.7    America\n",
       "1001      Mark  55.0  Italy      4.5     Europe\n",
       "1004       NaN   NaN    NaN      NaN        NaN"
      ]
     },
     "execution_count": 15,
     "metadata": {},
     "output_type": "execute_result"
    }
   ],
   "source": [
    "#Se puede cambiar el índice.\n",
    "df.reindex([999, 1000, 1001, 1004]) #Se presenta un alineamiento de datos.\n",
    "#Si no existe un índice para una fila, esa fila mostrará NaN."
   ]
  },
  {
   "cell_type": "code",
   "execution_count": 16,
   "metadata": {},
   "outputs": [
    {
     "data": {
      "text/html": [
       "<div>\n",
       "<style scoped>\n",
       "    .dataframe tbody tr th:only-of-type {\n",
       "        vertical-align: middle;\n",
       "    }\n",
       "\n",
       "    .dataframe tbody tr th {\n",
       "        vertical-align: top;\n",
       "    }\n",
       "\n",
       "    .dataframe thead th {\n",
       "        text-align: right;\n",
       "    }\n",
       "</style>\n",
       "<table border=\"1\" class=\"dataframe\">\n",
       "  <thead>\n",
       "    <tr style=\"text-align: right;\">\n",
       "      <th></th>\n",
       "      <th>nombre</th>\n",
       "      <th>edad</th>\n",
       "      <th>pais</th>\n",
       "      <th>puntaje</th>\n",
       "      <th>continente</th>\n",
       "    </tr>\n",
       "    <tr>\n",
       "      <th>user_id</th>\n",
       "      <th></th>\n",
       "      <th></th>\n",
       "      <th></th>\n",
       "      <th></th>\n",
       "      <th></th>\n",
       "    </tr>\n",
       "  </thead>\n",
       "  <tbody>\n",
       "    <tr>\n",
       "      <th>1000</th>\n",
       "      <td>John</td>\n",
       "      <td>33</td>\n",
       "      <td>USA</td>\n",
       "      <td>6.7</td>\n",
       "      <td>America</td>\n",
       "    </tr>\n",
       "    <tr>\n",
       "      <th>1001</th>\n",
       "      <td>Mark</td>\n",
       "      <td>55</td>\n",
       "      <td>Italy</td>\n",
       "      <td>4.5</td>\n",
       "      <td>Europe</td>\n",
       "    </tr>\n",
       "    <tr>\n",
       "      <th>1002</th>\n",
       "      <td>Tim</td>\n",
       "      <td>41</td>\n",
       "      <td>USA</td>\n",
       "      <td>3.9</td>\n",
       "      <td>America</td>\n",
       "    </tr>\n",
       "    <tr>\n",
       "      <th>1003</th>\n",
       "      <td>Jenny</td>\n",
       "      <td>12</td>\n",
       "      <td>Germany</td>\n",
       "      <td>9.0</td>\n",
       "      <td>Europe</td>\n",
       "    </tr>\n",
       "  </tbody>\n",
       "</table>\n",
       "</div>"
      ],
      "text/plain": [
       "        nombre  edad     pais  puntaje continente\n",
       "user_id                                          \n",
       "1000      John    33      USA      6.7    America\n",
       "1001      Mark    55    Italy      4.5     Europe\n",
       "1002       Tim    41      USA      3.9    America\n",
       "1003     Jenny    12  Germany      9.0     Europe"
      ]
     },
     "execution_count": 16,
     "metadata": {},
     "output_type": "execute_result"
    }
   ],
   "source": [
    "#Ordenando por índice.\n",
    "df.sort_index()"
   ]
  },
  {
   "cell_type": "code",
   "execution_count": 19,
   "metadata": {},
   "outputs": [
    {
     "data": {
      "text/html": [
       "<div>\n",
       "<style scoped>\n",
       "    .dataframe tbody tr th:only-of-type {\n",
       "        vertical-align: middle;\n",
       "    }\n",
       "\n",
       "    .dataframe tbody tr th {\n",
       "        vertical-align: top;\n",
       "    }\n",
       "\n",
       "    .dataframe thead th {\n",
       "        text-align: right;\n",
       "    }\n",
       "</style>\n",
       "<table border=\"1\" class=\"dataframe\">\n",
       "  <thead>\n",
       "    <tr style=\"text-align: right;\">\n",
       "      <th></th>\n",
       "      <th>nombre</th>\n",
       "      <th>edad</th>\n",
       "      <th>pais</th>\n",
       "      <th>puntaje</th>\n",
       "      <th>continente</th>\n",
       "    </tr>\n",
       "    <tr>\n",
       "      <th>user_id</th>\n",
       "      <th></th>\n",
       "      <th></th>\n",
       "      <th></th>\n",
       "      <th></th>\n",
       "      <th></th>\n",
       "    </tr>\n",
       "  </thead>\n",
       "  <tbody>\n",
       "    <tr>\n",
       "      <th>1000</th>\n",
       "      <td>John</td>\n",
       "      <td>33</td>\n",
       "      <td>USA</td>\n",
       "      <td>6.7</td>\n",
       "      <td>America</td>\n",
       "    </tr>\n",
       "    <tr>\n",
       "      <th>1002</th>\n",
       "      <td>Tim</td>\n",
       "      <td>41</td>\n",
       "      <td>USA</td>\n",
       "      <td>3.9</td>\n",
       "      <td>America</td>\n",
       "    </tr>\n",
       "    <tr>\n",
       "      <th>1003</th>\n",
       "      <td>Jenny</td>\n",
       "      <td>12</td>\n",
       "      <td>Germany</td>\n",
       "      <td>9.0</td>\n",
       "      <td>Europe</td>\n",
       "    </tr>\n",
       "    <tr>\n",
       "      <th>1001</th>\n",
       "      <td>Mark</td>\n",
       "      <td>55</td>\n",
       "      <td>Italy</td>\n",
       "      <td>4.5</td>\n",
       "      <td>Europe</td>\n",
       "    </tr>\n",
       "  </tbody>\n",
       "</table>\n",
       "</div>"
      ],
      "text/plain": [
       "        nombre  edad     pais  puntaje continente\n",
       "user_id                                          \n",
       "1000      John    33      USA      6.7    America\n",
       "1002       Tim    41      USA      3.9    America\n",
       "1003     Jenny    12  Germany      9.0     Europe\n",
       "1001      Mark    55    Italy      4.5     Europe"
      ]
     },
     "execution_count": 19,
     "metadata": {},
     "output_type": "execute_result"
    }
   ],
   "source": [
    "#Ordenando por valores de una o varias columnas.\n",
    "df.sort_values([\"continente\", \"edad\"])"
   ]
  },
  {
   "cell_type": "markdown",
   "metadata": {},
   "source": []
  },
  {
   "cell_type": "markdown",
   "metadata": {},
   "source": [
    "### Columnas\n"
   ]
  },
  {
   "cell_type": "code",
   "execution_count": 20,
   "metadata": {},
   "outputs": [
    {
     "data": {
      "text/plain": [
       "Index(['nombre', 'edad', 'pais', 'puntaje', 'continente'], dtype='object')"
      ]
     },
     "execution_count": 20,
     "metadata": {},
     "output_type": "execute_result"
    }
   ],
   "source": [
    "#Para obtener información de las columnas de un DataFrame se corre lo siguiente:\n",
    "df.columns"
   ]
  },
  {
   "cell_type": "code",
   "execution_count": 23,
   "metadata": {},
   "outputs": [
    {
     "data": {
      "text/html": [
       "<div>\n",
       "<style scoped>\n",
       "    .dataframe tbody tr th:only-of-type {\n",
       "        vertical-align: middle;\n",
       "    }\n",
       "\n",
       "    .dataframe tbody tr th {\n",
       "        vertical-align: top;\n",
       "    }\n",
       "\n",
       "    .dataframe thead th {\n",
       "        text-align: right;\n",
       "    }\n",
       "</style>\n",
       "<table border=\"1\" class=\"dataframe\">\n",
       "  <thead>\n",
       "    <tr style=\"text-align: right;\">\n",
       "      <th>propiedades</th>\n",
       "      <th>nombre</th>\n",
       "      <th>edad</th>\n",
       "      <th>pais</th>\n",
       "      <th>puntaje</th>\n",
       "      <th>continente</th>\n",
       "    </tr>\n",
       "    <tr>\n",
       "      <th>user_id</th>\n",
       "      <th></th>\n",
       "      <th></th>\n",
       "      <th></th>\n",
       "      <th></th>\n",
       "      <th></th>\n",
       "    </tr>\n",
       "  </thead>\n",
       "  <tbody>\n",
       "    <tr>\n",
       "      <th>1001</th>\n",
       "      <td>Mark</td>\n",
       "      <td>55</td>\n",
       "      <td>Italy</td>\n",
       "      <td>4.5</td>\n",
       "      <td>Europe</td>\n",
       "    </tr>\n",
       "    <tr>\n",
       "      <th>1000</th>\n",
       "      <td>John</td>\n",
       "      <td>33</td>\n",
       "      <td>USA</td>\n",
       "      <td>6.7</td>\n",
       "      <td>America</td>\n",
       "    </tr>\n",
       "    <tr>\n",
       "      <th>1002</th>\n",
       "      <td>Tim</td>\n",
       "      <td>41</td>\n",
       "      <td>USA</td>\n",
       "      <td>3.9</td>\n",
       "      <td>America</td>\n",
       "    </tr>\n",
       "    <tr>\n",
       "      <th>1003</th>\n",
       "      <td>Jenny</td>\n",
       "      <td>12</td>\n",
       "      <td>Germany</td>\n",
       "      <td>9.0</td>\n",
       "      <td>Europe</td>\n",
       "    </tr>\n",
       "  </tbody>\n",
       "</table>\n",
       "</div>"
      ],
      "text/plain": [
       "propiedades nombre  edad     pais  puntaje continente\n",
       "user_id                                              \n",
       "1001          Mark    55    Italy      4.5     Europe\n",
       "1000          John    33      USA      6.7    America\n",
       "1002           Tim    41      USA      3.9    America\n",
       "1003         Jenny    12  Germany      9.0     Europe"
      ]
     },
     "execution_count": 23,
     "metadata": {},
     "output_type": "execute_result"
    }
   ],
   "source": [
    "#Aunque Pandas le puede asignar números a las columnas esto no es buena idea,\n",
    "# ya que las columnas representan variables y se deberían nombrar en consecuencia.\n",
    "#A la lista de los nombres de las columnas se les puede asignar un nombre.\n",
    "df.columns.name = \"propiedades\"\n",
    "df"
   ]
  },
  {
   "cell_type": "code",
   "execution_count": 24,
   "metadata": {},
   "outputs": [
    {
     "data": {
      "text/html": [
       "<div>\n",
       "<style scoped>\n",
       "    .dataframe tbody tr th:only-of-type {\n",
       "        vertical-align: middle;\n",
       "    }\n",
       "\n",
       "    .dataframe tbody tr th {\n",
       "        vertical-align: top;\n",
       "    }\n",
       "\n",
       "    .dataframe thead th {\n",
       "        text-align: right;\n",
       "    }\n",
       "</style>\n",
       "<table border=\"1\" class=\"dataframe\">\n",
       "  <thead>\n",
       "    <tr style=\"text-align: right;\">\n",
       "      <th>propiedades</th>\n",
       "      <th>PrimerNombre</th>\n",
       "      <th>Edad</th>\n",
       "      <th>pais</th>\n",
       "      <th>puntaje</th>\n",
       "      <th>continente</th>\n",
       "    </tr>\n",
       "    <tr>\n",
       "      <th>user_id</th>\n",
       "      <th></th>\n",
       "      <th></th>\n",
       "      <th></th>\n",
       "      <th></th>\n",
       "      <th></th>\n",
       "    </tr>\n",
       "  </thead>\n",
       "  <tbody>\n",
       "    <tr>\n",
       "      <th>1001</th>\n",
       "      <td>Mark</td>\n",
       "      <td>55</td>\n",
       "      <td>Italy</td>\n",
       "      <td>4.5</td>\n",
       "      <td>Europe</td>\n",
       "    </tr>\n",
       "    <tr>\n",
       "      <th>1000</th>\n",
       "      <td>John</td>\n",
       "      <td>33</td>\n",
       "      <td>USA</td>\n",
       "      <td>6.7</td>\n",
       "      <td>America</td>\n",
       "    </tr>\n",
       "    <tr>\n",
       "      <th>1002</th>\n",
       "      <td>Tim</td>\n",
       "      <td>41</td>\n",
       "      <td>USA</td>\n",
       "      <td>3.9</td>\n",
       "      <td>America</td>\n",
       "    </tr>\n",
       "    <tr>\n",
       "      <th>1003</th>\n",
       "      <td>Jenny</td>\n",
       "      <td>12</td>\n",
       "      <td>Germany</td>\n",
       "      <td>9.0</td>\n",
       "      <td>Europe</td>\n",
       "    </tr>\n",
       "  </tbody>\n",
       "</table>\n",
       "</div>"
      ],
      "text/plain": [
       "propiedades PrimerNombre  Edad     pais  puntaje continente\n",
       "user_id                                                    \n",
       "1001                Mark    55    Italy      4.5     Europe\n",
       "1000                John    33      USA      6.7    America\n",
       "1002                 Tim    41      USA      3.9    America\n",
       "1003               Jenny    12  Germany      9.0     Europe"
      ]
     },
     "execution_count": 24,
     "metadata": {},
     "output_type": "execute_result"
    }
   ],
   "source": [
    "#Las columnas se pueden renombrar con un diccionario.\n",
    "df.rename(columns={\"nombre\": \"PrimerNombre\", \"edad\": \"Edad\"})"
   ]
  },
  {
   "cell_type": "code",
   "execution_count": 25,
   "metadata": {},
   "outputs": [
    {
     "data": {
      "text/html": [
       "<div>\n",
       "<style scoped>\n",
       "    .dataframe tbody tr th:only-of-type {\n",
       "        vertical-align: middle;\n",
       "    }\n",
       "\n",
       "    .dataframe tbody tr th {\n",
       "        vertical-align: top;\n",
       "    }\n",
       "\n",
       "    .dataframe thead th {\n",
       "        text-align: right;\n",
       "    }\n",
       "</style>\n",
       "<table border=\"1\" class=\"dataframe\">\n",
       "  <thead>\n",
       "    <tr style=\"text-align: right;\">\n",
       "      <th>propiedades</th>\n",
       "      <th>edad</th>\n",
       "      <th>puntaje</th>\n",
       "      <th>continente</th>\n",
       "    </tr>\n",
       "    <tr>\n",
       "      <th>user_id</th>\n",
       "      <th></th>\n",
       "      <th></th>\n",
       "      <th></th>\n",
       "    </tr>\n",
       "  </thead>\n",
       "  <tbody>\n",
       "    <tr>\n",
       "      <th>1001</th>\n",
       "      <td>55</td>\n",
       "      <td>4.5</td>\n",
       "      <td>Europe</td>\n",
       "    </tr>\n",
       "    <tr>\n",
       "      <th>1002</th>\n",
       "      <td>41</td>\n",
       "      <td>3.9</td>\n",
       "      <td>America</td>\n",
       "    </tr>\n",
       "  </tbody>\n",
       "</table>\n",
       "</div>"
      ],
      "text/plain": [
       "propiedades  edad  puntaje continente\n",
       "user_id                              \n",
       "1001           55      4.5     Europe\n",
       "1002           41      3.9    America"
      ]
     },
     "execution_count": 25,
     "metadata": {},
     "output_type": "execute_result"
    }
   ],
   "source": [
    "#Borrar columnas e índices.\n",
    "df.drop(columns=[\"nombre\", \"pais\"], index=[1000, 1003])"
   ]
  },
  {
   "cell_type": "code",
   "execution_count": 26,
   "metadata": {},
   "outputs": [
    {
     "data": {
      "text/html": [
       "<div>\n",
       "<style scoped>\n",
       "    .dataframe tbody tr th:only-of-type {\n",
       "        vertical-align: middle;\n",
       "    }\n",
       "\n",
       "    .dataframe tbody tr th {\n",
       "        vertical-align: top;\n",
       "    }\n",
       "\n",
       "    .dataframe thead th {\n",
       "        text-align: right;\n",
       "    }\n",
       "</style>\n",
       "<table border=\"1\" class=\"dataframe\">\n",
       "  <thead>\n",
       "    <tr style=\"text-align: right;\">\n",
       "      <th>user_id</th>\n",
       "      <th>1001</th>\n",
       "      <th>1000</th>\n",
       "      <th>1002</th>\n",
       "      <th>1003</th>\n",
       "    </tr>\n",
       "    <tr>\n",
       "      <th>propiedades</th>\n",
       "      <th></th>\n",
       "      <th></th>\n",
       "      <th></th>\n",
       "      <th></th>\n",
       "    </tr>\n",
       "  </thead>\n",
       "  <tbody>\n",
       "    <tr>\n",
       "      <th>nombre</th>\n",
       "      <td>Mark</td>\n",
       "      <td>John</td>\n",
       "      <td>Tim</td>\n",
       "      <td>Jenny</td>\n",
       "    </tr>\n",
       "    <tr>\n",
       "      <th>edad</th>\n",
       "      <td>55</td>\n",
       "      <td>33</td>\n",
       "      <td>41</td>\n",
       "      <td>12</td>\n",
       "    </tr>\n",
       "    <tr>\n",
       "      <th>pais</th>\n",
       "      <td>Italy</td>\n",
       "      <td>USA</td>\n",
       "      <td>USA</td>\n",
       "      <td>Germany</td>\n",
       "    </tr>\n",
       "    <tr>\n",
       "      <th>puntaje</th>\n",
       "      <td>4.5</td>\n",
       "      <td>6.7</td>\n",
       "      <td>3.9</td>\n",
       "      <td>9.0</td>\n",
       "    </tr>\n",
       "    <tr>\n",
       "      <th>continente</th>\n",
       "      <td>Europe</td>\n",
       "      <td>America</td>\n",
       "      <td>America</td>\n",
       "      <td>Europe</td>\n",
       "    </tr>\n",
       "  </tbody>\n",
       "</table>\n",
       "</div>"
      ],
      "text/plain": [
       "user_id        1001     1000     1002     1003\n",
       "propiedades                                   \n",
       "nombre         Mark     John      Tim    Jenny\n",
       "edad             55       33       41       12\n",
       "pais          Italy      USA      USA  Germany\n",
       "puntaje         4.5      6.7      3.9      9.0\n",
       "continente   Europe  America  America   Europe"
      ]
     },
     "execution_count": 26,
     "metadata": {},
     "output_type": "execute_result"
    }
   ],
   "source": [
    "#Los índices y las columnas son representados ambos por un objeto índice.\n",
    "# Por eso se pueden intercambiar o transponer.\n",
    "df.T"
   ]
  },
  {
   "cell_type": "code",
   "execution_count": 28,
   "metadata": {},
   "outputs": [
    {
     "data": {
      "text/html": [
       "<div>\n",
       "<style scoped>\n",
       "    .dataframe tbody tr th:only-of-type {\n",
       "        vertical-align: middle;\n",
       "    }\n",
       "\n",
       "    .dataframe tbody tr th {\n",
       "        vertical-align: top;\n",
       "    }\n",
       "\n",
       "    .dataframe thead th {\n",
       "        text-align: right;\n",
       "    }\n",
       "</style>\n",
       "<table border=\"1\" class=\"dataframe\">\n",
       "  <thead>\n",
       "    <tr style=\"text-align: right;\">\n",
       "      <th>propiedades</th>\n",
       "      <th>continente</th>\n",
       "      <th>pais</th>\n",
       "      <th>nombre</th>\n",
       "      <th>edad</th>\n",
       "      <th>puntaje</th>\n",
       "    </tr>\n",
       "    <tr>\n",
       "      <th>user_id</th>\n",
       "      <th></th>\n",
       "      <th></th>\n",
       "      <th></th>\n",
       "      <th></th>\n",
       "      <th></th>\n",
       "    </tr>\n",
       "  </thead>\n",
       "  <tbody>\n",
       "    <tr>\n",
       "      <th>1001</th>\n",
       "      <td>Europe</td>\n",
       "      <td>Italy</td>\n",
       "      <td>Mark</td>\n",
       "      <td>55</td>\n",
       "      <td>4.5</td>\n",
       "    </tr>\n",
       "    <tr>\n",
       "      <th>1000</th>\n",
       "      <td>America</td>\n",
       "      <td>USA</td>\n",
       "      <td>John</td>\n",
       "      <td>33</td>\n",
       "      <td>6.7</td>\n",
       "    </tr>\n",
       "    <tr>\n",
       "      <th>1002</th>\n",
       "      <td>America</td>\n",
       "      <td>USA</td>\n",
       "      <td>Tim</td>\n",
       "      <td>41</td>\n",
       "      <td>3.9</td>\n",
       "    </tr>\n",
       "    <tr>\n",
       "      <th>1003</th>\n",
       "      <td>Europe</td>\n",
       "      <td>Germany</td>\n",
       "      <td>Jenny</td>\n",
       "      <td>12</td>\n",
       "      <td>9.0</td>\n",
       "    </tr>\n",
       "  </tbody>\n",
       "</table>\n",
       "</div>"
      ],
      "text/plain": [
       "propiedades continente     pais nombre  edad  puntaje\n",
       "user_id                                              \n",
       "1001            Europe    Italy   Mark    55      4.5\n",
       "1000           America      USA   John    33      6.7\n",
       "1002           America      USA    Tim    41      3.9\n",
       "1003            Europe  Germany  Jenny    12      9.0"
      ]
     },
     "execution_count": 28,
     "metadata": {},
     "output_type": "execute_result"
    }
   ],
   "source": [
    "#Se puede reordenar el orden de las columnas de un DataFrame.\n",
    "df.loc[:, [\"continente\", \"pais\", \"nombre\", \"edad\", \"puntaje\"]]"
   ]
  },
  {
   "cell_type": "markdown",
   "metadata": {},
   "source": [
    "## Manipulación de datos\n",
    "Normalmente los conjuntos de datos se deben limpiar y organizar antes de usarlos.\n",
    "\n",
    "### Seleccionando los datos\n",
    "Inicialmente vamos a accesar los datos por etiquetas y por posición antes de mirar otros métodos, incluyendo la indexación booleana y la selección de datos usando un Índice Múltiple.\n",
    "\n",
    "#### Seleccionando por etiqueta\n",
    "La forma más común de tener acceso a los datos de DataFrame es refiriendose a sus etiquetas. Se usa el atributo **loc**, el cual significa **localización**, para especificar cuáles filas y cuáles columnas se quieren recuperar."
   ]
  },
  {
   "cell_type": "code",
   "execution_count": 4,
   "metadata": {},
   "outputs": [
    {
     "data": {
      "text/plain": [
       "'Mark'"
      ]
     },
     "execution_count": 4,
     "metadata": {},
     "output_type": "execute_result"
    }
   ],
   "source": [
    "df.loc[1001, \"nombre\"]"
   ]
  },
  {
   "cell_type": "code",
   "execution_count": 6,
   "metadata": {},
   "outputs": [
    {
     "data": {
      "text/plain": [
       "1001    55\n",
       "1002    41\n",
       "Name: edad, dtype: int64"
      ]
     },
     "execution_count": 6,
     "metadata": {},
     "output_type": "execute_result"
    }
   ],
   "source": [
    "#Si se selecciona con un escalar, ya sea en una fila o una columna, se retorna una Series.\n",
    "df.loc[[1001, 1002], \"edad\"]"
   ]
  },
  {
   "cell_type": "code",
   "execution_count": 8,
   "metadata": {},
   "outputs": [
    {
     "data": {
      "text/plain": [
       "pandas.core.series.Series"
      ]
     },
     "execution_count": 8,
     "metadata": {},
     "output_type": "execute_result"
    }
   ],
   "source": [
    "type(df.loc[[1001, 1002], \"edad\"])"
   ]
  },
  {
   "cell_type": "code",
   "execution_count": 7,
   "metadata": {},
   "outputs": [
    {
     "data": {
      "text/html": [
       "<div>\n",
       "<style scoped>\n",
       "    .dataframe tbody tr th:only-of-type {\n",
       "        vertical-align: middle;\n",
       "    }\n",
       "\n",
       "    .dataframe tbody tr th {\n",
       "        vertical-align: top;\n",
       "    }\n",
       "\n",
       "    .dataframe thead th {\n",
       "        text-align: right;\n",
       "    }\n",
       "</style>\n",
       "<table border=\"1\" class=\"dataframe\">\n",
       "  <thead>\n",
       "    <tr style=\"text-align: right;\">\n",
       "      <th></th>\n",
       "      <th>nombre</th>\n",
       "      <th>pais</th>\n",
       "    </tr>\n",
       "  </thead>\n",
       "  <tbody>\n",
       "    <tr>\n",
       "      <th>1001</th>\n",
       "      <td>Mark</td>\n",
       "      <td>Italy</td>\n",
       "    </tr>\n",
       "    <tr>\n",
       "      <th>1000</th>\n",
       "      <td>John</td>\n",
       "      <td>USA</td>\n",
       "    </tr>\n",
       "    <tr>\n",
       "      <th>1002</th>\n",
       "      <td>Tim</td>\n",
       "      <td>USA</td>\n",
       "    </tr>\n",
       "  </tbody>\n",
       "</table>\n",
       "</div>"
      ],
      "text/plain": [
       "     nombre   pais\n",
       "1001   Mark  Italy\n",
       "1000   John    USA\n",
       "1002    Tim    USA"
      ]
     },
     "execution_count": 7,
     "metadata": {},
     "output_type": "execute_result"
    }
   ],
   "source": [
    "#Si se seleccionan múltiples filas o columnas se retorna un DataFrame.\n",
    "df.loc[:1002, [\"nombre\", \"pais\"]]"
   ]
  },
  {
   "cell_type": "code",
   "execution_count": 9,
   "metadata": {},
   "outputs": [
    {
     "data": {
      "text/plain": [
       "pandas.core.frame.DataFrame"
      ]
     },
     "execution_count": 9,
     "metadata": {},
     "output_type": "execute_result"
    }
   ],
   "source": [
    "type(df.loc[:1002, [\"nombre\", \"pais\"]])"
   ]
  },
  {
   "cell_type": "code",
   "execution_count": 11,
   "metadata": {},
   "outputs": [
    {
     "data": {
      "text/plain": [
       "1001      Italy\n",
       "1000        USA\n",
       "1002        USA\n",
       "1003    Germany\n",
       "Name: pais, dtype: object"
      ]
     },
     "execution_count": 11,
     "metadata": {},
     "output_type": "execute_result"
    }
   ],
   "source": [
    "#Atajo para selección de columnas.\n",
    "df[\"pais\"] #Retorna una Series."
   ]
  },
  {
   "cell_type": "code",
   "execution_count": 13,
   "metadata": {},
   "outputs": [
    {
     "data": {
      "text/html": [
       "<div>\n",
       "<style scoped>\n",
       "    .dataframe tbody tr th:only-of-type {\n",
       "        vertical-align: middle;\n",
       "    }\n",
       "\n",
       "    .dataframe tbody tr th {\n",
       "        vertical-align: top;\n",
       "    }\n",
       "\n",
       "    .dataframe thead th {\n",
       "        text-align: right;\n",
       "    }\n",
       "</style>\n",
       "<table border=\"1\" class=\"dataframe\">\n",
       "  <thead>\n",
       "    <tr style=\"text-align: right;\">\n",
       "      <th></th>\n",
       "      <th>nombre</th>\n",
       "      <th>pais</th>\n",
       "    </tr>\n",
       "  </thead>\n",
       "  <tbody>\n",
       "    <tr>\n",
       "      <th>1001</th>\n",
       "      <td>Mark</td>\n",
       "      <td>Italy</td>\n",
       "    </tr>\n",
       "    <tr>\n",
       "      <th>1000</th>\n",
       "      <td>John</td>\n",
       "      <td>USA</td>\n",
       "    </tr>\n",
       "    <tr>\n",
       "      <th>1002</th>\n",
       "      <td>Tim</td>\n",
       "      <td>USA</td>\n",
       "    </tr>\n",
       "    <tr>\n",
       "      <th>1003</th>\n",
       "      <td>Jenny</td>\n",
       "      <td>Germany</td>\n",
       "    </tr>\n",
       "  </tbody>\n",
       "</table>\n",
       "</div>"
      ],
      "text/plain": [
       "     nombre     pais\n",
       "1001   Mark    Italy\n",
       "1000   John      USA\n",
       "1002    Tim      USA\n",
       "1003  Jenny  Germany"
      ]
     },
     "execution_count": 13,
     "metadata": {},
     "output_type": "execute_result"
    }
   ],
   "source": [
    "df[[\"nombre\", \"pais\"]] #Retorna un DataFrame."
   ]
  },
  {
   "cell_type": "markdown",
   "metadata": {},
   "source": [
    "#### Selección por posición"
   ]
  },
  {
   "cell_type": "code",
   "execution_count": 5,
   "metadata": {},
   "outputs": [
    {
     "data": {
      "text/plain": [
       "'Mark'"
      ]
     },
     "execution_count": 5,
     "metadata": {},
     "output_type": "execute_result"
    }
   ],
   "source": [
    "#La selección de un conjunto de DataFrame también por la localización numérica\n",
    "# con iloc, la cual quiere decir \"localización entera\".\n",
    "df.iloc[0, 0] #Produce un escalar."
   ]
  },
  {
   "cell_type": "code",
   "execution_count": 6,
   "metadata": {},
   "outputs": [
    {
     "data": {
      "text/plain": [
       "1001      Italy\n",
       "1000        USA\n",
       "1002        USA\n",
       "1003    Germany\n",
       "Name: pais, dtype: object"
      ]
     },
     "execution_count": 6,
     "metadata": {},
     "output_type": "execute_result"
    }
   ],
   "source": [
    "df.iloc[:, 2] #Produce una Series."
   ]
  },
  {
   "cell_type": "code",
   "execution_count": 7,
   "metadata": {},
   "outputs": [
    {
     "data": {
      "text/html": [
       "<div>\n",
       "<style scoped>\n",
       "    .dataframe tbody tr th:only-of-type {\n",
       "        vertical-align: middle;\n",
       "    }\n",
       "\n",
       "    .dataframe tbody tr th {\n",
       "        vertical-align: top;\n",
       "    }\n",
       "\n",
       "    .dataframe thead th {\n",
       "        text-align: right;\n",
       "    }\n",
       "</style>\n",
       "<table border=\"1\" class=\"dataframe\">\n",
       "  <thead>\n",
       "    <tr style=\"text-align: right;\">\n",
       "      <th></th>\n",
       "      <th>pais</th>\n",
       "    </tr>\n",
       "  </thead>\n",
       "  <tbody>\n",
       "    <tr>\n",
       "      <th>1001</th>\n",
       "      <td>Italy</td>\n",
       "    </tr>\n",
       "    <tr>\n",
       "      <th>1000</th>\n",
       "      <td>USA</td>\n",
       "    </tr>\n",
       "    <tr>\n",
       "      <th>1002</th>\n",
       "      <td>USA</td>\n",
       "    </tr>\n",
       "    <tr>\n",
       "      <th>1003</th>\n",
       "      <td>Germany</td>\n",
       "    </tr>\n",
       "  </tbody>\n",
       "</table>\n",
       "</div>"
      ],
      "text/plain": [
       "         pais\n",
       "1001    Italy\n",
       "1000      USA\n",
       "1002      USA\n",
       "1003  Germany"
      ]
     },
     "execution_count": 7,
     "metadata": {},
     "output_type": "execute_result"
    }
   ],
   "source": [
    "df.iloc[:, [2]] #Produce un DataFrame."
   ]
  },
  {
   "cell_type": "code",
   "execution_count": 8,
   "metadata": {},
   "outputs": [
    {
     "data": {
      "text/plain": [
       "pandas.core.frame.DataFrame"
      ]
     },
     "execution_count": 8,
     "metadata": {},
     "output_type": "execute_result"
    }
   ],
   "source": [
    "type(df.iloc[:, [2]])"
   ]
  },
  {
   "cell_type": "markdown",
   "metadata": {},
   "source": [
    "#### Selección por indexación booleana\n",
    "La indexacción booleana se refiere a seleccionar un conjunto de un DataFrame con la ayuda de una Series o un DataFrame cuyos datos consisten de únicamente valores de **True** o **False**.\n",
    "Las \"Series Booleanas\" son usadas para seleccionar **columnas y filas específicas** de un DataFrame, mientras que los \"DataFrames Booleanos\" son usados para seleccionar **valores específicos** a través de todo un DataFrame.\n",
    "Lo más común es usar la indexación booleana para filtrar las filas de un DataFrame. Piense de esto como si fuese un Autofiltro de Excel. Un ejemplo, podría ser filtrar el DataFrame para que muestre solamente las personas quienes viven en Estados Unidos y tienen edades mayores a 40 años:   "
   ]
  },
  {
   "cell_type": "code",
   "execution_count": 9,
   "metadata": {},
   "outputs": [
    {
     "data": {
      "text/plain": [
       "1001    False\n",
       "1000    False\n",
       "1002     True\n",
       "1003    False\n",
       "dtype: bool"
      ]
     },
     "execution_count": 9,
     "metadata": {},
     "output_type": "execute_result"
    }
   ],
   "source": [
    "tf = (df[\"edad\"] > 40) & (df[\"pais\"] == \"USA\")\n",
    "tf"
   ]
  },
  {
   "cell_type": "code",
   "execution_count": 10,
   "metadata": {},
   "outputs": [
    {
     "data": {
      "text/html": [
       "<div>\n",
       "<style scoped>\n",
       "    .dataframe tbody tr th:only-of-type {\n",
       "        vertical-align: middle;\n",
       "    }\n",
       "\n",
       "    .dataframe tbody tr th {\n",
       "        vertical-align: top;\n",
       "    }\n",
       "\n",
       "    .dataframe thead th {\n",
       "        text-align: right;\n",
       "    }\n",
       "</style>\n",
       "<table border=\"1\" class=\"dataframe\">\n",
       "  <thead>\n",
       "    <tr style=\"text-align: right;\">\n",
       "      <th></th>\n",
       "      <th>nombre</th>\n",
       "      <th>edad</th>\n",
       "      <th>pais</th>\n",
       "      <th>puntaje</th>\n",
       "      <th>continente</th>\n",
       "    </tr>\n",
       "  </thead>\n",
       "  <tbody>\n",
       "    <tr>\n",
       "      <th>1002</th>\n",
       "      <td>Tim</td>\n",
       "      <td>41</td>\n",
       "      <td>USA</td>\n",
       "      <td>3.9</td>\n",
       "      <td>America</td>\n",
       "    </tr>\n",
       "  </tbody>\n",
       "</table>\n",
       "</div>"
      ],
      "text/plain": [
       "     nombre  edad pais  puntaje continente\n",
       "1002    Tim    41  USA      3.9    America"
      ]
     },
     "execution_count": 10,
     "metadata": {},
     "output_type": "execute_result"
    }
   ],
   "source": [
    "df.loc[tf, :]"
   ]
  },
  {
   "cell_type": "code",
   "execution_count": 11,
   "metadata": {},
   "outputs": [
    {
     "data": {
      "text/html": [
       "<div>\n",
       "<style scoped>\n",
       "    .dataframe tbody tr th:only-of-type {\n",
       "        vertical-align: middle;\n",
       "    }\n",
       "\n",
       "    .dataframe tbody tr th {\n",
       "        vertical-align: top;\n",
       "    }\n",
       "\n",
       "    .dataframe thead th {\n",
       "        text-align: right;\n",
       "    }\n",
       "</style>\n",
       "<table border=\"1\" class=\"dataframe\">\n",
       "  <thead>\n",
       "    <tr style=\"text-align: right;\">\n",
       "      <th></th>\n",
       "      <th>nombre</th>\n",
       "      <th>edad</th>\n",
       "      <th>pais</th>\n",
       "      <th>puntaje</th>\n",
       "      <th>continente</th>\n",
       "    </tr>\n",
       "  </thead>\n",
       "  <tbody>\n",
       "    <tr>\n",
       "      <th>1002</th>\n",
       "      <td>Tim</td>\n",
       "      <td>41</td>\n",
       "      <td>USA</td>\n",
       "      <td>3.9</td>\n",
       "      <td>America</td>\n",
       "    </tr>\n",
       "    <tr>\n",
       "      <th>1003</th>\n",
       "      <td>Jenny</td>\n",
       "      <td>12</td>\n",
       "      <td>Germany</td>\n",
       "      <td>9.0</td>\n",
       "      <td>Europe</td>\n",
       "    </tr>\n",
       "  </tbody>\n",
       "</table>\n",
       "</div>"
      ],
      "text/plain": [
       "     nombre  edad     pais  puntaje continente\n",
       "1002    Tim    41      USA      3.9    America\n",
       "1003  Jenny    12  Germany      9.0     Europe"
      ]
     },
     "execution_count": 11,
     "metadata": {},
     "output_type": "execute_result"
    }
   ],
   "source": [
    "df.loc[df.index > 1001, :]"
   ]
  },
  {
   "cell_type": "code",
   "execution_count": 12,
   "metadata": {},
   "outputs": [
    {
     "data": {
      "text/html": [
       "<div>\n",
       "<style scoped>\n",
       "    .dataframe tbody tr th:only-of-type {\n",
       "        vertical-align: middle;\n",
       "    }\n",
       "\n",
       "    .dataframe tbody tr th {\n",
       "        vertical-align: top;\n",
       "    }\n",
       "\n",
       "    .dataframe thead th {\n",
       "        text-align: right;\n",
       "    }\n",
       "</style>\n",
       "<table border=\"1\" class=\"dataframe\">\n",
       "  <thead>\n",
       "    <tr style=\"text-align: right;\">\n",
       "      <th></th>\n",
       "      <th>nombre</th>\n",
       "      <th>edad</th>\n",
       "      <th>pais</th>\n",
       "      <th>puntaje</th>\n",
       "      <th>continente</th>\n",
       "    </tr>\n",
       "  </thead>\n",
       "  <tbody>\n",
       "    <tr>\n",
       "      <th>1001</th>\n",
       "      <td>Mark</td>\n",
       "      <td>55</td>\n",
       "      <td>Italy</td>\n",
       "      <td>4.5</td>\n",
       "      <td>Europe</td>\n",
       "    </tr>\n",
       "    <tr>\n",
       "      <th>1003</th>\n",
       "      <td>Jenny</td>\n",
       "      <td>12</td>\n",
       "      <td>Germany</td>\n",
       "      <td>9.0</td>\n",
       "      <td>Europe</td>\n",
       "    </tr>\n",
       "  </tbody>\n",
       "</table>\n",
       "</div>"
      ],
      "text/plain": [
       "     nombre  edad     pais  puntaje continente\n",
       "1001   Mark    55    Italy      4.5     Europe\n",
       "1003  Jenny    12  Germany      9.0     Europe"
      ]
     },
     "execution_count": 12,
     "metadata": {},
     "output_type": "execute_result"
    }
   ],
   "source": [
    "df.loc[df[\"pais\"].isin([\"Italy\", \"Germany\"])]"
   ]
  },
  {
   "cell_type": "code",
   "execution_count": 14,
   "metadata": {},
   "outputs": [
    {
     "data": {
      "text/html": [
       "<div>\n",
       "<style scoped>\n",
       "    .dataframe tbody tr th:only-of-type {\n",
       "        vertical-align: middle;\n",
       "    }\n",
       "\n",
       "    .dataframe tbody tr th {\n",
       "        vertical-align: top;\n",
       "    }\n",
       "\n",
       "    .dataframe thead th {\n",
       "        text-align: right;\n",
       "    }\n",
       "</style>\n",
       "<table border=\"1\" class=\"dataframe\">\n",
       "  <thead>\n",
       "    <tr style=\"text-align: right;\">\n",
       "      <th></th>\n",
       "      <th>City 1</th>\n",
       "      <th>City 2</th>\n",
       "      <th>City 3</th>\n",
       "    </tr>\n",
       "  </thead>\n",
       "  <tbody>\n",
       "    <tr>\n",
       "      <th>0</th>\n",
       "      <td>300.1</td>\n",
       "      <td>400.3</td>\n",
       "      <td>1000.5</td>\n",
       "    </tr>\n",
       "    <tr>\n",
       "      <th>1</th>\n",
       "      <td>100.2</td>\n",
       "      <td>300.4</td>\n",
       "      <td>1100.6</td>\n",
       "    </tr>\n",
       "  </tbody>\n",
       "</table>\n",
       "</div>"
      ],
      "text/plain": [
       "   City 1  City 2  City 3\n",
       "0   300.1   400.3  1000.5\n",
       "1   100.2   300.4  1100.6"
      ]
     },
     "execution_count": 14,
     "metadata": {},
     "output_type": "execute_result"
    }
   ],
   "source": [
    "#Estos valores pueden ser los volúmenes de lluvia anuales en milímetros.\n",
    "rainfall = pd.DataFrame(data={\"City 1\": [300.1, 100.2], \n",
    "                              \"City 2\": [400.3, 300.4], \n",
    "                              \"City 3\": [1000.5, 1100.6]})\n",
    "rainfall"
   ]
  },
  {
   "cell_type": "code",
   "execution_count": 14,
   "metadata": {},
   "outputs": [
    {
     "data": {
      "text/html": [
       "<div>\n",
       "<style scoped>\n",
       "    .dataframe tbody tr th:only-of-type {\n",
       "        vertical-align: middle;\n",
       "    }\n",
       "\n",
       "    .dataframe tbody tr th {\n",
       "        vertical-align: top;\n",
       "    }\n",
       "\n",
       "    .dataframe thead th {\n",
       "        text-align: right;\n",
       "    }\n",
       "</style>\n",
       "<table border=\"1\" class=\"dataframe\">\n",
       "  <thead>\n",
       "    <tr style=\"text-align: right;\">\n",
       "      <th></th>\n",
       "      <th>City 1</th>\n",
       "      <th>City 2</th>\n",
       "      <th>City 3</th>\n",
       "    </tr>\n",
       "  </thead>\n",
       "  <tbody>\n",
       "    <tr>\n",
       "      <th>0</th>\n",
       "      <td>True</td>\n",
       "      <td>False</td>\n",
       "      <td>False</td>\n",
       "    </tr>\n",
       "    <tr>\n",
       "      <th>1</th>\n",
       "      <td>True</td>\n",
       "      <td>True</td>\n",
       "      <td>False</td>\n",
       "    </tr>\n",
       "  </tbody>\n",
       "</table>\n",
       "</div>"
      ],
      "text/plain": [
       "   City 1  City 2  City 3\n",
       "0    True   False   False\n",
       "1    True    True   False"
      ]
     },
     "execution_count": 14,
     "metadata": {},
     "output_type": "execute_result"
    }
   ],
   "source": [
    "rainfall < 400"
   ]
  },
  {
   "cell_type": "code",
   "execution_count": 15,
   "metadata": {},
   "outputs": [
    {
     "data": {
      "text/html": [
       "<div>\n",
       "<style scoped>\n",
       "    .dataframe tbody tr th:only-of-type {\n",
       "        vertical-align: middle;\n",
       "    }\n",
       "\n",
       "    .dataframe tbody tr th {\n",
       "        vertical-align: top;\n",
       "    }\n",
       "\n",
       "    .dataframe thead th {\n",
       "        text-align: right;\n",
       "    }\n",
       "</style>\n",
       "<table border=\"1\" class=\"dataframe\">\n",
       "  <thead>\n",
       "    <tr style=\"text-align: right;\">\n",
       "      <th></th>\n",
       "      <th>City 1</th>\n",
       "      <th>City 2</th>\n",
       "      <th>City 3</th>\n",
       "    </tr>\n",
       "  </thead>\n",
       "  <tbody>\n",
       "    <tr>\n",
       "      <th>0</th>\n",
       "      <td>NaN</td>\n",
       "      <td>400.3</td>\n",
       "      <td>1000.5</td>\n",
       "    </tr>\n",
       "    <tr>\n",
       "      <th>1</th>\n",
       "      <td>NaN</td>\n",
       "      <td>NaN</td>\n",
       "      <td>1100.6</td>\n",
       "    </tr>\n",
       "  </tbody>\n",
       "</table>\n",
       "</div>"
      ],
      "text/plain": [
       "   City 1  City 2  City 3\n",
       "0     NaN   400.3  1000.5\n",
       "1     NaN     NaN  1100.6"
      ]
     },
     "execution_count": 15,
     "metadata": {},
     "output_type": "execute_result"
    }
   ],
   "source": [
    "rainfall[rainfall > 400]"
   ]
  },
  {
   "cell_type": "markdown",
   "metadata": {},
   "source": [
    "#### Seleccionando con múltiples índices\n",
    "Una selección con índice múltiple requiere estar ordenada. "
   ]
  },
  {
   "cell_type": "code",
   "execution_count": 18,
   "metadata": {},
   "outputs": [
    {
     "data": {
      "text/html": [
       "<div>\n",
       "<style scoped>\n",
       "    .dataframe tbody tr th:only-of-type {\n",
       "        vertical-align: middle;\n",
       "    }\n",
       "\n",
       "    .dataframe tbody tr th {\n",
       "        vertical-align: top;\n",
       "    }\n",
       "\n",
       "    .dataframe thead th {\n",
       "        text-align: right;\n",
       "    }\n",
       "</style>\n",
       "<table border=\"1\" class=\"dataframe\">\n",
       "  <thead>\n",
       "    <tr style=\"text-align: right;\">\n",
       "      <th></th>\n",
       "      <th></th>\n",
       "      <th>index</th>\n",
       "      <th>nombre</th>\n",
       "      <th>edad</th>\n",
       "      <th>puntaje</th>\n",
       "    </tr>\n",
       "    <tr>\n",
       "      <th>continente</th>\n",
       "      <th>pais</th>\n",
       "      <th></th>\n",
       "      <th></th>\n",
       "      <th></th>\n",
       "      <th></th>\n",
       "    </tr>\n",
       "  </thead>\n",
       "  <tbody>\n",
       "    <tr>\n",
       "      <th rowspan=\"2\" valign=\"top\">America</th>\n",
       "      <th>USA</th>\n",
       "      <td>1000</td>\n",
       "      <td>John</td>\n",
       "      <td>33</td>\n",
       "      <td>6.7</td>\n",
       "    </tr>\n",
       "    <tr>\n",
       "      <th>USA</th>\n",
       "      <td>1002</td>\n",
       "      <td>Tim</td>\n",
       "      <td>41</td>\n",
       "      <td>3.9</td>\n",
       "    </tr>\n",
       "    <tr>\n",
       "      <th rowspan=\"2\" valign=\"top\">Europe</th>\n",
       "      <th>Germany</th>\n",
       "      <td>1003</td>\n",
       "      <td>Jenny</td>\n",
       "      <td>12</td>\n",
       "      <td>9.0</td>\n",
       "    </tr>\n",
       "    <tr>\n",
       "      <th>Italy</th>\n",
       "      <td>1001</td>\n",
       "      <td>Mark</td>\n",
       "      <td>55</td>\n",
       "      <td>4.5</td>\n",
       "    </tr>\n",
       "  </tbody>\n",
       "</table>\n",
       "</div>"
      ],
      "text/plain": [
       "                    index nombre  edad  puntaje\n",
       "continente pais                                \n",
       "America    USA       1000   John    33      6.7\n",
       "           USA       1002    Tim    41      3.9\n",
       "Europe     Germany   1003  Jenny    12      9.0\n",
       "           Italy     1001   Mark    55      4.5"
      ]
     },
     "execution_count": 18,
     "metadata": {},
     "output_type": "execute_result"
    }
   ],
   "source": [
    "df_multi = df.reset_index().set_index([\"continente\", \"pais\"])\n",
    "df_multi = df_multi.sort_index()\n",
    "df_multi"
   ]
  },
  {
   "cell_type": "code",
   "execution_count": 20,
   "metadata": {},
   "outputs": [
    {
     "data": {
      "text/html": [
       "<div>\n",
       "<style scoped>\n",
       "    .dataframe tbody tr th:only-of-type {\n",
       "        vertical-align: middle;\n",
       "    }\n",
       "\n",
       "    .dataframe tbody tr th {\n",
       "        vertical-align: top;\n",
       "    }\n",
       "\n",
       "    .dataframe thead th {\n",
       "        text-align: right;\n",
       "    }\n",
       "</style>\n",
       "<table border=\"1\" class=\"dataframe\">\n",
       "  <thead>\n",
       "    <tr style=\"text-align: right;\">\n",
       "      <th></th>\n",
       "      <th>index</th>\n",
       "      <th>nombre</th>\n",
       "      <th>edad</th>\n",
       "      <th>puntaje</th>\n",
       "    </tr>\n",
       "    <tr>\n",
       "      <th>pais</th>\n",
       "      <th></th>\n",
       "      <th></th>\n",
       "      <th></th>\n",
       "      <th></th>\n",
       "    </tr>\n",
       "  </thead>\n",
       "  <tbody>\n",
       "    <tr>\n",
       "      <th>Germany</th>\n",
       "      <td>1003</td>\n",
       "      <td>Jenny</td>\n",
       "      <td>12</td>\n",
       "      <td>9.0</td>\n",
       "    </tr>\n",
       "    <tr>\n",
       "      <th>Italy</th>\n",
       "      <td>1001</td>\n",
       "      <td>Mark</td>\n",
       "      <td>55</td>\n",
       "      <td>4.5</td>\n",
       "    </tr>\n",
       "  </tbody>\n",
       "</table>\n",
       "</div>"
      ],
      "text/plain": [
       "         index nombre  edad  puntaje\n",
       "pais                                \n",
       "Germany   1003  Jenny    12      9.0\n",
       "Italy     1001   Mark    55      4.5"
      ]
     },
     "execution_count": 20,
     "metadata": {},
     "output_type": "execute_result"
    }
   ],
   "source": [
    "df_multi.loc[\"Europe\", :]"
   ]
  },
  {
   "cell_type": "code",
   "execution_count": 22,
   "metadata": {},
   "outputs": [
    {
     "data": {
      "text/html": [
       "<div>\n",
       "<style scoped>\n",
       "    .dataframe tbody tr th:only-of-type {\n",
       "        vertical-align: middle;\n",
       "    }\n",
       "\n",
       "    .dataframe tbody tr th {\n",
       "        vertical-align: top;\n",
       "    }\n",
       "\n",
       "    .dataframe thead th {\n",
       "        text-align: right;\n",
       "    }\n",
       "</style>\n",
       "<table border=\"1\" class=\"dataframe\">\n",
       "  <thead>\n",
       "    <tr style=\"text-align: right;\">\n",
       "      <th></th>\n",
       "      <th></th>\n",
       "      <th>index</th>\n",
       "      <th>nombre</th>\n",
       "      <th>edad</th>\n",
       "      <th>puntaje</th>\n",
       "    </tr>\n",
       "    <tr>\n",
       "      <th>continente</th>\n",
       "      <th>pais</th>\n",
       "      <th></th>\n",
       "      <th></th>\n",
       "      <th></th>\n",
       "      <th></th>\n",
       "    </tr>\n",
       "  </thead>\n",
       "  <tbody>\n",
       "    <tr>\n",
       "      <th>Europe</th>\n",
       "      <th>Italy</th>\n",
       "      <td>1001</td>\n",
       "      <td>Mark</td>\n",
       "      <td>55</td>\n",
       "      <td>4.5</td>\n",
       "    </tr>\n",
       "  </tbody>\n",
       "</table>\n",
       "</div>"
      ],
      "text/plain": [
       "                  index nombre  edad  puntaje\n",
       "continente pais                              \n",
       "Europe     Italy   1001   Mark    55      4.5"
      ]
     },
     "execution_count": 22,
     "metadata": {},
     "output_type": "execute_result"
    }
   ],
   "source": [
    "#Aplicando índices múltiples:\n",
    "df_multi.loc[(\"Europe\", \"Italy\"), :]"
   ]
  },
  {
   "cell_type": "code",
   "execution_count": 23,
   "metadata": {},
   "outputs": [
    {
     "data": {
      "text/html": [
       "<div>\n",
       "<style scoped>\n",
       "    .dataframe tbody tr th:only-of-type {\n",
       "        vertical-align: middle;\n",
       "    }\n",
       "\n",
       "    .dataframe tbody tr th {\n",
       "        vertical-align: top;\n",
       "    }\n",
       "\n",
       "    .dataframe thead th {\n",
       "        text-align: right;\n",
       "    }\n",
       "</style>\n",
       "<table border=\"1\" class=\"dataframe\">\n",
       "  <thead>\n",
       "    <tr style=\"text-align: right;\">\n",
       "      <th></th>\n",
       "      <th>continente</th>\n",
       "      <th>index</th>\n",
       "      <th>nombre</th>\n",
       "      <th>edad</th>\n",
       "      <th>puntaje</th>\n",
       "    </tr>\n",
       "    <tr>\n",
       "      <th>pais</th>\n",
       "      <th></th>\n",
       "      <th></th>\n",
       "      <th></th>\n",
       "      <th></th>\n",
       "      <th></th>\n",
       "    </tr>\n",
       "  </thead>\n",
       "  <tbody>\n",
       "    <tr>\n",
       "      <th>USA</th>\n",
       "      <td>America</td>\n",
       "      <td>1000</td>\n",
       "      <td>John</td>\n",
       "      <td>33</td>\n",
       "      <td>6.7</td>\n",
       "    </tr>\n",
       "    <tr>\n",
       "      <th>USA</th>\n",
       "      <td>America</td>\n",
       "      <td>1002</td>\n",
       "      <td>Tim</td>\n",
       "      <td>41</td>\n",
       "      <td>3.9</td>\n",
       "    </tr>\n",
       "    <tr>\n",
       "      <th>Germany</th>\n",
       "      <td>Europe</td>\n",
       "      <td>1003</td>\n",
       "      <td>Jenny</td>\n",
       "      <td>12</td>\n",
       "      <td>9.0</td>\n",
       "    </tr>\n",
       "    <tr>\n",
       "      <th>Italy</th>\n",
       "      <td>Europe</td>\n",
       "      <td>1001</td>\n",
       "      <td>Mark</td>\n",
       "      <td>55</td>\n",
       "      <td>4.5</td>\n",
       "    </tr>\n",
       "  </tbody>\n",
       "</table>\n",
       "</div>"
      ],
      "text/plain": [
       "        continente  index nombre  edad  puntaje\n",
       "pais                                           \n",
       "USA        America   1000   John    33      6.7\n",
       "USA        America   1002    Tim    41      3.9\n",
       "Germany     Europe   1003  Jenny    12      9.0\n",
       "Italy       Europe   1001   Mark    55      4.5"
      ]
     },
     "execution_count": 23,
     "metadata": {},
     "output_type": "execute_result"
    }
   ],
   "source": [
    "#Se puede resetear selectivamente parte de un índice múltiple. Cero es la \n",
    "# primera columna.\n",
    "df_multi.reset_index(level=0)"
   ]
  },
  {
   "cell_type": "markdown",
   "metadata": {},
   "source": [
    "### Ajustando los datos\n",
    "La forma más fácil de cambiar los datos de un DataFrame es asignándole valores a ciertos elementos usando los atributos **loc** o **iloc**.\n",
    "\n",
    "#### Ajustando los datos por etiquetas o por posición\n",
    "Cuando se asignan valores a un DataFrame por medio de los atributos **loc** o **iloc** se cambian los valores originales del DataFrame. Por ello, usaremos una copia de df con el nombre df2."
   ]
  },
  {
   "cell_type": "code",
   "execution_count": 26,
   "metadata": {},
   "outputs": [
    {
     "data": {
      "text/html": [
       "<div>\n",
       "<style scoped>\n",
       "    .dataframe tbody tr th:only-of-type {\n",
       "        vertical-align: middle;\n",
       "    }\n",
       "\n",
       "    .dataframe tbody tr th {\n",
       "        vertical-align: top;\n",
       "    }\n",
       "\n",
       "    .dataframe thead th {\n",
       "        text-align: right;\n",
       "    }\n",
       "</style>\n",
       "<table border=\"1\" class=\"dataframe\">\n",
       "  <thead>\n",
       "    <tr style=\"text-align: right;\">\n",
       "      <th></th>\n",
       "      <th>nombre</th>\n",
       "      <th>edad</th>\n",
       "      <th>pais</th>\n",
       "      <th>puntaje</th>\n",
       "      <th>continente</th>\n",
       "    </tr>\n",
       "  </thead>\n",
       "  <tbody>\n",
       "    <tr>\n",
       "      <th>1001</th>\n",
       "      <td>Mark</td>\n",
       "      <td>55</td>\n",
       "      <td>Italy</td>\n",
       "      <td>4.5</td>\n",
       "      <td>Europe</td>\n",
       "    </tr>\n",
       "    <tr>\n",
       "      <th>1000</th>\n",
       "      <td>John</td>\n",
       "      <td>33</td>\n",
       "      <td>USA</td>\n",
       "      <td>6.7</td>\n",
       "      <td>America</td>\n",
       "    </tr>\n",
       "    <tr>\n",
       "      <th>1002</th>\n",
       "      <td>Tim</td>\n",
       "      <td>41</td>\n",
       "      <td>USA</td>\n",
       "      <td>3.9</td>\n",
       "      <td>America</td>\n",
       "    </tr>\n",
       "    <tr>\n",
       "      <th>1003</th>\n",
       "      <td>Jenny</td>\n",
       "      <td>12</td>\n",
       "      <td>Germany</td>\n",
       "      <td>9.0</td>\n",
       "      <td>Europe</td>\n",
       "    </tr>\n",
       "  </tbody>\n",
       "</table>\n",
       "</div>"
      ],
      "text/plain": [
       "     nombre  edad     pais  puntaje continente\n",
       "1001   Mark    55    Italy      4.5     Europe\n",
       "1000   John    33      USA      6.7    America\n",
       "1002    Tim    41      USA      3.9    America\n",
       "1003  Jenny    12  Germany      9.0     Europe"
      ]
     },
     "execution_count": 26,
     "metadata": {},
     "output_type": "execute_result"
    }
   ],
   "source": [
    "#Se copia primero el DataFrame para no tocar los datos originales.\n",
    "df2 = df.copy()\n",
    "df2 "
   ]
  },
  {
   "cell_type": "code",
   "execution_count": 27,
   "metadata": {},
   "outputs": [
    {
     "data": {
      "text/html": [
       "<div>\n",
       "<style scoped>\n",
       "    .dataframe tbody tr th:only-of-type {\n",
       "        vertical-align: middle;\n",
       "    }\n",
       "\n",
       "    .dataframe tbody tr th {\n",
       "        vertical-align: top;\n",
       "    }\n",
       "\n",
       "    .dataframe thead th {\n",
       "        text-align: right;\n",
       "    }\n",
       "</style>\n",
       "<table border=\"1\" class=\"dataframe\">\n",
       "  <thead>\n",
       "    <tr style=\"text-align: right;\">\n",
       "      <th></th>\n",
       "      <th>nombre</th>\n",
       "      <th>edad</th>\n",
       "      <th>pais</th>\n",
       "      <th>puntaje</th>\n",
       "      <th>continente</th>\n",
       "    </tr>\n",
       "  </thead>\n",
       "  <tbody>\n",
       "    <tr>\n",
       "      <th>1001</th>\n",
       "      <td>Mark</td>\n",
       "      <td>55</td>\n",
       "      <td>Italy</td>\n",
       "      <td>4.5</td>\n",
       "      <td>Europe</td>\n",
       "    </tr>\n",
       "    <tr>\n",
       "      <th>1000</th>\n",
       "      <td>JHON</td>\n",
       "      <td>33</td>\n",
       "      <td>USA</td>\n",
       "      <td>6.7</td>\n",
       "      <td>America</td>\n",
       "    </tr>\n",
       "    <tr>\n",
       "      <th>1002</th>\n",
       "      <td>Tim</td>\n",
       "      <td>41</td>\n",
       "      <td>USA</td>\n",
       "      <td>3.9</td>\n",
       "      <td>America</td>\n",
       "    </tr>\n",
       "    <tr>\n",
       "      <th>1003</th>\n",
       "      <td>Jenny</td>\n",
       "      <td>12</td>\n",
       "      <td>Germany</td>\n",
       "      <td>9.0</td>\n",
       "      <td>Europe</td>\n",
       "    </tr>\n",
       "  </tbody>\n",
       "</table>\n",
       "</div>"
      ],
      "text/plain": [
       "     nombre  edad     pais  puntaje continente\n",
       "1001   Mark    55    Italy      4.5     Europe\n",
       "1000   JHON    33      USA      6.7    America\n",
       "1002    Tim    41      USA      3.9    America\n",
       "1003  Jenny    12  Germany      9.0     Europe"
      ]
     },
     "execution_count": 27,
     "metadata": {},
     "output_type": "execute_result"
    }
   ],
   "source": [
    "df2.loc[1000, \"nombre\"] = \"JHON\"\n",
    "df2"
   ]
  },
  {
   "cell_type": "code",
   "execution_count": 29,
   "metadata": {},
   "outputs": [
    {
     "data": {
      "text/html": [
       "<div>\n",
       "<style scoped>\n",
       "    .dataframe tbody tr th:only-of-type {\n",
       "        vertical-align: middle;\n",
       "    }\n",
       "\n",
       "    .dataframe tbody tr th {\n",
       "        vertical-align: top;\n",
       "    }\n",
       "\n",
       "    .dataframe thead th {\n",
       "        text-align: right;\n",
       "    }\n",
       "</style>\n",
       "<table border=\"1\" class=\"dataframe\">\n",
       "  <thead>\n",
       "    <tr style=\"text-align: right;\">\n",
       "      <th></th>\n",
       "      <th>nombre</th>\n",
       "      <th>edad</th>\n",
       "      <th>pais</th>\n",
       "      <th>puntaje</th>\n",
       "      <th>continente</th>\n",
       "    </tr>\n",
       "  </thead>\n",
       "  <tbody>\n",
       "    <tr>\n",
       "      <th>1001</th>\n",
       "      <td>Mark</td>\n",
       "      <td>55</td>\n",
       "      <td>Italy</td>\n",
       "      <td>4.0</td>\n",
       "      <td>Europe</td>\n",
       "    </tr>\n",
       "    <tr>\n",
       "      <th>1000</th>\n",
       "      <td>JHON</td>\n",
       "      <td>33</td>\n",
       "      <td>USA</td>\n",
       "      <td>3.0</td>\n",
       "      <td>America</td>\n",
       "    </tr>\n",
       "    <tr>\n",
       "      <th>1002</th>\n",
       "      <td>Tim</td>\n",
       "      <td>41</td>\n",
       "      <td>USA</td>\n",
       "      <td>3.9</td>\n",
       "      <td>America</td>\n",
       "    </tr>\n",
       "    <tr>\n",
       "      <th>1003</th>\n",
       "      <td>Jenny</td>\n",
       "      <td>12</td>\n",
       "      <td>Germany</td>\n",
       "      <td>9.0</td>\n",
       "      <td>Europe</td>\n",
       "    </tr>\n",
       "  </tbody>\n",
       "</table>\n",
       "</div>"
      ],
      "text/plain": [
       "     nombre  edad     pais  puntaje continente\n",
       "1001   Mark    55    Italy      4.0     Europe\n",
       "1000   JHON    33      USA      3.0    America\n",
       "1002    Tim    41      USA      3.9    America\n",
       "1003  Jenny    12  Germany      9.0     Europe"
      ]
     },
     "execution_count": 29,
     "metadata": {},
     "output_type": "execute_result"
    }
   ],
   "source": [
    "df2.loc[[1000, 1001], \"puntaje\"] = [3, 4] #iloc funciona en igual forma.\n",
    "df2"
   ]
  },
  {
   "cell_type": "markdown",
   "metadata": {},
   "source": [
    "#### Ajustando los datos con indexación booleana\n",
    "Supongamos que deseamos volver anónimos todos los nombres de las personas quienes son menores de 20 años o de USA."
   ]
  },
  {
   "cell_type": "code",
   "execution_count": 31,
   "metadata": {},
   "outputs": [
    {
     "data": {
      "text/html": [
       "<div>\n",
       "<style scoped>\n",
       "    .dataframe tbody tr th:only-of-type {\n",
       "        vertical-align: middle;\n",
       "    }\n",
       "\n",
       "    .dataframe tbody tr th {\n",
       "        vertical-align: top;\n",
       "    }\n",
       "\n",
       "    .dataframe thead th {\n",
       "        text-align: right;\n",
       "    }\n",
       "</style>\n",
       "<table border=\"1\" class=\"dataframe\">\n",
       "  <thead>\n",
       "    <tr style=\"text-align: right;\">\n",
       "      <th></th>\n",
       "      <th>nombre</th>\n",
       "      <th>edad</th>\n",
       "      <th>pais</th>\n",
       "      <th>puntaje</th>\n",
       "      <th>continente</th>\n",
       "    </tr>\n",
       "  </thead>\n",
       "  <tbody>\n",
       "    <tr>\n",
       "      <th>1001</th>\n",
       "      <td>Mark</td>\n",
       "      <td>55</td>\n",
       "      <td>Italy</td>\n",
       "      <td>4.0</td>\n",
       "      <td>Europe</td>\n",
       "    </tr>\n",
       "    <tr>\n",
       "      <th>1000</th>\n",
       "      <td>xxx</td>\n",
       "      <td>33</td>\n",
       "      <td>USA</td>\n",
       "      <td>3.0</td>\n",
       "      <td>America</td>\n",
       "    </tr>\n",
       "    <tr>\n",
       "      <th>1002</th>\n",
       "      <td>xxx</td>\n",
       "      <td>41</td>\n",
       "      <td>USA</td>\n",
       "      <td>3.9</td>\n",
       "      <td>America</td>\n",
       "    </tr>\n",
       "    <tr>\n",
       "      <th>1003</th>\n",
       "      <td>xxx</td>\n",
       "      <td>12</td>\n",
       "      <td>Germany</td>\n",
       "      <td>9.0</td>\n",
       "      <td>Europe</td>\n",
       "    </tr>\n",
       "  </tbody>\n",
       "</table>\n",
       "</div>"
      ],
      "text/plain": [
       "     nombre  edad     pais  puntaje continente\n",
       "1001   Mark    55    Italy      4.0     Europe\n",
       "1000    xxx    33      USA      3.0    America\n",
       "1002    xxx    41      USA      3.9    America\n",
       "1003    xxx    12  Germany      9.0     Europe"
      ]
     },
     "execution_count": 31,
     "metadata": {},
     "output_type": "execute_result"
    }
   ],
   "source": [
    "tf = (df2[\"edad\"] < 20) | (df2[\"pais\"] == \"USA\")\n",
    "df2.loc[tf, \"nombre\"] = \"xxx\"\n",
    "df2"
   ]
  },
  {
   "cell_type": "code",
   "execution_count": 32,
   "metadata": {},
   "outputs": [
    {
     "data": {
      "text/html": [
       "<div>\n",
       "<style scoped>\n",
       "    .dataframe tbody tr th:only-of-type {\n",
       "        vertical-align: middle;\n",
       "    }\n",
       "\n",
       "    .dataframe tbody tr th {\n",
       "        vertical-align: top;\n",
       "    }\n",
       "\n",
       "    .dataframe thead th {\n",
       "        text-align: right;\n",
       "    }\n",
       "</style>\n",
       "<table border=\"1\" class=\"dataframe\">\n",
       "  <thead>\n",
       "    <tr style=\"text-align: right;\">\n",
       "      <th></th>\n",
       "      <th>City 1</th>\n",
       "      <th>City 2</th>\n",
       "      <th>City 3</th>\n",
       "    </tr>\n",
       "  </thead>\n",
       "  <tbody>\n",
       "    <tr>\n",
       "      <th>0</th>\n",
       "      <td>300.1</td>\n",
       "      <td>400.3</td>\n",
       "      <td>1000.5</td>\n",
       "    </tr>\n",
       "    <tr>\n",
       "      <th>1</th>\n",
       "      <td>100.2</td>\n",
       "      <td>300.4</td>\n",
       "      <td>1100.6</td>\n",
       "    </tr>\n",
       "  </tbody>\n",
       "</table>\n",
       "</div>"
      ],
      "text/plain": [
       "   City 1  City 2  City 3\n",
       "0   300.1   400.3  1000.5\n",
       "1   100.2   300.4  1100.6"
      ]
     },
     "execution_count": 32,
     "metadata": {},
     "output_type": "execute_result"
    }
   ],
   "source": [
    "#Se copia primero el DataFrame para no tocar los datos originales.\n",
    "rainfall2 = rainfall.copy()\n",
    "rainfall2"
   ]
  },
  {
   "cell_type": "code",
   "execution_count": 33,
   "metadata": {},
   "outputs": [
    {
     "data": {
      "text/html": [
       "<div>\n",
       "<style scoped>\n",
       "    .dataframe tbody tr th:only-of-type {\n",
       "        vertical-align: middle;\n",
       "    }\n",
       "\n",
       "    .dataframe tbody tr th {\n",
       "        vertical-align: top;\n",
       "    }\n",
       "\n",
       "    .dataframe thead th {\n",
       "        text-align: right;\n",
       "    }\n",
       "</style>\n",
       "<table border=\"1\" class=\"dataframe\">\n",
       "  <thead>\n",
       "    <tr style=\"text-align: right;\">\n",
       "      <th></th>\n",
       "      <th>City 1</th>\n",
       "      <th>City 2</th>\n",
       "      <th>City 3</th>\n",
       "    </tr>\n",
       "  </thead>\n",
       "  <tbody>\n",
       "    <tr>\n",
       "      <th>0</th>\n",
       "      <td>0.0</td>\n",
       "      <td>400.3</td>\n",
       "      <td>1000.5</td>\n",
       "    </tr>\n",
       "    <tr>\n",
       "      <th>1</th>\n",
       "      <td>0.0</td>\n",
       "      <td>0.0</td>\n",
       "      <td>1100.6</td>\n",
       "    </tr>\n",
       "  </tbody>\n",
       "</table>\n",
       "</div>"
      ],
      "text/plain": [
       "   City 1  City 2  City 3\n",
       "0     0.0   400.3  1000.5\n",
       "1     0.0     0.0  1100.6"
      ]
     },
     "execution_count": 33,
     "metadata": {},
     "output_type": "execute_result"
    }
   ],
   "source": [
    "#Se ajusta el valor a cero si los valores están por debajo de 400.\n",
    "rainfall2[rainfall2 < 400] = 0\n",
    "rainfall2"
   ]
  },
  {
   "cell_type": "markdown",
   "metadata": {},
   "source": [
    "#### Ajustando los datos mediante el reemplazo de valores"
   ]
  },
  {
   "cell_type": "code",
   "execution_count": 34,
   "metadata": {},
   "outputs": [
    {
     "data": {
      "text/html": [
       "<div>\n",
       "<style scoped>\n",
       "    .dataframe tbody tr th:only-of-type {\n",
       "        vertical-align: middle;\n",
       "    }\n",
       "\n",
       "    .dataframe tbody tr th {\n",
       "        vertical-align: top;\n",
       "    }\n",
       "\n",
       "    .dataframe thead th {\n",
       "        text-align: right;\n",
       "    }\n",
       "</style>\n",
       "<table border=\"1\" class=\"dataframe\">\n",
       "  <thead>\n",
       "    <tr style=\"text-align: right;\">\n",
       "      <th></th>\n",
       "      <th>nombre</th>\n",
       "      <th>edad</th>\n",
       "      <th>pais</th>\n",
       "      <th>puntaje</th>\n",
       "      <th>continente</th>\n",
       "    </tr>\n",
       "  </thead>\n",
       "  <tbody>\n",
       "    <tr>\n",
       "      <th>1001</th>\n",
       "      <td>Mark</td>\n",
       "      <td>55</td>\n",
       "      <td>Italy</td>\n",
       "      <td>4.0</td>\n",
       "      <td>Europe</td>\n",
       "    </tr>\n",
       "    <tr>\n",
       "      <th>1000</th>\n",
       "      <td>xxx</td>\n",
       "      <td>33</td>\n",
       "      <td>U.S.</td>\n",
       "      <td>3.0</td>\n",
       "      <td>America</td>\n",
       "    </tr>\n",
       "    <tr>\n",
       "      <th>1002</th>\n",
       "      <td>xxx</td>\n",
       "      <td>41</td>\n",
       "      <td>U.S.</td>\n",
       "      <td>3.9</td>\n",
       "      <td>America</td>\n",
       "    </tr>\n",
       "    <tr>\n",
       "      <th>1003</th>\n",
       "      <td>xxx</td>\n",
       "      <td>12</td>\n",
       "      <td>Germany</td>\n",
       "      <td>9.0</td>\n",
       "      <td>Europe</td>\n",
       "    </tr>\n",
       "  </tbody>\n",
       "</table>\n",
       "</div>"
      ],
      "text/plain": [
       "     nombre  edad     pais  puntaje continente\n",
       "1001   Mark    55    Italy      4.0     Europe\n",
       "1000    xxx    33     U.S.      3.0    America\n",
       "1002    xxx    41     U.S.      3.9    America\n",
       "1003    xxx    12  Germany      9.0     Europe"
      ]
     },
     "execution_count": 34,
     "metadata": {},
     "output_type": "execute_result"
    }
   ],
   "source": [
    "df2.replace(\"USA\", \"U.S.\") #Reemplaza en todo el DataFrame."
   ]
  },
  {
   "cell_type": "code",
   "execution_count": 35,
   "metadata": {},
   "outputs": [
    {
     "data": {
      "text/html": [
       "<div>\n",
       "<style scoped>\n",
       "    .dataframe tbody tr th:only-of-type {\n",
       "        vertical-align: middle;\n",
       "    }\n",
       "\n",
       "    .dataframe tbody tr th {\n",
       "        vertical-align: top;\n",
       "    }\n",
       "\n",
       "    .dataframe thead th {\n",
       "        text-align: right;\n",
       "    }\n",
       "</style>\n",
       "<table border=\"1\" class=\"dataframe\">\n",
       "  <thead>\n",
       "    <tr style=\"text-align: right;\">\n",
       "      <th></th>\n",
       "      <th>nombre</th>\n",
       "      <th>edad</th>\n",
       "      <th>pais</th>\n",
       "      <th>puntaje</th>\n",
       "      <th>continente</th>\n",
       "    </tr>\n",
       "  </thead>\n",
       "  <tbody>\n",
       "    <tr>\n",
       "      <th>1001</th>\n",
       "      <td>Mark</td>\n",
       "      <td>55</td>\n",
       "      <td>Italy</td>\n",
       "      <td>4.0</td>\n",
       "      <td>Europe</td>\n",
       "    </tr>\n",
       "    <tr>\n",
       "      <th>1000</th>\n",
       "      <td>xxx</td>\n",
       "      <td>33</td>\n",
       "      <td>U.S.</td>\n",
       "      <td>3.0</td>\n",
       "      <td>America</td>\n",
       "    </tr>\n",
       "    <tr>\n",
       "      <th>1002</th>\n",
       "      <td>xxx</td>\n",
       "      <td>41</td>\n",
       "      <td>U.S.</td>\n",
       "      <td>3.9</td>\n",
       "      <td>America</td>\n",
       "    </tr>\n",
       "    <tr>\n",
       "      <th>1003</th>\n",
       "      <td>xxx</td>\n",
       "      <td>12</td>\n",
       "      <td>Germany</td>\n",
       "      <td>9.0</td>\n",
       "      <td>Europe</td>\n",
       "    </tr>\n",
       "  </tbody>\n",
       "</table>\n",
       "</div>"
      ],
      "text/plain": [
       "     nombre  edad     pais  puntaje continente\n",
       "1001   Mark    55    Italy      4.0     Europe\n",
       "1000    xxx    33     U.S.      3.0    America\n",
       "1002    xxx    41     U.S.      3.9    America\n",
       "1003    xxx    12  Germany      9.0     Europe"
      ]
     },
     "execution_count": 35,
     "metadata": {},
     "output_type": "execute_result"
    }
   ],
   "source": [
    "df2.replace({\"pais\": {\"USA\": \"U.S.\"}}) #Reemplza en solo la columna de pais."
   ]
  },
  {
   "cell_type": "markdown",
   "metadata": {},
   "source": [
    "#### Ajustando los datos adiconando una columna\n",
    "Se pueden asignar los datos de la nueva columna con escalares o con listas."
   ]
  },
  {
   "cell_type": "code",
   "execution_count": 37,
   "metadata": {},
   "outputs": [],
   "source": [
    "df2.loc[:, \"descuento\"] = 0"
   ]
  },
  {
   "cell_type": "code",
   "execution_count": 38,
   "metadata": {},
   "outputs": [
    {
     "data": {
      "text/html": [
       "<div>\n",
       "<style scoped>\n",
       "    .dataframe tbody tr th:only-of-type {\n",
       "        vertical-align: middle;\n",
       "    }\n",
       "\n",
       "    .dataframe tbody tr th {\n",
       "        vertical-align: top;\n",
       "    }\n",
       "\n",
       "    .dataframe thead th {\n",
       "        text-align: right;\n",
       "    }\n",
       "</style>\n",
       "<table border=\"1\" class=\"dataframe\">\n",
       "  <thead>\n",
       "    <tr style=\"text-align: right;\">\n",
       "      <th></th>\n",
       "      <th>nombre</th>\n",
       "      <th>edad</th>\n",
       "      <th>pais</th>\n",
       "      <th>puntaje</th>\n",
       "      <th>continente</th>\n",
       "      <th>descuento</th>\n",
       "    </tr>\n",
       "  </thead>\n",
       "  <tbody>\n",
       "    <tr>\n",
       "      <th>1001</th>\n",
       "      <td>Mark</td>\n",
       "      <td>55</td>\n",
       "      <td>Italy</td>\n",
       "      <td>4.0</td>\n",
       "      <td>Europe</td>\n",
       "      <td>0</td>\n",
       "    </tr>\n",
       "    <tr>\n",
       "      <th>1000</th>\n",
       "      <td>xxx</td>\n",
       "      <td>33</td>\n",
       "      <td>USA</td>\n",
       "      <td>3.0</td>\n",
       "      <td>America</td>\n",
       "      <td>0</td>\n",
       "    </tr>\n",
       "    <tr>\n",
       "      <th>1002</th>\n",
       "      <td>xxx</td>\n",
       "      <td>41</td>\n",
       "      <td>USA</td>\n",
       "      <td>3.9</td>\n",
       "      <td>America</td>\n",
       "      <td>0</td>\n",
       "    </tr>\n",
       "    <tr>\n",
       "      <th>1003</th>\n",
       "      <td>xxx</td>\n",
       "      <td>12</td>\n",
       "      <td>Germany</td>\n",
       "      <td>9.0</td>\n",
       "      <td>Europe</td>\n",
       "      <td>0</td>\n",
       "    </tr>\n",
       "  </tbody>\n",
       "</table>\n",
       "</div>"
      ],
      "text/plain": [
       "     nombre  edad     pais  puntaje continente  descuento\n",
       "1001   Mark    55    Italy      4.0     Europe          0\n",
       "1000    xxx    33      USA      3.0    America          0\n",
       "1002    xxx    41      USA      3.9    America          0\n",
       "1003    xxx    12  Germany      9.0     Europe          0"
      ]
     },
     "execution_count": 38,
     "metadata": {},
     "output_type": "execute_result"
    }
   ],
   "source": [
    "df2"
   ]
  },
  {
   "cell_type": "code",
   "execution_count": 39,
   "metadata": {},
   "outputs": [],
   "source": [
    "df2.loc[:, \"precio\"] = [49.9, 48.5, 50.1, 39.3]"
   ]
  },
  {
   "cell_type": "code",
   "execution_count": 40,
   "metadata": {},
   "outputs": [
    {
     "data": {
      "text/html": [
       "<div>\n",
       "<style scoped>\n",
       "    .dataframe tbody tr th:only-of-type {\n",
       "        vertical-align: middle;\n",
       "    }\n",
       "\n",
       "    .dataframe tbody tr th {\n",
       "        vertical-align: top;\n",
       "    }\n",
       "\n",
       "    .dataframe thead th {\n",
       "        text-align: right;\n",
       "    }\n",
       "</style>\n",
       "<table border=\"1\" class=\"dataframe\">\n",
       "  <thead>\n",
       "    <tr style=\"text-align: right;\">\n",
       "      <th></th>\n",
       "      <th>nombre</th>\n",
       "      <th>edad</th>\n",
       "      <th>pais</th>\n",
       "      <th>puntaje</th>\n",
       "      <th>continente</th>\n",
       "      <th>descuento</th>\n",
       "      <th>precio</th>\n",
       "    </tr>\n",
       "  </thead>\n",
       "  <tbody>\n",
       "    <tr>\n",
       "      <th>1001</th>\n",
       "      <td>Mark</td>\n",
       "      <td>55</td>\n",
       "      <td>Italy</td>\n",
       "      <td>4.0</td>\n",
       "      <td>Europe</td>\n",
       "      <td>0</td>\n",
       "      <td>49.9</td>\n",
       "    </tr>\n",
       "    <tr>\n",
       "      <th>1000</th>\n",
       "      <td>xxx</td>\n",
       "      <td>33</td>\n",
       "      <td>USA</td>\n",
       "      <td>3.0</td>\n",
       "      <td>America</td>\n",
       "      <td>0</td>\n",
       "      <td>48.5</td>\n",
       "    </tr>\n",
       "    <tr>\n",
       "      <th>1002</th>\n",
       "      <td>xxx</td>\n",
       "      <td>41</td>\n",
       "      <td>USA</td>\n",
       "      <td>3.9</td>\n",
       "      <td>America</td>\n",
       "      <td>0</td>\n",
       "      <td>50.1</td>\n",
       "    </tr>\n",
       "    <tr>\n",
       "      <th>1003</th>\n",
       "      <td>xxx</td>\n",
       "      <td>12</td>\n",
       "      <td>Germany</td>\n",
       "      <td>9.0</td>\n",
       "      <td>Europe</td>\n",
       "      <td>0</td>\n",
       "      <td>39.3</td>\n",
       "    </tr>\n",
       "  </tbody>\n",
       "</table>\n",
       "</div>"
      ],
      "text/plain": [
       "     nombre  edad     pais  puntaje continente  descuento  precio\n",
       "1001   Mark    55    Italy      4.0     Europe          0    49.9\n",
       "1000    xxx    33      USA      3.0    America          0    48.5\n",
       "1002    xxx    41      USA      3.9    America          0    50.1\n",
       "1003    xxx    12  Germany      9.0     Europe          0    39.3"
      ]
     },
     "execution_count": 40,
     "metadata": {},
     "output_type": "execute_result"
    }
   ],
   "source": [
    "df2"
   ]
  },
  {
   "cell_type": "code",
   "execution_count": 41,
   "metadata": {},
   "outputs": [
    {
     "data": {
      "text/html": [
       "<div>\n",
       "<style scoped>\n",
       "    .dataframe tbody tr th:only-of-type {\n",
       "        vertical-align: middle;\n",
       "    }\n",
       "\n",
       "    .dataframe tbody tr th {\n",
       "        vertical-align: top;\n",
       "    }\n",
       "\n",
       "    .dataframe thead th {\n",
       "        text-align: right;\n",
       "    }\n",
       "</style>\n",
       "<table border=\"1\" class=\"dataframe\">\n",
       "  <thead>\n",
       "    <tr style=\"text-align: right;\">\n",
       "      <th></th>\n",
       "      <th>nombre</th>\n",
       "      <th>edad</th>\n",
       "      <th>pais</th>\n",
       "      <th>puntaje</th>\n",
       "      <th>continente</th>\n",
       "      <th>fecha_nacimiento</th>\n",
       "    </tr>\n",
       "  </thead>\n",
       "  <tbody>\n",
       "    <tr>\n",
       "      <th>1001</th>\n",
       "      <td>Mark</td>\n",
       "      <td>55</td>\n",
       "      <td>Italy</td>\n",
       "      <td>4.5</td>\n",
       "      <td>Europe</td>\n",
       "      <td>1967</td>\n",
       "    </tr>\n",
       "    <tr>\n",
       "      <th>1000</th>\n",
       "      <td>John</td>\n",
       "      <td>33</td>\n",
       "      <td>USA</td>\n",
       "      <td>6.7</td>\n",
       "      <td>America</td>\n",
       "      <td>1989</td>\n",
       "    </tr>\n",
       "    <tr>\n",
       "      <th>1002</th>\n",
       "      <td>Tim</td>\n",
       "      <td>41</td>\n",
       "      <td>USA</td>\n",
       "      <td>3.9</td>\n",
       "      <td>America</td>\n",
       "      <td>1981</td>\n",
       "    </tr>\n",
       "    <tr>\n",
       "      <th>1003</th>\n",
       "      <td>Jenny</td>\n",
       "      <td>12</td>\n",
       "      <td>Germany</td>\n",
       "      <td>9.0</td>\n",
       "      <td>Europe</td>\n",
       "      <td>2010</td>\n",
       "    </tr>\n",
       "  </tbody>\n",
       "</table>\n",
       "</div>"
      ],
      "text/plain": [
       "     nombre  edad     pais  puntaje continente  fecha_nacimiento\n",
       "1001   Mark    55    Italy      4.5     Europe              1967\n",
       "1000   John    33      USA      6.7    America              1989\n",
       "1002    Tim    41      USA      3.9    America              1981\n",
       "1003  Jenny    12  Germany      9.0     Europe              2010"
      ]
     },
     "execution_count": 41,
     "metadata": {},
     "output_type": "execute_result"
    }
   ],
   "source": [
    "df2 = df.copy() #Empezamos con una copia fresca.\n",
    "df2.loc[:, \"fecha_nacimiento\"] = 2022 - df2[\"edad\"]\n",
    "df2"
   ]
  },
  {
   "cell_type": "markdown",
   "metadata": {},
   "source": [
    "### Datos perdidos\n",
    "Los datos perdidos pueden ser un problema, ya que tienen el potencial de sesgar los resultados de análisis de datos, por esto haciendo sus conclusiones menos robustas. Pandas utiliza el NumPy **np.nan** para los datos perdidos, desplegado como NaN. **NaN** es el estándar de punto flotante para \"No es un Número\". Para las estampillas de tiempo se usa en vez **pd.NaT** y para textos perdidos pandas usa **None**."
   ]
  },
  {
   "cell_type": "code",
   "execution_count": 42,
   "metadata": {},
   "outputs": [
    {
     "data": {
      "text/html": [
       "<div>\n",
       "<style scoped>\n",
       "    .dataframe tbody tr th:only-of-type {\n",
       "        vertical-align: middle;\n",
       "    }\n",
       "\n",
       "    .dataframe tbody tr th {\n",
       "        vertical-align: top;\n",
       "    }\n",
       "\n",
       "    .dataframe thead th {\n",
       "        text-align: right;\n",
       "    }\n",
       "</style>\n",
       "<table border=\"1\" class=\"dataframe\">\n",
       "  <thead>\n",
       "    <tr style=\"text-align: right;\">\n",
       "      <th></th>\n",
       "      <th>nombre</th>\n",
       "      <th>edad</th>\n",
       "      <th>pais</th>\n",
       "      <th>puntaje</th>\n",
       "      <th>continente</th>\n",
       "    </tr>\n",
       "  </thead>\n",
       "  <tbody>\n",
       "    <tr>\n",
       "      <th>1001</th>\n",
       "      <td>Mark</td>\n",
       "      <td>55.0</td>\n",
       "      <td>Italy</td>\n",
       "      <td>4.5</td>\n",
       "      <td>Europe</td>\n",
       "    </tr>\n",
       "    <tr>\n",
       "      <th>1000</th>\n",
       "      <td>John</td>\n",
       "      <td>33.0</td>\n",
       "      <td>USA</td>\n",
       "      <td>NaN</td>\n",
       "      <td>America</td>\n",
       "    </tr>\n",
       "    <tr>\n",
       "      <th>1002</th>\n",
       "      <td>Tim</td>\n",
       "      <td>41.0</td>\n",
       "      <td>USA</td>\n",
       "      <td>3.9</td>\n",
       "      <td>America</td>\n",
       "    </tr>\n",
       "    <tr>\n",
       "      <th>1003</th>\n",
       "      <td>None</td>\n",
       "      <td>NaN</td>\n",
       "      <td>None</td>\n",
       "      <td>NaN</td>\n",
       "      <td>None</td>\n",
       "    </tr>\n",
       "  </tbody>\n",
       "</table>\n",
       "</div>"
      ],
      "text/plain": [
       "     nombre  edad   pais  puntaje continente\n",
       "1001   Mark  55.0  Italy      4.5     Europe\n",
       "1000   John  33.0    USA      NaN    America\n",
       "1002    Tim  41.0    USA      3.9    America\n",
       "1003   None   NaN   None      NaN       None"
      ]
     },
     "execution_count": 42,
     "metadata": {},
     "output_type": "execute_result"
    }
   ],
   "source": [
    "df2 = df.copy()\n",
    "df2.loc[1000, \"puntaje\"] = None\n",
    "df2.loc[1003, :] = None\n",
    "df2"
   ]
  },
  {
   "cell_type": "code",
   "execution_count": 43,
   "metadata": {},
   "outputs": [
    {
     "data": {
      "text/html": [
       "<div>\n",
       "<style scoped>\n",
       "    .dataframe tbody tr th:only-of-type {\n",
       "        vertical-align: middle;\n",
       "    }\n",
       "\n",
       "    .dataframe tbody tr th {\n",
       "        vertical-align: top;\n",
       "    }\n",
       "\n",
       "    .dataframe thead th {\n",
       "        text-align: right;\n",
       "    }\n",
       "</style>\n",
       "<table border=\"1\" class=\"dataframe\">\n",
       "  <thead>\n",
       "    <tr style=\"text-align: right;\">\n",
       "      <th></th>\n",
       "      <th>nombre</th>\n",
       "      <th>edad</th>\n",
       "      <th>pais</th>\n",
       "      <th>puntaje</th>\n",
       "      <th>continente</th>\n",
       "    </tr>\n",
       "  </thead>\n",
       "  <tbody>\n",
       "    <tr>\n",
       "      <th>1001</th>\n",
       "      <td>Mark</td>\n",
       "      <td>55.0</td>\n",
       "      <td>Italy</td>\n",
       "      <td>4.5</td>\n",
       "      <td>Europe</td>\n",
       "    </tr>\n",
       "    <tr>\n",
       "      <th>1002</th>\n",
       "      <td>Tim</td>\n",
       "      <td>41.0</td>\n",
       "      <td>USA</td>\n",
       "      <td>3.9</td>\n",
       "      <td>America</td>\n",
       "    </tr>\n",
       "  </tbody>\n",
       "</table>\n",
       "</div>"
      ],
      "text/plain": [
       "     nombre  edad   pais  puntaje continente\n",
       "1001   Mark  55.0  Italy      4.5     Europe\n",
       "1002    Tim  41.0    USA      3.9    America"
      ]
     },
     "execution_count": 43,
     "metadata": {},
     "output_type": "execute_result"
    }
   ],
   "source": [
    "#Para remover filas con datos perdidos.\n",
    "df2.dropna()"
   ]
  },
  {
   "cell_type": "code",
   "execution_count": 44,
   "metadata": {},
   "outputs": [
    {
     "data": {
      "text/html": [
       "<div>\n",
       "<style scoped>\n",
       "    .dataframe tbody tr th:only-of-type {\n",
       "        vertical-align: middle;\n",
       "    }\n",
       "\n",
       "    .dataframe tbody tr th {\n",
       "        vertical-align: top;\n",
       "    }\n",
       "\n",
       "    .dataframe thead th {\n",
       "        text-align: right;\n",
       "    }\n",
       "</style>\n",
       "<table border=\"1\" class=\"dataframe\">\n",
       "  <thead>\n",
       "    <tr style=\"text-align: right;\">\n",
       "      <th></th>\n",
       "      <th>nombre</th>\n",
       "      <th>edad</th>\n",
       "      <th>pais</th>\n",
       "      <th>puntaje</th>\n",
       "      <th>continente</th>\n",
       "    </tr>\n",
       "  </thead>\n",
       "  <tbody>\n",
       "    <tr>\n",
       "      <th>1001</th>\n",
       "      <td>Mark</td>\n",
       "      <td>55.0</td>\n",
       "      <td>Italy</td>\n",
       "      <td>4.5</td>\n",
       "      <td>Europe</td>\n",
       "    </tr>\n",
       "    <tr>\n",
       "      <th>1000</th>\n",
       "      <td>John</td>\n",
       "      <td>33.0</td>\n",
       "      <td>USA</td>\n",
       "      <td>NaN</td>\n",
       "      <td>America</td>\n",
       "    </tr>\n",
       "    <tr>\n",
       "      <th>1002</th>\n",
       "      <td>Tim</td>\n",
       "      <td>41.0</td>\n",
       "      <td>USA</td>\n",
       "      <td>3.9</td>\n",
       "      <td>America</td>\n",
       "    </tr>\n",
       "  </tbody>\n",
       "</table>\n",
       "</div>"
      ],
      "text/plain": [
       "     nombre  edad   pais  puntaje continente\n",
       "1001   Mark  55.0  Italy      4.5     Europe\n",
       "1000   John  33.0    USA      NaN    America\n",
       "1002    Tim  41.0    USA      3.9    America"
      ]
     },
     "execution_count": 44,
     "metadata": {},
     "output_type": "execute_result"
    }
   ],
   "source": [
    "df2.dropna(how=\"all\")"
   ]
  },
  {
   "cell_type": "code",
   "execution_count": 45,
   "metadata": {},
   "outputs": [
    {
     "data": {
      "text/html": [
       "<div>\n",
       "<style scoped>\n",
       "    .dataframe tbody tr th:only-of-type {\n",
       "        vertical-align: middle;\n",
       "    }\n",
       "\n",
       "    .dataframe tbody tr th {\n",
       "        vertical-align: top;\n",
       "    }\n",
       "\n",
       "    .dataframe thead th {\n",
       "        text-align: right;\n",
       "    }\n",
       "</style>\n",
       "<table border=\"1\" class=\"dataframe\">\n",
       "  <thead>\n",
       "    <tr style=\"text-align: right;\">\n",
       "      <th></th>\n",
       "      <th>nombre</th>\n",
       "      <th>edad</th>\n",
       "      <th>pais</th>\n",
       "      <th>puntaje</th>\n",
       "      <th>continente</th>\n",
       "    </tr>\n",
       "  </thead>\n",
       "  <tbody>\n",
       "    <tr>\n",
       "      <th>1001</th>\n",
       "      <td>False</td>\n",
       "      <td>False</td>\n",
       "      <td>False</td>\n",
       "      <td>False</td>\n",
       "      <td>False</td>\n",
       "    </tr>\n",
       "    <tr>\n",
       "      <th>1000</th>\n",
       "      <td>False</td>\n",
       "      <td>False</td>\n",
       "      <td>False</td>\n",
       "      <td>True</td>\n",
       "      <td>False</td>\n",
       "    </tr>\n",
       "    <tr>\n",
       "      <th>1002</th>\n",
       "      <td>False</td>\n",
       "      <td>False</td>\n",
       "      <td>False</td>\n",
       "      <td>False</td>\n",
       "      <td>False</td>\n",
       "    </tr>\n",
       "    <tr>\n",
       "      <th>1003</th>\n",
       "      <td>True</td>\n",
       "      <td>True</td>\n",
       "      <td>True</td>\n",
       "      <td>True</td>\n",
       "      <td>True</td>\n",
       "    </tr>\n",
       "  </tbody>\n",
       "</table>\n",
       "</div>"
      ],
      "text/plain": [
       "      nombre   edad   pais  puntaje  continente\n",
       "1001   False  False  False    False       False\n",
       "1000   False  False  False     True       False\n",
       "1002   False  False  False    False       False\n",
       "1003    True   True   True     True        True"
      ]
     },
     "execution_count": 45,
     "metadata": {},
     "output_type": "execute_result"
    }
   ],
   "source": [
    "#Para obtener un DataFrame booleano, dependiendo si hay NaN.\n",
    "df2.isna() "
   ]
  },
  {
   "cell_type": "code",
   "execution_count": 46,
   "metadata": {},
   "outputs": [
    {
     "data": {
      "text/html": [
       "<div>\n",
       "<style scoped>\n",
       "    .dataframe tbody tr th:only-of-type {\n",
       "        vertical-align: middle;\n",
       "    }\n",
       "\n",
       "    .dataframe tbody tr th {\n",
       "        vertical-align: top;\n",
       "    }\n",
       "\n",
       "    .dataframe thead th {\n",
       "        text-align: right;\n",
       "    }\n",
       "</style>\n",
       "<table border=\"1\" class=\"dataframe\">\n",
       "  <thead>\n",
       "    <tr style=\"text-align: right;\">\n",
       "      <th></th>\n",
       "      <th>nombre</th>\n",
       "      <th>edad</th>\n",
       "      <th>pais</th>\n",
       "      <th>puntaje</th>\n",
       "      <th>continente</th>\n",
       "    </tr>\n",
       "  </thead>\n",
       "  <tbody>\n",
       "    <tr>\n",
       "      <th>1001</th>\n",
       "      <td>Mark</td>\n",
       "      <td>55.0</td>\n",
       "      <td>Italy</td>\n",
       "      <td>4.5</td>\n",
       "      <td>Europe</td>\n",
       "    </tr>\n",
       "    <tr>\n",
       "      <th>1000</th>\n",
       "      <td>John</td>\n",
       "      <td>33.0</td>\n",
       "      <td>USA</td>\n",
       "      <td>4.2</td>\n",
       "      <td>America</td>\n",
       "    </tr>\n",
       "    <tr>\n",
       "      <th>1002</th>\n",
       "      <td>Tim</td>\n",
       "      <td>41.0</td>\n",
       "      <td>USA</td>\n",
       "      <td>3.9</td>\n",
       "      <td>America</td>\n",
       "    </tr>\n",
       "    <tr>\n",
       "      <th>1003</th>\n",
       "      <td>None</td>\n",
       "      <td>NaN</td>\n",
       "      <td>None</td>\n",
       "      <td>4.2</td>\n",
       "      <td>None</td>\n",
       "    </tr>\n",
       "  </tbody>\n",
       "</table>\n",
       "</div>"
      ],
      "text/plain": [
       "     nombre  edad   pais  puntaje continente\n",
       "1001   Mark  55.0  Italy      4.5     Europe\n",
       "1000   John  33.0    USA      4.2    America\n",
       "1002    Tim  41.0    USA      3.9    America\n",
       "1003   None   NaN   None      4.2       None"
      ]
     },
     "execution_count": 46,
     "metadata": {},
     "output_type": "execute_result"
    }
   ],
   "source": [
    "#Para llenar valores perdidos se usa \"fillna()\".\n",
    "df2.fillna({\"puntaje\": df2[\"puntaje\"].mean()})"
   ]
  },
  {
   "cell_type": "markdown",
   "metadata": {},
   "source": [
    "### Datos duplicados\n"
   ]
  },
  {
   "cell_type": "code",
   "execution_count": 47,
   "metadata": {},
   "outputs": [
    {
     "data": {
      "text/html": [
       "<div>\n",
       "<style scoped>\n",
       "    .dataframe tbody tr th:only-of-type {\n",
       "        vertical-align: middle;\n",
       "    }\n",
       "\n",
       "    .dataframe tbody tr th {\n",
       "        vertical-align: top;\n",
       "    }\n",
       "\n",
       "    .dataframe thead th {\n",
       "        text-align: right;\n",
       "    }\n",
       "</style>\n",
       "<table border=\"1\" class=\"dataframe\">\n",
       "  <thead>\n",
       "    <tr style=\"text-align: right;\">\n",
       "      <th></th>\n",
       "      <th>nombre</th>\n",
       "      <th>edad</th>\n",
       "      <th>pais</th>\n",
       "      <th>puntaje</th>\n",
       "      <th>continente</th>\n",
       "    </tr>\n",
       "  </thead>\n",
       "  <tbody>\n",
       "    <tr>\n",
       "      <th>1001</th>\n",
       "      <td>Mark</td>\n",
       "      <td>55</td>\n",
       "      <td>Italy</td>\n",
       "      <td>4.5</td>\n",
       "      <td>Europe</td>\n",
       "    </tr>\n",
       "    <tr>\n",
       "      <th>1000</th>\n",
       "      <td>John</td>\n",
       "      <td>33</td>\n",
       "      <td>USA</td>\n",
       "      <td>6.7</td>\n",
       "      <td>America</td>\n",
       "    </tr>\n",
       "    <tr>\n",
       "      <th>1003</th>\n",
       "      <td>Jenny</td>\n",
       "      <td>12</td>\n",
       "      <td>Germany</td>\n",
       "      <td>9.0</td>\n",
       "      <td>Europe</td>\n",
       "    </tr>\n",
       "  </tbody>\n",
       "</table>\n",
       "</div>"
      ],
      "text/plain": [
       "     nombre  edad     pais  puntaje continente\n",
       "1001   Mark    55    Italy      4.5     Europe\n",
       "1000   John    33      USA      6.7    America\n",
       "1003  Jenny    12  Germany      9.0     Europe"
      ]
     },
     "execution_count": 47,
     "metadata": {},
     "output_type": "execute_result"
    }
   ],
   "source": [
    "df.drop_duplicates([\"pais\", \"continente\"])"
   ]
  },
  {
   "cell_type": "code",
   "execution_count": 6,
   "metadata": {},
   "outputs": [
    {
     "data": {
      "text/plain": [
       "False"
      ]
     },
     "execution_count": 6,
     "metadata": {},
     "output_type": "execute_result"
    }
   ],
   "source": [
    "#Para encontrar si una columna tiene duplicados:\n",
    "df[\"pais\"].is_unique #Indica si todos los valores de una columna son únicos."
   ]
  },
  {
   "cell_type": "code",
   "execution_count": 8,
   "metadata": {},
   "outputs": [
    {
     "data": {
      "text/plain": [
       "array(['Italy', 'USA', 'Germany'], dtype=object)"
      ]
     },
     "execution_count": 8,
     "metadata": {},
     "output_type": "execute_result"
    }
   ],
   "source": [
    "df[\"pais\"].unique() #Lista los valores únicos de una columna."
   ]
  },
  {
   "cell_type": "code",
   "execution_count": 11,
   "metadata": {},
   "outputs": [
    {
     "data": {
      "text/plain": [
       "1001    False\n",
       "1000     True\n",
       "1002     True\n",
       "1003    False\n",
       "Name: pais, dtype: bool"
      ]
     },
     "execution_count": 11,
     "metadata": {},
     "output_type": "execute_result"
    }
   ],
   "source": [
    "df[\"pais\"].duplicated(keep=False)"
   ]
  },
  {
   "cell_type": "code",
   "execution_count": 13,
   "metadata": {},
   "outputs": [
    {
     "data": {
      "text/html": [
       "<div>\n",
       "<style scoped>\n",
       "    .dataframe tbody tr th:only-of-type {\n",
       "        vertical-align: middle;\n",
       "    }\n",
       "\n",
       "    .dataframe tbody tr th {\n",
       "        vertical-align: top;\n",
       "    }\n",
       "\n",
       "    .dataframe thead th {\n",
       "        text-align: right;\n",
       "    }\n",
       "</style>\n",
       "<table border=\"1\" class=\"dataframe\">\n",
       "  <thead>\n",
       "    <tr style=\"text-align: right;\">\n",
       "      <th>propiedades</th>\n",
       "      <th>nombre</th>\n",
       "      <th>edad</th>\n",
       "      <th>pais</th>\n",
       "      <th>puntaje</th>\n",
       "      <th>continente</th>\n",
       "    </tr>\n",
       "  </thead>\n",
       "  <tbody>\n",
       "    <tr>\n",
       "      <th>1000</th>\n",
       "      <td>John</td>\n",
       "      <td>33</td>\n",
       "      <td>USA</td>\n",
       "      <td>6.7</td>\n",
       "      <td>America</td>\n",
       "    </tr>\n",
       "    <tr>\n",
       "      <th>1002</th>\n",
       "      <td>Tim</td>\n",
       "      <td>41</td>\n",
       "      <td>USA</td>\n",
       "      <td>3.9</td>\n",
       "      <td>America</td>\n",
       "    </tr>\n",
       "  </tbody>\n",
       "</table>\n",
       "</div>"
      ],
      "text/plain": [
       "propiedades nombre  edad pais  puntaje continente\n",
       "1000          John    33  USA      6.7    America\n",
       "1002           Tim    41  USA      3.9    America"
      ]
     },
     "execution_count": 13,
     "metadata": {},
     "output_type": "execute_result"
    }
   ],
   "source": [
    "#Para obtener todas las filas donde \"pais\" está duplicado, se usa keep= False.\n",
    "df.loc[df[\"pais\"].duplicated(keep=False), :]"
   ]
  },
  {
   "cell_type": "markdown",
   "metadata": {},
   "source": [
    "### Operaciones aritméticas\n",
    "Como los arreglos de NumPy, los DataFrames y las Series hacen uso  de la vectorización.\n",
    "Para añadir un número a cada valor del DataFrame \"rainfall\" se hace lo siguiente:"
   ]
  },
  {
   "cell_type": "code",
   "execution_count": 16,
   "metadata": {},
   "outputs": [
    {
     "data": {
      "text/html": [
       "<div>\n",
       "<style scoped>\n",
       "    .dataframe tbody tr th:only-of-type {\n",
       "        vertical-align: middle;\n",
       "    }\n",
       "\n",
       "    .dataframe tbody tr th {\n",
       "        vertical-align: top;\n",
       "    }\n",
       "\n",
       "    .dataframe thead th {\n",
       "        text-align: right;\n",
       "    }\n",
       "</style>\n",
       "<table border=\"1\" class=\"dataframe\">\n",
       "  <thead>\n",
       "    <tr style=\"text-align: right;\">\n",
       "      <th></th>\n",
       "      <th>City 1</th>\n",
       "      <th>City 2</th>\n",
       "      <th>City 3</th>\n",
       "    </tr>\n",
       "  </thead>\n",
       "  <tbody>\n",
       "    <tr>\n",
       "      <th>0</th>\n",
       "      <td>400.1</td>\n",
       "      <td>500.3</td>\n",
       "      <td>1100.5</td>\n",
       "    </tr>\n",
       "    <tr>\n",
       "      <th>1</th>\n",
       "      <td>200.2</td>\n",
       "      <td>400.4</td>\n",
       "      <td>1200.6</td>\n",
       "    </tr>\n",
       "  </tbody>\n",
       "</table>\n",
       "</div>"
      ],
      "text/plain": [
       "   City 1  City 2  City 3\n",
       "0   400.1   500.3  1100.5\n",
       "1   200.2   400.4  1200.6"
      ]
     },
     "execution_count": 16,
     "metadata": {},
     "output_type": "execute_result"
    }
   ],
   "source": [
    "rainfall + 100"
   ]
  },
  {
   "cell_type": "code",
   "execution_count": 17,
   "metadata": {},
   "outputs": [
    {
     "data": {
      "text/html": [
       "<div>\n",
       "<style scoped>\n",
       "    .dataframe tbody tr th:only-of-type {\n",
       "        vertical-align: middle;\n",
       "    }\n",
       "\n",
       "    .dataframe tbody tr th {\n",
       "        vertical-align: top;\n",
       "    }\n",
       "\n",
       "    .dataframe thead th {\n",
       "        text-align: right;\n",
       "    }\n",
       "</style>\n",
       "<table border=\"1\" class=\"dataframe\">\n",
       "  <thead>\n",
       "    <tr style=\"text-align: right;\">\n",
       "      <th></th>\n",
       "      <th>City 1</th>\n",
       "      <th>City 4</th>\n",
       "    </tr>\n",
       "  </thead>\n",
       "  <tbody>\n",
       "    <tr>\n",
       "      <th>1</th>\n",
       "      <td>100</td>\n",
       "      <td>200</td>\n",
       "    </tr>\n",
       "    <tr>\n",
       "      <th>2</th>\n",
       "      <td>300</td>\n",
       "      <td>400</td>\n",
       "    </tr>\n",
       "  </tbody>\n",
       "</table>\n",
       "</div>"
      ],
      "text/plain": [
       "   City 1  City 4\n",
       "1     100     200\n",
       "2     300     400"
      ]
     },
     "execution_count": 17,
     "metadata": {},
     "output_type": "execute_result"
    }
   ],
   "source": [
    "#El poder de pandas está en el mecanismo de \"alineamiento de datos\".\n",
    "#Construiremos un nuevo DataFrame de rainfall.\n",
    "mas_rainfall = pd.DataFrame(data=[[100, 200], [300, 400]], \n",
    "                            index=[1, 2], \n",
    "                            columns=[\"City 1\", \"City 4\"])\n",
    "mas_rainfall"
   ]
  },
  {
   "cell_type": "code",
   "execution_count": 18,
   "metadata": {},
   "outputs": [
    {
     "data": {
      "text/html": [
       "<div>\n",
       "<style scoped>\n",
       "    .dataframe tbody tr th:only-of-type {\n",
       "        vertical-align: middle;\n",
       "    }\n",
       "\n",
       "    .dataframe tbody tr th {\n",
       "        vertical-align: top;\n",
       "    }\n",
       "\n",
       "    .dataframe thead th {\n",
       "        text-align: right;\n",
       "    }\n",
       "</style>\n",
       "<table border=\"1\" class=\"dataframe\">\n",
       "  <thead>\n",
       "    <tr style=\"text-align: right;\">\n",
       "      <th></th>\n",
       "      <th>City 1</th>\n",
       "      <th>City 2</th>\n",
       "      <th>City 3</th>\n",
       "      <th>City 4</th>\n",
       "    </tr>\n",
       "  </thead>\n",
       "  <tbody>\n",
       "    <tr>\n",
       "      <th>0</th>\n",
       "      <td>NaN</td>\n",
       "      <td>NaN</td>\n",
       "      <td>NaN</td>\n",
       "      <td>NaN</td>\n",
       "    </tr>\n",
       "    <tr>\n",
       "      <th>1</th>\n",
       "      <td>200.2</td>\n",
       "      <td>NaN</td>\n",
       "      <td>NaN</td>\n",
       "      <td>NaN</td>\n",
       "    </tr>\n",
       "    <tr>\n",
       "      <th>2</th>\n",
       "      <td>NaN</td>\n",
       "      <td>NaN</td>\n",
       "      <td>NaN</td>\n",
       "      <td>NaN</td>\n",
       "    </tr>\n",
       "  </tbody>\n",
       "</table>\n",
       "</div>"
      ],
      "text/plain": [
       "   City 1  City 2  City 3  City 4\n",
       "0     NaN     NaN     NaN     NaN\n",
       "1   200.2     NaN     NaN     NaN\n",
       "2     NaN     NaN     NaN     NaN"
      ]
     },
     "execution_count": 18,
     "metadata": {},
     "output_type": "execute_result"
    }
   ],
   "source": [
    "rainfall + mas_rainfall #El alineamiento de datos se hace por el índice.\n",
    "#Los campos que tienen valores en ambos DataFrames se suman.\n",
    "#Mientras que los campos que no tienen valores en ambos DataFrames, muestran NaN."
   ]
  },
  {
   "cell_type": "code",
   "execution_count": 19,
   "metadata": {},
   "outputs": [
    {
     "data": {
      "text/html": [
       "<div>\n",
       "<style scoped>\n",
       "    .dataframe tbody tr th:only-of-type {\n",
       "        vertical-align: middle;\n",
       "    }\n",
       "\n",
       "    .dataframe tbody tr th {\n",
       "        vertical-align: top;\n",
       "    }\n",
       "\n",
       "    .dataframe thead th {\n",
       "        text-align: right;\n",
       "    }\n",
       "</style>\n",
       "<table border=\"1\" class=\"dataframe\">\n",
       "  <thead>\n",
       "    <tr style=\"text-align: right;\">\n",
       "      <th></th>\n",
       "      <th>City 1</th>\n",
       "      <th>City 2</th>\n",
       "      <th>City 3</th>\n",
       "      <th>City 4</th>\n",
       "    </tr>\n",
       "  </thead>\n",
       "  <tbody>\n",
       "    <tr>\n",
       "      <th>0</th>\n",
       "      <td>300.1</td>\n",
       "      <td>400.3</td>\n",
       "      <td>1000.5</td>\n",
       "      <td>NaN</td>\n",
       "    </tr>\n",
       "    <tr>\n",
       "      <th>1</th>\n",
       "      <td>200.2</td>\n",
       "      <td>300.4</td>\n",
       "      <td>1100.6</td>\n",
       "      <td>200.0</td>\n",
       "    </tr>\n",
       "    <tr>\n",
       "      <th>2</th>\n",
       "      <td>300.0</td>\n",
       "      <td>NaN</td>\n",
       "      <td>NaN</td>\n",
       "      <td>400.0</td>\n",
       "    </tr>\n",
       "  </tbody>\n",
       "</table>\n",
       "</div>"
      ],
      "text/plain": [
       "   City 1  City 2  City 3  City 4\n",
       "0   300.1   400.3  1000.5     NaN\n",
       "1   200.2   300.4  1100.6   200.0\n",
       "2   300.0     NaN     NaN   400.0"
      ]
     },
     "execution_count": 19,
     "metadata": {},
     "output_type": "execute_result"
    }
   ],
   "source": [
    "#Se puede obtener que los campos que no tienen valores se asuman como cero.\n",
    "rainfall.add(mas_rainfall, fill_value=0)\n",
    "#Esto aplica para otras operaciones como: mult, div, pow y sub."
   ]
  },
  {
   "cell_type": "code",
   "execution_count": 21,
   "metadata": {},
   "outputs": [
    {
     "data": {
      "text/plain": [
       "City 1     100.2\n",
       "City 2     300.4\n",
       "City 3    1100.6\n",
       "Name: 1, dtype: float64"
      ]
     },
     "execution_count": 21,
     "metadata": {},
     "output_type": "execute_result"
    }
   ],
   "source": [
    "#Cuando se tiene un DataFrame y una Series en los cálculos, la Series es\n",
    "# difundida (broadcast) a lo largo del índice.\n",
    "#Por ejemplo, una Series tomada de una fila:\n",
    "rainfall.loc[1, :]"
   ]
  },
  {
   "cell_type": "code",
   "execution_count": 22,
   "metadata": {},
   "outputs": [
    {
     "data": {
      "text/html": [
       "<div>\n",
       "<style scoped>\n",
       "    .dataframe tbody tr th:only-of-type {\n",
       "        vertical-align: middle;\n",
       "    }\n",
       "\n",
       "    .dataframe tbody tr th {\n",
       "        vertical-align: top;\n",
       "    }\n",
       "\n",
       "    .dataframe thead th {\n",
       "        text-align: right;\n",
       "    }\n",
       "</style>\n",
       "<table border=\"1\" class=\"dataframe\">\n",
       "  <thead>\n",
       "    <tr style=\"text-align: right;\">\n",
       "      <th></th>\n",
       "      <th>City 1</th>\n",
       "      <th>City 2</th>\n",
       "      <th>City 3</th>\n",
       "    </tr>\n",
       "  </thead>\n",
       "  <tbody>\n",
       "    <tr>\n",
       "      <th>0</th>\n",
       "      <td>300.1</td>\n",
       "      <td>400.3</td>\n",
       "      <td>1000.5</td>\n",
       "    </tr>\n",
       "    <tr>\n",
       "      <th>1</th>\n",
       "      <td>100.2</td>\n",
       "      <td>300.4</td>\n",
       "      <td>1100.6</td>\n",
       "    </tr>\n",
       "  </tbody>\n",
       "</table>\n",
       "</div>"
      ],
      "text/plain": [
       "   City 1  City 2  City 3\n",
       "0   300.1   400.3  1000.5\n",
       "1   100.2   300.4  1100.6"
      ]
     },
     "execution_count": 22,
     "metadata": {},
     "output_type": "execute_result"
    }
   ],
   "source": [
    "rainfall"
   ]
  },
  {
   "cell_type": "code",
   "execution_count": 23,
   "metadata": {},
   "outputs": [
    {
     "data": {
      "text/html": [
       "<div>\n",
       "<style scoped>\n",
       "    .dataframe tbody tr th:only-of-type {\n",
       "        vertical-align: middle;\n",
       "    }\n",
       "\n",
       "    .dataframe tbody tr th {\n",
       "        vertical-align: top;\n",
       "    }\n",
       "\n",
       "    .dataframe thead th {\n",
       "        text-align: right;\n",
       "    }\n",
       "</style>\n",
       "<table border=\"1\" class=\"dataframe\">\n",
       "  <thead>\n",
       "    <tr style=\"text-align: right;\">\n",
       "      <th></th>\n",
       "      <th>City 1</th>\n",
       "      <th>City 2</th>\n",
       "      <th>City 3</th>\n",
       "    </tr>\n",
       "  </thead>\n",
       "  <tbody>\n",
       "    <tr>\n",
       "      <th>0</th>\n",
       "      <td>400.3</td>\n",
       "      <td>700.7</td>\n",
       "      <td>2101.1</td>\n",
       "    </tr>\n",
       "    <tr>\n",
       "      <th>1</th>\n",
       "      <td>200.4</td>\n",
       "      <td>600.8</td>\n",
       "      <td>2201.2</td>\n",
       "    </tr>\n",
       "  </tbody>\n",
       "</table>\n",
       "</div>"
      ],
      "text/plain": [
       "   City 1  City 2  City 3\n",
       "0   400.3   700.7  2101.1\n",
       "1   200.4   600.8  2201.2"
      ]
     },
     "execution_count": 23,
     "metadata": {},
     "output_type": "execute_result"
    }
   ],
   "source": [
    "rainfall + rainfall.loc[1, :]"
   ]
  },
  {
   "cell_type": "code",
   "execution_count": 24,
   "metadata": {},
   "outputs": [
    {
     "data": {
      "text/plain": [
       "0    400.3\n",
       "1    300.4\n",
       "Name: City 2, dtype: float64"
      ]
     },
     "execution_count": 24,
     "metadata": {},
     "output_type": "execute_result"
    }
   ],
   "source": [
    "#Una Series tomada de una columna.\n",
    "rainfall.loc[:, \"City 2\"]"
   ]
  },
  {
   "cell_type": "code",
   "execution_count": 25,
   "metadata": {},
   "outputs": [
    {
     "data": {
      "text/html": [
       "<div>\n",
       "<style scoped>\n",
       "    .dataframe tbody tr th:only-of-type {\n",
       "        vertical-align: middle;\n",
       "    }\n",
       "\n",
       "    .dataframe tbody tr th {\n",
       "        vertical-align: top;\n",
       "    }\n",
       "\n",
       "    .dataframe thead th {\n",
       "        text-align: right;\n",
       "    }\n",
       "</style>\n",
       "<table border=\"1\" class=\"dataframe\">\n",
       "  <thead>\n",
       "    <tr style=\"text-align: right;\">\n",
       "      <th></th>\n",
       "      <th>City 1</th>\n",
       "      <th>City 2</th>\n",
       "      <th>City 3</th>\n",
       "    </tr>\n",
       "  </thead>\n",
       "  <tbody>\n",
       "    <tr>\n",
       "      <th>0</th>\n",
       "      <td>700.4</td>\n",
       "      <td>800.6</td>\n",
       "      <td>1400.8</td>\n",
       "    </tr>\n",
       "    <tr>\n",
       "      <th>1</th>\n",
       "      <td>400.6</td>\n",
       "      <td>600.8</td>\n",
       "      <td>1401.0</td>\n",
       "    </tr>\n",
       "  </tbody>\n",
       "</table>\n",
       "</div>"
      ],
      "text/plain": [
       "   City 1  City 2  City 3\n",
       "0   700.4   800.6  1400.8\n",
       "1   400.6   600.8  1401.0"
      ]
     },
     "execution_count": 25,
     "metadata": {},
     "output_type": "execute_result"
    }
   ],
   "source": [
    "rainfall.add(rainfall.loc[:, \"City 2\"], axis = 0)"
   ]
  },
  {
   "cell_type": "markdown",
   "metadata": {},
   "source": [
    "### Trabajando con columnas de texto\n",
    "Las columnas con texto o con tipos mezclados son del tipo **objeto**.\n",
    "Para realizar operaciones sobre columnas con cadenas de texto, se usa el atributo **str** que da acceso a los métodos de cadena de Python."
   ]
  },
  {
   "cell_type": "code",
   "execution_count": 26,
   "metadata": {},
   "outputs": [
    {
     "data": {
      "text/html": [
       "<div>\n",
       "<style scoped>\n",
       "    .dataframe tbody tr th:only-of-type {\n",
       "        vertical-align: middle;\n",
       "    }\n",
       "\n",
       "    .dataframe tbody tr th {\n",
       "        vertical-align: top;\n",
       "    }\n",
       "\n",
       "    .dataframe thead th {\n",
       "        text-align: right;\n",
       "    }\n",
       "</style>\n",
       "<table border=\"1\" class=\"dataframe\">\n",
       "  <thead>\n",
       "    <tr style=\"text-align: right;\">\n",
       "      <th></th>\n",
       "      <th>nombre</th>\n",
       "    </tr>\n",
       "  </thead>\n",
       "  <tbody>\n",
       "    <tr>\n",
       "      <th>0</th>\n",
       "      <td>mArk</td>\n",
       "    </tr>\n",
       "    <tr>\n",
       "      <th>1</th>\n",
       "      <td>JOHN</td>\n",
       "    </tr>\n",
       "    <tr>\n",
       "      <th>2</th>\n",
       "      <td>Tim</td>\n",
       "    </tr>\n",
       "    <tr>\n",
       "      <th>3</th>\n",
       "      <td>jenny</td>\n",
       "    </tr>\n",
       "  </tbody>\n",
       "</table>\n",
       "</div>"
      ],
      "text/plain": [
       "   nombre\n",
       "0   mArk \n",
       "1  JOHN  \n",
       "2     Tim\n",
       "3   jenny"
      ]
     },
     "execution_count": 26,
     "metadata": {},
     "output_type": "execute_result"
    }
   ],
   "source": [
    "#Crearemos un nuevo DataFrame\n",
    "usuarios = pd.DataFrame(data=[\" mArk \", \"JOHN  \", \"Tim\", \" jenny\"], \n",
    "                        columns=[\"nombre\"])\n",
    "usuarios"
   ]
  },
  {
   "cell_type": "code",
   "execution_count": 32,
   "metadata": {},
   "outputs": [
    {
     "data": {
      "text/plain": [
       "0     Mark\n",
       "1     John\n",
       "2      Tim\n",
       "3    Jenny\n",
       "Name: nombre, dtype: object"
      ]
     },
     "execution_count": 32,
     "metadata": {},
     "output_type": "execute_result"
    }
   ],
   "source": [
    "usuarios_limpios = usuarios.loc[:, \"nombre\"].str.strip().str.capitalize()\n",
    "#str.strip() elimina espacios en blanco; str.capitalize() pone la primera letra\n",
    "# en mayúscula y las demás letras en minúscula.\n",
    "usuarios_limpios"
   ]
  },
  {
   "cell_type": "code",
   "execution_count": 33,
   "metadata": {},
   "outputs": [
    {
     "data": {
      "text/plain": [
       "0    False\n",
       "1     True\n",
       "2    False\n",
       "3     True\n",
       "Name: nombre, dtype: bool"
      ]
     },
     "execution_count": 33,
     "metadata": {},
     "output_type": "execute_result"
    }
   ],
   "source": [
    "usuarios_limpios.str.startswith(\"J\")"
   ]
  },
  {
   "cell_type": "markdown",
   "metadata": {},
   "source": [
    "### Aplicando una función\n",
    "Los DataFrames ofrecen el método **applymap**, el cual aplicará una función a cada elemento individual, algo que es útil si no hay disponible una función **ufuncs** de NumPy.\n",
    "Por ejemplo, no hay funciones **ufuncs** para formateo de cadenas, así que podemos formatear cada elemento de un DataFrame de la siguiente forma: "
   ]
  },
  {
   "cell_type": "code",
   "execution_count": 34,
   "metadata": {},
   "outputs": [
    {
     "data": {
      "text/html": [
       "<div>\n",
       "<style scoped>\n",
       "    .dataframe tbody tr th:only-of-type {\n",
       "        vertical-align: middle;\n",
       "    }\n",
       "\n",
       "    .dataframe tbody tr th {\n",
       "        vertical-align: top;\n",
       "    }\n",
       "\n",
       "    .dataframe thead th {\n",
       "        text-align: right;\n",
       "    }\n",
       "</style>\n",
       "<table border=\"1\" class=\"dataframe\">\n",
       "  <thead>\n",
       "    <tr style=\"text-align: right;\">\n",
       "      <th></th>\n",
       "      <th>City 1</th>\n",
       "      <th>City 2</th>\n",
       "      <th>City 3</th>\n",
       "    </tr>\n",
       "  </thead>\n",
       "  <tbody>\n",
       "    <tr>\n",
       "      <th>0</th>\n",
       "      <td>300.1</td>\n",
       "      <td>400.3</td>\n",
       "      <td>1000.5</td>\n",
       "    </tr>\n",
       "    <tr>\n",
       "      <th>1</th>\n",
       "      <td>100.2</td>\n",
       "      <td>300.4</td>\n",
       "      <td>1100.6</td>\n",
       "    </tr>\n",
       "  </tbody>\n",
       "</table>\n",
       "</div>"
      ],
      "text/plain": [
       "   City 1  City 2  City 3\n",
       "0   300.1   400.3  1000.5\n",
       "1   100.2   300.4  1100.6"
      ]
     },
     "execution_count": 34,
     "metadata": {},
     "output_type": "execute_result"
    }
   ],
   "source": [
    "rainfall"
   ]
  },
  {
   "cell_type": "code",
   "execution_count": 42,
   "metadata": {},
   "outputs": [],
   "source": [
    "def formatea_cadena(x):\n",
    "    return f\"{x:,.2f}\""
   ]
  },
  {
   "cell_type": "code",
   "execution_count": 43,
   "metadata": {},
   "outputs": [
    {
     "data": {
      "text/html": [
       "<div>\n",
       "<style scoped>\n",
       "    .dataframe tbody tr th:only-of-type {\n",
       "        vertical-align: middle;\n",
       "    }\n",
       "\n",
       "    .dataframe tbody tr th {\n",
       "        vertical-align: top;\n",
       "    }\n",
       "\n",
       "    .dataframe thead th {\n",
       "        text-align: right;\n",
       "    }\n",
       "</style>\n",
       "<table border=\"1\" class=\"dataframe\">\n",
       "  <thead>\n",
       "    <tr style=\"text-align: right;\">\n",
       "      <th></th>\n",
       "      <th>City 1</th>\n",
       "      <th>City 2</th>\n",
       "      <th>City 3</th>\n",
       "    </tr>\n",
       "  </thead>\n",
       "  <tbody>\n",
       "    <tr>\n",
       "      <th>0</th>\n",
       "      <td>300.10</td>\n",
       "      <td>400.30</td>\n",
       "      <td>1,000.50</td>\n",
       "    </tr>\n",
       "    <tr>\n",
       "      <th>1</th>\n",
       "      <td>100.20</td>\n",
       "      <td>300.40</td>\n",
       "      <td>1,100.60</td>\n",
       "    </tr>\n",
       "  </tbody>\n",
       "</table>\n",
       "</div>"
      ],
      "text/plain": [
       "   City 1  City 2    City 3\n",
       "0  300.10  400.30  1,000.50\n",
       "1  100.20  300.40  1,100.60"
      ]
     },
     "execution_count": 43,
     "metadata": {},
     "output_type": "execute_result"
    }
   ],
   "source": [
    "#Note que la función se pasa sin llamarla.\n",
    "# Es decir, se escribe formateo_cadena y no formateo_cadena().\n",
    "rainfall.applymap(formatea_cadena)"
   ]
  },
  {
   "cell_type": "markdown",
   "metadata": {},
   "source": [
    "#### Vista Vs. Copia\n",
    "A veces es confuso si el ajuste de valores se hace una vista o en una copia.\n",
    "Los ajustes de valores se deberían hacer en el DataFrame original, no en el DataFrame que ha sido rebanado de otro DataFrame."
   ]
  },
  {
   "cell_type": "code",
   "execution_count": 6,
   "metadata": {},
   "outputs": [
    {
     "data": {
      "text/html": [
       "<div>\n",
       "<style scoped>\n",
       "    .dataframe tbody tr th:only-of-type {\n",
       "        vertical-align: middle;\n",
       "    }\n",
       "\n",
       "    .dataframe tbody tr th {\n",
       "        vertical-align: top;\n",
       "    }\n",
       "\n",
       "    .dataframe thead th {\n",
       "        text-align: right;\n",
       "    }\n",
       "</style>\n",
       "<table border=\"1\" class=\"dataframe\">\n",
       "  <thead>\n",
       "    <tr style=\"text-align: right;\">\n",
       "      <th></th>\n",
       "      <th>pais</th>\n",
       "      <th>continente</th>\n",
       "    </tr>\n",
       "  </thead>\n",
       "  <tbody>\n",
       "    <tr>\n",
       "      <th>1001</th>\n",
       "      <td>Italy</td>\n",
       "      <td>Europe</td>\n",
       "    </tr>\n",
       "    <tr>\n",
       "      <th>1000</th>\n",
       "      <td>USA</td>\n",
       "      <td>America</td>\n",
       "    </tr>\n",
       "    <tr>\n",
       "      <th>1002</th>\n",
       "      <td>USA</td>\n",
       "      <td>America</td>\n",
       "    </tr>\n",
       "    <tr>\n",
       "      <th>1003</th>\n",
       "      <td>Germany</td>\n",
       "      <td>Europe</td>\n",
       "    </tr>\n",
       "  </tbody>\n",
       "</table>\n",
       "</div>"
      ],
      "text/plain": [
       "         pais continente\n",
       "1001    Italy     Europe\n",
       "1000      USA    America\n",
       "1002      USA    America\n",
       "1003  Germany     Europe"
      ]
     },
     "execution_count": 6,
     "metadata": {},
     "output_type": "execute_result"
    }
   ],
   "source": [
    "seleccion = df.loc[:, [\"pais\", \"continente\"]].copy()\n",
    "seleccion\n",
    "#df.dropna() y df.sort_values(\"nombre_columna\") siempre retornan una copia."
   ]
  },
  {
   "cell_type": "markdown",
   "metadata": {},
   "source": [
    "### Combinando DataFrames\n",
    "La combinación de DataFrames se puede hacer de varias formas. Aquí se mirarán los casos más comunes usando **concat**, **join** y **merge**.\n",
    "\n",
    "### Concatenación.\n",
    "**concat** pega DataFrames a lo largo de las filas y alinea las columnas automáticamente."
   ]
  },
  {
   "cell_type": "code",
   "execution_count": 7,
   "metadata": {},
   "outputs": [
    {
     "data": {
      "text/html": [
       "<div>\n",
       "<style scoped>\n",
       "    .dataframe tbody tr th:only-of-type {\n",
       "        vertical-align: middle;\n",
       "    }\n",
       "\n",
       "    .dataframe tbody tr th {\n",
       "        vertical-align: top;\n",
       "    }\n",
       "\n",
       "    .dataframe thead th {\n",
       "        text-align: right;\n",
       "    }\n",
       "</style>\n",
       "<table border=\"1\" class=\"dataframe\">\n",
       "  <thead>\n",
       "    <tr style=\"text-align: right;\">\n",
       "      <th></th>\n",
       "      <th>edad</th>\n",
       "      <th>pais</th>\n",
       "      <th>puntaje</th>\n",
       "      <th>nombre</th>\n",
       "    </tr>\n",
       "  </thead>\n",
       "  <tbody>\n",
       "    <tr>\n",
       "      <th>1000</th>\n",
       "      <td>15</td>\n",
       "      <td>France</td>\n",
       "      <td>4.1</td>\n",
       "      <td>Becky</td>\n",
       "    </tr>\n",
       "    <tr>\n",
       "      <th>1011</th>\n",
       "      <td>44</td>\n",
       "      <td>Canada</td>\n",
       "      <td>6.1</td>\n",
       "      <td>Leanne</td>\n",
       "    </tr>\n",
       "  </tbody>\n",
       "</table>\n",
       "</div>"
      ],
      "text/plain": [
       "      edad    pais  puntaje  nombre\n",
       "1000    15  France      4.1   Becky\n",
       "1011    44  Canada      6.1  Leanne"
      ]
     },
     "execution_count": 7,
     "metadata": {},
     "output_type": "execute_result"
    }
   ],
   "source": [
    "data = [[15, \"France\", 4.1, \"Becky\"], [44, \"Canada\", 6.1, \"Leanne\"]]\n",
    "mas_usuarios = pd.DataFrame(data=data, \n",
    "                            columns=[\"edad\", \"pais\", \"puntaje\", \"nombre\"], \n",
    "                            index=[1000, 1011])\n",
    "mas_usuarios"
   ]
  },
  {
   "cell_type": "code",
   "execution_count": 8,
   "metadata": {},
   "outputs": [
    {
     "data": {
      "text/html": [
       "<div>\n",
       "<style scoped>\n",
       "    .dataframe tbody tr th:only-of-type {\n",
       "        vertical-align: middle;\n",
       "    }\n",
       "\n",
       "    .dataframe tbody tr th {\n",
       "        vertical-align: top;\n",
       "    }\n",
       "\n",
       "    .dataframe thead th {\n",
       "        text-align: right;\n",
       "    }\n",
       "</style>\n",
       "<table border=\"1\" class=\"dataframe\">\n",
       "  <thead>\n",
       "    <tr style=\"text-align: right;\">\n",
       "      <th></th>\n",
       "      <th>nombre</th>\n",
       "      <th>edad</th>\n",
       "      <th>pais</th>\n",
       "      <th>puntaje</th>\n",
       "      <th>continente</th>\n",
       "    </tr>\n",
       "  </thead>\n",
       "  <tbody>\n",
       "    <tr>\n",
       "      <th>1001</th>\n",
       "      <td>Mark</td>\n",
       "      <td>55</td>\n",
       "      <td>Italy</td>\n",
       "      <td>4.5</td>\n",
       "      <td>Europe</td>\n",
       "    </tr>\n",
       "    <tr>\n",
       "      <th>1000</th>\n",
       "      <td>John</td>\n",
       "      <td>33</td>\n",
       "      <td>USA</td>\n",
       "      <td>6.7</td>\n",
       "      <td>America</td>\n",
       "    </tr>\n",
       "    <tr>\n",
       "      <th>1002</th>\n",
       "      <td>Tim</td>\n",
       "      <td>41</td>\n",
       "      <td>USA</td>\n",
       "      <td>3.9</td>\n",
       "      <td>America</td>\n",
       "    </tr>\n",
       "    <tr>\n",
       "      <th>1003</th>\n",
       "      <td>Jenny</td>\n",
       "      <td>12</td>\n",
       "      <td>Germany</td>\n",
       "      <td>9.0</td>\n",
       "      <td>Europe</td>\n",
       "    </tr>\n",
       "    <tr>\n",
       "      <th>1000</th>\n",
       "      <td>Becky</td>\n",
       "      <td>15</td>\n",
       "      <td>France</td>\n",
       "      <td>4.1</td>\n",
       "      <td>NaN</td>\n",
       "    </tr>\n",
       "    <tr>\n",
       "      <th>1011</th>\n",
       "      <td>Leanne</td>\n",
       "      <td>44</td>\n",
       "      <td>Canada</td>\n",
       "      <td>6.1</td>\n",
       "      <td>NaN</td>\n",
       "    </tr>\n",
       "  </tbody>\n",
       "</table>\n",
       "</div>"
      ],
      "text/plain": [
       "      nombre  edad     pais  puntaje continente\n",
       "1001    Mark    55    Italy      4.5     Europe\n",
       "1000    John    33      USA      6.7    America\n",
       "1002     Tim    41      USA      3.9    America\n",
       "1003   Jenny    12  Germany      9.0     Europe\n",
       "1000   Becky    15   France      4.1        NaN\n",
       "1011  Leanne    44   Canada      6.1        NaN"
      ]
     },
     "execution_count": 8,
     "metadata": {},
     "output_type": "execute_result"
    }
   ],
   "source": [
    "pd.concat([df, mas_usuarios], axis=0)"
   ]
  },
  {
   "cell_type": "code",
   "execution_count": 9,
   "metadata": {},
   "outputs": [
    {
     "data": {
      "text/html": [
       "<div>\n",
       "<style scoped>\n",
       "    .dataframe tbody tr th:only-of-type {\n",
       "        vertical-align: middle;\n",
       "    }\n",
       "\n",
       "    .dataframe tbody tr th {\n",
       "        vertical-align: top;\n",
       "    }\n",
       "\n",
       "    .dataframe thead th {\n",
       "        text-align: right;\n",
       "    }\n",
       "</style>\n",
       "<table border=\"1\" class=\"dataframe\">\n",
       "  <thead>\n",
       "    <tr style=\"text-align: right;\">\n",
       "      <th></th>\n",
       "      <th>quizzes</th>\n",
       "      <th>logins</th>\n",
       "    </tr>\n",
       "  </thead>\n",
       "  <tbody>\n",
       "    <tr>\n",
       "      <th>1000</th>\n",
       "      <td>3</td>\n",
       "      <td>4</td>\n",
       "    </tr>\n",
       "    <tr>\n",
       "      <th>2000</th>\n",
       "      <td>5</td>\n",
       "      <td>6</td>\n",
       "    </tr>\n",
       "  </tbody>\n",
       "</table>\n",
       "</div>"
      ],
      "text/plain": [
       "      quizzes  logins\n",
       "1000        3       4\n",
       "2000        5       6"
      ]
     },
     "execution_count": 9,
     "metadata": {},
     "output_type": "execute_result"
    }
   ],
   "source": [
    "#Si se desea alinear los DataFrames por columnas:\n",
    "data = [[3, 4], [5, 6]]\n",
    "mas_categorias = pd.DataFrame(data=data, \n",
    "                              columns=[\"quizzes\", \"logins\"], \n",
    "                              index=[1000, 2000])\n",
    "mas_categorias"
   ]
  },
  {
   "cell_type": "code",
   "execution_count": 10,
   "metadata": {},
   "outputs": [
    {
     "data": {
      "text/html": [
       "<div>\n",
       "<style scoped>\n",
       "    .dataframe tbody tr th:only-of-type {\n",
       "        vertical-align: middle;\n",
       "    }\n",
       "\n",
       "    .dataframe tbody tr th {\n",
       "        vertical-align: top;\n",
       "    }\n",
       "\n",
       "    .dataframe thead th {\n",
       "        text-align: right;\n",
       "    }\n",
       "</style>\n",
       "<table border=\"1\" class=\"dataframe\">\n",
       "  <thead>\n",
       "    <tr style=\"text-align: right;\">\n",
       "      <th></th>\n",
       "      <th>nombre</th>\n",
       "      <th>edad</th>\n",
       "      <th>pais</th>\n",
       "      <th>puntaje</th>\n",
       "      <th>continente</th>\n",
       "      <th>quizzes</th>\n",
       "      <th>logins</th>\n",
       "    </tr>\n",
       "  </thead>\n",
       "  <tbody>\n",
       "    <tr>\n",
       "      <th>1001</th>\n",
       "      <td>Mark</td>\n",
       "      <td>55.0</td>\n",
       "      <td>Italy</td>\n",
       "      <td>4.5</td>\n",
       "      <td>Europe</td>\n",
       "      <td>NaN</td>\n",
       "      <td>NaN</td>\n",
       "    </tr>\n",
       "    <tr>\n",
       "      <th>1000</th>\n",
       "      <td>John</td>\n",
       "      <td>33.0</td>\n",
       "      <td>USA</td>\n",
       "      <td>6.7</td>\n",
       "      <td>America</td>\n",
       "      <td>3.0</td>\n",
       "      <td>4.0</td>\n",
       "    </tr>\n",
       "    <tr>\n",
       "      <th>1002</th>\n",
       "      <td>Tim</td>\n",
       "      <td>41.0</td>\n",
       "      <td>USA</td>\n",
       "      <td>3.9</td>\n",
       "      <td>America</td>\n",
       "      <td>NaN</td>\n",
       "      <td>NaN</td>\n",
       "    </tr>\n",
       "    <tr>\n",
       "      <th>1003</th>\n",
       "      <td>Jenny</td>\n",
       "      <td>12.0</td>\n",
       "      <td>Germany</td>\n",
       "      <td>9.0</td>\n",
       "      <td>Europe</td>\n",
       "      <td>NaN</td>\n",
       "      <td>NaN</td>\n",
       "    </tr>\n",
       "    <tr>\n",
       "      <th>2000</th>\n",
       "      <td>NaN</td>\n",
       "      <td>NaN</td>\n",
       "      <td>NaN</td>\n",
       "      <td>NaN</td>\n",
       "      <td>NaN</td>\n",
       "      <td>5.0</td>\n",
       "      <td>6.0</td>\n",
       "    </tr>\n",
       "  </tbody>\n",
       "</table>\n",
       "</div>"
      ],
      "text/plain": [
       "     nombre  edad     pais  puntaje continente  quizzes  logins\n",
       "1001   Mark  55.0    Italy      4.5     Europe      NaN     NaN\n",
       "1000   John  33.0      USA      6.7    America      3.0     4.0\n",
       "1002    Tim  41.0      USA      3.9    America      NaN     NaN\n",
       "1003  Jenny  12.0  Germany      9.0     Europe      NaN     NaN\n",
       "2000    NaN   NaN      NaN      NaN        NaN      5.0     6.0"
      ]
     },
     "execution_count": 10,
     "metadata": {},
     "output_type": "execute_result"
    }
   ],
   "source": [
    "pd.concat([df, mas_categorias], axis=1)\n",
    "#concat trabaja con múltiples DataFrames, mientras que join y merge solo trabaja\n",
    "# con dos DataFrames."
   ]
  },
  {
   "cell_type": "markdown",
   "metadata": {},
   "source": [
    "### Juntando (join) y fusionando (merge)\n",
    "Cuando se hace una junta (join) de dos DataFrames, se combinan las columnas de cada DataFrame dentro de un nuevo DataFrame, mientras que se decide qué pasa con las filas soportándose en la teoría de conjuntos.\n",
    "Es el mismo concepto de la cláusula JOIN en una consulta SQL. Hay cuatro tipos de JOIN: inner, left, right y outer.\n",
    "Con join, pandas usa los índices de ambos DataFrames para alinear las filas. \n",
    "Un **inner join** retorna un nuevo DataFrame con solamente esas filas de los dos DataFrames, donde los índices se traslapan o se interseccionan.\n",
    "Un **left join** toma **todas las filas** del DataFrame de la izquierda, df1, y las alinea con las filas del DataFrame de la derecha, df2, que tengan el mismo índice. En las filas de df2 donde no se encuentre un índice que coincida con los índices de df1 se presentarán dichas filas con valores NaN.  \n",
    "Un **right join** toma **todas las filas** del DataFrame de la derecha, df2, y las alinea solamente con las filas del DataFrame de la izquierda, df1, que tengan el mismo índice. En las filas de df1 donde no se encuentre un índice que coincida con los índices de df2 se presentarán dichas filas con valores NaN.\n",
    "Un **outer join**, que significa **junta total externa** toma la unión de todos los índices de ambos DataFrames y acopla los valores de las filas donde estas tengan índices coincidentes.\n",
    "\n"
   ]
  },
  {
   "cell_type": "code",
   "execution_count": 3,
   "metadata": {},
   "outputs": [
    {
     "data": {
      "text/html": [
       "<div>\n",
       "<style scoped>\n",
       "    .dataframe tbody tr th:only-of-type {\n",
       "        vertical-align: middle;\n",
       "    }\n",
       "\n",
       "    .dataframe tbody tr th {\n",
       "        vertical-align: top;\n",
       "    }\n",
       "\n",
       "    .dataframe thead th {\n",
       "        text-align: right;\n",
       "    }\n",
       "</style>\n",
       "<table border=\"1\" class=\"dataframe\">\n",
       "  <thead>\n",
       "    <tr style=\"text-align: right;\">\n",
       "      <th></th>\n",
       "      <th>A</th>\n",
       "      <th>B</th>\n",
       "    </tr>\n",
       "  </thead>\n",
       "  <tbody>\n",
       "    <tr>\n",
       "      <th>0</th>\n",
       "      <td>1</td>\n",
       "      <td>2</td>\n",
       "    </tr>\n",
       "    <tr>\n",
       "      <th>1</th>\n",
       "      <td>3</td>\n",
       "      <td>4</td>\n",
       "    </tr>\n",
       "    <tr>\n",
       "      <th>2</th>\n",
       "      <td>5</td>\n",
       "      <td>6</td>\n",
       "    </tr>\n",
       "  </tbody>\n",
       "</table>\n",
       "</div>"
      ],
      "text/plain": [
       "   A  B\n",
       "0  1  2\n",
       "1  3  4\n",
       "2  5  6"
      ]
     },
     "execution_count": 3,
     "metadata": {},
     "output_type": "execute_result"
    }
   ],
   "source": [
    "df1 = pd.DataFrame(data=[[1, 2], [3, 4], [5, 6]], columns=[\"A\", \"B\"])\n",
    "df1"
   ]
  },
  {
   "cell_type": "code",
   "execution_count": 4,
   "metadata": {},
   "outputs": [
    {
     "data": {
      "text/html": [
       "<div>\n",
       "<style scoped>\n",
       "    .dataframe tbody tr th:only-of-type {\n",
       "        vertical-align: middle;\n",
       "    }\n",
       "\n",
       "    .dataframe tbody tr th {\n",
       "        vertical-align: top;\n",
       "    }\n",
       "\n",
       "    .dataframe thead th {\n",
       "        text-align: right;\n",
       "    }\n",
       "</style>\n",
       "<table border=\"1\" class=\"dataframe\">\n",
       "  <thead>\n",
       "    <tr style=\"text-align: right;\">\n",
       "      <th></th>\n",
       "      <th>C</th>\n",
       "      <th>D</th>\n",
       "    </tr>\n",
       "  </thead>\n",
       "  <tbody>\n",
       "    <tr>\n",
       "      <th>1</th>\n",
       "      <td>10</td>\n",
       "      <td>20</td>\n",
       "    </tr>\n",
       "    <tr>\n",
       "      <th>3</th>\n",
       "      <td>30</td>\n",
       "      <td>40</td>\n",
       "    </tr>\n",
       "  </tbody>\n",
       "</table>\n",
       "</div>"
      ],
      "text/plain": [
       "    C   D\n",
       "1  10  20\n",
       "3  30  40"
      ]
     },
     "execution_count": 4,
     "metadata": {},
     "output_type": "execute_result"
    }
   ],
   "source": [
    "df2 = pd.DataFrame(data=[[10, 20], [30, 40]], columns=[\"C\", \"D\"], index=[1, 3])\n",
    "df2"
   ]
  },
  {
   "cell_type": "code",
   "execution_count": 5,
   "metadata": {},
   "outputs": [
    {
     "data": {
      "text/html": [
       "<div>\n",
       "<style scoped>\n",
       "    .dataframe tbody tr th:only-of-type {\n",
       "        vertical-align: middle;\n",
       "    }\n",
       "\n",
       "    .dataframe tbody tr th {\n",
       "        vertical-align: top;\n",
       "    }\n",
       "\n",
       "    .dataframe thead th {\n",
       "        text-align: right;\n",
       "    }\n",
       "</style>\n",
       "<table border=\"1\" class=\"dataframe\">\n",
       "  <thead>\n",
       "    <tr style=\"text-align: right;\">\n",
       "      <th></th>\n",
       "      <th>A</th>\n",
       "      <th>B</th>\n",
       "      <th>C</th>\n",
       "      <th>D</th>\n",
       "    </tr>\n",
       "  </thead>\n",
       "  <tbody>\n",
       "    <tr>\n",
       "      <th>1</th>\n",
       "      <td>3</td>\n",
       "      <td>4</td>\n",
       "      <td>10</td>\n",
       "      <td>20</td>\n",
       "    </tr>\n",
       "  </tbody>\n",
       "</table>\n",
       "</div>"
      ],
      "text/plain": [
       "   A  B   C   D\n",
       "1  3  4  10  20"
      ]
     },
     "execution_count": 5,
     "metadata": {},
     "output_type": "execute_result"
    }
   ],
   "source": [
    "df1.join(df2, how=\"inner\")"
   ]
  },
  {
   "cell_type": "code",
   "execution_count": 6,
   "metadata": {},
   "outputs": [
    {
     "data": {
      "text/html": [
       "<div>\n",
       "<style scoped>\n",
       "    .dataframe tbody tr th:only-of-type {\n",
       "        vertical-align: middle;\n",
       "    }\n",
       "\n",
       "    .dataframe tbody tr th {\n",
       "        vertical-align: top;\n",
       "    }\n",
       "\n",
       "    .dataframe thead th {\n",
       "        text-align: right;\n",
       "    }\n",
       "</style>\n",
       "<table border=\"1\" class=\"dataframe\">\n",
       "  <thead>\n",
       "    <tr style=\"text-align: right;\">\n",
       "      <th></th>\n",
       "      <th>A</th>\n",
       "      <th>B</th>\n",
       "      <th>C</th>\n",
       "      <th>D</th>\n",
       "    </tr>\n",
       "  </thead>\n",
       "  <tbody>\n",
       "    <tr>\n",
       "      <th>0</th>\n",
       "      <td>1</td>\n",
       "      <td>2</td>\n",
       "      <td>NaN</td>\n",
       "      <td>NaN</td>\n",
       "    </tr>\n",
       "    <tr>\n",
       "      <th>1</th>\n",
       "      <td>3</td>\n",
       "      <td>4</td>\n",
       "      <td>10.0</td>\n",
       "      <td>20.0</td>\n",
       "    </tr>\n",
       "    <tr>\n",
       "      <th>2</th>\n",
       "      <td>5</td>\n",
       "      <td>6</td>\n",
       "      <td>NaN</td>\n",
       "      <td>NaN</td>\n",
       "    </tr>\n",
       "  </tbody>\n",
       "</table>\n",
       "</div>"
      ],
      "text/plain": [
       "   A  B     C     D\n",
       "0  1  2   NaN   NaN\n",
       "1  3  4  10.0  20.0\n",
       "2  5  6   NaN   NaN"
      ]
     },
     "execution_count": 6,
     "metadata": {},
     "output_type": "execute_result"
    }
   ],
   "source": [
    "df1.join(df2, how=\"left\")"
   ]
  },
  {
   "cell_type": "code",
   "execution_count": 7,
   "metadata": {},
   "outputs": [
    {
     "data": {
      "text/html": [
       "<div>\n",
       "<style scoped>\n",
       "    .dataframe tbody tr th:only-of-type {\n",
       "        vertical-align: middle;\n",
       "    }\n",
       "\n",
       "    .dataframe tbody tr th {\n",
       "        vertical-align: top;\n",
       "    }\n",
       "\n",
       "    .dataframe thead th {\n",
       "        text-align: right;\n",
       "    }\n",
       "</style>\n",
       "<table border=\"1\" class=\"dataframe\">\n",
       "  <thead>\n",
       "    <tr style=\"text-align: right;\">\n",
       "      <th></th>\n",
       "      <th>A</th>\n",
       "      <th>B</th>\n",
       "      <th>C</th>\n",
       "      <th>D</th>\n",
       "    </tr>\n",
       "  </thead>\n",
       "  <tbody>\n",
       "    <tr>\n",
       "      <th>1</th>\n",
       "      <td>3.0</td>\n",
       "      <td>4.0</td>\n",
       "      <td>10</td>\n",
       "      <td>20</td>\n",
       "    </tr>\n",
       "    <tr>\n",
       "      <th>3</th>\n",
       "      <td>NaN</td>\n",
       "      <td>NaN</td>\n",
       "      <td>30</td>\n",
       "      <td>40</td>\n",
       "    </tr>\n",
       "  </tbody>\n",
       "</table>\n",
       "</div>"
      ],
      "text/plain": [
       "     A    B   C   D\n",
       "1  3.0  4.0  10  20\n",
       "3  NaN  NaN  30  40"
      ]
     },
     "execution_count": 7,
     "metadata": {},
     "output_type": "execute_result"
    }
   ],
   "source": [
    "df1.join(df2, how=\"right\")"
   ]
  },
  {
   "cell_type": "code",
   "execution_count": 8,
   "metadata": {},
   "outputs": [
    {
     "data": {
      "text/html": [
       "<div>\n",
       "<style scoped>\n",
       "    .dataframe tbody tr th:only-of-type {\n",
       "        vertical-align: middle;\n",
       "    }\n",
       "\n",
       "    .dataframe tbody tr th {\n",
       "        vertical-align: top;\n",
       "    }\n",
       "\n",
       "    .dataframe thead th {\n",
       "        text-align: right;\n",
       "    }\n",
       "</style>\n",
       "<table border=\"1\" class=\"dataframe\">\n",
       "  <thead>\n",
       "    <tr style=\"text-align: right;\">\n",
       "      <th></th>\n",
       "      <th>A</th>\n",
       "      <th>B</th>\n",
       "      <th>C</th>\n",
       "      <th>D</th>\n",
       "    </tr>\n",
       "  </thead>\n",
       "  <tbody>\n",
       "    <tr>\n",
       "      <th>0</th>\n",
       "      <td>1.0</td>\n",
       "      <td>2.0</td>\n",
       "      <td>NaN</td>\n",
       "      <td>NaN</td>\n",
       "    </tr>\n",
       "    <tr>\n",
       "      <th>1</th>\n",
       "      <td>3.0</td>\n",
       "      <td>4.0</td>\n",
       "      <td>10.0</td>\n",
       "      <td>20.0</td>\n",
       "    </tr>\n",
       "    <tr>\n",
       "      <th>2</th>\n",
       "      <td>5.0</td>\n",
       "      <td>6.0</td>\n",
       "      <td>NaN</td>\n",
       "      <td>NaN</td>\n",
       "    </tr>\n",
       "    <tr>\n",
       "      <th>3</th>\n",
       "      <td>NaN</td>\n",
       "      <td>NaN</td>\n",
       "      <td>30.0</td>\n",
       "      <td>40.0</td>\n",
       "    </tr>\n",
       "  </tbody>\n",
       "</table>\n",
       "</div>"
      ],
      "text/plain": [
       "     A    B     C     D\n",
       "0  1.0  2.0   NaN   NaN\n",
       "1  3.0  4.0  10.0  20.0\n",
       "2  5.0  6.0   NaN   NaN\n",
       "3  NaN  NaN  30.0  40.0"
      ]
     },
     "execution_count": 8,
     "metadata": {},
     "output_type": "execute_result"
    }
   ],
   "source": [
    "df1.join(df2, how=\"outer\")"
   ]
  },
  {
   "cell_type": "markdown",
   "metadata": {},
   "source": [
    "**merge** sirve para realizar una unión entre dos DataFrames usando los valores de una o más columnas en vez de basar dicha unión en los índices de los DataFrames. **merge** acepta el argumento **on** para proveer una o más columnas como la **condición de unión**: estas columnas, las cuales tienen que existir en ambos DataFrames, son usadas para acoplar las filas:"
   ]
  },
  {
   "cell_type": "code",
   "execution_count": 11,
   "metadata": {},
   "outputs": [
    {
     "data": {
      "text/html": [
       "<div>\n",
       "<style scoped>\n",
       "    .dataframe tbody tr th:only-of-type {\n",
       "        vertical-align: middle;\n",
       "    }\n",
       "\n",
       "    .dataframe tbody tr th {\n",
       "        vertical-align: top;\n",
       "    }\n",
       "\n",
       "    .dataframe thead th {\n",
       "        text-align: right;\n",
       "    }\n",
       "</style>\n",
       "<table border=\"1\" class=\"dataframe\">\n",
       "  <thead>\n",
       "    <tr style=\"text-align: right;\">\n",
       "      <th></th>\n",
       "      <th>A</th>\n",
       "      <th>B</th>\n",
       "      <th>categoria</th>\n",
       "    </tr>\n",
       "  </thead>\n",
       "  <tbody>\n",
       "    <tr>\n",
       "      <th>0</th>\n",
       "      <td>1</td>\n",
       "      <td>2</td>\n",
       "      <td>a</td>\n",
       "    </tr>\n",
       "    <tr>\n",
       "      <th>1</th>\n",
       "      <td>3</td>\n",
       "      <td>4</td>\n",
       "      <td>b</td>\n",
       "    </tr>\n",
       "    <tr>\n",
       "      <th>2</th>\n",
       "      <td>5</td>\n",
       "      <td>6</td>\n",
       "      <td>c</td>\n",
       "    </tr>\n",
       "  </tbody>\n",
       "</table>\n",
       "</div>"
      ],
      "text/plain": [
       "   A  B categoria\n",
       "0  1  2         a\n",
       "1  3  4         b\n",
       "2  5  6         c"
      ]
     },
     "execution_count": 11,
     "metadata": {},
     "output_type": "execute_result"
    }
   ],
   "source": [
    "#Agrega una columna llamada \"categoria\" a ambos DataFrames.\n",
    "df1[\"categoria\"] = [\"a\", \"b\", \"c\"]\n",
    "df2[\"categoria\"] = [\"c\", \"b\"]\n",
    "df1"
   ]
  },
  {
   "cell_type": "code",
   "execution_count": 12,
   "metadata": {},
   "outputs": [
    {
     "data": {
      "text/html": [
       "<div>\n",
       "<style scoped>\n",
       "    .dataframe tbody tr th:only-of-type {\n",
       "        vertical-align: middle;\n",
       "    }\n",
       "\n",
       "    .dataframe tbody tr th {\n",
       "        vertical-align: top;\n",
       "    }\n",
       "\n",
       "    .dataframe thead th {\n",
       "        text-align: right;\n",
       "    }\n",
       "</style>\n",
       "<table border=\"1\" class=\"dataframe\">\n",
       "  <thead>\n",
       "    <tr style=\"text-align: right;\">\n",
       "      <th></th>\n",
       "      <th>C</th>\n",
       "      <th>D</th>\n",
       "      <th>categoria</th>\n",
       "    </tr>\n",
       "  </thead>\n",
       "  <tbody>\n",
       "    <tr>\n",
       "      <th>1</th>\n",
       "      <td>10</td>\n",
       "      <td>20</td>\n",
       "      <td>c</td>\n",
       "    </tr>\n",
       "    <tr>\n",
       "      <th>3</th>\n",
       "      <td>30</td>\n",
       "      <td>40</td>\n",
       "      <td>b</td>\n",
       "    </tr>\n",
       "  </tbody>\n",
       "</table>\n",
       "</div>"
      ],
      "text/plain": [
       "    C   D categoria\n",
       "1  10  20         c\n",
       "3  30  40         b"
      ]
     },
     "execution_count": 12,
     "metadata": {},
     "output_type": "execute_result"
    }
   ],
   "source": [
    "df2"
   ]
  },
  {
   "cell_type": "code",
   "execution_count": 13,
   "metadata": {},
   "outputs": [
    {
     "data": {
      "text/html": [
       "<div>\n",
       "<style scoped>\n",
       "    .dataframe tbody tr th:only-of-type {\n",
       "        vertical-align: middle;\n",
       "    }\n",
       "\n",
       "    .dataframe tbody tr th {\n",
       "        vertical-align: top;\n",
       "    }\n",
       "\n",
       "    .dataframe thead th {\n",
       "        text-align: right;\n",
       "    }\n",
       "</style>\n",
       "<table border=\"1\" class=\"dataframe\">\n",
       "  <thead>\n",
       "    <tr style=\"text-align: right;\">\n",
       "      <th></th>\n",
       "      <th>A</th>\n",
       "      <th>B</th>\n",
       "      <th>categoria</th>\n",
       "      <th>C</th>\n",
       "      <th>D</th>\n",
       "    </tr>\n",
       "  </thead>\n",
       "  <tbody>\n",
       "    <tr>\n",
       "      <th>0</th>\n",
       "      <td>1</td>\n",
       "      <td>2</td>\n",
       "      <td>a</td>\n",
       "      <td>NaN</td>\n",
       "      <td>NaN</td>\n",
       "    </tr>\n",
       "    <tr>\n",
       "      <th>1</th>\n",
       "      <td>3</td>\n",
       "      <td>4</td>\n",
       "      <td>b</td>\n",
       "      <td>30.0</td>\n",
       "      <td>40.0</td>\n",
       "    </tr>\n",
       "    <tr>\n",
       "      <th>2</th>\n",
       "      <td>5</td>\n",
       "      <td>6</td>\n",
       "      <td>c</td>\n",
       "      <td>10.0</td>\n",
       "      <td>20.0</td>\n",
       "    </tr>\n",
       "  </tbody>\n",
       "</table>\n",
       "</div>"
      ],
      "text/plain": [
       "   A  B categoria     C     D\n",
       "0  1  2         a   NaN   NaN\n",
       "1  3  4         b  30.0  40.0\n",
       "2  5  6         c  10.0  20.0"
      ]
     },
     "execution_count": 13,
     "metadata": {},
     "output_type": "execute_result"
    }
   ],
   "source": [
    "df1.merge(df2, how=\"left\", on=\"categoria\")"
   ]
  },
  {
   "cell_type": "markdown",
   "metadata": {},
   "source": [
    "### Estadística Descriptiva y Agregación de Datos\n",
    "Una forma de darle sentido a grandes conjuntos de datos es calcular un estadístico descriptivo como la suma o la media en todo el conjunto de datos o en un subconjunto significativo.\n",
    "\n",
    "#### Estadísticos Descriptivos\n",
    "Los Estadísticos Descriptivos le permiten resumir un conjunto de datos mediante el uso de medidas cuantitativas. Por ejemplo, el número de puntos de datos es un estadístico descriptivo simple. Los promedios como la media, la mediana o la moda son otros ejemplos populares. Los DataFrames y las Series le permiten tener acceso a estadísticos descriptivos convenientemente por medio de métodos como **sum**, **mean** y **count**, para nombrar unos pocos. Por defecto, ellos retornan una Series a lo largo del eje 0 (axis=0), lo cual significa que se obtiene el estadístico de las columnas."
   ]
  },
  {
   "cell_type": "code",
   "execution_count": 15,
   "metadata": {},
   "outputs": [
    {
     "data": {
      "text/html": [
       "<div>\n",
       "<style scoped>\n",
       "    .dataframe tbody tr th:only-of-type {\n",
       "        vertical-align: middle;\n",
       "    }\n",
       "\n",
       "    .dataframe tbody tr th {\n",
       "        vertical-align: top;\n",
       "    }\n",
       "\n",
       "    .dataframe thead th {\n",
       "        text-align: right;\n",
       "    }\n",
       "</style>\n",
       "<table border=\"1\" class=\"dataframe\">\n",
       "  <thead>\n",
       "    <tr style=\"text-align: right;\">\n",
       "      <th></th>\n",
       "      <th>City 1</th>\n",
       "      <th>City 2</th>\n",
       "      <th>City 3</th>\n",
       "    </tr>\n",
       "  </thead>\n",
       "  <tbody>\n",
       "    <tr>\n",
       "      <th>0</th>\n",
       "      <td>300.1</td>\n",
       "      <td>400.3</td>\n",
       "      <td>1000.5</td>\n",
       "    </tr>\n",
       "    <tr>\n",
       "      <th>1</th>\n",
       "      <td>100.2</td>\n",
       "      <td>300.4</td>\n",
       "      <td>1100.6</td>\n",
       "    </tr>\n",
       "  </tbody>\n",
       "</table>\n",
       "</div>"
      ],
      "text/plain": [
       "   City 1  City 2  City 3\n",
       "0   300.1   400.3  1000.5\n",
       "1   100.2   300.4  1100.6"
      ]
     },
     "execution_count": 15,
     "metadata": {},
     "output_type": "execute_result"
    }
   ],
   "source": [
    "rainfall"
   ]
  },
  {
   "cell_type": "code",
   "execution_count": 16,
   "metadata": {},
   "outputs": [
    {
     "data": {
      "text/plain": [
       "City 1     200.15\n",
       "City 2     350.35\n",
       "City 3    1050.55\n",
       "dtype: float64"
      ]
     },
     "execution_count": 16,
     "metadata": {},
     "output_type": "execute_result"
    }
   ],
   "source": [
    "rainfall.mean()"
   ]
  },
  {
   "cell_type": "code",
   "execution_count": 18,
   "metadata": {},
   "outputs": [
    {
     "data": {
      "text/plain": [
       "0    566.966667\n",
       "1    500.400000\n",
       "dtype: float64"
      ]
     },
     "execution_count": 18,
     "metadata": {},
     "output_type": "execute_result"
    }
   ],
   "source": [
    "rainfall.mean(axis=1) #Por defecto no se tienen en cuenta los NaN en sum y mean."
   ]
  },
  {
   "cell_type": "markdown",
   "metadata": {},
   "source": [
    "#### Agrupamiento\n",
    "La obtención de un estadístico a través de todas las filas de un DataFrame algunas veces no es suficientemente bueno y se necesita una información más granular, por ejemplo, la media por categoría. A continuación se verá cómo se hace. Si se desea calcular el puntaje promedio del DataFrame df , por continente, primero se agrupan las filas por continente y luego se calcula la media **por grupo**. Se excluyen automáticamente todas las columnas no numéricas.\n",
    "\n"
   ]
  },
  {
   "cell_type": "code",
   "execution_count": 29,
   "metadata": {},
   "outputs": [
    {
     "data": {
      "text/html": [
       "<div>\n",
       "<style scoped>\n",
       "    .dataframe tbody tr th:only-of-type {\n",
       "        vertical-align: middle;\n",
       "    }\n",
       "\n",
       "    .dataframe tbody tr th {\n",
       "        vertical-align: top;\n",
       "    }\n",
       "\n",
       "    .dataframe thead th {\n",
       "        text-align: right;\n",
       "    }\n",
       "</style>\n",
       "<table border=\"1\" class=\"dataframe\">\n",
       "  <thead>\n",
       "    <tr style=\"text-align: right;\">\n",
       "      <th>propiedades</th>\n",
       "      <th>edad</th>\n",
       "      <th>puntaje</th>\n",
       "    </tr>\n",
       "    <tr>\n",
       "      <th>continente</th>\n",
       "      <th></th>\n",
       "      <th></th>\n",
       "    </tr>\n",
       "  </thead>\n",
       "  <tbody>\n",
       "    <tr>\n",
       "      <th>America</th>\n",
       "      <td>37.0</td>\n",
       "      <td>5.30</td>\n",
       "    </tr>\n",
       "    <tr>\n",
       "      <th>Europe</th>\n",
       "      <td>33.5</td>\n",
       "      <td>6.75</td>\n",
       "    </tr>\n",
       "  </tbody>\n",
       "</table>\n",
       "</div>"
      ],
      "text/plain": [
       "propiedades  edad  puntaje\n",
       "continente                \n",
       "America      37.0     5.30\n",
       "Europe       33.5     6.75"
      ]
     },
     "execution_count": 29,
     "metadata": {},
     "output_type": "execute_result"
    }
   ],
   "source": [
    "df.groupby([\"continente\"]).mean()"
   ]
  },
  {
   "cell_type": "code",
   "execution_count": 30,
   "metadata": {},
   "outputs": [
    {
     "data": {
      "text/html": [
       "<div>\n",
       "<style scoped>\n",
       "    .dataframe tbody tr th:only-of-type {\n",
       "        vertical-align: middle;\n",
       "    }\n",
       "\n",
       "    .dataframe tbody tr th {\n",
       "        vertical-align: top;\n",
       "    }\n",
       "\n",
       "    .dataframe thead th {\n",
       "        text-align: right;\n",
       "    }\n",
       "</style>\n",
       "<table border=\"1\" class=\"dataframe\">\n",
       "  <thead>\n",
       "    <tr style=\"text-align: right;\">\n",
       "      <th></th>\n",
       "      <th>propiedades</th>\n",
       "      <th>edad</th>\n",
       "      <th>puntaje</th>\n",
       "    </tr>\n",
       "    <tr>\n",
       "      <th>continente</th>\n",
       "      <th>pais</th>\n",
       "      <th></th>\n",
       "      <th></th>\n",
       "    </tr>\n",
       "  </thead>\n",
       "  <tbody>\n",
       "    <tr>\n",
       "      <th>America</th>\n",
       "      <th>USA</th>\n",
       "      <td>37.0</td>\n",
       "      <td>5.3</td>\n",
       "    </tr>\n",
       "    <tr>\n",
       "      <th rowspan=\"2\" valign=\"top\">Europe</th>\n",
       "      <th>Germany</th>\n",
       "      <td>12.0</td>\n",
       "      <td>9.0</td>\n",
       "    </tr>\n",
       "    <tr>\n",
       "      <th>Italy</th>\n",
       "      <td>55.0</td>\n",
       "      <td>4.5</td>\n",
       "    </tr>\n",
       "  </tbody>\n",
       "</table>\n",
       "</div>"
      ],
      "text/plain": [
       "propiedades         edad  puntaje\n",
       "continente pais                  \n",
       "America    USA      37.0      5.3\n",
       "Europe     Germany  12.0      9.0\n",
       "           Italy    55.0      4.5"
      ]
     },
     "execution_count": 30,
     "metadata": {},
     "output_type": "execute_result"
    }
   ],
   "source": [
    "df.groupby([\"continente\", \"pais\"]).mean()"
   ]
  },
  {
   "cell_type": "code",
   "execution_count": 32,
   "metadata": {},
   "outputs": [
    {
     "data": {
      "text/html": [
       "<div>\n",
       "<style scoped>\n",
       "    .dataframe tbody tr th:only-of-type {\n",
       "        vertical-align: middle;\n",
       "    }\n",
       "\n",
       "    .dataframe tbody tr th {\n",
       "        vertical-align: top;\n",
       "    }\n",
       "\n",
       "    .dataframe thead th {\n",
       "        text-align: right;\n",
       "    }\n",
       "</style>\n",
       "<table border=\"1\" class=\"dataframe\">\n",
       "  <thead>\n",
       "    <tr style=\"text-align: right;\">\n",
       "      <th>propiedades</th>\n",
       "      <th>edad</th>\n",
       "      <th>puntaje</th>\n",
       "      <th>continente</th>\n",
       "    </tr>\n",
       "    <tr>\n",
       "      <th>user_id</th>\n",
       "      <th></th>\n",
       "      <th></th>\n",
       "      <th></th>\n",
       "    </tr>\n",
       "  </thead>\n",
       "  <tbody>\n",
       "    <tr>\n",
       "      <th>1001</th>\n",
       "      <td>55</td>\n",
       "      <td>4.5</td>\n",
       "      <td>Europe</td>\n",
       "    </tr>\n",
       "    <tr>\n",
       "      <th>1000</th>\n",
       "      <td>33</td>\n",
       "      <td>6.7</td>\n",
       "      <td>America</td>\n",
       "    </tr>\n",
       "    <tr>\n",
       "      <th>1002</th>\n",
       "      <td>41</td>\n",
       "      <td>3.9</td>\n",
       "      <td>America</td>\n",
       "    </tr>\n",
       "    <tr>\n",
       "      <th>1003</th>\n",
       "      <td>12</td>\n",
       "      <td>9.0</td>\n",
       "      <td>Europe</td>\n",
       "    </tr>\n",
       "  </tbody>\n",
       "</table>\n",
       "</div>"
      ],
      "text/plain": [
       "propiedades  edad  puntaje continente\n",
       "user_id                              \n",
       "1001           55      4.5     Europe\n",
       "1000           33      6.7    America\n",
       "1002           41      3.9    America\n",
       "1003           12      9.0     Europe"
      ]
     },
     "execution_count": 32,
     "metadata": {},
     "output_type": "execute_result"
    }
   ],
   "source": [
    "#Se puede obtener un estadístico con una función definida por el usuario.\n",
    "seleccion = df.loc[:, [\"edad\", \"puntaje\", \"continente\"]]\n",
    "seleccion"
   ]
  },
  {
   "cell_type": "code",
   "execution_count": 35,
   "metadata": {},
   "outputs": [
    {
     "data": {
      "text/html": [
       "<div>\n",
       "<style scoped>\n",
       "    .dataframe tbody tr th:only-of-type {\n",
       "        vertical-align: middle;\n",
       "    }\n",
       "\n",
       "    .dataframe tbody tr th {\n",
       "        vertical-align: top;\n",
       "    }\n",
       "\n",
       "    .dataframe thead th {\n",
       "        text-align: right;\n",
       "    }\n",
       "</style>\n",
       "<table border=\"1\" class=\"dataframe\">\n",
       "  <thead>\n",
       "    <tr style=\"text-align: right;\">\n",
       "      <th>propiedades</th>\n",
       "      <th>edad</th>\n",
       "      <th>puntaje</th>\n",
       "    </tr>\n",
       "    <tr>\n",
       "      <th>continente</th>\n",
       "      <th></th>\n",
       "      <th></th>\n",
       "    </tr>\n",
       "  </thead>\n",
       "  <tbody>\n",
       "    <tr>\n",
       "      <th>America</th>\n",
       "      <td>8</td>\n",
       "      <td>2.8</td>\n",
       "    </tr>\n",
       "    <tr>\n",
       "      <th>Europe</th>\n",
       "      <td>43</td>\n",
       "      <td>4.5</td>\n",
       "    </tr>\n",
       "  </tbody>\n",
       "</table>\n",
       "</div>"
      ],
      "text/plain": [
       "propiedades  edad  puntaje\n",
       "continente                \n",
       "America         8      2.8\n",
       "Europe         43      4.5"
      ]
     },
     "execution_count": 35,
     "metadata": {},
     "output_type": "execute_result"
    }
   ],
   "source": [
    "seleccion.groupby([\"continente\"]).agg(lambda x: x.max() - x.min())"
   ]
  },
  {
   "cell_type": "markdown",
   "metadata": {},
   "source": [
    "### Pivotando y fundiendo\n",
    "Una pivot_table de pandas es similar a una tabla pivot de Excel. \n"
   ]
  },
  {
   "cell_type": "code",
   "execution_count": 36,
   "metadata": {},
   "outputs": [
    {
     "data": {
      "text/plain": [
       "[['Oranges', 'North', 12.3],\n",
       " ['Apples', 'South', 10.55],\n",
       " ['Oranges', 'South', 22.0],\n",
       " ['Bananas', 'South', 5.9],\n",
       " ['Bananas', 'North', 31.3],\n",
       " ['Oranges', 'North', 13.1]]"
      ]
     },
     "execution_count": 36,
     "metadata": {},
     "output_type": "execute_result"
    }
   ],
   "source": [
    "data = [[\"Oranges\", \"North\", 12.30], \n",
    "        [\"Apples\", \"South\", 10.55], \n",
    "        [\"Oranges\", \"South\", 22.00], \n",
    "        [\"Bananas\", \"South\", 5.90], \n",
    "        [\"Bananas\", \"North\", 31.30], \n",
    "        [\"Oranges\", \"North\", 13.10]]\n",
    "data"
   ]
  },
  {
   "cell_type": "code",
   "execution_count": 37,
   "metadata": {},
   "outputs": [
    {
     "data": {
      "text/html": [
       "<div>\n",
       "<style scoped>\n",
       "    .dataframe tbody tr th:only-of-type {\n",
       "        vertical-align: middle;\n",
       "    }\n",
       "\n",
       "    .dataframe tbody tr th {\n",
       "        vertical-align: top;\n",
       "    }\n",
       "\n",
       "    .dataframe thead th {\n",
       "        text-align: right;\n",
       "    }\n",
       "</style>\n",
       "<table border=\"1\" class=\"dataframe\">\n",
       "  <thead>\n",
       "    <tr style=\"text-align: right;\">\n",
       "      <th></th>\n",
       "      <th>Fruta</th>\n",
       "      <th>Region</th>\n",
       "      <th>Ingresos</th>\n",
       "    </tr>\n",
       "  </thead>\n",
       "  <tbody>\n",
       "    <tr>\n",
       "      <th>0</th>\n",
       "      <td>Oranges</td>\n",
       "      <td>North</td>\n",
       "      <td>12.30</td>\n",
       "    </tr>\n",
       "    <tr>\n",
       "      <th>1</th>\n",
       "      <td>Apples</td>\n",
       "      <td>South</td>\n",
       "      <td>10.55</td>\n",
       "    </tr>\n",
       "    <tr>\n",
       "      <th>2</th>\n",
       "      <td>Oranges</td>\n",
       "      <td>South</td>\n",
       "      <td>22.00</td>\n",
       "    </tr>\n",
       "    <tr>\n",
       "      <th>3</th>\n",
       "      <td>Bananas</td>\n",
       "      <td>South</td>\n",
       "      <td>5.90</td>\n",
       "    </tr>\n",
       "    <tr>\n",
       "      <th>4</th>\n",
       "      <td>Bananas</td>\n",
       "      <td>North</td>\n",
       "      <td>31.30</td>\n",
       "    </tr>\n",
       "    <tr>\n",
       "      <th>5</th>\n",
       "      <td>Oranges</td>\n",
       "      <td>North</td>\n",
       "      <td>13.10</td>\n",
       "    </tr>\n",
       "  </tbody>\n",
       "</table>\n",
       "</div>"
      ],
      "text/plain": [
       "     Fruta Region  Ingresos\n",
       "0  Oranges  North     12.30\n",
       "1   Apples  South     10.55\n",
       "2  Oranges  South     22.00\n",
       "3  Bananas  South      5.90\n",
       "4  Bananas  North     31.30\n",
       "5  Oranges  North     13.10"
      ]
     },
     "execution_count": 37,
     "metadata": {},
     "output_type": "execute_result"
    }
   ],
   "source": [
    "ventas = pd.DataFrame(data=data, columns=[\"Fruta\", \"Region\", \"Ingresos\"])\n",
    "ventas"
   ]
  },
  {
   "cell_type": "markdown",
   "metadata": {},
   "source": [
    "Para crear una tabla pivot con pandas (pd.pivot_table()), el primer argumento que se debe suministrar es el DataFrame original. Los argumentos segundo y tercero son **index** y **columns**. El argumento **index** define cual columna del DataFrame llegará a ser la etiqueta de la fila, mientras que el argumento **columns** establece las etiquetas de las columnas que se presentarán en la tabla pivot.\n",
    "El argumento **values** será el agregado dentro de la parte de datos del DataFrame resultante mediante el uso de **aggfunc**, la cual es una función que puede ser provista como una cadena o una función ufunc NumPy. El argumento **margins** corresponde al \"Gran Total\" de Excel, si se dejan por fuera a **margins** y **margins_name**, el Total de las filas y las columnas no serán mostrados.      "
   ]
  },
  {
   "cell_type": "code",
   "execution_count": 41,
   "metadata": {},
   "outputs": [
    {
     "data": {
      "text/html": [
       "<div>\n",
       "<style scoped>\n",
       "    .dataframe tbody tr th:only-of-type {\n",
       "        vertical-align: middle;\n",
       "    }\n",
       "\n",
       "    .dataframe tbody tr th {\n",
       "        vertical-align: top;\n",
       "    }\n",
       "\n",
       "    .dataframe thead th {\n",
       "        text-align: right;\n",
       "    }\n",
       "</style>\n",
       "<table border=\"1\" class=\"dataframe\">\n",
       "  <thead>\n",
       "    <tr style=\"text-align: right;\">\n",
       "      <th>Region</th>\n",
       "      <th>North</th>\n",
       "      <th>South</th>\n",
       "      <th>Total</th>\n",
       "    </tr>\n",
       "    <tr>\n",
       "      <th>Fruta</th>\n",
       "      <th></th>\n",
       "      <th></th>\n",
       "      <th></th>\n",
       "    </tr>\n",
       "  </thead>\n",
       "  <tbody>\n",
       "    <tr>\n",
       "      <th>Apples</th>\n",
       "      <td>NaN</td>\n",
       "      <td>10.55</td>\n",
       "      <td>10.55</td>\n",
       "    </tr>\n",
       "    <tr>\n",
       "      <th>Bananas</th>\n",
       "      <td>31.3</td>\n",
       "      <td>5.90</td>\n",
       "      <td>37.20</td>\n",
       "    </tr>\n",
       "    <tr>\n",
       "      <th>Oranges</th>\n",
       "      <td>25.4</td>\n",
       "      <td>22.00</td>\n",
       "      <td>47.40</td>\n",
       "    </tr>\n",
       "    <tr>\n",
       "      <th>Total</th>\n",
       "      <td>56.7</td>\n",
       "      <td>38.45</td>\n",
       "      <td>95.15</td>\n",
       "    </tr>\n",
       "  </tbody>\n",
       "</table>\n",
       "</div>"
      ],
      "text/plain": [
       "Region   North  South  Total\n",
       "Fruta                       \n",
       "Apples     NaN  10.55  10.55\n",
       "Bananas   31.3   5.90  37.20\n",
       "Oranges   25.4  22.00  47.40\n",
       "Total     56.7  38.45  95.15"
      ]
     },
     "execution_count": 41,
     "metadata": {},
     "output_type": "execute_result"
    }
   ],
   "source": [
    "pivot = pd.pivot_table(ventas, index=\"Fruta\", columns=\"Region\", \n",
    "                       values=\"Ingresos\", aggfunc=\"sum\", \n",
    "                       margins=True, margins_name=\"Total\")\n",
    "pivot\n",
    "#Es como el \"formato ancho\" de R."
   ]
  },
  {
   "cell_type": "code",
   "execution_count": 42,
   "metadata": {},
   "outputs": [
    {
     "data": {
      "text/html": [
       "<div>\n",
       "<style scoped>\n",
       "    .dataframe tbody tr th:only-of-type {\n",
       "        vertical-align: middle;\n",
       "    }\n",
       "\n",
       "    .dataframe tbody tr th {\n",
       "        vertical-align: top;\n",
       "    }\n",
       "\n",
       "    .dataframe thead th {\n",
       "        text-align: right;\n",
       "    }\n",
       "</style>\n",
       "<table border=\"1\" class=\"dataframe\">\n",
       "  <thead>\n",
       "    <tr style=\"text-align: right;\">\n",
       "      <th>Fruta</th>\n",
       "      <th>Apples</th>\n",
       "      <th>Bananas</th>\n",
       "      <th>Oranges</th>\n",
       "      <th>Total</th>\n",
       "    </tr>\n",
       "    <tr>\n",
       "      <th>Region</th>\n",
       "      <th></th>\n",
       "      <th></th>\n",
       "      <th></th>\n",
       "      <th></th>\n",
       "    </tr>\n",
       "  </thead>\n",
       "  <tbody>\n",
       "    <tr>\n",
       "      <th>North</th>\n",
       "      <td>NaN</td>\n",
       "      <td>31.3</td>\n",
       "      <td>25.4</td>\n",
       "      <td>56.70</td>\n",
       "    </tr>\n",
       "    <tr>\n",
       "      <th>South</th>\n",
       "      <td>10.55</td>\n",
       "      <td>5.9</td>\n",
       "      <td>22.0</td>\n",
       "      <td>38.45</td>\n",
       "    </tr>\n",
       "    <tr>\n",
       "      <th>Total</th>\n",
       "      <td>10.55</td>\n",
       "      <td>37.2</td>\n",
       "      <td>47.4</td>\n",
       "      <td>95.15</td>\n",
       "    </tr>\n",
       "  </tbody>\n",
       "</table>\n",
       "</div>"
      ],
      "text/plain": [
       "Fruta   Apples  Bananas  Oranges  Total\n",
       "Region                                 \n",
       "North      NaN     31.3     25.4  56.70\n",
       "South    10.55      5.9     22.0  38.45\n",
       "Total    10.55     37.2     47.4  95.15"
      ]
     },
     "execution_count": 42,
     "metadata": {},
     "output_type": "execute_result"
    }
   ],
   "source": [
    "pivot1 = pd.pivot_table(ventas, index=\"Region\", columns=\"Fruta\", \n",
    "                       values=\"Ingresos\", aggfunc=\"sum\", \n",
    "                       margins=True, margins_name=\"Total\")\n",
    "pivot1"
   ]
  },
  {
   "cell_type": "code",
   "execution_count": 45,
   "metadata": {},
   "outputs": [
    {
     "data": {
      "text/html": [
       "<div>\n",
       "<style scoped>\n",
       "    .dataframe tbody tr th:only-of-type {\n",
       "        vertical-align: middle;\n",
       "    }\n",
       "\n",
       "    .dataframe tbody tr th {\n",
       "        vertical-align: top;\n",
       "    }\n",
       "\n",
       "    .dataframe thead th {\n",
       "        text-align: right;\n",
       "    }\n",
       "</style>\n",
       "<table border=\"1\" class=\"dataframe\">\n",
       "  <thead>\n",
       "    <tr style=\"text-align: right;\">\n",
       "      <th></th>\n",
       "      <th>Fruta</th>\n",
       "      <th>Region</th>\n",
       "      <th>Ingresos</th>\n",
       "    </tr>\n",
       "  </thead>\n",
       "  <tbody>\n",
       "    <tr>\n",
       "      <th>0</th>\n",
       "      <td>Apples</td>\n",
       "      <td>North</td>\n",
       "      <td>NaN</td>\n",
       "    </tr>\n",
       "    <tr>\n",
       "      <th>1</th>\n",
       "      <td>Bananas</td>\n",
       "      <td>North</td>\n",
       "      <td>31.30</td>\n",
       "    </tr>\n",
       "    <tr>\n",
       "      <th>2</th>\n",
       "      <td>Oranges</td>\n",
       "      <td>North</td>\n",
       "      <td>25.40</td>\n",
       "    </tr>\n",
       "    <tr>\n",
       "      <th>3</th>\n",
       "      <td>Apples</td>\n",
       "      <td>South</td>\n",
       "      <td>10.55</td>\n",
       "    </tr>\n",
       "    <tr>\n",
       "      <th>4</th>\n",
       "      <td>Bananas</td>\n",
       "      <td>South</td>\n",
       "      <td>5.90</td>\n",
       "    </tr>\n",
       "    <tr>\n",
       "      <th>5</th>\n",
       "      <td>Oranges</td>\n",
       "      <td>South</td>\n",
       "      <td>22.00</td>\n",
       "    </tr>\n",
       "  </tbody>\n",
       "</table>\n",
       "</div>"
      ],
      "text/plain": [
       "     Fruta Region  Ingresos\n",
       "0   Apples  North       NaN\n",
       "1  Bananas  North     31.30\n",
       "2  Oranges  North     25.40\n",
       "3   Apples  South     10.55\n",
       "4  Bananas  South      5.90\n",
       "5  Oranges  South     22.00"
      ]
     },
     "execution_count": 45,
     "metadata": {},
     "output_type": "execute_result"
    }
   ],
   "source": [
    "#Si lo que se quiere es un solo valor para una combinación de Fruta - Región\n",
    "# se usa la función melt(). Esta es como lo contrario de pivot.\n",
    "pd.melt(pivot.iloc[:-1, :-1].reset_index(), id_vars=\"Fruta\", \n",
    "                                            value_vars=[\"North\", \"South\"], \n",
    "                                            value_name=\"Ingresos\")\n",
    "#Es como \"el formato largo\" de R."
   ]
  },
  {
   "cell_type": "markdown",
   "metadata": {},
   "source": [
    "### Plotting (Graficación)\n",
    "Mientras que Excel usa el término **charts (gráficos)**, pandas se refiere a ellos como **plots**.\n",
    "El **plotting** le permite visualizar los hallazgos de su análisis de datos y puede ser el paso más importante de todo el proceso. Para el **plotting** se usará la librería por defecto de pandas que es **Matplotlib**. Luego se usará la librería **Plotly**, una librería más moderna que ofrece una experiencia más interactiva en Jupyter notebooks.\n",
    "\n",
    "#### Matplotlib\n",
    "Cuando se llama el método **plot** de un DataFrame, pandas producirá por defecto un plot de Matplotlib.\n",
    "Para poder usar **Matplotlib** en un Jupiter notebook primero se necesita correr uno de los dos siguientes comandos mágicos: **%matplotlib inline** o **%matplotlib notebook**. Ellos configuran el notebook de forma que los plots pueden ser desplegados en el mismo notebook. El último de los comandos agrega un poco de más interactividad, permitiendo cambiar el tamaño o hacer zoom en el gráfico.   \n"
   ]
  },
  {
   "cell_type": "code",
   "execution_count": 52,
   "metadata": {},
   "outputs": [],
   "source": [
    "import numpy as np\n",
    "%matplotlib widget"
   ]
  },
  {
   "cell_type": "code",
   "execution_count": 54,
   "metadata": {},
   "outputs": [
    {
     "data": {
      "text/html": [
       "<div>\n",
       "<style scoped>\n",
       "    .dataframe tbody tr th:only-of-type {\n",
       "        vertical-align: middle;\n",
       "    }\n",
       "\n",
       "    .dataframe tbody tr th {\n",
       "        vertical-align: top;\n",
       "    }\n",
       "\n",
       "    .dataframe thead th {\n",
       "        text-align: right;\n",
       "    }\n",
       "</style>\n",
       "<table border=\"1\" class=\"dataframe\">\n",
       "  <thead>\n",
       "    <tr style=\"text-align: right;\">\n",
       "      <th>Region</th>\n",
       "      <th>East</th>\n",
       "      <th>West</th>\n",
       "      <th>North</th>\n",
       "      <th>South</th>\n",
       "    </tr>\n",
       "    <tr>\n",
       "      <th>Quarters</th>\n",
       "      <th></th>\n",
       "      <th></th>\n",
       "      <th></th>\n",
       "      <th></th>\n",
       "    </tr>\n",
       "  </thead>\n",
       "  <tbody>\n",
       "    <tr>\n",
       "      <th>Q1</th>\n",
       "      <td>26078.840044</td>\n",
       "      <td>92965.147142</td>\n",
       "      <td>53824.294418</td>\n",
       "      <td>60869.550134</td>\n",
       "    </tr>\n",
       "    <tr>\n",
       "      <th>Q2</th>\n",
       "      <td>80654.661793</td>\n",
       "      <td>99213.656103</td>\n",
       "      <td>84878.558609</td>\n",
       "      <td>57669.250234</td>\n",
       "    </tr>\n",
       "    <tr>\n",
       "      <th>Q3</th>\n",
       "      <td>58253.397595</td>\n",
       "      <td>74979.793908</td>\n",
       "      <td>25306.573001</td>\n",
       "      <td>22209.512255</td>\n",
       "    </tr>\n",
       "    <tr>\n",
       "      <th>Q4</th>\n",
       "      <td>75222.478345</td>\n",
       "      <td>7834.838624</td>\n",
       "      <td>84503.188551</td>\n",
       "      <td>67798.130196</td>\n",
       "    </tr>\n",
       "  </tbody>\n",
       "</table>\n",
       "</div>"
      ],
      "text/plain": [
       "Region            East          West         North         South\n",
       "Quarters                                                        \n",
       "Q1        26078.840044  92965.147142  53824.294418  60869.550134\n",
       "Q2        80654.661793  99213.656103  84878.558609  57669.250234\n",
       "Q3        58253.397595  74979.793908  25306.573001  22209.512255\n",
       "Q4        75222.478345   7834.838624  84503.188551  67798.130196"
      ]
     },
     "execution_count": 54,
     "metadata": {},
     "output_type": "execute_result"
    }
   ],
   "source": [
    "#Se crea un DataFrame usando datos creados con NumPy.\n",
    "#Esto permite apalancarse en los constructores de NumPy.\n",
    "data = pd.DataFrame(data=np.random.rand(4, 4) * 100000, \n",
    "                    index=[\"Q1\", \"Q2\", \"Q3\", \"Q4\"], \n",
    "                    columns=[\"East\", \"West\", \"North\", \"South\"])\n",
    "data.index.name = \"Quarters\"\n",
    "data.columns.name = \"Region\"\n",
    "data"
   ]
  },
  {
   "cell_type": "code",
   "execution_count": 55,
   "metadata": {},
   "outputs": [
    {
     "data": {
      "text/plain": [
       "<AxesSubplot:xlabel='Quarters'>"
      ]
     },
     "execution_count": 55,
     "metadata": {},
     "output_type": "execute_result"
    },
    {
     "data": {
      "application/vnd.jupyter.widget-view+json": {
       "model_id": "6d00dbd8559f468f97e43811b6872ded",
       "version_major": 2,
       "version_minor": 0
      },
      "image/png": "[encoded data removed]",
      "text/html": [
       "\n",
       "            <div style=\"display: inline-block;\">\n",
       "                <div class=\"jupyter-widgets widget-label\" style=\"text-align: center;\">\n",
       "                    Figure\n",
       "                </div>\n",
       "                <img src='data:image/png;base64,iVBORw0KGgoAAAANSUhEUgAAAbAAAAEgCAYAAADVKCZpAAAAOXRFWHRTb2Z0d2FyZQBNYXRwbG90bGliIHZlcnNpb24zLjUuMiwgaHR0cHM6Ly9tYXRwbG90bGliLm9yZy8qNh9FAAAACXBIWXMAAAsTAAALEwEAmpwYAABmuUlEQVR4nO3dd3gUxRvA8e+kJ4QkkFATIKFIDR3p1QIIKFVUepWmIKAUpSiCoDRBei/SpIii/BAxFOkBQu8EUkgghfR+N78/7kBQWpK73F0yn+e5h7u93dl3cyTvze7sO0JKiaIoiqJYGitTB6AoiqIoWaESmKIoimKRVAJTFEVRLJJKYIqiKIpFUglMURRFsUgqgSmKoigWSSUwRVEUxSKpBKYoiqJYJJXAFEVRFIukEpiiKIpikVQCUxRFUSySSmCKoiiKRVIJTFEURbFIKoEpiqIoFkklMEVRFMUiqQSmKIqiWCSVwBRFURSLpBKYoiiKYpFUAlMURVEskkpgiqIoikVSCUxRFEWxSCqBKYqiKBZJJTBFURTFIqkEpiiKolgklcAURVEUi6QSmKIoimKRVAJTFEVRLJJKYIqiKIpFUglMURRFsUgqgSmKoigWSSUwRVEUxSKpBKYoiqJYJJXAFEVRFIukEpiiKIpikWxMHYCxeHh4SG9vb1OHoSiKYlFOnToVKaUsZOo4XkauTWDe3t74+/ubOgxFURSLIoS4Y+oYXpY6hagoiqJYJJXAFEVRFIv00glMCLFSCHFfCHHhsWUFhRB7hRDX9f8W0C8XQoh5QogbQohzQoiaj23TS7/+dSFEr8eW1xJCnNdvM08IIZ63D0VRFCVvy0wPbDXQ6l/LxgL7pJTlgH361wCtgXL6x0BgEeiSETAJqAu8Ckx6LCEtAgY8tl2rF+xDURRFycNeOoFJKQ8C0f9a/A6wRv98DdD+seVrpc4xwE0IUQxoCeyVUkZLKR8Ae4FW+vdcpJTHpJQSWPuvtp62D0VRFCUPy+41sCJSyjD983CgiP65JxD82Hoh+mXPWx7ylOXP24eiKIqShxlsEIe+5yQN1V5W9iGEGCiE8BdC+EdERBgzFCWnpCdDxFW46QcpcaaORlEUM5Ld+8DuCSGKSSnD9KcB7+uXhwIlHlvPS78sFGj2r+X79cu9nrL+8/bxH1LKpcBSgNq1axs1mSoGIiUk3IcHtx97BP7zPD7sn3UdC0KjEVBnANg5mSJaRVHMSHYT2C9AL2C6/t+djy0fJoTYhG7ARqw+Ae0Bpj02cONNYJyUMloIESeEqAccB3oC81+wD8VSpCdDTJAuIUUH/itZ3YaM5CfXd/GEAt5QpoXu3wLe4OAKJ5bC3olwdAE0Hg21eoGNfc4ei6IoZkPozsq9xIpCbETXe/IA7qEbTfgzsAUoCdwB3tUnIwH8gG4kYRLQR0rpr2+nLzBe3+xUKeUq/fLa6EY6OgK7gY+klFII4f60fbwo3tq1a0tViSOHPOpFPSU5/bsXBWCb75/E9O+HW0mwdXj2vu4chb++hjt/g4sXNP0Mqn8A1rZGODBFyXuEEKeklLVNHcfLeOkEZmlUAjOw9GR4cOfpCeo/vSgBLsWfkqB8dP/m8wDdbX5ZIyXc2g9/TYHQU1CwNDQbB1U6gZV11ttVFEUlMHOgElgmSQkJ956enKIDISH8yfX/3Ysq6PPPc9cSz+9FGTLma3t0PbJ756FQBWg+Hiq0AytVZEZRssKSEliuLearPMUze1GBuuXP6kWVff2/vans9qIMQQgo3wrKvQmXd4LfNNjSE4pWhRYToNwbpo9RURSjUT2w3ORpvajHB008rRf1eM/p8UdO9aIMSauBc1tg/zcQcwe8XoUWX0DppqaOTFEshiX1wFQCszRpSfoRfU8bMPG0XpTnswdMmEMvyhg06XBmPRz8DuJCwacJNP8CStY1dWSKYvZUAjMDFpvAHvainjbcPLO9KLeSeXuYeXoKnFoFh2ZBYoTuVGPzz6F4dVNHpihmSyUwM2DWCSwtSXeK66kj+l6yF/UwaTm5585elCGlJeruIft7LqTEQMW3dYM9Clc0dWSKYnZUAjMDJk1gWu2zR/Q9CNS99zg752cPOXcrkbd7UYaUEgtHF+puhE5LAN8u0GwsuJcxdWSKYjZUAjMDRk9gT+tFPTztF3MHMlIeW1nfiyroAwVKPZmgVC8q5yVFw+Hv4fgS0KRBjW7Q5DPdlwVFyeNUAjMD2U5g/+lF/eua1FN7UY8nKG/VizJ38ffg79ngv1L3ulZvaDwK8hc1aViKYkoqgZmBLCew40vg5Iqn96JcvfSJSfWicpXYEN2IxTPrwcoWXh0ADUdAPndTR6YoOc6SEpi6kfnf7JzBo5zuJljVi8obXL2g3ffQcDjsnwFH5ut6ZfWGQP2h4Ohm6ggVRXkK1QNTlH+7fwX2T4NLO8HBDRp+DK9+CPbOpo5MUYzOknpgqmCcovxb4Qrw7lr48CCUrAf7voLvq+lGL6anvHh7RVFyhEpgivIsxarBB5uh314oUhn2jId5NXTXSDPSTB2douR5KoEpyouUeBV6/QK9ftVdC/1tJPxQC878CJoMU0enKHmWSmCK8rJ8mkDfPdBtKzgWgJ1DYGE9uLBNd9uFoig5SiUwRckMIXQjVAcegK7rwcoGtvaFJY3hyu+6WpaKouQIlcAUJSuEgIrtYPBh6Lgc0pNg0/uwrAXc2KcSmaLkAJXAFCU7rKyhahcYehLe/kFX9X59R1j1Ftw5YuroFCVXUwlMUQzB2gZq9oCPTsFbMyH6JqxqDes6QMgpU0enKLmSSmCKYkg29rpSVB8HwBtT4G4ALG8BG9+H8Aumjk5RchWVwBTFGOycdBU8RpzTzQZ9+zAsbgg/9YGIa6aOTlFyBZXAFMWY7PND009hxFldpftre2BhXfh5iG5WA0VRskwlMEXJCY4F4LWJMPysrkjw+a0wvxbs+gRiQ00dnaJYJJXAFCUnOReCllNheADU7AWn1+nKU/1vPCREmDo6RbEoKoEpiim4FIe2s+Ejf/DtAscX6QoG//mlbsZoRVFeSCUwxexJKbkUdYk0TS4soFvAG9ovgKEnoHwr3QzR31eDA99CSpypo1MUs6YSmGLWIpMjGbl/JF13dWXcoXHk1vnr8CgHnVfCoMPg3Rj8puoS2eHvIS3J1NEpFiJdm84s/1lEJUeZOpQcoRKYYpaklPx+63fa72zPgZADNPVqyh93/mDtpbWmDs24ilaB9zfAgL+geA3YOxHmVYfjSyEj1dTRKWZutv9sVl9czcl7J00dSo5QCUwxOxFJEQz3G86YQ2Molb8UW9ttZX6L+bxR6g1mn5rNibATpg7R+DxrQY/t0Gc3uJeF3Z/qRi2eXguadFNHp5ihX2/+yvrL6+lesTutvFuZOpwcIXLrKZnatWtLf39/U4ehZIKUkl23djH9xHRSNakMqz6MHpV6YG1lDUBieiIf/PYBMakxbG67maL5ipo44hwiJdzyg7++htBTULA0NBsHVTrpajEqed6V6Cv0+L0HVTyqsPTNpdha2Wa5LSHEKSllbQOGZzSqB6aYhXuJ9/jor48Y//d4SruW5qd2P9G7Su9HyQsgn20+5jSfQ6omlU/8PiFVk0dOqQkBZVpA/33w3kawdYLtA2BRQ7j0i6p8n8fFpMQwwm8ELvYufNf0u2wlL0ujEphiUlJKdlzfQYedHTgedpzP6nzG6lar8XH1eer6pV1LM7XhVC5EXeCb49/kcLQmJgRUeAs+PASdV4E2A7b0gKVN4dofKpHlQRqthjGHxnA/6T5zms3Bw9HD1CHlKJXAFJMJTwxn8L7BTDwykXIFyrH17a1PnDJ8ltdKvUZ/3/5su76Nbde25VC0ZsTKCqp0hCHHoP0iSI6BDV1gZUsIPGjq6JQc9EPADxy5e4TxdcdTtVBVU4eT4wySwIQQnwghLgohLgghNgohHIQQPkKI40KIG0KIzUIIO/269vrXN/Tvez/Wzjj98qtCiJaPLW+lX3ZDCDHWEDErpiOlZNu1bXTY2YHT904z9tWxrGq1ilIupV66jWHVh1G/WH2mHp/Khcg8WuXd2gaqfwDD/KHtHIgJhjXtdI/gPDDQJY/7886fLD+/nE7lOtH5lc6mDscksj2IQwjhCfwNVJJSJgshtgC/A28B26WUm4QQi4GzUspFQoghQFUp5SAhxHtAByllVyFEJWAj8CpQHPgTeEW/m2vAG0AIcBJ4X0p56XlxqUEc5uluwl0mH5nM0bCj1Clahy8bfEmJ/CVeuN2DxDRcHW2xshL/LEt5wHu73kOLls1tN1PQoaAxQzd/6SngvxIOzYKkSCj3JrT4AopVM3VkioHdjLnJB799QFm3sqxqtQo7azuDtZ0XB3HYAI5CCBvACQgDWgBb9e+vAdrrn7+jf43+/deEEEK/fJOUMlVKGQjcQJfMXgVuSClvSSnTgE36dRULIqVky9UtdNjZgYCIAD6v+znL31z+Usnr8I1IXp32J2/MOcDWUyGka7QAFHAowJzmc4hOjuazA5+Roc0w9mGYN1sHqD9EVzD4tUm6XtiSJrC5B9y/bOroFAOJT4tnhN8IHGwcmNVslkGTl6XJdgKTUoYCM4EgdIkrFjgFxEgpH/5FCQE89c89gWD9thn69d0fX/6vbZ61XLEQIfEhDPhjAFOOTcHXw5cd7+zgvQrvYSVe/N/v+r14Bq0/RcmCTthaWzH6p7M0+24/647eJiVdQyX3SkyoP4Hj4ceZd2ZeDhyNBbB3hsYjdYms6Ri4+RcsrA/bBkDUTVNHp2SDVmoZ//d4guODmdV0Vt65leQZbLLbgBCiALoekQ8QA/wEmOQuOiHEQGAgQMmSJU0RgvIYrdSy+epm5pyag5WwYmL9iXQu1xldh/vFIuJT6bP6JA621qztV5firg78deU+P/jdYMLOi3y/7wYDGvvQrV5bLpS/wKoLq6jiXoU3vd808pFZCEc3aD4eXv0Qjnyvq+ZxYRvU6AZNPgO3F/d+FfOy9NxS9gfvZ0ydMdQuahFn+YzKEKcQXwcCpZQRUsp0YDvQEHDTn1IE8AIeTnoUCpQA0L/vCkQ9vvxf2zxr+X9IKZdKKWtLKWsXKlTIAIemZFVwXDD99vRj2vFp1Chcgx1v76DLK11eOnklp2nov9afyIRUVvSqjaebI0IIXqtYhO2DG7BxQD0qFsvPN7uv0HD6X9jHdaByQV8mHJ7AzRjVy3hCPnd44yvdFC51+sPZTTC/Jvz+KcSHmzo65SUdDDnIwoCFtCndhm4Vu5k6HLNgiEEcdYGVQB0gGVgN+ANNgG2PDeI4J6VcKIQYCvg+Noijo5TyXSFEZWAD/wzi2AeUAwS6QRyvoUtcJ4EPpJQXnxeXGsRhGlqpZcPlDcw7Mw9rYc1ndT6jfdn2L524ALRaydANp/nfxXAWd69Fy8rPPk0SEBzDQr8b/HHpHk6OCTj5zKdQPld+arcZZztnQxxS7hMTDAe/gzPrwdoOXh0ADUfoEp1iloLignjvt/fwdPZkbeu1ONo4Gm1fljSIwyClpIQQXwJdgQzgDNAf3XWqTUBB/bLuUspUIYQDsA6oAUQD70kpb+nb+Rzoq29nhJRyt375W8BcwBpYKaWc+qKYVALLeXfi7jDx8ERO3z9NI89GTKo/KUvn6L/ZfZklB27xRZuK9G9c+qW2uXYvnkX7b7Lr2t/Yl1hGMduaLGs5H28PlcSeKeomHJgB57aAnbNuAEj9oeDgaurIlMckpSfRfXd37ifdZ1ObTXjl9zLq/vJcAjNHKoHlHI1Ww/rL65l/Zj521naMqTOGt8u8nale10Mbjgcxfsd5etQrxVfvVM50G0FRSXy29wcupq4jLaIVb5XoxuBmZXilSP5Mx5Jn3L8MftPg8i/g4AYNP4a6g8Aun6kjy/OklHx28DP+uPMHi15bRAPPBkbfp0pgZkAlsJxxK/YWEw9P5GzEWZp6NWVi/YkUdiqcpbYOXougz+qTNC7nwfKetbGxztolWiklw/8ajV/IXjSh/UiKK0vLykUY0qws1Uq4ZanNPOFugC6RXd8D+QpBo5FQu69ueL5iEmsurmGm/0yG1xxOf9/+ObJPlcDMgEpgxqXRalh7aS0/nPkBBxsHxr46lral22ap1wVwNTyeTouO4FXAka2DG+Bsn70BsknpSXT7vRv3kyJ40206244nEpeSQeNyHgxpVpZ6pQtmOdZcL+g4+H2tK0uVvzg0GQ01eoBN3r3fyBSOhx1n4N6BtCjRgtnNZufY/1eVwMyASmDGczPmJhMOT+B85HlalGjBhPoTslVE9H5cCh0WHiFDq+XnoQ0p5mqYC9RBcUG8t+s9vPJ7sbD5Craeus/yQ4FEJqRSq1QBhjYvQ/PyhVUie5ZbB3RTuIScALdS0Gws+L6rK2GlGFVYQhhdd3WlgEMBNrTZQD7bnDudqxKYGVAJzPAytBmsvriahQELyWebj/F1x9PKu1W2EkBSWgbvLT3GjfsJbPmwPlU8DTuA4EDwAYb9NYy3y7zN1w2/JjVDy0/+wSw+cIvQmGQqFnNhSLMyvOVbDGsrlcj+Q0q4vhf+mgLh58C9HDQfB5U66IoKKwaXqkml1+5e3Im7w4Y2G545M4OxWFICU/8DlZdy/cF1uv/ene9Pf0+zEs3Y8c4OWvu0zlby0mglwzcFcCE0lvnv1zB48gJoWqIpg6oN4pebv7Dl6hYcbK3pUd+b/Z82Y2aXaqRmaPho4xlen32ALSeDScvQGjwGiyYEvPImfHgQ3l2nm0Bza19Y0hiu/K6mcDEwKSVfH/uai1EXmdZoWqaTV2RCKqsOBxIRnzfmylM9MOW50rXprDi/giXnluBi58L4uuNp6d3yxRu+hK93XWL534FMbleJ3g2N9y1TK7UM2zeMo2FHWdVyFdULV3/0nkYr+eNiOD/43eDi3TiKuTowsElp3qtTEkc7Ndvxf2g1umoeftPgQSCUeQ0+2KJOKxrI5iub+fr413xY9UOG1Rj2Utskp2nYe/keP58J5cC1CDRaycwu1ehcK2vD7S2pB6YSmPJMV6OvMuHwBC5HX6aVdyvG1R1nsIrv647eZsLOi/Ru4M3ktysbpM3niU2N5b1d75GmSWNzu83/uWYnpeTAtQgW+t3kxO1o3PPZ0beRDz3ql8LFIe/McPvSNOlwbCHsnQjNv4Cmn5o6IosXcD+APnv6UL9YfX547Yfn1grVaiXHbkWx/Uwo/7sQTkJqBsVcHXinuicdanhSvmjWbxtRCcwMqASWdemadJadX8ayc8twsXdhQr0JvF7qdYO173flPv3WnKRFhcIs6VE7x649XY2+Svffu1PZozLL3lz2zKnXTwRGs8DvBgeuRZDfwYZe9b3p09Abd2f7HInTomztC5d2Qr+94FnT1NFYrIikCN7d9S6ONo5sbLMRV/unn06/Gh7P9jMh/BJwl7DYFJztbWhdpSgdanpSz8f9iemGskolMDOgEljWXIq6xITDE7j24BptSrdhbJ2xuDm4Ga79u3F0WXwEb498bPmwPvmyOVw+s3bd2sW4Q+PoXrE7Y14d89x1L4TGsnD/DXZfCMfexor3Xy3JwCalDTZKMldIfgCLGoKtk+46mZ2TqSOyOOmadPr90Y8r0VdY/9Z6XinwyhPv349LYWfAXbafCeVyWBw2VoKmrxSifQ1P3qhUBAdbw57qtqQEpk5cKwCkadJYcm4JK86voIBDAeY1n0fzks0Nuo/w2BT6rj6Ji6MtK3vXyfHkBdC2dFsuRF5g/eX1+Hr48lbpt565bhVPVxZ2q8WN+wks2n+TtUfvsP7YHTrV9GJQ0zJ4e6hKFTgWgPYLYe07utOJbWaaOiKL8+3Jbzlz/wzfNvn2UfJKTM1gz8VwdpwJ5fCNSLQSqnm5MrldJdpVK67OBuipHpjCxciLfHH4C27E3ODtMm/zWZ3PnnkKI6sSUzN4d8lRbkcm8tOgBlQq7mLQ9jMjXZtO/z39uRR1ifVvrad8wfIvtV1wdBLLDt1i08lgMjRa2lQtzpBmZahYzHTHYjb+N053TazbNihnuNPNud3OGzv54vAX9KrUixE1R3L4ZhQ7Toew5+I9ktM1eBVwpEMNT9rX8KRMoZyp62lJPTCVwPKwVE0qiwIWsfriatwd3JnUYBJNvJoYfD8arWTgWn/8rt5nRe86NC+ftVJThhSZHMm7v76Lg40Dm9puwsXu5ZPQ/fgUVvwdyPqjd0hM0/B6xcIMaV6WmiULGDFiM5eeAkubQXI0DD6qKtu/hItRF+n5e0/KufpSUYxi17l7RMSn4uJgQ9tqxelQw5PapQrk+I32KoGZAZXAnu9cxDkmHJ7ArdhbdCjbgdF1Rmfqj3hmTP7lIquP3GZK+yr0qFfKKPvIioejvhoUb8D8FvNfaobox8UmpbPm6G1WHg4kJimd+qXdGdaiLA3KuOfN6h7h52FpcyjfSnfPWF78Gbyki/fu0n9vd5LSMoi7ORQb8tOiQmE61PCkeYXC2NuY7hYOlcDMgEpgT5eSkcLCgIWsubSGQo6FmNxgMo08Gxltf6sOB/Llr5fo38iHL9pWMtp+smrjlY1MOz6NIdWGMLj64Cy1kZiawcYTQSw9eIv78alUK+HG0GZleL1iEYOMCrMof8+FPyfBOwt1Mz8rj8SlpPO/8+FsO3OHcxmzsHa8jXfap7xXrSFtqxbDzck8ak2qBGYGVAL7r4D7AUw4PIHbcbfpVK4To2qPIr+d8aYZ+fPSPQau8+f1ikVY1L2WWZZqklLyxeEv+PXmr/zw2g/ZOoWamqFh26lQFh+4SVB0EuWL5GdI8zK08S2W5cr6FkergTXtIOwcDP4bCnibOiKTStdoOXgtgu1nQvnz0j1SM7QULrWXZKd9jKj2Bf2qdzV1iP+hEpgZUAnsH8kZycw/M5/1l9ZTNF9RJjeYTIPixp1X6EJoLF0WH6VcEWc2DayHk535DnhNyUihx+4ehCaEsrnNZkq4lMhWexkaLbvOhbFw/w2u3UugZEEnBjUtQ6daniY9NZRjHtzRDa0vWgV6/6YrP5WHSCk5GxLLjtMh/HoujOjENArms6Nd1WIU87zKgouT6Vq+K1/U+8LUoT6VSmBmQCUwnVP3TjHx8ESC4oN495V3GVl7pNErW9+NSab9gsPYWluxY2gDCuc3//mkQuJD6LqrK0XyFWF96/U42Wb/fiatVvLn5Xss8LvB2ZBYirjYM6BxaT6oW9KsE7pBBGyEnwfBa5Og8UhTR5MjgqKS+DkglJ/PhHIrMhE7GyveqFSEDtU9aVq+ELfjbtLt926UL1CelS1XYmttnhVeVAIzA3k9gSWlJzHvzDw2XN5AcefifNngS+oWq2v0/SakZtB50RFCHySzdXCDbJW0yWmHQw8z+M/BtPZpzfTG0w02EENKyeEbUSzwu8HRW1EUcLKlT0MfetX3xtXJPP+IZZuU8FMvXcHfAfugWDVTR2QUMUlp/HY+jB2nQ/G/8wCAeqUL0rGGF618iz4qQxaXFsf7u94nKSOJzW03Z3nS15ygEpgZyMsJ7GT4SSYenkhIQgjvV3ifETVHGKRH8SIZGi391/pz6Hokq3rXockrhYy+T0Nbem4p88/MZ+yrY+lW0fCDEE7decBCvxvsu3IfZ3sbutcrRb9GPhTKnwtvTE2KhoX1wcEVPjwAtrmjgklqhga/KxHsOBOC35UI0jRayhV2pkNNT96p7omn25PH+aiY9N2jrGy1khqFa5go8pdjSQksl5/HyFuS0pOYfWo2m69upkT+EqxsuZI6RevkyL6llEz+9SL7r0bwTUdfi0xeAP19+3Mh8gIzT86kQsEK1CpSy6Dt1ypVgBW963DpbhyLDtxk6cGbrDocSNc6JRjYpDReBXJRKSangroqHes7wp9fQuvppo4oy6SU+N95wI4zofx2LozY5HQ8nO3pUb8UHWp4Urm4yzN77IvPLuZQ6CHG1x1v9snL0qgeWC5xLOwYk49M5m7CXbpV7MZHNT7KkV7XQ8sP3eLr3y7zYdPSjGtdMcf2awzxafF88NsHxKfFs6XdFqOe7gmMTGTx/ptsPxOClNC+hieDmpahbOGcqbqQI37/DE4sgR47oEwLU0eTKbciEvj5TCg7AkIJjk7G0daalpWL0KGmFw3LuL9wdOn+4P189NdHjyZUNfb9gVJKYjZvwbVDe6zss9art6QemEpgFi4hLYHZp2bz07WfKOVSiikNp+T4t7w9F8MZtP4UrSoXZcEHNXPFvU83Htzgg98/4JUCr7Cq5SqjX3C/G5PMskO32HgiiNQMLa2rFGVIs7JGmeQzx6UlwdKmkBoPg4/oemZmLCohlV3nwth+JpSzwTFYCWhY1oMONTxpWbnoS9fwvB17m/d/e58S+UuwtvVaHGyMO5hJarWEf/UVMZs2U2zq17h16pSldlQCMwN5IYEdCT3CpKOTuJd4j56VejK0xlAcbXL2OsO5kBjeXXKUCkVd2DSwnsErY5vSntt7GH1gdI4OeX44o+7aI3eIT82gWflCDGteltre5v1H/4XuBsDy16BiO+i8yuyqdKSka/jz8j12nNZNCpmhlVQs5kLHGp68Xb04RVwyl3wS0xPp9ls3olOi2dR2E8Wdixspch2p0RA2YSKx27fjPnAghT4ZkeXeniUlMHUNzALFp8Uz038m269vx9vFm7Wt1z4xy3BOCXmQRL81/ng427OsZ+1clbwAWnq35ELkBVZfXI2vhy/vlH3H6Pv0cLbn05YVGNikDOuP3WHF34F0XnyUV30KMrR5WZqU87DMMlXFq0OzcfDXFHilNVQz/Q28Wq3kWGAUP58JZff5cOJTMyjq4kC/xj50qOFJhaJZK60mpWTC4QkExgWy9I2lxk9eGRncHTeeuF9/xWPYMDyGDrHM/yNZoHpgFuZQyCG+PPolEckR9KrciyHVhhj91MTTxKWk02XRUe7GJrN9cAPKFbGc4fKZkaHN4MO9H3I24izrWq+jonvOXt9LTtOw6aSuTFVYbAq+nq4MbV6GNysVtbxTtVoNrHoL7l/SnUp0y94N41l17V4820+HsjMglLDYFPLZWdPatxgda3hSt7R7tivGrDi/grmn5zKq1ih6V+ltmKCfQaanE/rpZ8T/738UGjkSj4EDst2mJfXAVAKzELGpsXx38jt23txJGdcyTGk4Bd9CviaJJV2jpe/qkxy9GcWavq/SsKyHSeLIKVHJUXTd1RUbKxs2tdlk0Ak+X1ZahpYdZ0JYtP8mt6OSKFvYmcFNy/B29eLYWlKZquhAWNwIiteAnr+AVc7Efj8uhV/O3mXHmVAu3o3D2krQpJwHHWp68UbFIjjaGebswZG7Rxj852DeKPUG3zX5zqg9IW1aGqGfjCRh3z4Kjx2De+/eBmlXJTAzkJsS2P7g/Xx19CuiU6LpW6Uvg6oNws7aNIU/pZSM33GejSeC+bZTVd6tY5pv0TntfMR5ev2vF3WK1mHhawuxNlF5JI1W8tv5MBb63eBKeDxeBRz5sGkZutTyspxTuKfXwS/D4I0p0PBjo+0mKe3hpJB3+ft6BFoJVb1c6VDDk3bViuNh4EkhQxNC6bqrK4UcC/HjWz8adRSwNiWFkI8/JvHgIYpM+IKC3Qx3z6JKYGYgNySw2NRYpp+Yzq5buyjrVpavG31NZffKJo1pyYGbfLP7CkObl+HTlhVMGktO23ptK18e/ZIBvgP4uKbx/vC+DCklf125zw9+NzgTFEOh/Pb0b+RDt3qlcDbBTNeZIiVs7g7X/4ABfrqaiQai0UoO34jk5zOh/O9iOElpGjzd/pkU0li3J6RkpNBzd09C4kPY1HYTJV1KGmU/ANrkZEKGDiXx6DGKfvUlBbp0MWj7KoGZAUtPYPuC9jHl6BRiU2PpX7U/A30Hmrx22u/nwxjy42naVi3GvPdqWN41GAOYfGQy265v4/vm39OipOnvaZJScvRWFAv9bvL3jUhcHW3p3cCb3g28KZDPPKbneKrESF2VjnweuiRmm/XruFJKLoXFseN0KL+cvcv9+FTyO9jQtmoxOtTwonapAkb9vyql5PO/P2fXrV3ZntHgRbSJiQQPGkzSqVMUmzYVt/btDb4PlcDMgKUmsAcpD/jmxDfsDtxN+QLlmdJwSo4PHHiaM0EPeG/pMap4uvJj/7qWc7rKwFI1qfTa3YvbcbfZ2GYjPq4+pg7pkYDgGBb63eCPS/dwsrOmW92SDGhcmsKZHAKeY679ARu6QP1h0HJqpjcPi03m5zN3+flMKFfvxWNrLWhWvjAd9ZNC5tT/0R8v/8j0E9MZUn0Ig6tlbU65l6GJjyd44IcknztH8W9n4NqmjVH2oxKYGbDEBLb3zl6+PvY1calxDKw2kP5V+pu81wUQHJ1Eh4WHcbKzYceQBrgb+NqBpQlLCKPrrq4UdCjIhjYbcrTiycu4Gh7Pov03+OXsXWysrOhS24tBTctQoqB5xQnArpHgv0I3oKN00xeuHp+Szu4L4fx8JpSjt6KQUleeq30NT9r6FsvxXuepe6fov6c/jTwb8X2L7zM9q/fL0sTGEtR/AClXruA5ayYub75plP2ASmBmwZISWFRyFNOOT+OPO39QsWBFpjScQvmC5U0dFgCxyel0WnSEiPhUtg9pQJlCuajEUTYcDzvOwL0Deb3k68xsOtMs77u5E5XIkoO32OofgkZK3q5WnCHNypjXLQ9pibC4MWSkwuDD4Oj2n1XSNVoOXY9gx5m7/HExnNQMLd7uTrSv4UmHGp6Ucjfu9EDPci/xHl13dcXZzpmNbTYabXLYjAcPCOrbj7QbN/Cc9z35mzc3yn4eUgnMDFhCApNSsuf2HqYdn0Z8ejyDqw2mT5U+2FqZvtcFuqHbvVed4OTtaNb2rUv9Mu6mDsmsrLqwitmnZufI/T7ZER6bwvJDt/jxeBDJ6RpaVi7C0OZlqerlZurQdEJOwYo3oEpH6LQc0P1unAuJZceZUH49e5eoxDQKONnSrlpx2tfwpEYJN5N+aUjTpNFnTx+uP7jOhrc2ULZAWaPsJyMykqA+fUkLCsLrhx9wbtzIKPt5nCUlMDMfrpR7RSZHMvXYVP4M+pPK7pWZ0nAK5QqUM3VYj0gp+eLn8xy5GcWsLtVU8nqK3pV7cz7yPHNOz6Gie8UcmW8tK4q6OvBF20oMaV6W1YcDWX3kNnsu3qNxOQ+GNi9LXZ+Cpu1BetWCpmNg/zQiPVuwMbEOOwJCuRWhnxSyYhHa1/Ck6SuFsLMxj3vepp+YzrmIc8xqOstoySv93n2C+vQhPSyMEksWk69ePaPsx5IZpAcmhHADlgNVAAn0Ba4CmwFv4DbwrpTygdD9pnwPvAUkAb2llKf17fQCHhad+1pKuUa/vBawGnAEfgeGyxcEbq49MCklvwf+zjcnviEpPYmh1YfSq3IvbKzM67vEAr8bfLfnKh+/Vo6Rb7xi6nDMVmJ6Ih/89gEPUh6wpd0WiuYrauqQXig+JZ0fjwex/FAgkQmp1CpVgKHNy9C8fGGTJLLYpHR+PxtMrb/ep0haEK1SZ1DSpxwdanjS2rcYro7mcUbioe3XtzPpyCT6VunLJ7U+Mco+0sPCuNO7N5rIKEosXYJTLcNO6/M8ltQDM1QCWwMcklIuF0LYAU7AeCBaSjldCDEWKCClHCOEeAv4CF0Cqwt8L6WsK4QoCPgDtdElwVNALX3SOwF8DBxHl8DmSSl3Py+mrCaw5AsXSbt9G2tXV6xdXbB2dcXKxQVrFxeEdfZGNUUkRfDVsa/YH7yfqh5VmdJwCqXdSmerTWP49exdPtp4hneqF2du1+pmeX3HnATGBvL+b+/j4+LD6tarsbe2jEEuKekatvgHs+TALUJjkqlYzIWhzcvQukqxbJdTepG0DC1+V++z43Qof125T5pGSxOPOFYkfYLGszYOfXKuSkdmPLyhvVaRWix+fbFRbmhPCwkhqFdvNHFxlFy+DMdqOTubdZ5KYEIIVyAAKP14r0gIcRVoJqUME0IUA/ZLKcsLIZbon298fL2HDynlh/rlS4D9+oeflLKCfvn7j6/3LFlNYPdmfEv0qlVPfc8qf35dYnNxwdrNFSsX13+9dtG/fjz5uSKcHPkt8De+OfENaZo0hlUfRo9KPUxWzeF5Tt2J5v1lx6nm5cr6/nWxtzG/GM3Rvjv7GLF/BJ3KdWJyg8mmDidT0jVadgbcZeH+G9yKSMTHIx+Dm5ahfQ1Pg56yk1JyOugB20+H8tv5MGKS0vFwtuPtarrBGFU8XRCn18Cvw6HlN1B/iMH2bQgPS4pZC2s2t91slJJiabdvc6d3H2RyMiVWrMCxSs4XLrCkBGaI81Y+QASwSghRDV3PaThQREoZpl8nHCiif+4JBD+2fYh+2fOWhzxluVF4DB6EW+dOaGLj0MTGoI2LQxMbq38diyYuFq3+eXr4Pf2yOEhPf2abGitBIQfJt84OeBT2xunQUcJdLj09+bn+kxStXF2xssu5YcF3ohIZsPYUnm6OLO1RWyWvTHit1Gv09+3P8vPL8fXwpdMrWZuLyRRsra3oXMuLDjU82XMxnAV+N/hs2znm/nmNgU1K07VOyWzVCgyMTGTHmVB+PhNKUHQSDrZWtKxclA41PGlU1uPJSSFr9oKru+HPyVC6GRSplO3jM4QMbQafHvyUmNQY1rVeZ5TklXrzJkG9+yA1GkquWY1DhbxV6SYrDJHAbICawEdSyuNCiO+BsY+vIKWUQgijD3cUQgwEBgKULJm1Ui7W+tOFmSGlRCYloXk82cXE4H/jAIcu78YhKYN6zlUobVUYGReHJjKKtJu30MTFoY2Le/4xOTr+k+hcXLBye9jD+9cpTle3R6+tXVywyp8/U6c8Y5LS6LP6JFopWdm7jnlXcTBTw6oP42LkRaYen8orBV4xWbHlrLK2ErzlW4zWVYpy4FoEC/xuMPnXS8z/6wZ9G/nQo34pXBxe7npUdGIau87dZfvpUAKCYxACGpbxYPhr5WhZpeizy10JAW/P11Xp2D4QBuwDG9Ofkp19ajYnw08yrdE0oxQWSLl6jaA+fcDailJr12Bf1jgDQ3IbQ5xCLAock1J66183RpfAymKBpxANITwxnMlHJ3M49DA1C9dkSsMpz6yNJjUatPHxTya/Z/X8YmL/WS8uDpmc/OwghHjylKerK1auTzvF6YJ0dmHCX3fwj9Iwd0AT6lT0VNe9sigmJYauu7qiRcvmtpsp6GDZE1GeCIxmgd8NDlyLIL+DDb3qe9OnofdTb2ZPSdew7/J9dpwJYf9V3aSQFYrmp2NNT96u5klR10xUBLm6Gza+Bw2HwxtfGfCIMu+3W78x9tBYPqjwAePqjjN4+ymXLhHUtx/C3p6Sq1dh72Pa6i6WdArRUIM4DgH9pZRXhRCTgYd3FkY9NoijoJTyMyFEG2AY/wzimCelfFU/iOMUut4cwGl0gziinzKIY76U8vfnxWSKBCalZNv1bcz0n4lWahleczjvV3jfaHfna9PS0MbGPkpoGv1zbVwcmieS3X+THxkZz27Y1vZR0nsy+bn9s9xVd4rT2sUVa7d/eogiB095mqtLUZfoubsn1QtVZ/Ebi81uhGlWXAiNZYHfDf53MRwHG2vef7UkA5r4UCS/AyduR7PjdCi/nw8jPjWDIi72tK+uK55bsVjWJoUE4JeP4fRa6P0beDc03MFkwtXoq3T/vTuV3CuxvOVyg9+jmXzuHEH9B2Dt7EzJNauxK2H62R3yYgKrjm4YvR1wC+gDWAFbgJLAHXTD6KP1w+h/AFqhG0bfR0rpr2+nL7rRiwBTpZSr9Mtr888w+t3oTlea1TD6uwl3mXxkMkfDjlKnaB2+bPAlJfKb/j/j00gp0SYmoY2LZd0f5/n50BU+qOhGy1JO+oT4T6LTxsU+kQy18fHPbVs4OT2Z/NweO8Wpf/3w+t7jyc8qf36EGY46y6qdN3byxeEv6FO5DyNrjzR1OAZz4348i/bf4ueAUKwEuOezJzxONylkqyrF6FjTk3oGmBQSgNQE3dxhWg0M/hscXLPfZibEpsbSdVdX0jXpbG63GQ9Hw857l3T6NMEDBmJdsCClVq/C1tNol/YzJc8lMHOUUwlMK7VsvbaVWf6zkEhG1RpFl/JdjNbrMqSfz4QyYnMAHWt6MqtLtZc6bSg1mkfX7v47uOXJ5KeJjXk04EUTF4dMSXl2w0I8NorT5b/Jr4Abrm3aYFOokAF/Asb19bGv2Xx1MzObzqSld0tTh2NQwdFJLD+kmyW6TdVivFmpqMEmhXxyRydgZUuo2hU6LDZ8+8+g0WoYum8ox8OPs6rlKqoXrm7Q9hOPnyB48GBsCxem5JrV2BYp8uKNcohKYGYgJxJYSHwIk45M4kT4CeoWq8uXDb7E09k8vkW9yInAaLovP07NUm6s7Vs3RyocaFNT/znF+Viy08bF/icZamJjn0h+aDRYe3jgOfM7i6lIkK5Jp/ee3lx/cJ2NbTZSxq2MqUOyTH9NhYPfQpc1ULl9juxy3ul5LDu/jAn1JvBu+XcN2nbC4cOEDB2GrZcnpVatMrsvZSqBmQFjJjCt1LL56mbmnJqDlbBiVO1RdC7X2WIGPgRGJtJh4WEK5rNj++AGuDmZ93UrKSWp164ROnIUabdu4TFsKB6DBmX7xvKccC/xHu/uehcXOxc2tNlgtIKvuZomHVa8CQ8CYfBRcClm1N3tC9rHCL8RdCzXkcn1Jxv09zrhwAFCPvoYu9KlKblyBTYFzW+QjyUlMPM/z2VmguOC6benH9OOT6NG4RrseHsHXV7pYjHJ60FiGn1WncBKCFb1rmP2yQtACIFD+fL4bNmMS7u2RM7/geABA8mIijJ1aC9UJF8RZjWdRXB8MJ///TlaqTV1SJbH2hY6LoX0FNg5BLTG+xneir3F539/ThX3KoyvO96gv9fxf/5J8LCPsC9XjlKrV5ll8rI0KoG9JK3Usv7Sejr+0pEr0Vf4qsFXLH59McWcjftt0JBSMzQMXOfP3dgUlvWsZbJpKLLKKl8+is+YQdEpX5Hk709gh44kmWG9y3+rXbQ2o2qPwi/YjxXnV5g6HMvkUQ5afg03/4KTy42yi4S0BIb/NRx7a3vmNJ9j0JJgcbt3EzLiExwrVaLk6lVYu7kZrO28TCWwl3An7g59/teHGSdnUKdoHXa8s4MO5TpYTK8LdKfhPtt6jpO3HzCrSzVqlbLMb39CCAp06YL35k0IRwfu9OpN5LJlSCN+KzeE7hW709qnNfPPzOdI6BFTh2OZaveDsm/A3gkQcdWgTWulls///pzg+GBmNp1p0KLMsb/8Quio0ThWr0aJFSuwzq9OIxuKSmDPodFqWHNxDZ1+6cT1mOt83fBrFry2wCIqjv/bnD+vszPgLp+2LE+7asVNHU62OVSsiM+2beR/8w0iZs0mePBgMh48MHVYzySEYHL9yZQtUJbPDn1GaEKoqUOyPELAOz+ArRNsHwAZaQZresX5FfwV/Bcja42kTtE6Bms3Zts27o4Zi9Orr1Jy6VKsnS3rrIe5UwnsGW7F3qLn/3oy038m9YvV5+d3fuadsu9YVK/roW2nQpi37zrv1vZiSLPcMxLO2tkZz9mzKTJxAklHjhLYsRPJAQGmDuuZnGydmNtsLlqtlk/8PiEl4zm3FShPl78ovD0Pws7CgekGafLv0L+Zf2Y+b/m8RY9KPQzSJsCDjRsJ+/wL8jVqRInFi7BycjJY24qOSmD/kqHNYOWFlXT5pQu3Y2/zTeNvmNdiHoWdCps6tCw5ejOKsdvP0bCsO1M7+FpkAn4eIQQFP/iAUhs2IKytud29B1GrV2Ouo2tLupRkepPpXI6+zJRjU8w2TrNWsR1U7w5/z4GgY9lqKjg+mDEHx1CuQDkmNzDciMPotWsJ//IrnJs3x2vBD1g5ZKKMlvLSVAL7lxknZjDn1BwaeTZiZ/udtC3d1mL/6N+4n8CH6/wp5Z6Phd1qYWudez9uR98q+GzfhnOzptyfPoOQjz7S3T9mhpp4NWFwtcH8cvMXtlzdYupwLFPr6eBaQlfwN/X51WGeJSk9iRF+IwCY23wujjaOBgktavly7k37hvxvvonX93NzdEaJvCb3/kXLou6VujOj8QzmNp9r8NIxOSkqIZW+q09iZ2PFqt51zG5WW2OwdnHBa/58Co8dQ8L+A7pTiucvmDqspxpUbRCNPRsz/eR0Au4HmDocy2OfXze0PjYY/jf2xev/i5SSyUcnc/3BdWY0mWGwsm8RCxdyf+YsXNq0wXP2LFUb1MhUAvuXUi6leKv0Wxbb6wJdVfABa/25F5fCsp61KVEw75x7F0Lg3rs33uvXITUa7nzwAdE//mh2p+qshBXfNP6Gok5FGbV/FJHJkaYOyfKUrAcNR8CZ9XB5V6Y2XX95PbsDd/NRjY9o5Nko26FIKbk/dy6R8+bj2r49xb+dgbCx/CLO5k4lsFxGq5WM/uksp4NimNu1OjVKFjB1SCbhWL06Ptu34dSgPvemfE3oyJFoEhJMHdYTXO1dmdt8LnFpcYzaP4p07bMnRVWeodk4KFYNfv0Y4u+91CYnw08yy38WLUq0oJ9vv2yHIKXk/ncziVq8BLcuXSg2bapFVInJDVQCy2Vm7b3KrnNhjGtdgda+lnOTtTHYFChAiUWLKDRqJPF/7OV2p86kXLli6rCeUL5geSY3mMzp+6eZ7T/b1OFYHhs76LgM0hJh51B4QU87PDGc0QdGU9KlJFMbTc120W0pJfemTiN65UoKdOtG0a++zFWzKpg79ZPORbacDGaB303ef7UkA5uUNnU4ZkFYWeExYACl1qxGm5zM7Xe78mDLFrM6pdimdBu6V+zO+svr+e3Wb6YOx/IUKq+b9PLGXvBf+czVUjWpfOL3CamaVOY2n4uznXO2diu1WsInTebB+vUU7NOHIl98btGXHiyRSmC5xOEbkYzfcZ7G5Tz46p3K6hfpX5xq18Znx3acatcmfOIk7o4ZgzYx0dRhPTKy9khqFq7J5COTuRpt2CoTeUKdAVCmBfzxBUTe+M/bUkqmHZ/GhagLTG00ldKu2fuCJzUawsZ/TsyWLbgP+pDCn32qfudMQCWwXOD6vXgGrT9FmULOLOhWM1cPl88OG3d3SixbisfHHxH36y4C3+1K6vXrpg4LAFsrW2Y1m0V+u/x8sv8TYlNjTR2SZbGygncWgLWdrkqH5snriT9d+4nt17czwHcAr5V8LVu7khkZ3B0zltiff8bj448oPGKESl4mov7SWbiI+FT6rD6Jg601K/vUwcUh9w+Xzw5hbU2hIUMouWolmthYAt/tSsyOn00dFgAejh7MbjabsMQwxh0apyrXZ5ZLcWg3F+6ehoPfPVp8NuIs35z4hoaeDRlafWi2diHT0ggdOYq4XbsoNGokhYYMyWbQSnaoBGbBktM09F/rT2RCKit61cbTzTA3YuYF+erVw2f7Nhx9fQkbN467n3+ONjnZ1GFRvXB1xtQZw6HQQyw5u8TU4Vieyh2g6ntwcCYEnyQyOZKRfiMp6lSUGY1nYG2V9dGB2rQ0QoaPIP6PPygybiweAwYYMHAlK1QCs1BarWTklgDOhcTw/Xs1qOrlZuqQLI5t4cKUXLkC98GDiN22ndtd3yP1VqCpw6Jr+a68XeZtFp5dyMGQg6YOx/K89S24eJK+vT+j/D4hLi2Ouc3n4mrvmuUmtSkphAwdRoKfH0UnTaRgr14GDFjJKpXALNSMPVfYfSGcz9+qSMvKllcd31wIGxsKDx9OiWVLybh/n9udOxO7y7QjAYUQTKg3gYoFKzL20FiC4oJMGo/FcXCFDouZKWI5HRHAlw2+pHzB8lluTpuURPDgwST+/TfFvp5CgfffN2CwSnaoBGaBNhwPYsmBW/SoV4p+jXxMHU6u4Ny4MT4/78C+QgXujh5N2OTJaFNTTRaPg40Ds5vNxkpYMWL/CJLSk0wWiyX6VRPNBtf89IiN4630rA+w0CQkEjRwIEnHT1B8xnTcOnc2YJRKdqkEZmEOXotgws4LNCtfiEntKqnRTwZkW7Qopdasxr1/P2I2beb2+++TFmS63o9Xfi++bfwtNx7c4MujX5rVvWvm7FLUJb48+iV1itRipK0X/PIRJERkuh1NfDzB/fuTfCYAz5nf4fr220aIVskOlcAsyNXweIb8eJpyhZ354YOa2Kjh8gYnbG0pPHo0XgsXkh56l8COnYjb84fJ4mng2YCPanzE74G/8+PlH00Wh6WISYnhE79PcLN347ums7DpuAxS4nRJLBNfADQxMQT16UvyxYt4zp2Dy1tvGTFqJavUX0ALcT8uhb6rT5LP3ppVfergbK8KhRpT/hbNKb19G3alSxM6fDjh06Yh0ww3A3Bm9PPtR/MSzZnlPwv/cH+TxGAJNFoNnx38jIjkCOY0m4O7ozsUqQSvT4Jru+H0mpdqJyM6mju9+5B67Rpe8+fh8sYbRo5cySqVwCxAUloG/df68yApjRW96lDMVQ2Xzwm2np54r19HwV49ebB2Hbe79yAtJDTH47ASVkxtNBWv/F6MPjCae4kvV7Q2r5l3Zh5Hw47yRb0v8C3k+88bdQeDT1P433iIuvncNjIiIgjq1Yu0wEC8Fi4kf7Nmxg1ayRaVwMycRisZvimAC6GxzH+/BlU8sz4UWMk8YWdHkXHj8Pz+e9Ju3SKwUyfi//LL8Tjy2+VnbvO5JGUkMfLASNI1qnL94/64/YduJvVXutCxXMcn37SygvaLwNoGdnwImoyntpF+7x53evQkLfQuJZYuxblRwxyIXMkOlcDM3De/X2bvpXtMbFuJ1yoWMXU4eZZLyzfx2b4NW8/ihAwZwr3vvkOm52wSKeNWhikNp3Au4hwzTs7I0X2bsxsPbvDF4S+oWqgqY199xuSWrp7QZjaEnIS//1v1P/3uXe706ElGRAQlly8jX91XjRy1YggqgZmxdUdvs/zvQHo38KZ3QzVc3tTsSpbEe+NG3N5/j+gVK7nTsxfp4eE5GkNL75b0rtybzVc3s/PGzhzdtzmKT4tnxP4RONk4MbvpbOysnzMDsm9nqNIZ9k+H0FOPFqcFB3Onew80MTGUXLUSp5o1cyByxRBUAjNTflfuM+mXi7xesTAT2lYydTiKnpW9PcUmTaL4rJmkXr1KYIeOJBw6lKMxDK85nFeLvsqUY1O4FHUpR/dtTrRSy/hD4wmND2VWs1kUyfcSZyjazIT8RWH7QEhLJDUwkDvde6BNTKTkqpU4Vq1q/MAVg1EJzAxduhvHsA2nqVjMhe/fq4G1lbrXy9y4tmmD99at2BQqRPCAgdyfOxeZ8fRrK4ZmY2XDt02+xc3ejU/8PiEmJSZH9mtulpxbwv6Q/YyuM5paRWq93EaOBXTXw6JukLruE+707IlMT6fk2rU4Vq5s3IAVg1MJzMyEx+qGy7s42rKydx3yqeHyZsu+tA/emzfh2rkTUYuXENS3H+n37+fIvt0d3ZnTbA4RyRGMOTQGjVaTI/s1FwdDDrIoYBHtSrfjgwofZG7j0k1JKdmDO/P2IzRplFq3FofyrxgnUMWoVAIzI4mpGfRbc5L4lHRW9KpDERcHU4ekvICVoyPFv/6aYtO/Ifn8eQI7diLx2LEc2bdvIV8+r/s5R+4eYUHAghzZpzm4E3eHsQfHUqFgBSbWn5jpajTJFy8StMQfYWtDqdceYF/UzTiBKkanEpiZ0GglH288w+WwOH7oVpNKxV1MHZKSCW7t2+OzZTPWrq4E9elLxIIFSI3xe0WdXulEp3KdWHZ+GfuC9hl9f6aWlJ7ECL8RWFtZM6f5HBxsMvclL/nsWYJ698EqXz5KLZuPnd0D+PXjTFXpUMyHSmBmYsquS+y7cp8v36lC8/KFTR2OkgX25crhs2Uzrm+3I3L+DwQPGEhGVJTR9zuu7jiquFfh878/JzDW9NPBGIuUkolHJnIr9hYzmszA09kzU9snnTpFUN9+WBcoQKn167Cr8Rq0+AKu7IIAVabLEqkEZgZWHQ5k9ZHb9G/kQ496pUwdjpINVvnyUWz6dIpO+YqkU6cI7NCRpJMnjbpPe2t75jSfg52VHZ/4fUJieqJR92cqay6uYc/tPXxc42MaFG+QqW0Tjx0nqP8AbAoXptS6ddgWL657o/4wKNUIdo+BB7cNH7RiVMJQFa6FENaAPxAqpWwrhPABNgHuwCmgh5QyTQhhD6wFagFRQFcp5W19G+OAfoAG+FhKuUe/vBXwPWANLJdSTn9RPLVr15b+/k/WjUtPTyckJISUlBRDHLJBpKRriEpIw8HWioL57DFmcXkHBwe8vLywtbU13k6UR1KuXCF0+AjSQkIoNGI47v36IayM953xeNhxBu4dyGslX2NW01m5aqaCY2HH+HDvh1k6toRDfxMybBh2JUtQctUqbDw8nlwhJggWNYTClaDP75CNWZtzAyHEKSllbVPH8VKklAZ5ACOBDcAu/estwHv654uBwfrnQ4DF+ufvAZv1zysBZwF7wAe4iS5hWeuflwbs9OtUelE8tWrVkv9269YtGRERIbVa7X/eM4Wk1HR5PiRGXrsXJzM0xo1Jq9XKiIgIeevWLaPuR3lSRny8DB4xQl4qX0HeGThQpkdHG3V/K8+vlFVWV5Erz6806n5yUmh8qGy0sZF8Z8c7MiEtIVPbxv31l7xcxVfebN/h+T/7gE1STnKR8uDMbEZr+QB/aaC8YOyHQb4OCiG8gDbAcv1rAbQAtupXWQO01z9/R/8a/fuv6dd/B9gkpUyVUgYCN4BX9Y8bUspbUso0dL26d7ISZ0pKCu7u7mbxzTQtQ8vtqCRsrATe7vmMfq+XEAJ3d3ez6n3mBdbOznjOnk2RiRNIOnKUwI6dSA4IMNr+elfuzRul3mDu6bkcDztutP3klJSMFEb4jSBDm8Hc5nPJZ5vvpbeN27uXkI+HY1++PKVWrcSmQIFnr1z1XajUHvymwd2AbMet5AxDnc+YC3wGaPWv3YEYKeXDOztDgIdXXD2BYAD9+7H69R8t/9c2z1qeJeaQvDRaye2oRLRaibdHPmxzaF4vczj2vEgIQcEPPqDUxo0Ia2tud+9B1OrVRpmgUgjBlIZT8Hbx5tMDnxKWEGbwfeQUKSVTjk3hcvRlpjeejrer90tvG/f774SO+ATHypUpuWol1m5uz99ACGg7B/IV0lXpSE/OVuxKzsj2X04hRFvgvpTy1AtXNjIhxEAhhL8Qwj8iIvMzsL6ItbU11atXp0qVKrRr146YmJhMtyGl5OSlmwzt252S7k442Obt8+15iWOVyvhs34Zzs6bcnz6DkI8+QhMXZ/D95LPNx9zmc0nTpjFy/0hSNakG30dO2Hx1M7/c/IXB1QbTtETTl94u5uefCR39KU41alBi+XKs8+d/uQ2dCkL7hRB5FfZOymLUSk4yxFf/hsDbQojb6E7vtUA34MJNCPGwjIQX8HAipVCgBID+fVd0gzkeLf/XNs9a/h9SyqVSytpSytqFChXK/pH9i6OjIwEBAVy4cIGCBQuyYEHmbh6VUnI3JhknNw82bdlCfgc1mCKvsXZxwWv+fIqMG0vC/gO6U4rnLxh8Pz6uPkxtNJULURf45vg3Bm/f2M7cP8OMEzNo4tWEQdUGvfR2MVu3EjZuPE51X6XE0iVYO7/8KUcAyrSAuoPgxBK4kfvvq7N02U5gUspxUkovKaU3ukEZf0kpuwF+QGf9ar2Ah6Wzf9G/Rv/+X/oLh78A7wkh7PUjGMsBJ4CTQDkhhI8Qwk6/j1+yG3d21a9fn9BQXR69efMmrVq1olatWjRu3JgrV648Wl6vXj18fX354osvcM6fn6jENFKiw2laV1e7LSUlhT59+uDr60uNGjXw89PNNbV69Wo6duxIq1atKFeuHJ999plpDlQxOCEEBXv1wnv9OqRGw50PPiD6xx8NfkrxtZKvMcB3ANuub2Prta0v3sBM3E+6z8j9IynuXJxvGn+DlXi5P1PRGzYQ9sUE8jVuRIlFi7BycspaAK9PBo/ysHMoJEVnrQ0lZxhyRAjQjH9GIZZGl4BuAD8B9vrlDvrXN/Tvl35s+8/RjTi8CrR+bPlbwDX9e5+/TCxPG4V46dKl/w65yYR8+fJJKaXMyMiQnTt3lrt375ZSStmiRQt57do1KaWUx44dk82bN5dSStmmTRu5YcMGKaWUs7//QTo65ZO3IxPkrVu3ZOXKlaWUUs6cOVP26dNHSinl5cuXZYkSJWRycrJctWqV9PHxkTExMTI5OVmWLFlSBgUFZSt+KbP/M1AMKz06WgYN/FBeKl9BBo8YITPi4w3afoYmQw78Y6CssbaGPHf/nEHbNoa0jDTZ/bfuss76OvJa9LWX3i5y1Sp5qXwFGTRkqNSkpmY/kNAzUn5ZUMrNPaU0k1HLOQULGoVo8gCM9TBGArOyspLVqlWTHh4esnHjxjIjI0PGx8dLBwcHWa1atUePChUqSCmlLFiwoExPT5eJqeny6OUg6eSUT2o0WhkYGPgogbVv317u27fv0T4aNWokz549K1etWiX79+//aHmrVq3koUOHshW/lCqBmSOtRiMjly2TlypVljfebCmTL182aPsPkh/Illtbyte2vCYjkyIN2rahTTk6RVZZXUXuDtz90ttELFmq+wLw8XCpTUszXDAHZ+qG1gdsNFybFsCSEpiqxJEJD6+B3blzByklCxYsQKvV4ubmRkBAwKPH5cuXH22TlqF5NFxeCLDKxHB5e3v7R8+tra3JyKHpOpScJayscO/fn1Jr16BNTub2u115sGWL7humAbg5uDG72WxiUmP47OBnZGjN8//Rjus72Hx1M30q96GVd6sXri+lJOKHBUTMno1L27Z4zpqJMORN+g1HQMn68PunupudFbOjElgWODk5MW/ePGbNmoWTkxM+Pj789NNPgO6X6uzZswDUrVuXpWs2IqXk+L5dT22rcePG/Pijrg7btWvXCAoKonz58jlzIIpZcapVC58d23GqU4fwiZO4O2YM2kTDlIWq5F6JCfUmcCL8BPNOzzNIm4Z0MfIiXx/7mrrF6vJxzY9fuL6Ukog5c4n84QdcO3Sg+IzpCBsDTz1kZQ0dFusK/e4YBHlsyhpLoBJYFtWoUYOqVauyceNGfvzxR1asWEG1atWoXLkyO3fuRCsloyZNY8XiH+jashF3Am/h6ur6n3aGDBmCVqvF19eXrl27snr16id6XkreYuPuTomlS/D4+CPidv1GYJd3Sb1+3SBtv1P2HbqW78qqi6vYc3uPQdo0hOiUaEbsH4G7ozvfNfkOG6vnJyIpJfdnfEvU0qW4de1KsalfI6yNdDtKAW9oPQPuHIajPxhnH0rWmfocprEexrgG9rK0Wq0Mjk6Ux66Fysj4FCmllBs3bpRvv/12juz/edQ1MMuRcPSovNqwkbxcrbp8sH2HQdpMy0iT3X7rJuusryNvPLhhkDazI12TLvv9r5+subamvBB54YXrazUaGfblV/JS+Qoy7OupOVMWTquVcuMHUn7pLmWY+Q+EyS7UNbC8LTIhlejENMJuXKJFw1epWrUqCxcuZNasWaYOTbEg+erVo/SO7ThWrUrYuHHc/fxztMnZqxBha23LrKazcLJxYoTfCOLT4g0UbdbMPTWX4+HHmVh/IpXdKz93XanVEj5pEg82bKBgv74UGT8uZ6rLCAHt5uludN42ANJVOTZzoRKYgcUmpREWm4Kboy3vtHqNs2fPcu7cOQ4ePEjZsmVNHZ5iYWwKFaLkqpW4Dx5E7PYd3O76Hqm3sjfnV5F8RZjZdCbB8cF8/vfnaKX2xRsZwe7A3ay5tIb3yr/HO2WfX95UajSEjRtPzE9bcR88iMKjR+dsabR87vDOAoi4DPu+yrn9Ks+lEpgBJaVmEPwgGSc7G7wKOKnag4pBCGtrCg8fTomlS8mIiOB2587E7votW23WLlqb0bVH4xfsx4rzKwwU6cu79uAak45MokbhGnxW5/k36cv0dO5++hmxO3dSaPjHFB4+3DS/W+XegDr94dgCuLU/5/ev/IdKYAbyaLi8tcDb3SlTw+UV5WU4N26Ez47t2FeowN3RowmbPBltatbrHHar2I23fN5i/pn5HA49bMBIny82NZYRfiNwtnVmVtNZ2Fo/e+i7TEsjdOQo4n7/ncKfjsZj8OAci/Op3pgC7uXg5yGQ/MC0sSgqgRlChlZLYGQSEom3ez5scqi6vJL32BYtSqk1q3Hv34+YTZu5/f77pAVl7R4lIQST6k+ibIGyjDk0hpD4EANH+19aqWXcoXGEJYYxu9lsCjk9u2apNjWVkI+HE793L0XGj8e9Xz+jx/dCdk7QcSkk3IPfRps6mjxP/aXNJq2UBEUlkabRUqpgPlVdXjE6YWtL4dGj8Vq0kPTQuwR27ETcnj+y1JaTrRPfN/serdTyyf5PSMkw7gCFhQELORR6iLF1xlK9cPVnrqdNSSFkyFAS9u+n6OTJFOzZw6hxZYpnTWg6Bi5shfOWU2MyN1IJLBuklNx9kExCagZebo44O7z4RsqHU7I8fEyfPj3T+92/fz9HjhzJSshKLpK/eXNKb9+GXenShA4fTvi0aci0tEy3U8KlBNMbT+dK9BWmHJtisAog//ZX0F8sObeE9mXb8275d5+5njYpieAPB5F45AjFpk6lwHtdjRJPtjQaCV51YNdIiDV+z1V5OpXAsiEiPpXopDQKuzhQIJ/dS23zsBzVw8fYsWMzvV+VwJSHbD098V6/joK9evJg7Tpud+9BWshTZxt6riZeTRhSbQi/3PyFzVc3GzzOwNhAxv89nsrulfmi3hfPHIShSUggaMBAkk6epPi3M3Dr1NHgsRiEtY3uVKI2Q1+lwzQjOfM6lcCyKCYpjfC4FNyc7CiSP/uVM7766ivq1KlDlSpVGDhw4KNvwfPmzaNSpUpUrVqV9957j9u3b7N48WLmzJlD9erVOXToULb3rVg2YWdHkXHj8Jz3PWm3bhHYqRPxf/llup0Pq31IE68mzDg5g4D7AQaLLzE9kRF+I7CzsmNOsznYWz/990UTF0dQv34knz2L5+xZuLZrZ7AYjKJgaWj1Ddw+BMcXmTqavMnUd1Ib62HMShwJKenyXEiMvHEvXmoyWQngYUX7h49NmzZJKaWMiop6tE737t3lL7/8IqWUslixYjIlRVfN48GDB1JKKSdNmiS/++67LMWuKnHkbql37shbHTrKS+UryPBvv810dfaYlBjZeltr2XxzcxmRFJHteLRarfzE7xNZdU1VeezusWeulx4drYu7iq+M+/PPbO83x2i1Um54T8qvCkkZftHU0RgEFlSJw8DVLy3Hl79e5NLdzE/nLqUkOV2LABzsrHn8REil4i5Mavf8agIPTyH+m5+fH99++y1JSUlER0dTuXJl2rVrR9WqVenWrRvt27enffv2mY5XyVvsSpak1MYN3J8xg+gVK0k+fQbPObOxLVr0pbZ3tXdlTrM5dP+9O6P2j2J5y+XYWmW9wvuKCyvYe2cvo2uPpm6xuk9dJyMqiqC+/UgLDKTED/Nxbto0y/vLcQ+rdCyqD9sHwIC/wEbVMs0p6hRiJkggJV0LSBxsrTDUnV4pKSkMGTKErVu3cv78eQYMGEBKim402G+//cbQoUM5ffo0derUUVOqKC9kZW9P0YkTKT5rJqlXrxLYvgMJmTjVXL5geSY3mMzp+6eZ7T87y3EcCT3C/DPzae3dmp6Vej51nfT797nTqxdpd+5QYvEiy0peDzkXgrd/gHsX4K+vTR1NnpJne2Av6in9m1ZKAiMTSUrTUNojH/nsDfeje5isPDw8SEhIYOvWrXTu3BmtVktwcDDNmzenUaNGbNq0iYSEBPLnz09cXOZ7j0re4tqmDQ4VKxE6YgTBAwbiPuhDCg0b9lLTjrQp3YYLkRdYf3k9VTyq0KZ0m0ztOyQ+hE8PfkoZtzJMbjD5qYM20sPDCerdh/T79ymxdAn5Xn01U/swK+VbQa3ecGQ+vNISvBuZOqI8QfXAXoKUktAHySSmZlCigGO2kldycvITw+jHjh2Lm5sbAwYMoEqVKrRs2ZI6deoAoNFo6N69O76+vtSoUYOPP/4YNzc32rVrx44dO9QgDuWF7Ev74L1lM66dOxG1eAlBffuRfv/+S207svZIahauyeQjk7kaffWl95mckcwIvxFIJN83+x4nW6f/rJMeGsqdHj3JiIyk5PLllp28HnpzKhT00Y1KTIk1dTR5gpBGuufD1GrXri39/f2fWHb58mUqVqyY6bbuxaVwLy6FIi4OFHFxMFSIJpHVn4Fi+WJ+/pnwL7/CKl8+PGd+R7569V64TWRyJF1/7YqdtR2b2m7C1f6/c9o9TkrJuL/H8fut31nw2gIaezX+zzppQUHc6d0bbUIiJVcsx9HXN8vHZHZC/GHFm+DbBTouMXU0WSKEOCWlrG3qOF6G6oG9wIOkNO7FpVDAyY7CBhguryim4ta+PT4/bcHa1ZWgPn2JWLAAqXn+LMMejh7MajaL8KRwxh0a98LK9RuubOC3W78xpPqQpyav1FuB3OnRE5mUTKnVq3JX8gLwqg1NRsO5TXBxh6mjyfVUAnuOxNQMQh4kk8/eBs8Cjqq6vGLx7MuWxeenLbi+3Y7I+T8QPGAgGVFRz92meuHqjK0zlkOhh1h8dvEz1/MP9+e7k9/RrEQzBlYd+J/3U69f507PnsiMDEquXYNDpUrZPh6z1ORTKF4Tfh0BcXdNHU2uphLYM6Sma7gdlYidtRWlCjphpZKXkktYOTlRbPp0ik75iqRTpwjs0JGkkyefu8275d/l7TJvs+jsIg4EH/jP++GJ4Yw6MIoS+UswrdE0rMSTf1pSrlzhTs9eCCEotW4tDq+8YtBjMivWttBxGWjSdFXrVZUOo1EJ7CkyNFpuRyUiEHh7OKnq8kquI4SgQJcueG/ehJWjI3d69yFy2TLkM/7YCiGYUG8CFQtWZNyhcQTF/VMBP02Txqj9o0jJSOH75t+T3y7/E9smn7/AnV69EQ4OlFq/DvvSpY16bGbBoyy8+TXc8oOTy0wdTa6l/jL/i1ZK7kQlkaaRlHJ3wt5GVZdXci+HChXw3rYVl5ZvEjFrNsGDB5Px4OnzXDnYODCn+RysrKwYsX8ESelJAHxz4hvORZ5jaqOplHZ7MjklBwQQ1KcP1s7OlFq3DrtSpYx+TGajdl8o1xL2ToT7V0wdTa6kEti/hMemkJiW/eHyimIprJ2dKT5rFkUmTiDpyFECO3Yi+SnVYgA8nT35tvG33Hhwg8lHJ7Pt2ja2XttKf9/+vF7q9SfWTfL3J6hvP6zdC1Jq/TrsvDxz4GjMiBDw9nywy6er0pGR+ZkClOdTCexfPJzt8CrgiJvTy1WXz4xPPvmEuXPnPnrdsmVL+vfv/+j1qFGjmD375SsfqKr0iqEIISj4wQeU2rgRYW3N7e49iFq9+qlTqzTwbMBHNT5id+Buvjz6JQ2KN2BY9WFPrJN49ChBAwZiU7Qopdauw7ZYsZw6FPOSv4iu1FT4Odj/jamjyXVUAvsXOxtrCuYzznD5hg0bPko4Wq2WyMhILl68+Oj9I0eO0KBBg5duTyUwxdAcq1TGZ/s28jdvxv3pMwj56CM0sf+9Kbefbz9aebfC29WbGY1nYG31z6n2hEN/EzxoMHZeXpRauwbbIoVz8AjMUMW2UKM7HJ4Ld46aOppcRSWwHNSgQQOOHtX9B7548SJVqlQhf/78PHjwgNTUVC5fvowQgqZNm1KrVi1atmxJWFgYoKZVUXKOtYsLnvPmUWTcWBL2HyCwU2eSz194Yh0rYcW3Tb5lx9s7cHNwe7Q8/i8/QoYMwa5MaUquXYONh0cOR2+mWk0Ht5KwYyCkqDJwhqIqceQwHx8fDhw4wO7du3UlqkJDqV+/Pq6urowePRohBDt37qRQoUJs3ryZPXv2sHLlSooXL05gYCD29vbExMTg5ubG5MmTcXZ2ZvTo0S+9f3P4GSiWIzkggJCRI9FERFJ47BgKfPDBM++HjNvzB6GjRuFQqRIlly3F2vX5VTvynKDjsKoVVPsA2i8wdTTPZEmVOPLuKIXdYyH8vGHbLOoLrac/d5UGDRpw5MgRjhw5wsiRIwkNDeXIkSO4urri6enJH3/8wRtvvAHoaiEW0187UNOqKKbgWL06pbdv5+7Ycdyb8jVJ/v4UmzIFa2fnJ9aL3fUbd8eMwbFqVUosW/qf9xWgZF1oNBIOzdQV/K30tqkjsnjqFGIOe3gd7Pz581SpUoV69epx9OhRjhw5QuPGjalcuTIBAQEEBARw/vx5/vjjD0BNq6KYjrWbG14LF1B49Cji/9jL7U6dSbnyz7DwmB0/c/fTT3GqVYuSy5ep5PU8TcdAsWrw63CIDzd1NBYv7/bAXtBTMpYGDRowc+ZMSpcujbW1NQULFiQmJoaLFy+yZMkS5s+fz9GjR6lfvz7p6elcu3aNihUrqmlVFJMSVla49++PY40ahH4yktvvdqXIF58DED5pMvnq18drwQ9YOTqaOFIzZ2Onq9KxpAnsHAbdftINt1eyRPXAcpivry+RkZHUe6wSuK+vL66urhQuXJitW7cyZswYqlWrRvXq1Tly5IiaVkUxG061auHz8w6c6tQhfOIkwidOIl+TxngtWqiS18sqVB7emAI39sLJ5aaOxqKpQRx5jPoZKIYgtVqiV64k/e5dCo8di5Wd4e+bzNWkhPWd4M4RGHQIPMqZOqJHLGkQR7Z7YEKIEkIIPyHEJSHERSHEcP3ygkKIvUKI6/p/C+iXCyHEPCHEDSHEOSFEzcfa6qVf/7oQotdjy2sJIc7rt5knVFl4RTGph6cUi06cqJJXVggB7ywAWwddlQ5NuqkjskiGOIWYAYySUlYC6gFDhRCVgLHAPillOWCf/jVAa6Cc/jEQWAS6hAdMAuoCrwKTHiY9/ToDHtuulQHiVhRFMR2XYtB2Ltw9Awe+NXU0FinbCUxKGSalPK1/Hg9cBjyBd4A1+tXWAO31z98B1kqdY4CbEKIY0BLYK6WMllI+APYCrfTvuUgpj0nd+c61j7WlKIpiuSq3h2rv64bWB58wdTQWx6CDOIQQ3kAN4DhQREoZpn8rHCiif+4JBD+2WYh+2fOWhzxluaIoiuVrPQNcvGD7QEhNMHU0FsVgCUwI4QxsA0ZIKZ8Y263vORl9tIgQYqAQwl8I4R8REWHs3SmKomSfgyt0XAIPbsOe8aaOxqIYJIEJIWzRJa8fpZTb9Yvv6U//of/3vn55KFDisc299Muet9zrKcv/Q0q5VEpZW0pZu1ChQtk7KEVRlJxSqgE0HA6n18CV300djcUwxChEAawALkspH58L5Bfg4UjCXsDOx5b31I9GrAfE6k817gHeFEIU0A/eeBPYo38vTghRT7+vno+1ZXGEEIwaNerR65kzZzJ58uRMtfHvKvS9e/dm69athgpRURRTaP45FPGFXz6ChPsvXl8xSA+sIdADaCGECNA/3gKmA28IIa4Dr+tfA/wO3AJuAMuAIQBSymhgCnBS//hKvwz9Osv129wEdhsgbpOwt7dn+/btREZGZmn7jIwMNY2KouRGNnbQaRmkxuuSWC69R9eQsl1KSkr5N/Cs+7Jee8r6Ehj6jLZWAiufstwfqJKNMM2GjY0NAwcOZM6cOUydOvWJ927fvk3fvn2JjIykUKFCrFq1ipIlS9K7d28cHBw4c+YMnp6eHDlyBGtra9avX8/8+fMBOHjwILNnzyY8PJxvv/2Wzp07m+LwFEXJjsIV4fXJsGccnFoNtfuYOiKzpkpJmcDQoUP58ccfif3XRIEfffQRvXr14ty5c3Tr1o2PP/740XshISEcOXKE7du3M2jQID755BMCAgJo3LgxAGFhYfz999/s2rWLsWPHoiiKhao7CHya6gZ0RN00dTRmLc8W851xYgZXoq+8eMVMqFCwAmNeHfPC9VxcXOjZsyfz5s3D8bH6cUePHmX7dt0YmB49evDZZ589eq9Lly5YW1v/p62H2rdvj5WVFZUqVeLevXvZOApFUUzKygraL4JF9XVD6/vuAes8+6f6uVQPzERGjBjBihUrSExMfKn18+XL99z37e3tHz3PrfUtFSXPcPWEtnMg1B8OzTJ1NGYrz6b1l+kpGVPBggV59913WbFiBX379gV0U61s2rSJHj168OOPPz46PfhvahoVRckDqnSCq7vhwAwo+zp41TJ1RGZH9cBMaNSoUU+MRpw/fz6rVq2iatWqrFu3ju+///6p26lpVBQlj3hrJuQvpiv4m/ZyZ2vyEjWdSh6jfgaKYmECD8Kat3UjEtvOMfru8tR0KoqiKIoR+TSB+kPBfyVc+8PU0ZgVlcAURVHM3WsToXBl2DkUErNWBCE3UglMURTF3NnYQ8elkBIDvw5XVTr0VAJTFEWxBEWrQIsJcGUXnFlv6mjMgkpgiqIolqL+MPBuDP8bC9GBpo7G5FQCUxRFsRQPq3QIa9jxIWg1po7IpFQCM4GpU6dSuXJlqlatSvXq1Tl+/Him21BTqihKHuVWAtrMhODj8Lfxh9WbszxbicNUjh49yq5duzh9+jT29vZERkaSlpaW6Xb279+Ps7MzDRo0MEKUiqKYNd8uuiod+7+Bsq9B8RqmjsgkVA8sh4WFheHh4fGodqGHhwfFixdn37591KhRA19fX/r27UtqaioA3t7ej6p1+Pv706xZM27fvs3ixYuZM2fOE9U4Dh48SIMGDShdurTqjSlKbiYEtJkF+QrrCv6mJZk6IpNQCSyHvfnmmwQHB/PKK68wZMgQDhw4QEpKCr1792bz5s2cP3+ejIwMFi1a9Mw2vL291ZQqipLXORWE9gsh8hr8OcnU0ZhEnj2FGD5tGqmXDTudin3FChQdP/656zg7O3Pq1CkOHTqEn58fXbt2Zdy4cfj4+PDKK68A0KtXLxYsWMCIESMytX81pYqi5DFlmkPdwXB8EbzSUlf0Nw/JswnMlKytrWnWrBnNmjXD19eXBQsWPHNdGxsbtFotACkpKc9tV02poih50OuT4JYf/DwUhhzV9czyiDybwF7UUzKWq1evYmVlRbly5QAICAigTJky/PHHH9y4cYOyZcuybt06mjZtCuhOF546dYrWrVuzbdu2R+2oKVUURQHA1lFXpWPZa7BrBHRZo7tGlgeoa2A5LCEhgV69elGpUiWqVq3KpUuXmD59OqtWraJLly74+vpiZWXFoEGDAJg0aRLDhw+ndu3aT8zIrKZUURTlkWLVoPl4uLQTzm4ydTQ5Rk2nkseon4Gi5FJaDaxuC+HnYfBhKFAqS82o6VQURVGUnGVlDR0Wg70zRBh2gJq5yrPXwBRFUXKdAqVg+Fld9fo8QPXAFEVRcpM8krwgDyaw3HrN72Xk5WNXFCX3yVMJzMHBgaioqDz5h1xKSVRUFA4ODqYORVEUxSDy1DUwLy8vQkJCiIiIMHUoJuHg4ICXl5epw1AURTGIPJXAbG1t8fHxMXUYiqIoigHkqVOIiqIoSu6hEpiiKIpikVQCUxRFUSxSri0lJYSIAO5kcXMPINKA4ZiSOhbzk1uOA9SxmKvsHEspKWUhQwZjLLk2gWWHEMLfUmqBvYg6FvOTW44D1LGYq9x0LM+jTiEqiqIoFkklMEVRFMUiqQT2dEtNHYABqWMxP7nlOEAdi7nKTcfyTOoamKIoimKRVA9MURRFsUh5PoEJIbyEEDuFENeFELeEED8IIeyFEO5CCD8hRIIQ4gdTx5mXPOczeUMIcUoIcV7/bwtTx5qXPOdzeVUIEaB/nBVCdDB1rHnFsz6Tx94vqf8bNtqUcRpLnk5gQggBbAd+llKWA8oBjsC3QAowAciVH7y5esFnEgm0k1L6Ar2AdSYLNI95wedyAagtpawOtAKWCCHyVJ1VU3jBZ/LQbGC3CcLLEXk6gQEtgBQp5SoAKaUG+AToie764N/oEpmSc573mVyXUt7Vr3cRcHz826ZiVM/7XKyklBn69RwAdWE9ZzzzMxFCOAsh2gOB6H5XcqW8nsAqA6ceXyCljANuA2VNEZDy0p9JJ+C0lDI150LL0577uQgh6gohLgLngUGPJTTFeJ73mVQHxgBf5nhUOSivJzDFAgkhKgMzgA9NHYuiI6U8LqWsDNQBxgkh1MyppjUZmCOlTDB1IMaU1xPYJaDW4wuEEC5AUeCqSSJSnvuZCCG8gB1ATynlTRPEl1e91O+KlPIykABUydHo8qbnfSauwLdCiNvACGC8EGJYTgdobHk9ge0DnIQQPQGEENbALOAHKWWySSPLu575mQD2wG/AWCnlYdOFmCc973Mp+nDQhhCiFFAB3Wksxbie9/erjpTSW0rpDcwFpkkpc91o6jydwKTuLu4OQGchxHUgCtBKKacC6L+9zAZ6CyFChBCVTBZsHvGCz2QYuutgEx8btl3YhOHmGS/4XBoBZ4UQAeh6x0OklLmlqrvZetHfr7xAVeJ4jBCiAbAR6CClPG3qeBT1mZgr9bmYn7z4magEpiiKolikPH0KUVEURbFcKoEpiqIoFkklMEVRFMUiqQSmKIqiWCSVwBTlBV5U8TubbfcWQhQ3RFuKkteoBKYoz/GSFb+z2rY10BvIVAJTld4VRUclMEV5vudV/B72+FxxQohdQohm+ueLhBD+QoiLQogvH1vnthBihhDiNPA+UBv4UX9TtqMQopYQ4oB+vrM9Qohi+u32CyHmCiH8geFCiC5CiAv6+bcO5tDPQlHMivompyjP99SK3/oqLc/7/flcShmt72XtE0JUlVKe078XJaWsCSCE6A+MllL6CyFsgfnAO1LKCCFEV2Aq0Fe/nZ2UsrZ+u/NASyllqBDCzTCHqiiWRSUwRTGOd4UQA9H9jhUDKgEPE9jmZ2xTHl0R3L26M5dYA2GPvf/4doeB1UKILehOcSpKnqMSmKI83yWg8+MLHqv4HQW88thbDvr3fdDN5F1HSvlACLH64Xt6ic/YlwAuSinrP+P9R9tJKQcJIeoCbYBTQohaUsqolz4qRckF1DUwRXm+51VhDwSqCyGshBAlgFf127igSzaxQogiQOvntB8P5Nc/vwoUEkLU1+/LVj/32X8IIcro5+CaCEQAJbJzkIpiiVQCU5TneEHF78PoktglYB5wWr/NWeAMcAXYoF/vWVYDi/WV3K3R9fZmCCHOAgFAg2ds950Q4rwQ4gJwBDib9aNUFMukivkqSibkxYrfimKuVAJTFEVRLJI6hagoiqJYJJXAFEVRFIukEpiiKIpikVQCUxRFUSySSmCKoiiKRfo/xq5UB+k9E1QAAAAASUVORK5CYII=' width=432.0/>\n",
       "            </div>\n",
       "        "
      ],
      "text/plain": [
       "Canvas(toolbar=Toolbar(toolitems=[('Home', 'Reset original view', 'home', 'home'), ('Back', 'Back to previous …"
      ]
     },
     "metadata": {},
     "output_type": "display_data"
    }
   ],
   "source": [
    "data.plot() #Atajo para data.plot.line()"
   ]
  },
  {
   "cell_type": "markdown",
   "metadata": {},
   "source": [
    "#### Plotly\n",
    "Construye gráficos interactivos. Está basado en una librería JavaScript. "
   ]
  },
  {
   "cell_type": "code",
   "execution_count": 57,
   "metadata": {},
   "outputs": [],
   "source": [
    "#Ajusta el backend de plotting a Plotly\n",
    "# De aquí en adelante cuando se escribe plot() se utiliza plotly. \n",
    "pd.options.plotting.backend = \"plotly\""
   ]
  },
  {
   "cell_type": "code",
   "execution_count": 58,
   "metadata": {},
   "outputs": [
    {
     "data": {
      "application/vnd.plotly.v1+json": {
       "config": {
        "plotlyServerURL": "https://plot.ly"
       },
       "data": [
        {
         "hovertemplate": "Region=East<br>Quarters=%{x}<br>value=%{y}<extra></extra>",
         "legendgroup": "East",
         "line": {
          "color": "#636efa",
          "dash": "solid"
         },
         "marker": {
          "symbol": "circle"
         },
         "mode": "lines",
         "name": "East",
         "orientation": "v",
         "showlegend": true,
         "type": "scatter",
         "x": [
          "Q1",
          "Q2",
          "Q3",
          "Q4"
         ],
         "xaxis": "x",
         "y": [
          26078.8400438,
          80654.66179346682,
          58253.39759531489,
          75222.47834537482
         ],
         "yaxis": "y"
        },
        {
         "hovertemplate": "Region=West<br>Quarters=%{x}<br>value=%{y}<extra></extra>",
         "legendgroup": "West",
         "line": {
          "color": "#EF553B",
          "dash": "solid"
         },
         "marker": {
          "symbol": "circle"
         },
         "mode": "lines",
         "name": "West",
         "orientation": "v",
         "showlegend": true,
         "type": "scatter",
         "x": [
          "Q1",
          "Q2",
          "Q3",
          "Q4"
         ],
         "xaxis": "x",
         "y": [
          92965.14714208728,
          99213.65610321108,
          74979.79390768155,
          7834.838624245166
         ],
         "yaxis": "y"
        },
        {
         "hovertemplate": "Region=North<br>Quarters=%{x}<br>value=%{y}<extra></extra>",
         "legendgroup": "North",
         "line": {
          "color": "#00cc96",
          "dash": "solid"
         },
         "marker": {
          "symbol": "circle"
         },
         "mode": "lines",
         "name": "North",
         "orientation": "v",
         "showlegend": true,
         "type": "scatter",
         "x": [
          "Q1",
          "Q2",
          "Q3",
          "Q4"
         ],
         "xaxis": "x",
         "y": [
          53824.29441818544,
          84878.55860851695,
          25306.573001062803,
          84503.18855126189
         ],
         "yaxis": "y"
        },
        {
         "hovertemplate": "Region=South<br>Quarters=%{x}<br>value=%{y}<extra></extra>",
         "legendgroup": "South",
         "line": {
          "color": "#ab63fa",
          "dash": "solid"
         },
         "marker": {
          "symbol": "circle"
         },
         "mode": "lines",
         "name": "South",
         "orientation": "v",
         "showlegend": true,
         "type": "scatter",
         "x": [
          "Q1",
          "Q2",
          "Q3",
          "Q4"
         ],
         "xaxis": "x",
         "y": [
          60869.55013417398,
          57669.25023439588,
          22209.5122546353,
          67798.13019608991
         ],
         "yaxis": "y"
        }
       ],
       "layout": {
        "legend": {
         "title": {
          "text": "Region"
         },
         "tracegroupgap": 0
        },
        "margin": {
         "t": 60
        },
        "template": {
         "data": {
          "bar": [
           {
            "error_x": {
             "color": "#2a3f5f"
            },
            "error_y": {
             "color": "#2a3f5f"
            },
            "marker": {
             "line": {
              "color": "#E5ECF6",
              "width": 0.5
             },
             "pattern": {
              "fillmode": "overlay",
              "size": 10,
              "solidity": 0.2
             }
            },
            "type": "bar"
           }
          ],
          "barpolar": [
           {
            "marker": {
             "line": {
              "color": "#E5ECF6",
              "width": 0.5
             },
             "pattern": {
              "fillmode": "overlay",
              "size": 10,
              "solidity": 0.2
             }
            },
            "type": "barpolar"
           }
          ],
          "carpet": [
           {
            "aaxis": {
             "endlinecolor": "#2a3f5f",
             "gridcolor": "white",
             "linecolor": "white",
             "minorgridcolor": "white",
             "startlinecolor": "#2a3f5f"
            },
            "baxis": {
             "endlinecolor": "#2a3f5f",
             "gridcolor": "white",
             "linecolor": "white",
             "minorgridcolor": "white",
             "startlinecolor": "#2a3f5f"
            },
            "type": "carpet"
           }
          ],
          "choropleth": [
           {
            "colorbar": {
             "outlinewidth": 0,
             "ticks": ""
            },
            "type": "choropleth"
           }
          ],
          "contour": [
           {
            "colorbar": {
             "outlinewidth": 0,
             "ticks": ""
            },
            "colorscale": [
             [
              0,
              "#0d0887"
             ],
             [
              0.1111111111111111,
              "#46039f"
             ],
             [
              0.2222222222222222,
              "#7201a8"
             ],
             [
              0.3333333333333333,
              "#9c179e"
             ],
             [
              0.4444444444444444,
              "#bd3786"
             ],
             [
              0.5555555555555556,
              "#d8576b"
             ],
             [
              0.6666666666666666,
              "#ed7953"
             ],
             [
              0.7777777777777778,
              "#fb9f3a"
             ],
             [
              0.8888888888888888,
              "#fdca26"
             ],
             [
              1,
              "#f0f921"
             ]
            ],
            "type": "contour"
           }
          ],
          "contourcarpet": [
           {
            "colorbar": {
             "outlinewidth": 0,
             "ticks": ""
            },
            "type": "contourcarpet"
           }
          ],
          "heatmap": [
           {
            "colorbar": {
             "outlinewidth": 0,
             "ticks": ""
            },
            "colorscale": [
             [
              0,
              "#0d0887"
             ],
             [
              0.1111111111111111,
              "#46039f"
             ],
             [
              0.2222222222222222,
              "#7201a8"
             ],
             [
              0.3333333333333333,
              "#9c179e"
             ],
             [
              0.4444444444444444,
              "#bd3786"
             ],
             [
              0.5555555555555556,
              "#d8576b"
             ],
             [
              0.6666666666666666,
              "#ed7953"
             ],
             [
              0.7777777777777778,
              "#fb9f3a"
             ],
             [
              0.8888888888888888,
              "#fdca26"
             ],
             [
              1,
              "#f0f921"
             ]
            ],
            "type": "heatmap"
           }
          ],
          "heatmapgl": [
           {
            "colorbar": {
             "outlinewidth": 0,
             "ticks": ""
            },
            "colorscale": [
             [
              0,
              "#0d0887"
             ],
             [
              0.1111111111111111,
              "#46039f"
             ],
             [
              0.2222222222222222,
              "#7201a8"
             ],
             [
              0.3333333333333333,
              "#9c179e"
             ],
             [
              0.4444444444444444,
              "#bd3786"
             ],
             [
              0.5555555555555556,
              "#d8576b"
             ],
             [
              0.6666666666666666,
              "#ed7953"
             ],
             [
              0.7777777777777778,
              "#fb9f3a"
             ],
             [
              0.8888888888888888,
              "#fdca26"
             ],
             [
              1,
              "#f0f921"
             ]
            ],
            "type": "heatmapgl"
           }
          ],
          "histogram": [
           {
            "marker": {
             "pattern": {
              "fillmode": "overlay",
              "size": 10,
              "solidity": 0.2
             }
            },
            "type": "histogram"
           }
          ],
          "histogram2d": [
           {
            "colorbar": {
             "outlinewidth": 0,
             "ticks": ""
            },
            "colorscale": [
             [
              0,
              "#0d0887"
             ],
             [
              0.1111111111111111,
              "#46039f"
             ],
             [
              0.2222222222222222,
              "#7201a8"
             ],
             [
              0.3333333333333333,
              "#9c179e"
             ],
             [
              0.4444444444444444,
              "#bd3786"
             ],
             [
              0.5555555555555556,
              "#d8576b"
             ],
             [
              0.6666666666666666,
              "#ed7953"
             ],
             [
              0.7777777777777778,
              "#fb9f3a"
             ],
             [
              0.8888888888888888,
              "#fdca26"
             ],
             [
              1,
              "#f0f921"
             ]
            ],
            "type": "histogram2d"
           }
          ],
          "histogram2dcontour": [
           {
            "colorbar": {
             "outlinewidth": 0,
             "ticks": ""
            },
            "colorscale": [
             [
              0,
              "#0d0887"
             ],
             [
              0.1111111111111111,
              "#46039f"
             ],
             [
              0.2222222222222222,
              "#7201a8"
             ],
             [
              0.3333333333333333,
              "#9c179e"
             ],
             [
              0.4444444444444444,
              "#bd3786"
             ],
             [
              0.5555555555555556,
              "#d8576b"
             ],
             [
              0.6666666666666666,
              "#ed7953"
             ],
             [
              0.7777777777777778,
              "#fb9f3a"
             ],
             [
              0.8888888888888888,
              "#fdca26"
             ],
             [
              1,
              "#f0f921"
             ]
            ],
            "type": "histogram2dcontour"
           }
          ],
          "mesh3d": [
           {
            "colorbar": {
             "outlinewidth": 0,
             "ticks": ""
            },
            "type": "mesh3d"
           }
          ],
          "parcoords": [
           {
            "line": {
             "colorbar": {
              "outlinewidth": 0,
              "ticks": ""
             }
            },
            "type": "parcoords"
           }
          ],
          "pie": [
           {
            "automargin": true,
            "type": "pie"
           }
          ],
          "scatter": [
           {
            "fillpattern": {
             "fillmode": "overlay",
             "size": 10,
             "solidity": 0.2
            },
            "type": "scatter"
           }
          ],
          "scatter3d": [
           {
            "line": {
             "colorbar": {
              "outlinewidth": 0,
              "ticks": ""
             }
            },
            "marker": {
             "colorbar": {
              "outlinewidth": 0,
              "ticks": ""
             }
            },
            "type": "scatter3d"
           }
          ],
          "scattercarpet": [
           {
            "marker": {
             "colorbar": {
              "outlinewidth": 0,
              "ticks": ""
             }
            },
            "type": "scattercarpet"
           }
          ],
          "scattergeo": [
           {
            "marker": {
             "colorbar": {
              "outlinewidth": 0,
              "ticks": ""
             }
            },
            "type": "scattergeo"
           }
          ],
          "scattergl": [
           {
            "marker": {
             "colorbar": {
              "outlinewidth": 0,
              "ticks": ""
             }
            },
            "type": "scattergl"
           }
          ],
          "scattermapbox": [
           {
            "marker": {
             "colorbar": {
              "outlinewidth": 0,
              "ticks": ""
             }
            },
            "type": "scattermapbox"
           }
          ],
          "scatterpolar": [
           {
            "marker": {
             "colorbar": {
              "outlinewidth": 0,
              "ticks": ""
             }
            },
            "type": "scatterpolar"
           }
          ],
          "scatterpolargl": [
           {
            "marker": {
             "colorbar": {
              "outlinewidth": 0,
              "ticks": ""
             }
            },
            "type": "scatterpolargl"
           }
          ],
          "scatterternary": [
           {
            "marker": {
             "colorbar": {
              "outlinewidth": 0,
              "ticks": ""
             }
            },
            "type": "scatterternary"
           }
          ],
          "surface": [
           {
            "colorbar": {
             "outlinewidth": 0,
             "ticks": ""
            },
            "colorscale": [
             [
              0,
              "#0d0887"
             ],
             [
              0.1111111111111111,
              "#46039f"
             ],
             [
              0.2222222222222222,
              "#7201a8"
             ],
             [
              0.3333333333333333,
              "#9c179e"
             ],
             [
              0.4444444444444444,
              "#bd3786"
             ],
             [
              0.5555555555555556,
              "#d8576b"
             ],
             [
              0.6666666666666666,
              "#ed7953"
             ],
             [
              0.7777777777777778,
              "#fb9f3a"
             ],
             [
              0.8888888888888888,
              "#fdca26"
             ],
             [
              1,
              "#f0f921"
             ]
            ],
            "type": "surface"
           }
          ],
          "table": [
           {
            "cells": {
             "fill": {
              "color": "#EBF0F8"
             },
             "line": {
              "color": "white"
             }
            },
            "header": {
             "fill": {
              "color": "#C8D4E3"
             },
             "line": {
              "color": "white"
             }
            },
            "type": "table"
           }
          ]
         },
         "layout": {
          "annotationdefaults": {
           "arrowcolor": "#2a3f5f",
           "arrowhead": 0,
           "arrowwidth": 1
          },
          "autotypenumbers": "strict",
          "coloraxis": {
           "colorbar": {
            "outlinewidth": 0,
            "ticks": ""
           }
          },
          "colorscale": {
           "diverging": [
            [
             0,
             "#8e0152"
            ],
            [
             0.1,
             "#c51b7d"
            ],
            [
             0.2,
             "#de77ae"
            ],
            [
             0.3,
             "#f1b6da"
            ],
            [
             0.4,
             "#fde0ef"
            ],
            [
             0.5,
             "#f7f7f7"
            ],
            [
             0.6,
             "#e6f5d0"
            ],
            [
             0.7,
             "#b8e186"
            ],
            [
             0.8,
             "#7fbc41"
            ],
            [
             0.9,
             "#4d9221"
            ],
            [
             1,
             "#276419"
            ]
           ],
           "sequential": [
            [
             0,
             "#0d0887"
            ],
            [
             0.1111111111111111,
             "#46039f"
            ],
            [
             0.2222222222222222,
             "#7201a8"
            ],
            [
             0.3333333333333333,
             "#9c179e"
            ],
            [
             0.4444444444444444,
             "#bd3786"
            ],
            [
             0.5555555555555556,
             "#d8576b"
            ],
            [
             0.6666666666666666,
             "#ed7953"
            ],
            [
             0.7777777777777778,
             "#fb9f3a"
            ],
            [
             0.8888888888888888,
             "#fdca26"
            ],
            [
             1,
             "#f0f921"
            ]
           ],
           "sequentialminus": [
            [
             0,
             "#0d0887"
            ],
            [
             0.1111111111111111,
             "#46039f"
            ],
            [
             0.2222222222222222,
             "#7201a8"
            ],
            [
             0.3333333333333333,
             "#9c179e"
            ],
            [
             0.4444444444444444,
             "#bd3786"
            ],
            [
             0.5555555555555556,
             "#d8576b"
            ],
            [
             0.6666666666666666,
             "#ed7953"
            ],
            [
             0.7777777777777778,
             "#fb9f3a"
            ],
            [
             0.8888888888888888,
             "#fdca26"
            ],
            [
             1,
             "#f0f921"
            ]
           ]
          },
          "colorway": [
           "#636efa",
           "#EF553B",
           "#00cc96",
           "#ab63fa",
           "#FFA15A",
           "#19d3f3",
           "#FF6692",
           "#B6E880",
           "#FF97FF",
           "#FECB52"
          ],
          "font": {
           "color": "#2a3f5f"
          },
          "geo": {
           "bgcolor": "white",
           "lakecolor": "white",
           "landcolor": "#E5ECF6",
           "showlakes": true,
           "showland": true,
           "subunitcolor": "white"
          },
          "hoverlabel": {
           "align": "left"
          },
          "hovermode": "closest",
          "mapbox": {
           "style": "light"
          },
          "paper_bgcolor": "white",
          "plot_bgcolor": "#E5ECF6",
          "polar": {
           "angularaxis": {
            "gridcolor": "white",
            "linecolor": "white",
            "ticks": ""
           },
           "bgcolor": "#E5ECF6",
           "radialaxis": {
            "gridcolor": "white",
            "linecolor": "white",
            "ticks": ""
           }
          },
          "scene": {
           "xaxis": {
            "backgroundcolor": "#E5ECF6",
            "gridcolor": "white",
            "gridwidth": 2,
            "linecolor": "white",
            "showbackground": true,
            "ticks": "",
            "zerolinecolor": "white"
           },
           "yaxis": {
            "backgroundcolor": "#E5ECF6",
            "gridcolor": "white",
            "gridwidth": 2,
            "linecolor": "white",
            "showbackground": true,
            "ticks": "",
            "zerolinecolor": "white"
           },
           "zaxis": {
            "backgroundcolor": "#E5ECF6",
            "gridcolor": "white",
            "gridwidth": 2,
            "linecolor": "white",
            "showbackground": true,
            "ticks": "",
            "zerolinecolor": "white"
           }
          },
          "shapedefaults": {
           "line": {
            "color": "#2a3f5f"
           }
          },
          "ternary": {
           "aaxis": {
            "gridcolor": "white",
            "linecolor": "white",
            "ticks": ""
           },
           "baxis": {
            "gridcolor": "white",
            "linecolor": "white",
            "ticks": ""
           },
           "bgcolor": "#E5ECF6",
           "caxis": {
            "gridcolor": "white",
            "linecolor": "white",
            "ticks": ""
           }
          },
          "title": {
           "x": 0.05
          },
          "xaxis": {
           "automargin": true,
           "gridcolor": "white",
           "linecolor": "white",
           "ticks": "",
           "title": {
            "standoff": 15
           },
           "zerolinecolor": "white",
           "zerolinewidth": 2
          },
          "yaxis": {
           "automargin": true,
           "gridcolor": "white",
           "linecolor": "white",
           "ticks": "",
           "title": {
            "standoff": 15
           },
           "zerolinecolor": "white",
           "zerolinewidth": 2
          }
         }
        },
        "xaxis": {
         "anchor": "y",
         "domain": [
          0,
          1
         ],
         "title": {
          "text": "Quarters"
         }
        },
        "yaxis": {
         "anchor": "x",
         "domain": [
          0,
          1
         ],
         "title": {
          "text": "value"
         }
        }
       }
      }
     },
     "metadata": {},
     "output_type": "display_data"
    }
   ],
   "source": [
    "data.plot()"
   ]
  },
  {
   "cell_type": "code",
   "execution_count": 59,
   "metadata": {},
   "outputs": [
    {
     "data": {
      "application/vnd.plotly.v1+json": {
       "config": {
        "plotlyServerURL": "https://plot.ly"
       },
       "data": [
        {
         "alignmentgroup": "True",
         "hovertemplate": "Region=East<br>Quarters=%{x}<br>value=%{y}<extra></extra>",
         "legendgroup": "East",
         "marker": {
          "color": "#636efa",
          "pattern": {
           "shape": ""
          }
         },
         "name": "East",
         "offsetgroup": "East",
         "orientation": "v",
         "showlegend": true,
         "textposition": "auto",
         "type": "bar",
         "x": [
          "Q1",
          "Q2",
          "Q3",
          "Q4"
         ],
         "xaxis": "x",
         "y": [
          26078.8400438,
          80654.66179346682,
          58253.39759531489,
          75222.47834537482
         ],
         "yaxis": "y"
        },
        {
         "alignmentgroup": "True",
         "hovertemplate": "Region=West<br>Quarters=%{x}<br>value=%{y}<extra></extra>",
         "legendgroup": "West",
         "marker": {
          "color": "#EF553B",
          "pattern": {
           "shape": ""
          }
         },
         "name": "West",
         "offsetgroup": "West",
         "orientation": "v",
         "showlegend": true,
         "textposition": "auto",
         "type": "bar",
         "x": [
          "Q1",
          "Q2",
          "Q3",
          "Q4"
         ],
         "xaxis": "x",
         "y": [
          92965.14714208728,
          99213.65610321108,
          74979.79390768155,
          7834.838624245166
         ],
         "yaxis": "y"
        },
        {
         "alignmentgroup": "True",
         "hovertemplate": "Region=North<br>Quarters=%{x}<br>value=%{y}<extra></extra>",
         "legendgroup": "North",
         "marker": {
          "color": "#00cc96",
          "pattern": {
           "shape": ""
          }
         },
         "name": "North",
         "offsetgroup": "North",
         "orientation": "v",
         "showlegend": true,
         "textposition": "auto",
         "type": "bar",
         "x": [
          "Q1",
          "Q2",
          "Q3",
          "Q4"
         ],
         "xaxis": "x",
         "y": [
          53824.29441818544,
          84878.55860851695,
          25306.573001062803,
          84503.18855126189
         ],
         "yaxis": "y"
        },
        {
         "alignmentgroup": "True",
         "hovertemplate": "Region=South<br>Quarters=%{x}<br>value=%{y}<extra></extra>",
         "legendgroup": "South",
         "marker": {
          "color": "#ab63fa",
          "pattern": {
           "shape": ""
          }
         },
         "name": "South",
         "offsetgroup": "South",
         "orientation": "v",
         "showlegend": true,
         "textposition": "auto",
         "type": "bar",
         "x": [
          "Q1",
          "Q2",
          "Q3",
          "Q4"
         ],
         "xaxis": "x",
         "y": [
          60869.55013417398,
          57669.25023439588,
          22209.5122546353,
          67798.13019608991
         ],
         "yaxis": "y"
        }
       ],
       "layout": {
        "barmode": "group",
        "legend": {
         "title": {
          "text": "Region"
         },
         "tracegroupgap": 0
        },
        "margin": {
         "t": 60
        },
        "template": {
         "data": {
          "bar": [
           {
            "error_x": {
             "color": "#2a3f5f"
            },
            "error_y": {
             "color": "#2a3f5f"
            },
            "marker": {
             "line": {
              "color": "#E5ECF6",
              "width": 0.5
             },
             "pattern": {
              "fillmode": "overlay",
              "size": 10,
              "solidity": 0.2
             }
            },
            "type": "bar"
           }
          ],
          "barpolar": [
           {
            "marker": {
             "line": {
              "color": "#E5ECF6",
              "width": 0.5
             },
             "pattern": {
              "fillmode": "overlay",
              "size": 10,
              "solidity": 0.2
             }
            },
            "type": "barpolar"
           }
          ],
          "carpet": [
           {
            "aaxis": {
             "endlinecolor": "#2a3f5f",
             "gridcolor": "white",
             "linecolor": "white",
             "minorgridcolor": "white",
             "startlinecolor": "#2a3f5f"
            },
            "baxis": {
             "endlinecolor": "#2a3f5f",
             "gridcolor": "white",
             "linecolor": "white",
             "minorgridcolor": "white",
             "startlinecolor": "#2a3f5f"
            },
            "type": "carpet"
           }
          ],
          "choropleth": [
           {
            "colorbar": {
             "outlinewidth": 0,
             "ticks": ""
            },
            "type": "choropleth"
           }
          ],
          "contour": [
           {
            "colorbar": {
             "outlinewidth": 0,
             "ticks": ""
            },
            "colorscale": [
             [
              0,
              "#0d0887"
             ],
             [
              0.1111111111111111,
              "#46039f"
             ],
             [
              0.2222222222222222,
              "#7201a8"
             ],
             [
              0.3333333333333333,
              "#9c179e"
             ],
             [
              0.4444444444444444,
              "#bd3786"
             ],
             [
              0.5555555555555556,
              "#d8576b"
             ],
             [
              0.6666666666666666,
              "#ed7953"
             ],
             [
              0.7777777777777778,
              "#fb9f3a"
             ],
             [
              0.8888888888888888,
              "#fdca26"
             ],
             [
              1,
              "#f0f921"
             ]
            ],
            "type": "contour"
           }
          ],
          "contourcarpet": [
           {
            "colorbar": {
             "outlinewidth": 0,
             "ticks": ""
            },
            "type": "contourcarpet"
           }
          ],
          "heatmap": [
           {
            "colorbar": {
             "outlinewidth": 0,
             "ticks": ""
            },
            "colorscale": [
             [
              0,
              "#0d0887"
             ],
             [
              0.1111111111111111,
              "#46039f"
             ],
             [
              0.2222222222222222,
              "#7201a8"
             ],
             [
              0.3333333333333333,
              "#9c179e"
             ],
             [
              0.4444444444444444,
              "#bd3786"
             ],
             [
              0.5555555555555556,
              "#d8576b"
             ],
             [
              0.6666666666666666,
              "#ed7953"
             ],
             [
              0.7777777777777778,
              "#fb9f3a"
             ],
             [
              0.8888888888888888,
              "#fdca26"
             ],
             [
              1,
              "#f0f921"
             ]
            ],
            "type": "heatmap"
           }
          ],
          "heatmapgl": [
           {
            "colorbar": {
             "outlinewidth": 0,
             "ticks": ""
            },
            "colorscale": [
             [
              0,
              "#0d0887"
             ],
             [
              0.1111111111111111,
              "#46039f"
             ],
             [
              0.2222222222222222,
              "#7201a8"
             ],
             [
              0.3333333333333333,
              "#9c179e"
             ],
             [
              0.4444444444444444,
              "#bd3786"
             ],
             [
              0.5555555555555556,
              "#d8576b"
             ],
             [
              0.6666666666666666,
              "#ed7953"
             ],
             [
              0.7777777777777778,
              "#fb9f3a"
             ],
             [
              0.8888888888888888,
              "#fdca26"
             ],
             [
              1,
              "#f0f921"
             ]
            ],
            "type": "heatmapgl"
           }
          ],
          "histogram": [
           {
            "marker": {
             "pattern": {
              "fillmode": "overlay",
              "size": 10,
              "solidity": 0.2
             }
            },
            "type": "histogram"
           }
          ],
          "histogram2d": [
           {
            "colorbar": {
             "outlinewidth": 0,
             "ticks": ""
            },
            "colorscale": [
             [
              0,
              "#0d0887"
             ],
             [
              0.1111111111111111,
              "#46039f"
             ],
             [
              0.2222222222222222,
              "#7201a8"
             ],
             [
              0.3333333333333333,
              "#9c179e"
             ],
             [
              0.4444444444444444,
              "#bd3786"
             ],
             [
              0.5555555555555556,
              "#d8576b"
             ],
             [
              0.6666666666666666,
              "#ed7953"
             ],
             [
              0.7777777777777778,
              "#fb9f3a"
             ],
             [
              0.8888888888888888,
              "#fdca26"
             ],
             [
              1,
              "#f0f921"
             ]
            ],
            "type": "histogram2d"
           }
          ],
          "histogram2dcontour": [
           {
            "colorbar": {
             "outlinewidth": 0,
             "ticks": ""
            },
            "colorscale": [
             [
              0,
              "#0d0887"
             ],
             [
              0.1111111111111111,
              "#46039f"
             ],
             [
              0.2222222222222222,
              "#7201a8"
             ],
             [
              0.3333333333333333,
              "#9c179e"
             ],
             [
              0.4444444444444444,
              "#bd3786"
             ],
             [
              0.5555555555555556,
              "#d8576b"
             ],
             [
              0.6666666666666666,
              "#ed7953"
             ],
             [
              0.7777777777777778,
              "#fb9f3a"
             ],
             [
              0.8888888888888888,
              "#fdca26"
             ],
             [
              1,
              "#f0f921"
             ]
            ],
            "type": "histogram2dcontour"
           }
          ],
          "mesh3d": [
           {
            "colorbar": {
             "outlinewidth": 0,
             "ticks": ""
            },
            "type": "mesh3d"
           }
          ],
          "parcoords": [
           {
            "line": {
             "colorbar": {
              "outlinewidth": 0,
              "ticks": ""
             }
            },
            "type": "parcoords"
           }
          ],
          "pie": [
           {
            "automargin": true,
            "type": "pie"
           }
          ],
          "scatter": [
           {
            "fillpattern": {
             "fillmode": "overlay",
             "size": 10,
             "solidity": 0.2
            },
            "type": "scatter"
           }
          ],
          "scatter3d": [
           {
            "line": {
             "colorbar": {
              "outlinewidth": 0,
              "ticks": ""
             }
            },
            "marker": {
             "colorbar": {
              "outlinewidth": 0,
              "ticks": ""
             }
            },
            "type": "scatter3d"
           }
          ],
          "scattercarpet": [
           {
            "marker": {
             "colorbar": {
              "outlinewidth": 0,
              "ticks": ""
             }
            },
            "type": "scattercarpet"
           }
          ],
          "scattergeo": [
           {
            "marker": {
             "colorbar": {
              "outlinewidth": 0,
              "ticks": ""
             }
            },
            "type": "scattergeo"
           }
          ],
          "scattergl": [
           {
            "marker": {
             "colorbar": {
              "outlinewidth": 0,
              "ticks": ""
             }
            },
            "type": "scattergl"
           }
          ],
          "scattermapbox": [
           {
            "marker": {
             "colorbar": {
              "outlinewidth": 0,
              "ticks": ""
             }
            },
            "type": "scattermapbox"
           }
          ],
          "scatterpolar": [
           {
            "marker": {
             "colorbar": {
              "outlinewidth": 0,
              "ticks": ""
             }
            },
            "type": "scatterpolar"
           }
          ],
          "scatterpolargl": [
           {
            "marker": {
             "colorbar": {
              "outlinewidth": 0,
              "ticks": ""
             }
            },
            "type": "scatterpolargl"
           }
          ],
          "scatterternary": [
           {
            "marker": {
             "colorbar": {
              "outlinewidth": 0,
              "ticks": ""
             }
            },
            "type": "scatterternary"
           }
          ],
          "surface": [
           {
            "colorbar": {
             "outlinewidth": 0,
             "ticks": ""
            },
            "colorscale": [
             [
              0,
              "#0d0887"
             ],
             [
              0.1111111111111111,
              "#46039f"
             ],
             [
              0.2222222222222222,
              "#7201a8"
             ],
             [
              0.3333333333333333,
              "#9c179e"
             ],
             [
              0.4444444444444444,
              "#bd3786"
             ],
             [
              0.5555555555555556,
              "#d8576b"
             ],
             [
              0.6666666666666666,
              "#ed7953"
             ],
             [
              0.7777777777777778,
              "#fb9f3a"
             ],
             [
              0.8888888888888888,
              "#fdca26"
             ],
             [
              1,
              "#f0f921"
             ]
            ],
            "type": "surface"
           }
          ],
          "table": [
           {
            "cells": {
             "fill": {
              "color": "#EBF0F8"
             },
             "line": {
              "color": "white"
             }
            },
            "header": {
             "fill": {
              "color": "#C8D4E3"
             },
             "line": {
              "color": "white"
             }
            },
            "type": "table"
           }
          ]
         },
         "layout": {
          "annotationdefaults": {
           "arrowcolor": "#2a3f5f",
           "arrowhead": 0,
           "arrowwidth": 1
          },
          "autotypenumbers": "strict",
          "coloraxis": {
           "colorbar": {
            "outlinewidth": 0,
            "ticks": ""
           }
          },
          "colorscale": {
           "diverging": [
            [
             0,
             "#8e0152"
            ],
            [
             0.1,
             "#c51b7d"
            ],
            [
             0.2,
             "#de77ae"
            ],
            [
             0.3,
             "#f1b6da"
            ],
            [
             0.4,
             "#fde0ef"
            ],
            [
             0.5,
             "#f7f7f7"
            ],
            [
             0.6,
             "#e6f5d0"
            ],
            [
             0.7,
             "#b8e186"
            ],
            [
             0.8,
             "#7fbc41"
            ],
            [
             0.9,
             "#4d9221"
            ],
            [
             1,
             "#276419"
            ]
           ],
           "sequential": [
            [
             0,
             "#0d0887"
            ],
            [
             0.1111111111111111,
             "#46039f"
            ],
            [
             0.2222222222222222,
             "#7201a8"
            ],
            [
             0.3333333333333333,
             "#9c179e"
            ],
            [
             0.4444444444444444,
             "#bd3786"
            ],
            [
             0.5555555555555556,
             "#d8576b"
            ],
            [
             0.6666666666666666,
             "#ed7953"
            ],
            [
             0.7777777777777778,
             "#fb9f3a"
            ],
            [
             0.8888888888888888,
             "#fdca26"
            ],
            [
             1,
             "#f0f921"
            ]
           ],
           "sequentialminus": [
            [
             0,
             "#0d0887"
            ],
            [
             0.1111111111111111,
             "#46039f"
            ],
            [
             0.2222222222222222,
             "#7201a8"
            ],
            [
             0.3333333333333333,
             "#9c179e"
            ],
            [
             0.4444444444444444,
             "#bd3786"
            ],
            [
             0.5555555555555556,
             "#d8576b"
            ],
            [
             0.6666666666666666,
             "#ed7953"
            ],
            [
             0.7777777777777778,
             "#fb9f3a"
            ],
            [
             0.8888888888888888,
             "#fdca26"
            ],
            [
             1,
             "#f0f921"
            ]
           ]
          },
          "colorway": [
           "#636efa",
           "#EF553B",
           "#00cc96",
           "#ab63fa",
           "#FFA15A",
           "#19d3f3",
           "#FF6692",
           "#B6E880",
           "#FF97FF",
           "#FECB52"
          ],
          "font": {
           "color": "#2a3f5f"
          },
          "geo": {
           "bgcolor": "white",
           "lakecolor": "white",
           "landcolor": "#E5ECF6",
           "showlakes": true,
           "showland": true,
           "subunitcolor": "white"
          },
          "hoverlabel": {
           "align": "left"
          },
          "hovermode": "closest",
          "mapbox": {
           "style": "light"
          },
          "paper_bgcolor": "white",
          "plot_bgcolor": "#E5ECF6",
          "polar": {
           "angularaxis": {
            "gridcolor": "white",
            "linecolor": "white",
            "ticks": ""
           },
           "bgcolor": "#E5ECF6",
           "radialaxis": {
            "gridcolor": "white",
            "linecolor": "white",
            "ticks": ""
           }
          },
          "scene": {
           "xaxis": {
            "backgroundcolor": "#E5ECF6",
            "gridcolor": "white",
            "gridwidth": 2,
            "linecolor": "white",
            "showbackground": true,
            "ticks": "",
            "zerolinecolor": "white"
           },
           "yaxis": {
            "backgroundcolor": "#E5ECF6",
            "gridcolor": "white",
            "gridwidth": 2,
            "linecolor": "white",
            "showbackground": true,
            "ticks": "",
            "zerolinecolor": "white"
           },
           "zaxis": {
            "backgroundcolor": "#E5ECF6",
            "gridcolor": "white",
            "gridwidth": 2,
            "linecolor": "white",
            "showbackground": true,
            "ticks": "",
            "zerolinecolor": "white"
           }
          },
          "shapedefaults": {
           "line": {
            "color": "#2a3f5f"
           }
          },
          "ternary": {
           "aaxis": {
            "gridcolor": "white",
            "linecolor": "white",
            "ticks": ""
           },
           "baxis": {
            "gridcolor": "white",
            "linecolor": "white",
            "ticks": ""
           },
           "bgcolor": "#E5ECF6",
           "caxis": {
            "gridcolor": "white",
            "linecolor": "white",
            "ticks": ""
           }
          },
          "title": {
           "x": 0.05
          },
          "xaxis": {
           "automargin": true,
           "gridcolor": "white",
           "linecolor": "white",
           "ticks": "",
           "title": {
            "standoff": 15
           },
           "zerolinecolor": "white",
           "zerolinewidth": 2
          },
          "yaxis": {
           "automargin": true,
           "gridcolor": "white",
           "linecolor": "white",
           "ticks": "",
           "title": {
            "standoff": 15
           },
           "zerolinecolor": "white",
           "zerolinewidth": 2
          }
         }
        },
        "xaxis": {
         "anchor": "y",
         "domain": [
          0,
          1
         ],
         "title": {
          "text": "Quarters"
         }
        },
        "yaxis": {
         "anchor": "x",
         "domain": [
          0,
          1
         ],
         "title": {
          "text": "value"
         }
        }
       }
      }
     },
     "metadata": {},
     "output_type": "display_data"
    }
   ],
   "source": [
    "# Despliga los mismos datos anteriores como un gráfico de barras\n",
    "data.plot.bar(barmode=\"group\")"
   ]
  },
  {
   "cell_type": "markdown",
   "metadata": {},
   "source": [
    "### Importando y exportando DataFrames\n",
    "pandas tiene varios métodos para importar y exportar DataFrames a diferentes formatos:\n"
   ]
  },
  {
   "cell_type": "code",
   "execution_count": 60,
   "metadata": {},
   "outputs": [
    {
     "data": {
      "text/html": [
       "<div>\n",
       "<style scoped>\n",
       "    .dataframe tbody tr th:only-of-type {\n",
       "        vertical-align: middle;\n",
       "    }\n",
       "\n",
       "    .dataframe tbody tr th {\n",
       "        vertical-align: top;\n",
       "    }\n",
       "\n",
       "    .dataframe thead th {\n",
       "        text-align: right;\n",
       "    }\n",
       "</style>\n",
       "<table border=\"1\" class=\"dataframe\">\n",
       "  <thead>\n",
       "    <tr style=\"text-align: right;\">\n",
       "      <th></th>\n",
       "      <th>Formato</th>\n",
       "      <th>FuncionImportacionPandas</th>\n",
       "      <th>FuncionExportacionMetodoDataFrame</th>\n",
       "    </tr>\n",
       "  </thead>\n",
       "  <tbody>\n",
       "    <tr>\n",
       "      <th>0</th>\n",
       "      <td>CSV files</td>\n",
       "      <td>pd.read_csv</td>\n",
       "      <td>df.to_csv</td>\n",
       "    </tr>\n",
       "    <tr>\n",
       "      <th>1</th>\n",
       "      <td>JSON</td>\n",
       "      <td>pd.read_json</td>\n",
       "      <td>df.to_json</td>\n",
       "    </tr>\n",
       "    <tr>\n",
       "      <th>2</th>\n",
       "      <td>HTML</td>\n",
       "      <td>pd.read_html</td>\n",
       "      <td>df.to_html</td>\n",
       "    </tr>\n",
       "    <tr>\n",
       "      <th>3</th>\n",
       "      <td>Clipboard</td>\n",
       "      <td>pd.read_clipboard</td>\n",
       "      <td>df.to_clipboard</td>\n",
       "    </tr>\n",
       "    <tr>\n",
       "      <th>4</th>\n",
       "      <td>Excel files</td>\n",
       "      <td>pd.read_excel</td>\n",
       "      <td>df.to_excel</td>\n",
       "    </tr>\n",
       "    <tr>\n",
       "      <th>5</th>\n",
       "      <td>SQL Databases</td>\n",
       "      <td>pd.read_sql</td>\n",
       "      <td>df.to_sql</td>\n",
       "    </tr>\n",
       "  </tbody>\n",
       "</table>\n",
       "</div>"
      ],
      "text/plain": [
       "         Formato FuncionImportacionPandas FuncionExportacionMetodoDataFrame\n",
       "0      CSV files              pd.read_csv                         df.to_csv\n",
       "1           JSON             pd.read_json                        df.to_json\n",
       "2           HTML             pd.read_html                        df.to_html\n",
       "3      Clipboard        pd.read_clipboard                   df.to_clipboard\n",
       "4    Excel files            pd.read_excel                       df.to_excel\n",
       "5  SQL Databases              pd.read_sql                         df.to_sql"
      ]
     },
     "execution_count": 60,
     "metadata": {},
     "output_type": "execute_result"
    }
   ],
   "source": [
    "import_export = pd.DataFrame(data=[[\"CSV files\", \"pd.read_csv\", \"df.to_csv\"], \n",
    "                                   [\"JSON\", \"pd.read_json\", \"df.to_json\"], \n",
    "                                   [\"HTML\", \"pd.read_html\", \"df.to_html\"], \n",
    "                                   [\"Clipboard\", \"pd.read_clipboard\", \"df.to_clipboard\"], \n",
    "                                   [\"Excel files\", \"pd.read_excel\", \"df.to_excel\"], \n",
    "                                   [\"SQL Databases\", \"pd.read_sql\", \"df.to_sql\"]], \n",
    "                             columns=[\"Formato\", \n",
    "                                      \"FuncionImportacionPandas\", \n",
    "                                      \"FuncionExportacionMetodoDataFrame\"])\n",
    "import_export\n",
    "\n"
   ]
  },
  {
   "cell_type": "markdown",
   "metadata": {},
   "source": []
  },
  {
   "cell_type": "markdown",
   "metadata": {},
   "source": [
    "#### Exportando archivos CSV\n"
   ]
  },
  {
   "cell_type": "code",
   "execution_count": 61,
   "metadata": {},
   "outputs": [],
   "source": [
    "df.to_csv(\"./csv/participantes_curso.csv\")"
   ]
  },
  {
   "cell_type": "markdown",
   "metadata": {},
   "source": [
    "#### Importando archivos CSV\n"
   ]
  },
  {
   "cell_type": "code",
   "execution_count": 62,
   "metadata": {},
   "outputs": [],
   "source": [
    "msft = pd.read_csv(\"csv/MSFT.csv\")"
   ]
  },
  {
   "cell_type": "code",
   "execution_count": 63,
   "metadata": {},
   "outputs": [
    {
     "name": "stdout",
     "output_type": "stream",
     "text": [
      "<class 'pandas.core.frame.DataFrame'>\n",
      "RangeIndex: 8622 entries, 0 to 8621\n",
      "Data columns (total 7 columns):\n",
      " #   Column     Non-Null Count  Dtype  \n",
      "---  ------     --------------  -----  \n",
      " 0   Date       8622 non-null   object \n",
      " 1   Open       8622 non-null   float64\n",
      " 2   High       8622 non-null   float64\n",
      " 3   Low        8622 non-null   float64\n",
      " 4   Close      8622 non-null   float64\n",
      " 5   Adj Close  8622 non-null   float64\n",
      " 6   Volume     8622 non-null   int64  \n",
      "dtypes: float64(5), int64(1), object(1)\n",
      "memory usage: 471.6+ KB\n"
     ]
    }
   ],
   "source": [
    "msft.info()"
   ]
  },
  {
   "cell_type": "code",
   "execution_count": 64,
   "metadata": {},
   "outputs": [
    {
     "data": {
      "text/html": [
       "<div>\n",
       "<style scoped>\n",
       "    .dataframe tbody tr th:only-of-type {\n",
       "        vertical-align: middle;\n",
       "    }\n",
       "\n",
       "    .dataframe tbody tr th {\n",
       "        vertical-align: top;\n",
       "    }\n",
       "\n",
       "    .dataframe thead th {\n",
       "        text-align: right;\n",
       "    }\n",
       "</style>\n",
       "<table border=\"1\" class=\"dataframe\">\n",
       "  <thead>\n",
       "    <tr style=\"text-align: right;\">\n",
       "      <th></th>\n",
       "      <th>Date</th>\n",
       "      <th>Open</th>\n",
       "      <th>High</th>\n",
       "      <th>Low</th>\n",
       "      <th>Close</th>\n",
       "      <th>Adj Close</th>\n",
       "      <th>Volume</th>\n",
       "    </tr>\n",
       "  </thead>\n",
       "  <tbody>\n",
       "    <tr>\n",
       "      <th>0</th>\n",
       "      <td>1986-03-13</td>\n",
       "      <td>0.088542</td>\n",
       "      <td>0.101563</td>\n",
       "      <td>0.088542</td>\n",
       "      <td>0.097222</td>\n",
       "      <td>0.062205</td>\n",
       "      <td>1031788800</td>\n",
       "    </tr>\n",
       "    <tr>\n",
       "      <th>1</th>\n",
       "      <td>1986-03-14</td>\n",
       "      <td>0.097222</td>\n",
       "      <td>0.102431</td>\n",
       "      <td>0.097222</td>\n",
       "      <td>0.100694</td>\n",
       "      <td>0.064427</td>\n",
       "      <td>308160000</td>\n",
       "    </tr>\n",
       "    <tr>\n",
       "      <th>2</th>\n",
       "      <td>1986-03-17</td>\n",
       "      <td>0.100694</td>\n",
       "      <td>0.103299</td>\n",
       "      <td>0.100694</td>\n",
       "      <td>0.102431</td>\n",
       "      <td>0.065537</td>\n",
       "      <td>133171200</td>\n",
       "    </tr>\n",
       "    <tr>\n",
       "      <th>3</th>\n",
       "      <td>1986-03-18</td>\n",
       "      <td>0.102431</td>\n",
       "      <td>0.103299</td>\n",
       "      <td>0.098958</td>\n",
       "      <td>0.099826</td>\n",
       "      <td>0.063871</td>\n",
       "      <td>67766400</td>\n",
       "    </tr>\n",
       "    <tr>\n",
       "      <th>4</th>\n",
       "      <td>1986-03-19</td>\n",
       "      <td>0.099826</td>\n",
       "      <td>0.100694</td>\n",
       "      <td>0.097222</td>\n",
       "      <td>0.098090</td>\n",
       "      <td>0.062760</td>\n",
       "      <td>47894400</td>\n",
       "    </tr>\n",
       "  </tbody>\n",
       "</table>\n",
       "</div>"
      ],
      "text/plain": [
       "         Date      Open      High       Low     Close  Adj Close      Volume\n",
       "0  1986-03-13  0.088542  0.101563  0.088542  0.097222   0.062205  1031788800\n",
       "1  1986-03-14  0.097222  0.102431  0.097222  0.100694   0.064427   308160000\n",
       "2  1986-03-17  0.100694  0.103299  0.100694  0.102431   0.065537   133171200\n",
       "3  1986-03-18  0.102431  0.103299  0.098958  0.099826   0.063871    67766400\n",
       "4  1986-03-19  0.099826  0.100694  0.097222  0.098090   0.062760    47894400"
      ]
     },
     "execution_count": 64,
     "metadata": {},
     "output_type": "execute_result"
    }
   ],
   "source": [
    "msft.head()"
   ]
  },
  {
   "cell_type": "code",
   "execution_count": 65,
   "metadata": {},
   "outputs": [
    {
     "data": {
      "text/html": [
       "<div>\n",
       "<style scoped>\n",
       "    .dataframe tbody tr th:only-of-type {\n",
       "        vertical-align: middle;\n",
       "    }\n",
       "\n",
       "    .dataframe tbody tr th {\n",
       "        vertical-align: top;\n",
       "    }\n",
       "\n",
       "    .dataframe thead th {\n",
       "        text-align: right;\n",
       "    }\n",
       "</style>\n",
       "<table border=\"1\" class=\"dataframe\">\n",
       "  <thead>\n",
       "    <tr style=\"text-align: right;\">\n",
       "      <th></th>\n",
       "      <th>Open</th>\n",
       "      <th>High</th>\n",
       "      <th>Low</th>\n",
       "      <th>Close</th>\n",
       "      <th>Adj Close</th>\n",
       "      <th>Volume</th>\n",
       "    </tr>\n",
       "  </thead>\n",
       "  <tbody>\n",
       "    <tr>\n",
       "      <th>count</th>\n",
       "      <td>8622.000000</td>\n",
       "      <td>8622.000000</td>\n",
       "      <td>8622.000000</td>\n",
       "      <td>8622.000000</td>\n",
       "      <td>8622.000000</td>\n",
       "      <td>8.622000e+03</td>\n",
       "    </tr>\n",
       "    <tr>\n",
       "      <th>mean</th>\n",
       "      <td>29.802759</td>\n",
       "      <td>30.125323</td>\n",
       "      <td>29.473685</td>\n",
       "      <td>29.808132</td>\n",
       "      <td>24.921952</td>\n",
       "      <td>6.030722e+07</td>\n",
       "    </tr>\n",
       "    <tr>\n",
       "      <th>std</th>\n",
       "      <td>32.131286</td>\n",
       "      <td>32.443821</td>\n",
       "      <td>31.787810</td>\n",
       "      <td>32.135047</td>\n",
       "      <td>31.838096</td>\n",
       "      <td>3.877805e+07</td>\n",
       "    </tr>\n",
       "    <tr>\n",
       "      <th>min</th>\n",
       "      <td>0.088542</td>\n",
       "      <td>0.092014</td>\n",
       "      <td>0.088542</td>\n",
       "      <td>0.090278</td>\n",
       "      <td>0.057762</td>\n",
       "      <td>2.304000e+06</td>\n",
       "    </tr>\n",
       "    <tr>\n",
       "      <th>25%</th>\n",
       "      <td>3.523438</td>\n",
       "      <td>3.572266</td>\n",
       "      <td>3.486328</td>\n",
       "      <td>3.512695</td>\n",
       "      <td>2.247503</td>\n",
       "      <td>3.651632e+07</td>\n",
       "    </tr>\n",
       "    <tr>\n",
       "      <th>50%</th>\n",
       "      <td>26.304999</td>\n",
       "      <td>26.625000</td>\n",
       "      <td>26.000000</td>\n",
       "      <td>26.298437</td>\n",
       "      <td>18.454313</td>\n",
       "      <td>5.350380e+07</td>\n",
       "    </tr>\n",
       "    <tr>\n",
       "      <th>75%</th>\n",
       "      <td>34.728749</td>\n",
       "      <td>35.128751</td>\n",
       "      <td>34.250000</td>\n",
       "      <td>34.703752</td>\n",
       "      <td>25.699224</td>\n",
       "      <td>7.397560e+07</td>\n",
       "    </tr>\n",
       "    <tr>\n",
       "      <th>max</th>\n",
       "      <td>190.649994</td>\n",
       "      <td>190.699997</td>\n",
       "      <td>186.470001</td>\n",
       "      <td>188.699997</td>\n",
       "      <td>187.663330</td>\n",
       "      <td>1.031789e+09</td>\n",
       "    </tr>\n",
       "  </tbody>\n",
       "</table>\n",
       "</div>"
      ],
      "text/plain": [
       "              Open         High          Low        Close    Adj Close  \\\n",
       "count  8622.000000  8622.000000  8622.000000  8622.000000  8622.000000   \n",
       "mean     29.802759    30.125323    29.473685    29.808132    24.921952   \n",
       "std      32.131286    32.443821    31.787810    32.135047    31.838096   \n",
       "min       0.088542     0.092014     0.088542     0.090278     0.057762   \n",
       "25%       3.523438     3.572266     3.486328     3.512695     2.247503   \n",
       "50%      26.304999    26.625000    26.000000    26.298437    18.454313   \n",
       "75%      34.728749    35.128751    34.250000    34.703752    25.699224   \n",
       "max     190.649994   190.699997   186.470001   188.699997   187.663330   \n",
       "\n",
       "             Volume  \n",
       "count  8.622000e+03  \n",
       "mean   6.030722e+07  \n",
       "std    3.877805e+07  \n",
       "min    2.304000e+06  \n",
       "25%    3.651632e+07  \n",
       "50%    5.350380e+07  \n",
       "75%    7.397560e+07  \n",
       "max    1.031789e+09  "
      ]
     },
     "execution_count": 65,
     "metadata": {},
     "output_type": "execute_result"
    }
   ],
   "source": [
    "msft.describe()"
   ]
  },
  {
   "cell_type": "code",
   "execution_count": 66,
   "metadata": {},
   "outputs": [
    {
     "data": {
      "text/html": [
       "<div>\n",
       "<style scoped>\n",
       "    .dataframe tbody tr th:only-of-type {\n",
       "        vertical-align: middle;\n",
       "    }\n",
       "\n",
       "    .dataframe tbody tr th {\n",
       "        vertical-align: top;\n",
       "    }\n",
       "\n",
       "    .dataframe thead th {\n",
       "        text-align: right;\n",
       "    }\n",
       "</style>\n",
       "<table border=\"1\" class=\"dataframe\">\n",
       "  <thead>\n",
       "    <tr style=\"text-align: right;\">\n",
       "      <th></th>\n",
       "      <th>Open</th>\n",
       "      <th>High</th>\n",
       "      <th>Low</th>\n",
       "      <th>Close</th>\n",
       "      <th>Adj Close</th>\n",
       "      <th>Volume</th>\n",
       "    </tr>\n",
       "  </thead>\n",
       "  <tbody>\n",
       "    <tr>\n",
       "      <th>count</th>\n",
       "      <td>8622.000000</td>\n",
       "      <td>8622.000000</td>\n",
       "      <td>8622.000000</td>\n",
       "      <td>8622.000000</td>\n",
       "      <td>8622.000000</td>\n",
       "      <td>8.622000e+03</td>\n",
       "    </tr>\n",
       "    <tr>\n",
       "      <th>mean</th>\n",
       "      <td>29.802759</td>\n",
       "      <td>30.125323</td>\n",
       "      <td>29.473685</td>\n",
       "      <td>29.808132</td>\n",
       "      <td>24.921952</td>\n",
       "      <td>6.030722e+07</td>\n",
       "    </tr>\n",
       "    <tr>\n",
       "      <th>std</th>\n",
       "      <td>32.131286</td>\n",
       "      <td>32.443821</td>\n",
       "      <td>31.787810</td>\n",
       "      <td>32.135047</td>\n",
       "      <td>31.838096</td>\n",
       "      <td>3.877805e+07</td>\n",
       "    </tr>\n",
       "    <tr>\n",
       "      <th>min</th>\n",
       "      <td>0.088542</td>\n",
       "      <td>0.092014</td>\n",
       "      <td>0.088542</td>\n",
       "      <td>0.090278</td>\n",
       "      <td>0.057762</td>\n",
       "      <td>2.304000e+06</td>\n",
       "    </tr>\n",
       "    <tr>\n",
       "      <th>25%</th>\n",
       "      <td>3.523438</td>\n",
       "      <td>3.572266</td>\n",
       "      <td>3.486328</td>\n",
       "      <td>3.512695</td>\n",
       "      <td>2.247503</td>\n",
       "      <td>3.651632e+07</td>\n",
       "    </tr>\n",
       "    <tr>\n",
       "      <th>50%</th>\n",
       "      <td>26.304999</td>\n",
       "      <td>26.625000</td>\n",
       "      <td>26.000000</td>\n",
       "      <td>26.298437</td>\n",
       "      <td>18.454313</td>\n",
       "      <td>5.350380e+07</td>\n",
       "    </tr>\n",
       "    <tr>\n",
       "      <th>75%</th>\n",
       "      <td>34.728749</td>\n",
       "      <td>35.128751</td>\n",
       "      <td>34.250000</td>\n",
       "      <td>34.703752</td>\n",
       "      <td>25.699224</td>\n",
       "      <td>7.397560e+07</td>\n",
       "    </tr>\n",
       "    <tr>\n",
       "      <th>max</th>\n",
       "      <td>190.649994</td>\n",
       "      <td>190.699997</td>\n",
       "      <td>186.470001</td>\n",
       "      <td>188.699997</td>\n",
       "      <td>187.663330</td>\n",
       "      <td>1.031789e+09</td>\n",
       "    </tr>\n",
       "  </tbody>\n",
       "</table>\n",
       "</div>"
      ],
      "text/plain": [
       "              Open         High          Low        Close    Adj Close  \\\n",
       "count  8622.000000  8622.000000  8622.000000  8622.000000  8622.000000   \n",
       "mean     29.802759    30.125323    29.473685    29.808132    24.921952   \n",
       "std      32.131286    32.443821    31.787810    32.135047    31.838096   \n",
       "min       0.088542     0.092014     0.088542     0.090278     0.057762   \n",
       "25%       3.523438     3.572266     3.486328     3.512695     2.247503   \n",
       "50%      26.304999    26.625000    26.000000    26.298437    18.454313   \n",
       "75%      34.728749    35.128751    34.250000    34.703752    25.699224   \n",
       "max     190.649994   190.699997   186.470001   188.699997   187.663330   \n",
       "\n",
       "             Volume  \n",
       "count  8.622000e+03  \n",
       "mean   6.030722e+07  \n",
       "std    3.877805e+07  \n",
       "min    2.304000e+06  \n",
       "25%    3.651632e+07  \n",
       "50%    5.350380e+07  \n",
       "75%    7.397560e+07  \n",
       "max    1.031789e+09  "
      ]
     },
     "execution_count": 66,
     "metadata": {},
     "output_type": "execute_result"
    }
   ],
   "source": [
    "#La función pd.read_csv() acepta una dirección url.\n",
    "url = (\"https://raw.githubusercontent.com/fzumstein/python-for-excel/1st-edition/csv/MSFT.csv\")\n",
    "msft2 = pd.read_csv(url)\n",
    "msft2.describe()"
   ]
  }
 ],
 "metadata": {
  "kernelspec": {
   "display_name": "Python 3.10.0 64-bit",
   "language": "python",
   "name": "python3"
  },
  "language_info": {
   "codemirror_mode": {
    "name": "ipython",
    "version": 3
   },
   "file_extension": ".py",
   "mimetype": "text/x-python",
   "name": "python",
   "nbconvert_exporter": "python",
   "pygments_lexer": "ipython3",
   "version": "3.10.0"
  },
  "orig_nbformat": 4,
  "vscode": {
   "interpreter": {
    "hash": "956945c4d179e0bc7075b9b95aec63dccb93bc4f3d6914856b29e4b2389f5448"
   }
  }
 },
 "nbformat": 4,
 "nbformat_minor": 2
}
