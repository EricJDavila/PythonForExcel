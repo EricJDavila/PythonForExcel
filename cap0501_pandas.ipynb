{
 "cells": [
  {
   "cell_type": "code",
   "execution_count": 2,
   "metadata": {},
   "outputs": [],
   "source": [
    "import pandas as pd"
   ]
  },
  {
   "cell_type": "code",
   "execution_count": 3,
   "metadata": {},
   "outputs": [
    {
     "name": "stdout",
     "output_type": "stream",
     "text": [
      " El volumen de la unidad G es Google Drive\n",
      " El n�mero de serie del volumen es: 1983-1116\n",
      "\n",
      " Directorio de g:\\Mi unidad\\Cepsa\\PythonForExcel\n",
      "\n",
      "03/07/2022  10:26 p.�m.    <DIR>          .\n",
      "03/07/2022  04:11 p.�m.    <DIR>          ..\n",
      "03/07/2022  03:28 p.�m.            35.823 LICENSE\n",
      "03/07/2022  03:28 p.�m.                78 README.md\n",
      "03/07/2022  04:20 p.�m.                46 hola.py\n",
      "03/07/2022  03:28 p.�m.             2.812 notebook02.ipynb\n",
      "03/07/2022  03:28 p.�m.               944 notebook03.ipynb\n",
      "03/07/2022  08:46 p.�m.            21.840 cap0301_variables.ipynb\n",
      "03/07/2022  08:59 p.�m.             1.697 cap0302_usa_temperatura.ipynb\n",
      "03/07/2022  10:16 p.�m.    <DIR>          __pycache__\n",
      "03/07/2022  09:05 p.�m.             1.339 cap0303_usa_temperatura2.ipynb\n",
      "03/07/2022  09:48 p.�m.             2.826 cap0304_usa_datetime.ipynb\n",
      "03/07/2022  10:26 p.�m.               740 cap0501_pandas.ipynb\n",
      "              10 archivos         68.145 bytes\n",
      "               3 dirs  488.013.590.528 bytes libres\n"
     ]
    }
   ],
   "source": [
    "!dir"
   ]
  }
 ],
 "metadata": {
  "kernelspec": {
   "display_name": "Python 3.10.0 64-bit",
   "language": "python",
   "name": "python3"
  },
  "language_info": {
   "codemirror_mode": {
    "name": "ipython",
    "version": 3
   },
   "file_extension": ".py",
   "mimetype": "text/x-python",
   "name": "python",
   "nbconvert_exporter": "python",
   "pygments_lexer": "ipython3",
   "version": "3.10.0"
  },
  "orig_nbformat": 4,
  "vscode": {
   "interpreter": {
    "hash": "956945c4d179e0bc7075b9b95aec63dccb93bc4f3d6914856b29e4b2389f5448"
   }
  }
 },
 "nbformat": 4,
 "nbformat_minor": 2
}
