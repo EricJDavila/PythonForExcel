{
 "cells": [
  {
   "cell_type": "code",
   "execution_count": 1,
   "metadata": {},
   "outputs": [
    {
     "data": {
      "text/plain": [
       "7"
      ]
     },
     "execution_count": 1,
     "metadata": {},
     "output_type": "execute_result"
    }
   ],
   "source": [
    "a = 3\n",
    "b = 4\n",
    "a + b"
   ]
  },
  {
   "cell_type": "code",
   "execution_count": 4,
   "metadata": {},
   "outputs": [
    {
     "name": "stdout",
     "output_type": "stream",
     "text": [
      "4\n",
      "cuatro\n"
     ]
    }
   ],
   "source": [
    "a = 4\n",
    "print(a)\n",
    "a = \"cuatro\"\n",
    "print(a)"
   ]
  },
  {
   "cell_type": "code",
   "execution_count": 5,
   "metadata": {},
   "outputs": [
    {
     "data": {
      "text/plain": [
       "int"
      ]
     },
     "execution_count": 5,
     "metadata": {},
     "output_type": "execute_result"
    }
   ],
   "source": [
    "type(4)"
   ]
  },
  {
   "cell_type": "code",
   "execution_count": 8,
   "metadata": {},
   "outputs": [
    {
     "data": {
      "text/plain": [
       "float"
      ]
     },
     "execution_count": 8,
     "metadata": {},
     "output_type": "execute_result"
    }
   ],
   "source": [
    "type(4.4) "
   ]
  },
  {
   "cell_type": "code",
   "execution_count": 10,
   "metadata": {},
   "outputs": [
    {
     "data": {
      "text/plain": [
       "False"
      ]
     },
     "execution_count": 10,
     "metadata": {},
     "output_type": "execute_result"
    }
   ],
   "source": [
    "3 == 4 #No igualdad."
   ]
  },
  {
   "cell_type": "code",
   "execution_count": 12,
   "metadata": {},
   "outputs": [
    {
     "data": {
      "text/plain": [
       "'Python es gratis y de código abierto.'"
      ]
     },
     "execution_count": 12,
     "metadata": {},
     "output_type": "execute_result"
    }
   ],
   "source": [
    "primer_adjetivo = \"gratis\"\n",
    "segundo_adjetivo = \"código abierto\"\n",
    "f\"Python es {primer_adjetivo} y de {segundo_adjetivo}.\""
   ]
  },
  {
   "cell_type": "code",
   "execution_count": 16,
   "metadata": {},
   "outputs": [
    {
     "data": {
      "text/plain": [
       "'python'"
      ]
     },
     "execution_count": 16,
     "metadata": {},
     "output_type": "execute_result"
    }
   ],
   "source": [
    "\"PYTHON\".lower()\n"
   ]
  },
  {
   "cell_type": "code",
   "execution_count": 17,
   "metadata": {},
   "outputs": [
    {
     "data": {
      "text/plain": [
       "'PYTHON'"
      ]
     },
     "execution_count": 17,
     "metadata": {},
     "output_type": "execute_result"
    }
   ],
   "source": [
    "\"python\".upper()"
   ]
  },
  {
   "cell_type": "code",
   "execution_count": 18,
   "metadata": {},
   "outputs": [],
   "source": [
    "lenguaje = \"PYTHON\""
   ]
  },
  {
   "cell_type": "code",
   "execution_count": 26,
   "metadata": {},
   "outputs": [
    {
     "data": {
      "text/plain": [
       "'THON'"
      ]
     },
     "execution_count": 26,
     "metadata": {},
     "output_type": "execute_result"
    }
   ],
   "source": [
    "lenguaje[-4 : ]"
   ]
  },
  {
   "cell_type": "markdown",
   "metadata": {},
   "source": [
    "## Estructuras de datos\n",
    "Se introducirán listas, diccionarios, tuplas y conjuntos."
   ]
  },
  {
   "cell_type": "markdown",
   "metadata": {},
   "source": [
    "### Listas\n",
    "Son capaces de mantener diferentes objetos con diferentes tipos de datos.\n"
   ]
  },
  {
   "cell_type": "code",
   "execution_count": 27,
   "metadata": {},
   "outputs": [
    {
     "data": {
      "text/plain": [
       "['uno.xlsx', 'dos.xlsx', 'tres.xlsx', 1, 2, 3]"
      ]
     },
     "execution_count": 27,
     "metadata": {},
     "output_type": "execute_result"
    }
   ],
   "source": [
    "lista_archivos = [\"uno.xlsx\", \"dos.xlsx\", \"tres.xlsx\"]\n",
    "numeros = [1, 2, 3]\n",
    "lista_archivos + numeros"
   ]
  },
  {
   "cell_type": "code",
   "execution_count": 28,
   "metadata": {},
   "outputs": [
    {
     "data": {
      "text/plain": [
       "[1, 2, 3]"
      ]
     },
     "execution_count": 28,
     "metadata": {},
     "output_type": "execute_result"
    }
   ],
   "source": [
    "# Pueden existir listas anidadas.\n",
    "listas_anidadas = [[1, 2, 3], [4, 5 , 6], [7, 8, 9]]\n",
    "listas_anidadas[0]"
   ]
  },
  {
   "cell_type": "code",
   "execution_count": 32,
   "metadata": {},
   "outputs": [
    {
     "data": {
      "text/plain": [
       "['Isabella', 'Gladys', 'Erika', 'Sofía', 'Julián']"
      ]
     },
     "execution_count": 32,
     "metadata": {},
     "output_type": "execute_result"
    }
   ],
   "source": [
    "usuarios = [\"Gladys\", \"Erika\", \"Sofía\"]\n",
    "usuarios.append(\"Julián\")\n",
    "usuarios.insert(0, \"Isabella\")\n",
    "usuarios"
   ]
  },
  {
   "cell_type": "code",
   "execution_count": 33,
   "metadata": {},
   "outputs": [
    {
     "data": {
      "text/plain": [
       "'Julián'"
      ]
     },
     "execution_count": 33,
     "metadata": {},
     "output_type": "execute_result"
    }
   ],
   "source": [
    "usuarios.pop()"
   ]
  },
  {
   "cell_type": "code",
   "execution_count": 34,
   "metadata": {},
   "outputs": [
    {
     "data": {
      "text/plain": [
       "['Isabella', 'Gladys', 'Erika', 'Sofía']"
      ]
     },
     "execution_count": 34,
     "metadata": {},
     "output_type": "execute_result"
    }
   ],
   "source": [
    "usuarios"
   ]
  },
  {
   "cell_type": "code",
   "execution_count": 35,
   "metadata": {},
   "outputs": [],
   "source": [
    "del usuarios[0]"
   ]
  },
  {
   "cell_type": "code",
   "execution_count": 36,
   "metadata": {},
   "outputs": [
    {
     "data": {
      "text/plain": [
       "['Gladys', 'Erika', 'Sofía']"
      ]
     },
     "execution_count": 36,
     "metadata": {},
     "output_type": "execute_result"
    }
   ],
   "source": [
    "usuarios"
   ]
  },
  {
   "cell_type": "code",
   "execution_count": 37,
   "metadata": {},
   "outputs": [
    {
     "data": {
      "text/plain": [
       "3"
      ]
     },
     "execution_count": 37,
     "metadata": {},
     "output_type": "execute_result"
    }
   ],
   "source": [
    "len(usuarios)"
   ]
  },
  {
   "cell_type": "code",
   "execution_count": 38,
   "metadata": {},
   "outputs": [
    {
     "data": {
      "text/plain": [
       "True"
      ]
     },
     "execution_count": 38,
     "metadata": {},
     "output_type": "execute_result"
    }
   ],
   "source": [
    "\"Gladys\" in usuarios"
   ]
  },
  {
   "cell_type": "code",
   "execution_count": 39,
   "metadata": {},
   "outputs": [
    {
     "name": "stdout",
     "output_type": "stream",
     "text": [
      "['Erika', 'Gladys', 'Sofía']\n"
     ]
    }
   ],
   "source": [
    "print(sorted(usuarios))"
   ]
  },
  {
   "cell_type": "code",
   "execution_count": 40,
   "metadata": {},
   "outputs": [
    {
     "name": "stdout",
     "output_type": "stream",
     "text": [
      "['Gladys', 'Erika', 'Sofía']\n"
     ]
    }
   ],
   "source": [
    "print(usuarios) #La lista original no está ordenada."
   ]
  },
  {
   "cell_type": "code",
   "execution_count": 41,
   "metadata": {},
   "outputs": [
    {
     "data": {
      "text/plain": [
       "['Erika', 'Gladys', 'Sofía']"
      ]
     },
     "execution_count": 41,
     "metadata": {},
     "output_type": "execute_result"
    }
   ],
   "source": [
    "usuarios.sort() #Ordena la lista original.\n",
    "usuarios"
   ]
  },
  {
   "cell_type": "markdown",
   "metadata": {},
   "source": [
    "### Diccionarios\n",
    "Los diccionarios permiten tener acceso a los elementos de una lista por medio de una clave, frecuentemente un nombre. Mientras que la lista solo permite tener acceso a los elementos por su índice o posición, lo cual no es siempre práctico.\n",
    "\n",
    "Los diccionarios mapean las claves o llaves a los valores.\n",
    "Para definir un diccionario se usan llaves { }, mientras que para definir una lista se usan corchetes o paréntesis cuadrados [ ].\n",
    "\n"
   ]
  },
  {
   "cell_type": "code",
   "execution_count": 47,
   "metadata": {},
   "outputs": [
    {
     "data": {
      "text/plain": [
       "1.2454"
      ]
     },
     "execution_count": 47,
     "metadata": {},
     "output_type": "execute_result"
    }
   ],
   "source": [
    "tasas_de_cambio = {\"EURUSD\": 1.1152, \n",
    "                   \"GBPUSD\": 1.2454, \n",
    "                   \"AUDUSD\": 0.6161}\n",
    "tasas_de_cambio[\"GBPUSD\"]"
   ]
  },
  {
   "cell_type": "code",
   "execution_count": 48,
   "metadata": {},
   "outputs": [
    {
     "data": {
      "text/plain": [
       "{'EURUSD': 1.2, 'GBPUSD': 1.2454, 'AUDUSD': 0.6161}"
      ]
     },
     "execution_count": 48,
     "metadata": {},
     "output_type": "execute_result"
    }
   ],
   "source": [
    "tasas_de_cambio[\"EURUSD\"] = 1.2\n",
    "tasas_de_cambio"
   ]
  },
  {
   "cell_type": "code",
   "execution_count": 49,
   "metadata": {},
   "outputs": [
    {
     "data": {
      "text/plain": [
       "{'EURUSD': 1.2, 'GBPUSD': 1.2454, 'AUDUSD': 0.6161, 'CADUSD': 0.714}"
      ]
     },
     "execution_count": 49,
     "metadata": {},
     "output_type": "execute_result"
    }
   ],
   "source": [
    "tasas_de_cambio[\"CADUSD\"] = 0.714\n",
    "tasas_de_cambio"
   ]
  },
  {
   "cell_type": "code",
   "execution_count": 50,
   "metadata": {},
   "outputs": [
    {
     "data": {
      "text/plain": [
       "{'EURUSD': 1.2,\n",
       " 'GBPUSD': 1.2222,\n",
       " 'AUDUSD': 0.6161,\n",
       " 'CADUSD': 0.714,\n",
       " 'SGDUSD': 0.7004}"
      ]
     },
     "execution_count": 50,
     "metadata": {},
     "output_type": "execute_result"
    }
   ],
   "source": [
    "#La forma más fácil de unir dos diccionarios es desempacar cada diccionario.\n",
    "#El desempaque de un diccionario se hace anteponiendo dos asteriscos.\n",
    "#Si se presentan dos elementos con la misma clave solo se deja una clave y el \n",
    "# valor es el del más nuevo diccionario, el último en la unión.\n",
    "{**tasas_de_cambio, **{\"SGDUSD\": 0.7004, \"GBPUSD\": 1.2222}} "
   ]
  },
  {
   "cell_type": "code",
   "execution_count": 51,
   "metadata": {},
   "outputs": [
    {
     "data": {
      "text/plain": [
       "{'EURUSD': 1.2,\n",
       " 'GBPUSD': 1.2222,\n",
       " 'AUDUSD': 0.6161,\n",
       " 'CADUSD': 0.714,\n",
       " 'SGDUSD': 0.7004}"
      ]
     },
     "execution_count": 51,
     "metadata": {},
     "output_type": "execute_result"
    }
   ],
   "source": [
    "#Python 3.9 introduce el caracter de ducto o tubería |, el cual facilita la expresión de la unión.\n",
    "tasas_de_cambio | {\"SGDUSD\": 0.7004, \"GBPUSD\": 1.2222}"
   ]
  },
  {
   "cell_type": "code",
   "execution_count": 52,
   "metadata": {},
   "outputs": [
    {
     "data": {
      "text/plain": [
       "{1: 'EUR', 2: 'USD', 3: 'AUD'}"
      ]
     },
     "execution_count": 52,
     "metadata": {},
     "output_type": "execute_result"
    }
   ],
   "source": [
    "#Muchos objetos se pueden usar como claves para los diccionarios. Por ejemplo, enteros.\n",
    "monedas = {1: \"EUR\", 2: \"USD\", 3: \"AUD\"}\n",
    "monedas"
   ]
  },
  {
   "cell_type": "code",
   "execution_count": 53,
   "metadata": {},
   "outputs": [
    {
     "data": {
      "text/plain": [
       "'N/A'"
      ]
     },
     "execution_count": 53,
     "metadata": {},
     "output_type": "execute_result"
    }
   ],
   "source": [
    "#Se puede indicar una salida predeterminada en caso de no existir la clave.\n",
    "monedas.get(100, \"N/A\") #Esto evita que se presente una exepción."
   ]
  },
  {
   "cell_type": "markdown",
   "metadata": {},
   "source": [
    "### Tuplas\n",
    "Las tuplas son similares a las listas, con la diferencia que ellas son **inmutables**. Una vez creadas, sus elementos no se pueden modificar. Sus elementos se crean separándolos por comas y para mejorar su lectura, se pueden encerrar en paréntesis.\n",
    "\n",
    "Los elementos se pueden acceder de la misma forma que las listas con índices en corchetes. Cuando se hace una unión se crea una nueva tupla."
   ]
  },
  {
   "cell_type": "code",
   "execution_count": 54,
   "metadata": {},
   "outputs": [
    {
     "data": {
      "text/plain": [
       "'EUR'"
      ]
     },
     "execution_count": 54,
     "metadata": {},
     "output_type": "execute_result"
    }
   ],
   "source": [
    "monedas = (\"EUR\", \"GBP\", \"AUD\")\n",
    "monedas[0]"
   ]
  },
  {
   "cell_type": "code",
   "execution_count": 55,
   "metadata": {},
   "outputs": [
    {
     "data": {
      "text/plain": [
       "('EUR', 'GBP', 'AUD', 'SGD')"
      ]
     },
     "execution_count": 55,
     "metadata": {},
     "output_type": "execute_result"
    }
   ],
   "source": [
    "#La concatenación de dos tuplas, crea una nueva tupla.\n",
    "monedas + (\"SGD\",)"
   ]
  },
  {
   "cell_type": "code",
   "execution_count": 56,
   "metadata": {},
   "outputs": [
    {
     "data": {
      "text/plain": [
       "tuple"
      ]
     },
     "execution_count": 56,
     "metadata": {},
     "output_type": "execute_result"
    }
   ],
   "source": [
    "type(monedas)"
   ]
  },
  {
   "cell_type": "markdown",
   "metadata": {},
   "source": [
    "### Conjuntos (sets)\n",
    "Son colecciones que no tienen elementos duplicados.\n",
    "Ayudan a obtener elementos únicos de una lista o una tupla.\n",
    "Se pueden crear elementos separados por comas y encerrados en llaves."
   ]
  },
  {
   "cell_type": "code",
   "execution_count": 57,
   "metadata": {},
   "outputs": [
    {
     "data": {
      "text/plain": [
       "{'EUR', 'SGD', 'USD'}"
      ]
     },
     "execution_count": 57,
     "metadata": {},
     "output_type": "execute_result"
    }
   ],
   "source": [
    "set([\"USD\", \"USD\", \"SGD\", \"EUR\", \"USD\", \"EUR\"]) #Los elementos únicos de una lista."
   ]
  },
  {
   "cell_type": "code",
   "execution_count": 59,
   "metadata": {},
   "outputs": [
    {
     "data": {
      "text/plain": [
       "{'EUR', 'SGD', 'USD'}"
      ]
     },
     "execution_count": 59,
     "metadata": {},
     "output_type": "execute_result"
    }
   ],
   "source": [
    "set((\"USD\", \"USD\", \"SGD\", \"EUR\", \"USD\", \"EUR\")) #Los elementos únicos de una tupla."
   ]
  },
  {
   "cell_type": "code",
   "execution_count": 60,
   "metadata": {},
   "outputs": [
    {
     "data": {
      "text/plain": [
       "{'CAD', 'CHF', 'EUR', 'SGD', 'USD'}"
      ]
     },
     "execution_count": 60,
     "metadata": {},
     "output_type": "execute_result"
    }
   ],
   "source": [
    "#Se pueden aplicar operaciones de teoría de conjuntos.\n",
    "portafolio1 = {\"USD\", \"EUR\", \"SGD\", \"CHF\"}\n",
    "portafolio2 = {\"EUR\", \"SGD\", \"CAD\"}\n",
    "portafolio1.union(portafolio2)"
   ]
  },
  {
   "cell_type": "code",
   "execution_count": 61,
   "metadata": {},
   "outputs": [
    {
     "data": {
      "text/plain": [
       "{'EUR', 'SGD'}"
      ]
     },
     "execution_count": 61,
     "metadata": {},
     "output_type": "execute_result"
    }
   ],
   "source": [
    "portafolio1.intersection(portafolio2)"
   ]
  },
  {
   "cell_type": "markdown",
   "metadata": {},
   "source": [
    "## Control de flujo\n",
    "### Bloques de código y la cláusula **pass**\n",
    "Un bloque de código define una sección del código que es usado para algo especial.\n",
    "Eso algo especial pueden ser unas líneas de código que se repiten en un lazo o puede ser una función.\n",
    "En Python los bloques de código se definen con **indentación**. La comunidad de Python ha establecido que la indentación son cuatro (4) espacios, los cuales se adicionan automáticamente en Jupyter Notebook y en VS Code.\n",
    "Esta indentación se refiere como **espacios en blanco significativos**.\n",
    "\n",
    "### La cláusula if y las exprsiones condicionales\n"
   ]
  },
  {
   "cell_type": "code",
   "execution_count": 65,
   "metadata": {},
   "outputs": [
    {
     "name": "stdout",
     "output_type": "stream",
     "text": [
      "i es mayor de 10.\n"
     ]
    }
   ],
   "source": [
    "i = 20\n",
    "if i < 5:\n",
    "    print(\"i es menor que 5.\")\n",
    "elif i <= 10:\n",
    "    print(\"i es mayor o igual que 5 y menor o igual a 10.\")\n",
    "else:\n",
    "    print(\"i es mayor de 10.\")\n"
   ]
  },
  {
   "cell_type": "markdown",
   "metadata": {},
   "source": [
    "### Los lazos for y while\n",
    "Los lazos **for** iteran sobre los elementos de una lista, una tupla o una cadena.\n"
   ]
  },
  {
   "cell_type": "code",
   "execution_count": 66,
   "metadata": {},
   "outputs": [
    {
     "name": "stdout",
     "output_type": "stream",
     "text": [
      "USD\n",
      "HKD\n",
      "AUD\n"
     ]
    }
   ],
   "source": [
    "monedas = [\"USD\", \"HKD\", \"AUD\"]\n",
    "for moneda in monedas:\n",
    "    print(moneda)\n"
   ]
  },
  {
   "cell_type": "code",
   "execution_count": 67,
   "metadata": {},
   "outputs": [
    {
     "data": {
      "text/plain": [
       "range(0, 5)"
      ]
     },
     "execution_count": 67,
     "metadata": {},
     "output_type": "execute_result"
    }
   ],
   "source": [
    "#range(start, stop, step). start es inlcusivo, stop es exclusivo.\n",
    "range(5) #Es perezoso."
   ]
  },
  {
   "cell_type": "code",
   "execution_count": 68,
   "metadata": {},
   "outputs": [
    {
     "data": {
      "text/plain": [
       "[0, 1, 2, 3, 4]"
      ]
     },
     "execution_count": 68,
     "metadata": {},
     "output_type": "execute_result"
    }
   ],
   "source": [
    "list(range(5)) #range() con solo el argumento de parada."
   ]
  },
  {
   "cell_type": "code",
   "execution_count": 69,
   "metadata": {},
   "outputs": [
    {
     "name": "stdout",
     "output_type": "stream",
     "text": [
      "0\n",
      "1\n",
      "2\n"
     ]
    }
   ],
   "source": [
    "for i in range(3):\n",
    "    print(i)\n"
   ]
  },
  {
   "cell_type": "code",
   "execution_count": 70,
   "metadata": {},
   "outputs": [
    {
     "name": "stdout",
     "output_type": "stream",
     "text": [
      "0 USD\n",
      "1 HKD\n",
      "2 AUD\n"
     ]
    }
   ],
   "source": [
    "for i, moneda in enumerate(monedas):\n",
    "    print(i, moneda)\n",
    "\n"
   ]
  },
  {
   "cell_type": "code",
   "execution_count": 71,
   "metadata": {},
   "outputs": [
    {
     "name": "stdout",
     "output_type": "stream",
     "text": [
      "EURUSD\n",
      "GBPUSD\n",
      "AUDUSD\n",
      "CADUSD\n"
     ]
    }
   ],
   "source": [
    "#Los lazos sobre listas y tuplas son similares. Cuando se itera sobre un diccionario se leen las claves.\n",
    "for i in tasas_de_cambio:\n",
    "    print(i)\n"
   ]
  },
  {
   "cell_type": "code",
   "execution_count": 72,
   "metadata": {},
   "outputs": [
    {
     "name": "stdout",
     "output_type": "stream",
     "text": [
      "EURUSD 1.2\n",
      "GBPUSD 1.2454\n",
      "AUDUSD 0.6161\n",
      "CADUSD 0.714\n"
     ]
    }
   ],
   "source": [
    "#Usando el método ítem se obtiene la clave y el valor de los elementos del diccionario.\n",
    "for moneda, tasa_de_cambio in tasas_de_cambio.items():\n",
    "    print(moneda, tasa_de_cambio)\n"
   ]
  },
  {
   "cell_type": "markdown",
   "metadata": {},
   "source": [
    "## Organización del código\n",
    "### Funciones\n",
    "Las funciones son los constructos más importantes de cada lenguaje de programación.\n",
    "\n",
    "### Deficiendo las funciones\n",
    "Se usa la palabra clave **def** que significa definición de la función. Se utiliza la indentación de bloques de código. "
   ]
  },
  {
   "cell_type": "code",
   "execution_count": 73,
   "metadata": {},
   "outputs": [],
   "source": [
    "#Función para convertir la temperatura expresada en grados Fahrenheit o Kelvin a grados Celsius.\n",
    "def convierte_a_celsius(grados, fuente=\"fahrenheit\"):\n",
    "    if fuente.lower() == \"fahrenheit\":\n",
    "        return (grados-32) * (5/9)\n",
    "    elif fuente.lower() == \"kelvin\":\n",
    "        return grados - 273.15\n",
    "    else:\n",
    "        return f\"No sé cómo convertir de {fuente}\"\n"
   ]
  },
  {
   "cell_type": "code",
   "execution_count": 78,
   "metadata": {},
   "outputs": [
    {
     "data": {
      "text/plain": [
       "17.77777777777778"
      ]
     },
     "execution_count": 78,
     "metadata": {},
     "output_type": "execute_result"
    }
   ],
   "source": [
    "convierte_a_celsius(64)"
   ]
  },
  {
   "cell_type": "code",
   "execution_count": 79,
   "metadata": {},
   "outputs": [
    {
     "data": {
      "text/plain": [
       "-273.15"
      ]
     },
     "execution_count": 79,
     "metadata": {},
     "output_type": "execute_result"
    }
   ],
   "source": [
    "convierte_a_celsius(fuente=\"kelvin\", grados=0)"
   ]
  },
  {
   "cell_type": "code",
   "execution_count": null,
   "metadata": {},
   "outputs": [],
   "source": []
  },
  {
   "cell_type": "code",
   "execution_count": null,
   "metadata": {},
   "outputs": [],
   "source": []
  }
 ],
 "metadata": {
  "kernelspec": {
   "display_name": "Python 3.10.0 64-bit",
   "language": "python",
   "name": "python3"
  },
  "language_info": {
   "codemirror_mode": {
    "name": "ipython",
    "version": 3
   },
   "file_extension": ".py",
   "mimetype": "text/x-python",
   "name": "python",
   "nbconvert_exporter": "python",
   "pygments_lexer": "ipython3",
   "version": "3.10.0"
  },
  "orig_nbformat": 4,
  "vscode": {
   "interpreter": {
    "hash": "956945c4d179e0bc7075b9b95aec63dccb93bc4f3d6914856b29e4b2389f5448"
   }
  }
 },
 "nbformat": 4,
 "nbformat_minor": 2
}
